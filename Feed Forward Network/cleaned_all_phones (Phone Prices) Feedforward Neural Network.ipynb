{
 "cells": [
  {
   "cell_type": "markdown",
   "metadata": {
    "id": "HZP63qXVRwpi"
   },
   "source": [
    "# cleaned_all_phones dataset (Using Sklearn and Keras)"
   ]
  },
  {
   "cell_type": "markdown",
   "metadata": {
    "id": "RPsjM0znRrjC"
   },
   "source": [
    "##Importing Necessary Libraries"
   ]
  },
  {
   "cell_type": "code",
   "execution_count": 608,
   "metadata": {
    "colab": {
     "base_uri": "https://localhost:8080/"
    },
    "executionInfo": {
     "elapsed": 11,
     "status": "ok",
     "timestamp": 1747007339944,
     "user": {
      "displayName": "Elijah Sinclair",
      "userId": "03784279658536308242"
     },
     "user_tz": 240
    },
    "id": "DEl9k89YJkcg",
    "outputId": "fc72db09-0d53-4335-e224-0b12354a582c"
   },
   "outputs": [
    {
     "name": "stdout",
     "output_type": "stream",
     "text": [
      "Tensorflow/Keras: 3.8.0\n"
     ]
    }
   ],
   "source": [
    "import math\n",
    "\n",
    "# Data handling and stuff\n",
    "import pandas as pd\n",
    "import numpy as np\n",
    "import tensorflow as tf\n",
    "\n",
    "# Neural Network Magic Libraries (TensorFlow/Keras)\n",
    "from tensorflow import keras\n",
    "print('Tensorflow/Keras: %s' % keras.__version__)\n",
    "from keras.models import Sequential\n",
    "from keras.layers import Dense\n",
    "from keras.optimizers import Adam, Nadam, AdamW\n",
    "from keras.losses import Huber\n",
    "from keras.callbacks import EarlyStopping\n",
    "from keras.regularizers import l2\n",
    "from tensorflow.keras.regularizers import l1_l2\n",
    "from keras.layers import Dropout\n",
    "from keras.callbacks import ReduceLROnPlateau\n",
    "from keras.layers import BatchNormalization\n",
    "from keras import Input\n",
    "\n",
    "# Sklearn\n",
    "from sklearn.model_selection import train_test_split\n",
    "from sklearn.preprocessing import StandardScaler\n",
    "from sklearn.metrics import mean_squared_error\n",
    "from sklearn.metrics import mean_absolute_error, mean_absolute_percentage_error\n",
    "from sklearn.metrics import classification_report\n",
    "from sklearn.preprocessing import TargetEncoder\n",
    "from sklearn.model_selection import KFold\n",
    "from sklearn.cluster import KMeans\n",
    "from sklearn.model_selection import StratifiedKFold\n",
    "# Visualization - remove if not used\n",
    "import matplotlib.pyplot as plt\n",
    "# import seaborn as sns"
   ]
  },
  {
   "cell_type": "markdown",
   "metadata": {
    "id": "il7Lw1jwRitp"
   },
   "source": [
    "##Visualization Formatting"
   ]
  },
  {
   "cell_type": "code",
   "execution_count": 609,
   "metadata": {
    "executionInfo": {
     "elapsed": 9,
     "status": "ok",
     "timestamp": 1747007339954,
     "user": {
      "displayName": "Elijah Sinclair",
      "userId": "03784279658536308242"
     },
     "user_tz": 240
    },
    "id": "YSOVE-qyRhw5"
   },
   "outputs": [],
   "source": [
    "pd.set_option(\"display.max_columns\", None)\n",
    "pd.set_option(\"display.max_rows\", None)\n",
    "pd.set_option(\"display.max_colwidth\", None)\n",
    "pd.set_option(\"display.float_format\", lambda x: \"%.2f\" % x)"
   ]
  },
  {
   "cell_type": "markdown",
   "metadata": {
    "id": "FL4XqqHDVvLU"
   },
   "source": [
    "## Data Acquisition and Preprocessing\n",
    "##### Importing and Cleaning initial Dataset for Processing"
   ]
  },
  {
   "cell_type": "code",
   "execution_count": 610,
   "metadata": {
    "executionInfo": {
     "elapsed": 15,
     "status": "ok",
     "timestamp": 1747007339970,
     "user": {
      "displayName": "Elijah Sinclair",
      "userId": "03784279658536308242"
     },
     "user_tz": 240
    },
    "id": "mzNUbYkeTEET"
   },
   "outputs": [],
   "source": [
    "def read_csv(file_path):\n",
    "    df = pd.read_csv(file_path)\n",
    "    return df\n",
    "\n",
    "def clean_data(df):\n",
    "    df = df.drop_duplicates()\n",
    "    df = df.dropna()\n",
    "    df = df.reset_index(drop=True)\n",
    "    return df"
   ]
  },
  {
   "cell_type": "code",
   "execution_count": 611,
   "metadata": {
    "executionInfo": {
     "elapsed": 9,
     "status": "ok",
     "timestamp": 1747007339980,
     "user": {
      "displayName": "Elijah Sinclair",
      "userId": "03784279658536308242"
     },
     "user_tz": 240
    },
    "id": "9BahokB_c8Bb"
   },
   "outputs": [],
   "source": [
    "# np.random.seed(42)"
   ]
  },
  {
   "cell_type": "code",
   "execution_count": 612,
   "metadata": {
    "colab": {
     "base_uri": "https://localhost:8080/"
    },
    "executionInfo": {
     "elapsed": 40,
     "status": "ok",
     "timestamp": 1747007340022,
     "user": {
      "displayName": "Elijah Sinclair",
      "userId": "03784279658536308242"
     },
     "user_tz": 240
    },
    "id": "6ETifhl2Sn2g",
    "outputId": "bacb55fa-34d4-41a9-8b05-1d6088b1b0ae"
   },
   "outputs": [
    {
     "name": "stdout",
     "output_type": "stream",
     "text": [
      "<class 'pandas.core.frame.DataFrame'>\n",
      "RangeIndex: 1399 entries, 0 to 1398\n",
      "Data columns (total 25 columns):\n",
      " #   Column             Non-Null Count  Dtype  \n",
      "---  ------             --------------  -----  \n",
      " 0   brand              1399 non-null   object \n",
      " 1   os                 1399 non-null   object \n",
      " 2   inches             1399 non-null   float64\n",
      " 3   battery            1399 non-null   int64  \n",
      " 4   battery_type       1399 non-null   object \n",
      " 5   ram(GB)            1399 non-null   int64  \n",
      " 6   announcement_date  1399 non-null   object \n",
      " 7   weight(g)          1399 non-null   float64\n",
      " 8   storage(GB)        1399 non-null   int64  \n",
      " 9   video_720p         1399 non-null   bool   \n",
      " 10  video_1080p        1399 non-null   bool   \n",
      " 11  video_4K           1399 non-null   bool   \n",
      " 12  video_8K           1399 non-null   bool   \n",
      " 13  video_30fps        1399 non-null   bool   \n",
      " 14  video_60fps        1399 non-null   bool   \n",
      " 15  video_120fps       1399 non-null   bool   \n",
      " 16  video_240fps       1399 non-null   bool   \n",
      " 17  video_480fps       1399 non-null   bool   \n",
      " 18  video_960fps       1399 non-null   bool   \n",
      " 19  price              1399 non-null   float64\n",
      " 20  resolution_height  1399 non-null   int64  \n",
      " 21  resolution_width   1399 non-null   int64  \n",
      " 22  resolution         1399 non-null   int64  \n",
      " 23  os_brands          1399 non-null   object \n",
      " 24  ppi                1399 non-null   float64\n",
      "dtypes: bool(10), float64(4), int64(6), object(5)\n",
      "memory usage: 177.7+ KB\n"
     ]
    }
   ],
   "source": [
    "# smartphones = read_csv(\"CSVs Cleaned\\Cleaned cleaned_all_phones.csv\")\n",
    "smartphones = read_csv(\"Cleaned cleaned_all_phones.csv\")\n",
    "cleaned_smartphones = clean_data(smartphones)\n",
    "cleaned_smartphones.head()\n",
    "cleaned_smartphones.info()\n",
    "\n",
    "y = cleaned_smartphones[\"price\"]\n",
    "X = cleaned_smartphones.drop(\"price\", axis=1)\n",
    "\n",
    "\n",
    "categorical_cols = X.select_dtypes(include=['object']).columns\n",
    "for col in categorical_cols:\n",
    "    te = TargetEncoder(target_type=\"continuous\", random_state=42, smooth = 'auto')\n",
    "    data_array = X[col].values.reshape(-1, 1)\n",
    "    X[col] = te.fit_transform(X[[col]], y)"
   ]
  },
  {
   "cell_type": "markdown",
   "metadata": {
    "id": "8ZAA6eM5UGn6"
   },
   "source": [
    "##Building our Feedforward Neural Network"
   ]
  },
  {
   "cell_type": "markdown",
   "metadata": {
    "id": "90RHhQmPb8kV"
   },
   "source": [
    "##### Splitting training and testing samples"
   ]
  },
  {
   "cell_type": "code",
   "execution_count": 613,
   "metadata": {
    "executionInfo": {
     "elapsed": 19,
     "status": "ok",
     "timestamp": 1747007340041,
     "user": {
      "displayName": "Elijah Sinclair",
      "userId": "03784279658536308242"
     },
     "user_tz": 240
    },
    "id": "me86FrPdb7sF"
   },
   "outputs": [],
   "source": [
    "X_train, X_test, y_train, y_test = train_test_split(X, y, test_size=0.2, random_state=0)"
   ]
  },
  {
   "cell_type": "markdown",
   "metadata": {
    "id": "TfiBypgMk0Zt"
   },
   "source": [
    "## Scaling our Data for Processing"
   ]
  },
  {
   "cell_type": "code",
   "execution_count": 614,
   "metadata": {
    "executionInfo": {
     "elapsed": 25,
     "status": "ok",
     "timestamp": 1747007340065,
     "user": {
      "displayName": "Elijah Sinclair",
      "userId": "03784279658536308242"
     },
     "user_tz": 240
    },
    "id": "a21bKG3wk43e"
   },
   "outputs": [],
   "source": [
    "# Scale Features\n",
    "scaler_X = StandardScaler()\n",
    "X_train_scaled = scaler_X.fit_transform(X_train)\n",
    "X_test_scaled = scaler_X.transform(X_test)\n",
    "# Scale Target\n",
    "scaler_y = StandardScaler()\n",
    "y_train_scaled = scaler_y.fit_transform(y_train.values.reshape(-1, 1))\n",
    "y_test_scaled = scaler_y.transform(y_test.values.reshape(-1, 1))"
   ]
  },
  {
   "cell_type": "code",
   "execution_count": 615,
   "metadata": {
    "executionInfo": {
     "elapsed": 1,
     "status": "ok",
     "timestamp": 1747007340109,
     "user": {
      "displayName": "Elijah Sinclair",
      "userId": "03784279658536308242"
     },
     "user_tz": 240
    },
    "id": "0HqUzokygCNF"
   },
   "outputs": [],
   "source": [
    "def predict_price_with_margin(model, scaler, X_data):\n",
    "    \"\"\"Returns predictions with dollar margins\"\"\"\n",
    "    scaled_pred = model.predict(X_data)\n",
    "    pred_dollars = scaler.inverse_transform(scaled_pred).flatten()\n",
    "    mae_dollars = mean_absolute_error(\n",
    "        scaler.inverse_transform(y_test_scaled).flatten(),\n",
    "        pred_dollars\n",
    "    )\n",
    "    return pred_dollars, mae_dollars\n"
   ]
  },
  {
   "cell_type": "markdown",
   "metadata": {
    "id": "wjs-rRaHcERt"
   },
   "source": [
    "##### Defining the Structure of the Neural Network"
   ]
  },
  {
   "cell_type": "code",
   "execution_count": 616,
   "metadata": {
    "executionInfo": {
     "elapsed": 175,
     "status": "ok",
     "timestamp": 1747007340283,
     "user": {
      "displayName": "Elijah Sinclair",
      "userId": "03784279658536308242"
     },
     "user_tz": 240
    },
    "id": "JC8ECnYKUVfj"
   },
   "outputs": [],
   "source": [
    "model = Sequential(name=\"Smartphones_NN\")\n",
    "model.add(Input(shape=(X_train_scaled.shape[1],)))# Input Layer\n",
    "model.add(Dense(128, activation='relu'))\n",
    "model.add(BatchNormalization())\n",
    "model.add(Dropout(0.3)) # Deactivates % of neurons if they are not improving performance\n",
    "model.add(Dense(64, activation='relu')) # Hidden Layer 2\n",
    "model.add(BatchNormalization())\n",
    "model.add(Dropout(0.4))\n",
    "model.add(Dense(32, activation='relu')) # Hidden Layer 3\n",
    "model.add(BatchNormalization())\n",
    "model.add(Dropout(0.2))\n",
    "model.add(Dense(1)) # Output Layer"
   ]
  },
  {
   "cell_type": "markdown",
   "metadata": {
    "id": "im7E6uevcLw2"
   },
   "source": [
    "##### Compile Keras model aka Magic"
   ]
  },
  {
   "cell_type": "code",
   "execution_count": 617,
   "metadata": {
    "executionInfo": {
     "elapsed": 1,
     "status": "ok",
     "timestamp": 1747007340284,
     "user": {
      "displayName": "Elijah Sinclair",
      "userId": "03784279658536308242"
     },
     "user_tz": 240
    },
    "id": "X6cGUdsucSlX"
   },
   "outputs": [],
   "source": [
    "model.compile(\n",
    "    optimizer=Adam(learning_rate=0.005),\n",
    "    loss=Huber(delta=1.0),  # Handles Outliers better than mse\n",
    "    metrics=['mae']\n",
    ")"
   ]
  },
  {
   "cell_type": "code",
   "execution_count": 618,
   "metadata": {
    "colab": {
     "base_uri": "https://localhost:8080/"
    },
    "executionInfo": {
     "elapsed": 2,
     "status": "ok",
     "timestamp": 1747007340286,
     "user": {
      "displayName": "Elijah Sinclair",
      "userId": "03784279658536308242"
     },
     "user_tz": 240
    },
    "id": "xsdmg4TIkBLy",
    "outputId": "f6d3f970-ea69-4a50-a4a3-081aed637974"
   },
   "outputs": [
    {
     "name": "stdout",
     "output_type": "stream",
     "text": [
      "X_train_scaled shape: (1119, 24)\n",
      "y_train_scaled shape: (1119, 1)\n"
     ]
    }
   ],
   "source": [
    "print(\"X_train_scaled shape:\", X_train_scaled.shape)\n",
    "print(\"y_train_scaled shape:\", y_train_scaled.shape)"
   ]
  },
  {
   "cell_type": "markdown",
   "metadata": {
    "id": "ltqsMtKycTMf"
   },
   "source": [
    "##### Fitting keras model onto the dataset"
   ]
  },
  {
   "cell_type": "code",
   "execution_count": 619,
   "metadata": {
    "colab": {
     "base_uri": "https://localhost:8080/"
    },
    "collapsed": true,
    "executionInfo": {
     "elapsed": 13871,
     "status": "ok",
     "timestamp": 1747007354157,
     "user": {
      "displayName": "Elijah Sinclair",
      "userId": "03784279658536308242"
     },
     "user_tz": 240
    },
    "id": "Zb36kL7UcbUA",
    "outputId": "4f691681-2e31-4083-f995-ac8549c03756"
   },
   "outputs": [
    {
     "name": "stdout",
     "output_type": "stream",
     "text": [
      "Epoch 1/200\n",
      "\u001b[1m18/18\u001b[0m \u001b[32m━━━━━━━━━━━━━━━━━━━━\u001b[0m\u001b[37m\u001b[0m \u001b[1m4s\u001b[0m 26ms/step - loss: 0.7282 - mae: 1.1256 - val_loss: 0.3501 - val_mae: 0.7135 - learning_rate: 0.0050\n",
      "Epoch 2/200\n",
      "\u001b[1m18/18\u001b[0m \u001b[32m━━━━━━━━━━━━━━━━━━━━\u001b[0m\u001b[37m\u001b[0m \u001b[1m0s\u001b[0m 10ms/step - loss: 0.4276 - mae: 0.7903 - val_loss: 0.3319 - val_mae: 0.6861 - learning_rate: 0.0050\n",
      "Epoch 3/200\n",
      "\u001b[1m18/18\u001b[0m \u001b[32m━━━━━━━━━━━━━━━━━━━━\u001b[0m\u001b[37m\u001b[0m \u001b[1m0s\u001b[0m 9ms/step - loss: 0.3999 - mae: 0.7613 - val_loss: 0.3310 - val_mae: 0.6746 - learning_rate: 0.0050\n",
      "Epoch 4/200\n",
      "\u001b[1m18/18\u001b[0m \u001b[32m━━━━━━━━━━━━━━━━━━━━\u001b[0m\u001b[37m\u001b[0m \u001b[1m0s\u001b[0m 13ms/step - loss: 0.3550 - mae: 0.7008 - val_loss: 0.3200 - val_mae: 0.6595 - learning_rate: 0.0050\n",
      "Epoch 5/200\n",
      "\u001b[1m18/18\u001b[0m \u001b[32m━━━━━━━━━━━━━━━━━━━━\u001b[0m\u001b[37m\u001b[0m \u001b[1m0s\u001b[0m 9ms/step - loss: 0.3388 - mae: 0.6771 - val_loss: 0.3200 - val_mae: 0.6619 - learning_rate: 0.0050\n",
      "Epoch 6/200\n",
      "\u001b[1m18/18\u001b[0m \u001b[32m━━━━━━━━━━━━━━━━━━━━\u001b[0m\u001b[37m\u001b[0m \u001b[1m0s\u001b[0m 9ms/step - loss: 0.3312 - mae: 0.6761 - val_loss: 0.3218 - val_mae: 0.6536 - learning_rate: 0.0050\n",
      "Epoch 7/200\n",
      "\u001b[1m18/18\u001b[0m \u001b[32m━━━━━━━━━━━━━━━━━━━━\u001b[0m\u001b[37m\u001b[0m \u001b[1m0s\u001b[0m 9ms/step - loss: 0.3443 - mae: 0.6823 - val_loss: 0.3186 - val_mae: 0.6498 - learning_rate: 0.0050\n",
      "Epoch 8/200\n",
      "\u001b[1m18/18\u001b[0m \u001b[32m━━━━━━━━━━━━━━━━━━━━\u001b[0m\u001b[37m\u001b[0m \u001b[1m0s\u001b[0m 11ms/step - loss: 0.3249 - mae: 0.6671 - val_loss: 0.3201 - val_mae: 0.6544 - learning_rate: 0.0050\n",
      "Epoch 9/200\n",
      "\u001b[1m18/18\u001b[0m \u001b[32m━━━━━━━━━━━━━━━━━━━━\u001b[0m\u001b[37m\u001b[0m \u001b[1m0s\u001b[0m 10ms/step - loss: 0.3331 - mae: 0.6792 - val_loss: 0.3100 - val_mae: 0.6288 - learning_rate: 0.0050\n",
      "Epoch 10/200\n",
      "\u001b[1m18/18\u001b[0m \u001b[32m━━━━━━━━━━━━━━━━━━━━\u001b[0m\u001b[37m\u001b[0m \u001b[1m0s\u001b[0m 9ms/step - loss: 0.3400 - mae: 0.6699 - val_loss: 0.3070 - val_mae: 0.6353 - learning_rate: 0.0050\n",
      "Epoch 11/200\n",
      "\u001b[1m18/18\u001b[0m \u001b[32m━━━━━━━━━━━━━━━━━━━━\u001b[0m\u001b[37m\u001b[0m \u001b[1m0s\u001b[0m 10ms/step - loss: 0.3154 - mae: 0.6507 - val_loss: 0.3077 - val_mae: 0.6259 - learning_rate: 0.0050\n",
      "Epoch 12/200\n",
      "\u001b[1m18/18\u001b[0m \u001b[32m━━━━━━━━━━━━━━━━━━━━\u001b[0m\u001b[37m\u001b[0m \u001b[1m0s\u001b[0m 10ms/step - loss: 0.2899 - mae: 0.6258 - val_loss: 0.3101 - val_mae: 0.6275 - learning_rate: 0.0050\n",
      "Epoch 13/200\n",
      "\u001b[1m18/18\u001b[0m \u001b[32m━━━━━━━━━━━━━━━━━━━━\u001b[0m\u001b[37m\u001b[0m \u001b[1m0s\u001b[0m 9ms/step - loss: 0.3117 - mae: 0.6462 - val_loss: 0.3100 - val_mae: 0.6359 - learning_rate: 0.0050\n",
      "Epoch 14/200\n",
      "\u001b[1m18/18\u001b[0m \u001b[32m━━━━━━━━━━━━━━━━━━━━\u001b[0m\u001b[37m\u001b[0m \u001b[1m0s\u001b[0m 9ms/step - loss: 0.3085 - mae: 0.6392 - val_loss: 0.3101 - val_mae: 0.6293 - learning_rate: 0.0050\n",
      "Epoch 15/200\n",
      "\u001b[1m18/18\u001b[0m \u001b[32m━━━━━━━━━━━━━━━━━━━━\u001b[0m\u001b[37m\u001b[0m \u001b[1m0s\u001b[0m 8ms/step - loss: 0.2830 - mae: 0.6081 - val_loss: 0.3187 - val_mae: 0.6444 - learning_rate: 0.0050\n",
      "Epoch 16/200\n",
      "\u001b[1m18/18\u001b[0m \u001b[32m━━━━━━━━━━━━━━━━━━━━\u001b[0m\u001b[37m\u001b[0m \u001b[1m0s\u001b[0m 9ms/step - loss: 0.2910 - mae: 0.6195 - val_loss: 0.3127 - val_mae: 0.6314 - learning_rate: 0.0050\n",
      "Epoch 17/200\n",
      "\u001b[1m18/18\u001b[0m \u001b[32m━━━━━━━━━━━━━━━━━━━━\u001b[0m\u001b[37m\u001b[0m \u001b[1m0s\u001b[0m 8ms/step - loss: 0.2941 - mae: 0.6274 - val_loss: 0.3145 - val_mae: 0.6336 - learning_rate: 0.0050\n",
      "Epoch 18/200\n",
      "\u001b[1m18/18\u001b[0m \u001b[32m━━━━━━━━━━━━━━━━━━━━\u001b[0m\u001b[37m\u001b[0m \u001b[1m0s\u001b[0m 9ms/step - loss: 0.2933 - mae: 0.6257 - val_loss: 0.3156 - val_mae: 0.6399 - learning_rate: 0.0050\n",
      "Epoch 19/200\n",
      "\u001b[1m18/18\u001b[0m \u001b[32m━━━━━━━━━━━━━━━━━━━━\u001b[0m\u001b[37m\u001b[0m \u001b[1m0s\u001b[0m 9ms/step - loss: 0.2635 - mae: 0.5900 - val_loss: 0.3137 - val_mae: 0.6309 - learning_rate: 0.0050\n",
      "Epoch 20/200\n",
      "\u001b[1m18/18\u001b[0m \u001b[32m━━━━━━━━━━━━━━━━━━━━\u001b[0m\u001b[37m\u001b[0m \u001b[1m0s\u001b[0m 8ms/step - loss: 0.3076 - mae: 0.6401 - val_loss: 0.3168 - val_mae: 0.6378 - learning_rate: 0.0050\n",
      "Epoch 21/200\n",
      "\u001b[1m14/18\u001b[0m \u001b[32m━━━━━━━━━━━━━━━\u001b[0m\u001b[37m━━━━━\u001b[0m \u001b[1m0s\u001b[0m 4ms/step - loss: 0.2854 - mae: 0.6142  \n",
      "Epoch 21: ReduceLROnPlateau reducing learning rate to 0.0009999999776482583.\n",
      "\u001b[1m18/18\u001b[0m \u001b[32m━━━━━━━━━━━━━━━━━━━━\u001b[0m\u001b[37m\u001b[0m \u001b[1m0s\u001b[0m 9ms/step - loss: 0.2863 - mae: 0.6153 - val_loss: 0.3111 - val_mae: 0.6337 - learning_rate: 0.0050\n",
      "Epoch 22/200\n",
      "\u001b[1m18/18\u001b[0m \u001b[32m━━━━━━━━━━━━━━━━━━━━\u001b[0m\u001b[37m\u001b[0m \u001b[1m0s\u001b[0m 8ms/step - loss: 0.3154 - mae: 0.6480 - val_loss: 0.3116 - val_mae: 0.6341 - learning_rate: 1.0000e-03\n",
      "Epoch 23/200\n",
      "\u001b[1m18/18\u001b[0m \u001b[32m━━━━━━━━━━━━━━━━━━━━\u001b[0m\u001b[37m\u001b[0m \u001b[1m0s\u001b[0m 9ms/step - loss: 0.2837 - mae: 0.6104 - val_loss: 0.3129 - val_mae: 0.6330 - learning_rate: 1.0000e-03\n",
      "Epoch 24/200\n",
      "\u001b[1m18/18\u001b[0m \u001b[32m━━━━━━━━━━━━━━━━━━━━\u001b[0m\u001b[37m\u001b[0m \u001b[1m0s\u001b[0m 9ms/step - loss: 0.2823 - mae: 0.6113 - val_loss: 0.3132 - val_mae: 0.6333 - learning_rate: 1.0000e-03\n",
      "Epoch 25/200\n",
      "\u001b[1m18/18\u001b[0m \u001b[32m━━━━━━━━━━━━━━━━━━━━\u001b[0m\u001b[37m\u001b[0m \u001b[1m0s\u001b[0m 9ms/step - loss: 0.2702 - mae: 0.5951 - val_loss: 0.3136 - val_mae: 0.6343 - learning_rate: 1.0000e-03\n",
      "Epoch 26/200\n",
      "\u001b[1m18/18\u001b[0m \u001b[32m━━━━━━━━━━━━━━━━━━━━\u001b[0m\u001b[37m\u001b[0m \u001b[1m0s\u001b[0m 10ms/step - loss: 0.2874 - mae: 0.6103 - val_loss: 0.3164 - val_mae: 0.6398 - learning_rate: 1.0000e-03\n",
      "Epoch 27/200\n",
      "\u001b[1m18/18\u001b[0m \u001b[32m━━━━━━━━━━━━━━━━━━━━\u001b[0m\u001b[37m\u001b[0m \u001b[1m0s\u001b[0m 8ms/step - loss: 0.2761 - mae: 0.6008 - val_loss: 0.3155 - val_mae: 0.6382 - learning_rate: 1.0000e-03\n",
      "Epoch 28/200\n",
      "\u001b[1m18/18\u001b[0m \u001b[32m━━━━━━━━━━━━━━━━━━━━\u001b[0m\u001b[37m\u001b[0m \u001b[1m0s\u001b[0m 11ms/step - loss: 0.2822 - mae: 0.6144 - val_loss: 0.3155 - val_mae: 0.6366 - learning_rate: 1.0000e-03\n",
      "Epoch 29/200\n",
      "\u001b[1m18/18\u001b[0m \u001b[32m━━━━━━━━━━━━━━━━━━━━\u001b[0m\u001b[37m\u001b[0m \u001b[1m0s\u001b[0m 14ms/step - loss: 0.2656 - mae: 0.5880 - val_loss: 0.3160 - val_mae: 0.6362 - learning_rate: 1.0000e-03\n",
      "Epoch 30/200\n",
      "\u001b[1m18/18\u001b[0m \u001b[32m━━━━━━━━━━━━━━━━━━━━\u001b[0m\u001b[37m\u001b[0m \u001b[1m0s\u001b[0m 15ms/step - loss: 0.2953 - mae: 0.6181 - val_loss: 0.3163 - val_mae: 0.6375 - learning_rate: 1.0000e-03\n",
      "Epoch 31/200\n",
      "\u001b[1m18/18\u001b[0m \u001b[32m━━━━━━━━━━━━━━━━━━━━\u001b[0m\u001b[37m\u001b[0m \u001b[1m0s\u001b[0m 6ms/step - loss: 0.2825 - mae: 0.6082\n",
      "Epoch 31: ReduceLROnPlateau reducing learning rate to 0.0001999999862164259.\n",
      "\u001b[1m18/18\u001b[0m \u001b[32m━━━━━━━━━━━━━━━━━━━━\u001b[0m\u001b[37m\u001b[0m \u001b[1m0s\u001b[0m 15ms/step - loss: 0.2820 - mae: 0.6076 - val_loss: 0.3184 - val_mae: 0.6388 - learning_rate: 1.0000e-03\n",
      "Epoch 32/200\n",
      "\u001b[1m18/18\u001b[0m \u001b[32m━━━━━━━━━━━━━━━━━━━━\u001b[0m\u001b[37m\u001b[0m \u001b[1m0s\u001b[0m 13ms/step - loss: 0.2757 - mae: 0.5982 - val_loss: 0.3184 - val_mae: 0.6388 - learning_rate: 2.0000e-04\n",
      "Epoch 33/200\n",
      "\u001b[1m18/18\u001b[0m \u001b[32m━━━━━━━━━━━━━━━━━━━━\u001b[0m\u001b[37m\u001b[0m \u001b[1m0s\u001b[0m 14ms/step - loss: 0.2520 - mae: 0.5694 - val_loss: 0.3185 - val_mae: 0.6394 - learning_rate: 2.0000e-04\n",
      "Epoch 34/200\n",
      "\u001b[1m18/18\u001b[0m \u001b[32m━━━━━━━━━━━━━━━━━━━━\u001b[0m\u001b[37m\u001b[0m \u001b[1m0s\u001b[0m 14ms/step - loss: 0.2823 - mae: 0.6061 - val_loss: 0.3185 - val_mae: 0.6406 - learning_rate: 2.0000e-04\n",
      "Epoch 35/200\n",
      "\u001b[1m18/18\u001b[0m \u001b[32m━━━━━━━━━━━━━━━━━━━━\u001b[0m\u001b[37m\u001b[0m \u001b[1m0s\u001b[0m 14ms/step - loss: 0.2777 - mae: 0.6013 - val_loss: 0.3190 - val_mae: 0.6410 - learning_rate: 2.0000e-04\n",
      "Epoch 36/200\n",
      "\u001b[1m18/18\u001b[0m \u001b[32m━━━━━━━━━━━━━━━━━━━━\u001b[0m\u001b[37m\u001b[0m \u001b[1m0s\u001b[0m 14ms/step - loss: 0.2739 - mae: 0.6050 - val_loss: 0.3185 - val_mae: 0.6403 - learning_rate: 2.0000e-04\n"
     ]
    }
   ],
   "source": [
    "batch_size = 64\n",
    "early_stop = EarlyStopping(monitor='val_mae', patience=25, restore_best_weights=True)\n",
    "reduce_lr = ReduceLROnPlateau(\n",
    "    monitor='val_mae',\n",
    "    factor=0.2,         # Reduce LR by 50%\n",
    "    patience=10,         # Wait 5 epochs w/o improvement before reducing LR\n",
    "    min_lr=1e-4,        # Smallest allowed LR\n",
    "    verbose=1           # Print a message when LR changes\n",
    ")\n",
    "history = model.fit(X_train_scaled, y_train_scaled,\n",
    "                    validation_data=(X_test_scaled, y_test_scaled),\n",
    "                    epochs=200,\n",
    "                    batch_size=batch_size,\n",
    "                    verbose=1,\n",
    "                    callbacks=[reduce_lr, early_stop])\n",
    "\n",
    "\n",
    "# model.fit(X_train_scaled, y_train_scaled, batch_size=batch_size,steps_per_epoch=steps_per_epoch, epochs=10)"
   ]
  },
  {
   "cell_type": "markdown",
   "metadata": {
    "id": "ENFD-Lmqfx9e"
   },
   "source": [
    "##### Making Predictions with our model"
   ]
  },
  {
   "cell_type": "markdown",
   "metadata": {
    "id": "tTHneo5Uf-0H"
   },
   "source": [
    "Evaluating model"
   ]
  },
  {
   "cell_type": "code",
   "execution_count": 620,
   "metadata": {
    "colab": {
     "base_uri": "https://localhost:8080/"
    },
    "executionInfo": {
     "elapsed": 646,
     "status": "ok",
     "timestamp": 1747007354812,
     "user": {
      "displayName": "Elijah Sinclair",
      "userId": "03784279658536308242"
     },
     "user_tz": 240
    },
    "id": "QWoywlLtbIEw",
    "outputId": "317ac37f-bc94-4370-f059-bafd47816f83"
   },
   "outputs": [
    {
     "name": "stdout",
     "output_type": "stream",
     "text": [
      "\u001b[1m9/9\u001b[0m \u001b[32m━━━━━━━━━━━━━━━━━━━━\u001b[0m\u001b[37m\u001b[0m \u001b[1m0s\u001b[0m 26ms/step\n",
      "Test MAE: 0.6259\n",
      "Official Test MAE (USD): ±$89.01\n",
      "Mean Absolute Percentage Error: 0.35\n"
     ]
    }
   ],
   "source": [
    "# Get your scaled test predictions\n",
    "y_pred_scaled = model.predict(X_test_scaled)\n",
    "\n",
    "# Inverse transform BOTH predictions and true values\n",
    "y_pred_dollars = scaler_y.inverse_transform(y_pred_scaled).flatten()\n",
    "y_true_dollars = scaler_y.inverse_transform(y_test_scaled).flatten()\n",
    "\n",
    "# Calculate MAE in original dollars\n",
    "test_loss, test_mae = model.evaluate(X_test_scaled, y_test_scaled, verbose=0)\n",
    "print(f\"Test MAE: {test_mae:.4f}\")\n",
    "mae_dollars = mean_absolute_error(y_true_dollars, y_pred_dollars)\n",
    "\n",
    "print(f\"Official Test MAE (USD): ±${mae_dollars:.2f}\")\n",
    "print(f'Mean Absolute Percentage Error: {mean_absolute_percentage_error(y_true_dollars, y_pred_dollars):.2f}')"
   ]
  },
  {
   "cell_type": "markdown",
   "metadata": {
    "id": "JmMA2XkujFyN"
   },
   "source": [
    "###### K-Fold Cross Validation to Debug model (3)"
   ]
  },
  {
   "cell_type": "code",
   "execution_count": 621,
   "metadata": {
    "executionInfo": {
     "elapsed": 10,
     "status": "ok",
     "timestamp": 1747007354822,
     "user": {
      "displayName": "Elijah Sinclair",
      "userId": "03784279658536308242"
     },
     "user_tz": 240
    },
    "id": "rb_eT7XJfwgC"
   },
   "outputs": [],
   "source": [
    "# # Initialize KFold (use same random_state as your train_test_split for consistency)\n",
    "# kf = KFold(n_splits=3, shuffle=True, random_state=0)\n",
    "# mae_scores, mape_scores = [], []\n",
    "\n",
    "# clusters = KMeans(n_clusters=3).fit_predict(X)\n",
    "# for fold, (train_idx, val_idx) in enumerate(StratifiedKFold(n_splits=3).split(X, clusters)):\n",
    "#     print(f\"\\nFold {fold + 1}\")\n",
    "\n",
    "#     # Split raw data\n",
    "#     X_train_raw, X_val_raw = X.iloc[train_idx], X.iloc[val_idx]\n",
    "#     y_train_raw, y_val_raw = y.iloc[train_idx], y.iloc[val_idx]\n",
    "\n",
    "#     # Scale features and target PER FOLD (critical!)\n",
    "#     scaler_X = StandardScaler()\n",
    "#     X_train_scaled = scaler_X.fit_transform(X_train_raw)\n",
    "#     X_val_scaled = scaler_X.transform(X_val_raw)\n",
    "\n",
    "#     scaler_y = StandardScaler()\n",
    "#     y_train_scaled = scaler_y.fit_transform(y_train_raw.values.reshape(-1, 1))\n",
    "#     y_val_scaled = scaler_y.transform(y_val_raw.values.reshape(-1, 1))\n",
    "\n",
    "#     # Build and train model (using your best config: Adam lr=0.005)\n",
    "#     model = Sequential([\n",
    "#         Input(shape=(X_train_scaled.shape[1],)),\n",
    "#         Dense(128, activation='relu'),\n",
    "#         BatchNormalization(),\n",
    "#         Dropout(0.3),\n",
    "#         Dense(64, activation='relu'),\n",
    "#         BatchNormalization(),\n",
    "#         Dropout(0.4),\n",
    "#         Dense(32, activation='relu'),\n",
    "#         BatchNormalization(),\n",
    "#         Dropout(0.2),\n",
    "#         Dense(1)\n",
    "#     ])\n",
    "\n",
    "#     model.compile(optimizer=Adam(learning_rate=0.005), loss='mae', metrics=['mae'])\n",
    "\n",
    "#     reduce_lr = ReduceLROnPlateau(\n",
    "#         monitor='val_mae',\n",
    "#         factor=0.2,         # Reduce LR by 50%\n",
    "#         patience=10,         # Wait 5 epochs w/o improvement before reducing LR\n",
    "#         min_lr=1e-4,        # Smallest allowed LR\n",
    "#         verbose=1           # Print a message when LR changes\n",
    "#     )\n",
    "\n",
    "#     history = model.fit(\n",
    "#         X_train_scaled, y_train_scaled,\n",
    "#         validation_data=(X_val_scaled, y_val_scaled),\n",
    "#         epochs=100,\n",
    "#         batch_size=64,\n",
    "#         callbacks=[early_stop, reduce_lr],\n",
    "#         verbose=0\n",
    "#     )\n",
    "\n",
    "#     # Evaluate and INVERSE TRANSFORM predictions to original USD scale\n",
    "#     y_pred_scaled = model.predict(X_val_scaled)\n",
    "#     y_pred = scaler_y.inverse_transform(y_pred_scaled)\n",
    "#     mae = np.mean(np.abs(y_pred - y_val_raw.values.reshape(-1, 1)))\n",
    "#     mape = np.mean(np.abs((y_val_raw.values - y_pred.flatten()) / y_val_raw.values)) * 100\n",
    "\n",
    "#     mae_scores.append(mae)\n",
    "#     mape_scores.append(mape)\n",
    "#     print(f\"Fold {fold + 1} | Test MAE: ${mae:.2f} | MAPE: {mape:.2f}%\")\n",
    "\n",
    "# print(\"\\nFinal Metrics:\")\n",
    "# print(f\"Mean MAE: ${np.mean(mae_scores):.2f} ± ${np.std(mae_scores):.2f}\")\n",
    "# print(f\"Mean MAPE: {np.mean(mape_scores):.2f}% ± {np.std(mape_scores):.2f}%\")"
   ]
  },
  {
   "cell_type": "markdown",
   "metadata": {
    "id": "pdXUbXVIPiMO"
   },
   "source": [
    "###### Bias Check"
   ]
  },
  {
   "cell_type": "code",
   "execution_count": 622,
   "metadata": {
    "colab": {
     "base_uri": "https://localhost:8080/",
     "height": 0
    },
    "executionInfo": {
     "elapsed": 338,
     "status": "ok",
     "timestamp": 1747007355161,
     "user": {
      "displayName": "Elijah Sinclair",
      "userId": "03784279658536308242"
     },
     "user_tz": 240
    },
    "id": "TIedZ4GbPhlm",
    "outputId": "f3c46e0b-0d4e-4c88-cb31-c9bdfd20c938"
   },
   "outputs": [
    {
     "name": "stdout",
     "output_type": "stream",
     "text": [
      "\u001b[1m9/9\u001b[0m \u001b[32m━━━━━━━━━━━━━━━━━━━━\u001b[0m\u001b[37m\u001b[0m \u001b[1m0s\u001b[0m 4ms/step \n"
     ]
    },
    {
     "data": {
      "text/plain": [
       "Text(0.5, 1.0, 'Error Distribution')"
      ]
     },
     "execution_count": 622,
     "metadata": {},
     "output_type": "execute_result"
    },
    {
     "data": {
      "image/png": "[encoded data removed]",
      "text/plain": [
       "<Figure size 640x480 with 1 Axes>"
      ]
     },
     "metadata": {},
     "output_type": "display_data"
    }
   ],
   "source": [
    "predictions = model.predict(X_test_scaled)\n",
    "errors = y_test - predictions.flatten()\n",
    "plt.hist(errors, bins=30)\n",
    "plt.title(\"Error Distribution\")"
   ]
  },
  {
   "cell_type": "markdown",
   "metadata": {
    "id": "etDHIrahjTDO"
   },
   "source": [
    "###### Prediction calculation"
   ]
  },
  {
   "cell_type": "code",
   "execution_count": 623,
   "metadata": {
    "colab": {
     "base_uri": "https://localhost:8080/"
    },
    "executionInfo": {
     "elapsed": 123,
     "status": "ok",
     "timestamp": 1747007355285,
     "user": {
      "displayName": "Elijah Sinclair",
      "userId": "03784279658536308242"
     },
     "user_tz": 240
    },
    "id": "D7tJhaa2f9of",
    "outputId": "c84cba44-22b9-4684-c05a-6cb13cf4a201"
   },
   "outputs": [
    {
     "name": "stdout",
     "output_type": "stream",
     "text": [
      "\u001b[1m9/9\u001b[0m \u001b[32m━━━━━━━━━━━━━━━━━━━━\u001b[0m\u001b[37m\u001b[0m \u001b[1m0s\u001b[0m 4ms/step \n"
     ]
    }
   ],
   "source": [
    "# Make predictions and compare with true values\n",
    "y_pred_scaled = model.predict(X_test_scaled)\n",
    "y_pred = scaler_y.inverse_transform(y_pred_scaled)"
   ]
  },
  {
   "cell_type": "markdown",
   "metadata": {
    "id": "7KGsnd6sxRpo"
   },
   "source": [
    "##Plots"
   ]
  },
  {
   "cell_type": "code",
   "execution_count": 624,
   "metadata": {
    "colab": {
     "base_uri": "https://localhost:8080/",
     "height": 0
    },
    "executionInfo": {
     "elapsed": 206,
     "status": "ok",
     "timestamp": 1747007355499,
     "user": {
      "displayName": "Elijah Sinclair",
      "userId": "03784279658536308242"
     },
     "user_tz": 240
    },
    "id": "DGgzrUMbF2fn",
    "outputId": "c40034b2-63e2-40f5-db00-d6daf2e8dee8"
   },
   "outputs": [
    {
     "data": {
      "image/png": "[encoded data removed]",
      "text/plain": [
       "<Figure size 640x480 with 1 Axes>"
      ]
     },
     "metadata": {},
     "output_type": "display_data"
    }
   ],
   "source": [
    "# Plot Loss\n",
    "plt.plot(history.history['loss'], label='Training Loss')\n",
    "plt.plot(history.history['val_loss'], label='Validation Loss')\n",
    "plt.title('Loss Over Epochs')\n",
    "plt.legend()\n",
    "plt.show()\n",
    "\n"
   ]
  },
  {
   "cell_type": "code",
   "execution_count": 625,
   "metadata": {
    "colab": {
     "base_uri": "https://localhost:8080/",
     "height": 0
    },
    "executionInfo": {
     "elapsed": 147,
     "status": "ok",
     "timestamp": 1747007355645,
     "user": {
      "displayName": "Elijah Sinclair",
      "userId": "03784279658536308242"
     },
     "user_tz": 240
    },
    "id": "Ki4qmbG881XC",
    "outputId": "c7dce01a-6677-4ca9-d4d7-82bb4c7961dd"
   },
   "outputs": [
    {
     "data": {
      "image/png": "[encoded data removed]",
      "text/plain": [
       "<Figure size 640x480 with 1 Axes>"
      ]
     },
     "metadata": {},
     "output_type": "display_data"
    }
   ],
   "source": [
    "# Plot MAE\n",
    "plt.plot(history.history['mae'], label='Training MAE')\n",
    "plt.plot(history.history['val_mae'], label='Validation MAE')\n",
    "plt.title('MAE Over Epochs')\n",
    "plt.legend()\n",
    "plt.show()"
   ]
  },
  {
   "cell_type": "code",
   "execution_count": 626,
   "metadata": {
    "colab": {
     "base_uri": "https://localhost:8080/",
     "height": 0
    },
    "executionInfo": {
     "elapsed": 204,
     "status": "ok",
     "timestamp": 1747007355848,
     "user": {
      "displayName": "Elijah Sinclair",
      "userId": "03784279658536308242"
     },
     "user_tz": 240
    },
    "id": "rjdNXbIdxQ5w",
    "outputId": "afafae5b-4219-4188-ca9a-2539d84e9406"
   },
   "outputs": [
    {
     "data": {
      "image/png": "[encoded data removed]",
      "text/plain": [
       "<Figure size 640x480 with 1 Axes>"
      ]
     },
     "metadata": {},
     "output_type": "display_data"
    }
   ],
   "source": [
    "plt.scatter(y_test, y_pred, alpha=0.5)\n",
    "plt.plot([min(y_test), max(y_test)], [min(y_test), max(y_test)], 'r--')\n",
    "plt.xlabel(\"True Prices\")\n",
    "plt.ylabel(\"Predicted Prices\")\n",
    "plt.title(\"Phone Prices \\n Feedforward Neural Network Model Predictions vs True Values\")\n",
    "plt.show()"
   ]
  },
  {
   "cell_type": "code",
   "execution_count": 627,
   "metadata": {
    "colab": {
     "base_uri": "https://localhost:8080/"
    },
    "executionInfo": {
     "elapsed": 16,
     "status": "ok",
     "timestamp": 1747007355864,
     "user": {
      "displayName": "Elijah Sinclair",
      "userId": "03784279658536308242"
     },
     "user_tz": 240
    },
    "id": "XqmVQm68sK_h",
    "outputId": "b83b52ff-1819-4911-c316-967d1eb76d38"
   },
   "outputs": [
    {
     "name": "stdout",
     "output_type": "stream",
     "text": [
      "Over 30\n",
      "Avg MAE  89.62121197871616\n",
      "Avg MAPE  0.3574637259281827\n"
     ]
    }
   ],
   "source": [
    "count = count + 1\n",
    "if count > 30:\n",
    "  print('Over 30')\n",
    "  print('Avg MAE ', avg_mae/30*1.0)\n",
    "  print('Avg MAPE ', avg_mape/30*1.0)\n",
    "else:\n",
    "  print('Clount = ', count)\n",
    "  avg_mae = avg_mae + mae_dollars\n",
    "  avg_mape = avg_mape + mean_absolute_percentage_error(y_test, y_pred)"
   ]
  }
 ],
 "metadata": {
  "colab": {
   "provenance": []
  },
  "kernelspec": {
   "display_name": ".venv",
   "language": "python",
   "name": "python3"
  },
  "language_info": {
   "codemirror_mode": {
    "name": "ipython",
    "version": 3
   },
   "file_extension": ".py",
   "mimetype": "text/x-python",
   "name": "python",
   "nbconvert_exporter": "python",
   "pygments_lexer": "ipython3",
   "version": "3.11.9"
  }
 },
 "nbformat": 4,
 "nbformat_minor": 0
}
