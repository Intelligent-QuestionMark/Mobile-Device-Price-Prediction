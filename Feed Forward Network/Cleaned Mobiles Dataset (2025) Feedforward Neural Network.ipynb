{
 "cells": [
  {
   "cell_type": "markdown",
   "metadata": {
    "id": "HZP63qXVRwpi"
   },
   "source": [
    "# Cleaned Mobiles Dataset (2025) dataset (Using Sklearn and Keras)"
   ]
  },
  {
   "cell_type": "markdown",
   "metadata": {
    "id": "RPsjM0znRrjC"
   },
   "source": [
    "##Importing Necessary Libraries"
   ]
  },
  {
   "cell_type": "code",
   "execution_count": 897,
   "metadata": {
    "colab": {
     "base_uri": "https://localhost:8080/"
    },
    "executionInfo": {
     "elapsed": 7,
     "status": "ok",
     "timestamp": 1747062639457,
     "user": {
      "displayName": "Elijah Sinclair",
      "userId": "03784279658536308242"
     },
     "user_tz": 240
    },
    "id": "DEl9k89YJkcg",
    "outputId": "18052cc6-69ff-48b7-ca1d-44d895f2c01a"
   },
   "outputs": [
    {
     "name": "stdout",
     "output_type": "stream",
     "text": [
      "Tensorflow/Keras: 3.8.0\n"
     ]
    }
   ],
   "source": [
    "import math\n",
    "\n",
    "# Data handling and stuff\n",
    "import pandas as pd\n",
    "import numpy as np\n",
    "\n",
    "# Neural Network Magic Libraries (TensorFlow/Keras)\n",
    "from tensorflow import keras\n",
    "print('Tensorflow/Keras: %s' % keras.__version__)\n",
    "from keras.models import Sequential\n",
    "from keras.layers import Dense\n",
    "from keras.optimizers import Adam\n",
    "from keras.losses import Huber\n",
    "from keras.callbacks import EarlyStopping\n",
    "from keras.regularizers import l2\n",
    "from keras.layers import Dropout\n",
    "from keras.callbacks import ReduceLROnPlateau\n",
    "from keras.layers import BatchNormalization\n",
    "from keras import Input\n",
    "\n",
    "# Sklearn\n",
    "from sklearn.model_selection import train_test_split\n",
    "from sklearn.preprocessing import StandardScaler\n",
    "from sklearn.metrics import mean_squared_error\n",
    "from sklearn.metrics import mean_absolute_error, mean_absolute_percentage_error\n",
    "from sklearn.metrics import classification_report\n",
    "from sklearn.preprocessing import TargetEncoder\n",
    "\n",
    "# Visualization - remove if not used\n",
    "import matplotlib.pyplot as plt\n",
    "import seaborn as sns"
   ]
  },
  {
   "cell_type": "markdown",
   "metadata": {
    "id": "il7Lw1jwRitp"
   },
   "source": [
    "##Visualization Formatting"
   ]
  },
  {
   "cell_type": "code",
   "execution_count": 898,
   "metadata": {
    "executionInfo": {
     "elapsed": 6,
     "status": "ok",
     "timestamp": 1747062639464,
     "user": {
      "displayName": "Elijah Sinclair",
      "userId": "03784279658536308242"
     },
     "user_tz": 240
    },
    "id": "YSOVE-qyRhw5"
   },
   "outputs": [],
   "source": [
    "pd.set_option(\"display.max_columns\", None)\n",
    "pd.set_option(\"display.max_rows\", None)\n",
    "pd.set_option(\"display.max_colwidth\", None)\n",
    "pd.set_option(\"display.float_format\", lambda x: \"%.2f\" % x)"
   ]
  },
  {
   "cell_type": "markdown",
   "metadata": {
    "id": "FL4XqqHDVvLU"
   },
   "source": [
    "## Data Acquisition and Preprocessing\n",
    "##### Importing and Cleaning initial Dataset for Processing"
   ]
  },
  {
   "cell_type": "code",
   "execution_count": 899,
   "metadata": {
    "executionInfo": {
     "elapsed": 7,
     "status": "ok",
     "timestamp": 1747062639472,
     "user": {
      "displayName": "Elijah Sinclair",
      "userId": "03784279658536308242"
     },
     "user_tz": 240
    },
    "id": "mzNUbYkeTEET"
   },
   "outputs": [],
   "source": [
    "def read_csv(file_path):\n",
    "    df = pd.read_csv(file_path)\n",
    "    return df\n",
    "\n",
    "def clean_data(df):\n",
    "    df = df.drop_duplicates()\n",
    "    df = df.dropna()\n",
    "    df = df.reset_index(drop=True)\n",
    "    return df"
   ]
  },
  {
   "cell_type": "code",
   "execution_count": 900,
   "metadata": {
    "executionInfo": {
     "elapsed": 3,
     "status": "ok",
     "timestamp": 1747062639477,
     "user": {
      "displayName": "Elijah Sinclair",
      "userId": "03784279658536308242"
     },
     "user_tz": 240
    },
    "id": "9BahokB_c8Bb"
   },
   "outputs": [],
   "source": [
    "np.random.seed(42)"
   ]
  },
  {
   "cell_type": "code",
   "execution_count": 901,
   "metadata": {
    "colab": {
     "base_uri": "https://localhost:8080/"
    },
    "executionInfo": {
     "elapsed": 40,
     "status": "ok",
     "timestamp": 1747062639517,
     "user": {
      "displayName": "Elijah Sinclair",
      "userId": "03784279658536308242"
     },
     "user_tz": 240
    },
    "id": "6ETifhl2Sn2g",
    "outputId": "3092f69d-f83a-445a-b9f8-644eec23730a"
   },
   "outputs": [
    {
     "name": "stdout",
     "output_type": "stream",
     "text": [
      "<class 'pandas.core.frame.DataFrame'>\n",
      "RangeIndex: 736 entries, 0 to 735\n",
      "Data columns (total 15 columns):\n",
      " #   Column            Non-Null Count  Dtype  \n",
      "---  ------            --------------  -----  \n",
      " 0   Company Name      736 non-null    object \n",
      " 1   Mobile Weight     736 non-null    float64\n",
      " 2   RAM               736 non-null    float64\n",
      " 3   Processor         736 non-null    object \n",
      " 4   Battery Capacity  736 non-null    int64  \n",
      " 5   Screen Size       736 non-null    float64\n",
      " 6   Launched Year     736 non-null    int64  \n",
      " 7   Back Camera 1     736 non-null    int64  \n",
      " 8   Back Camera 2     736 non-null    int64  \n",
      " 9   Back Camera 3     736 non-null    int64  \n",
      " 10  Back Camera 4     736 non-null    int64  \n",
      " 11  Front Camera 1    736 non-null    int64  \n",
      " 12  Front Camera 2    736 non-null    int64  \n",
      " 13  Storage           736 non-null    int64  \n",
      " 14  price             736 non-null    float64\n",
      "dtypes: float64(4), int64(9), object(2)\n",
      "memory usage: 86.4+ KB\n"
     ]
    }
   ],
   "source": [
    "smartphones = read_csv(\"Cleaned Mobiles Dataset (2025).csv\")\n",
    "cleaned_smartphones = clean_data(smartphones)\n",
    "cleaned_smartphones.head()\n",
    "cleaned_smartphones.info()\n",
    "\n",
    "y = cleaned_smartphones[\"price\"]\n",
    "X = cleaned_smartphones.drop(\"price\", axis=1)\n",
    "\n",
    "\n",
    "categorical_cols = X.select_dtypes(include=['object']).columns\n",
    "for col in categorical_cols:\n",
    "    te = TargetEncoder(target_type=\"continuous\", random_state=42, smooth = 'auto')\n",
    "    data_array = X[col].values.reshape(-1, 1)\n",
    "    X[col] = te.fit_transform(X[[col]], y)"
   ]
  },
  {
   "cell_type": "markdown",
   "metadata": {
    "id": "8ZAA6eM5UGn6"
   },
   "source": [
    "##Building our Feedforward Neural Network"
   ]
  },
  {
   "cell_type": "markdown",
   "metadata": {
    "id": "90RHhQmPb8kV"
   },
   "source": [
    "##### Splitting training and testing samples"
   ]
  },
  {
   "cell_type": "code",
   "execution_count": 902,
   "metadata": {
    "executionInfo": {
     "elapsed": 1,
     "status": "ok",
     "timestamp": 1747062639517,
     "user": {
      "displayName": "Elijah Sinclair",
      "userId": "03784279658536308242"
     },
     "user_tz": 240
    },
    "id": "me86FrPdb7sF"
   },
   "outputs": [],
   "source": [
    "X_train, X_test, y_train, y_test = train_test_split(X, y, test_size=0.2)"
   ]
  },
  {
   "cell_type": "markdown",
   "metadata": {
    "id": "TfiBypgMk0Zt"
   },
   "source": [
    "## Scaling our Data for Processing"
   ]
  },
  {
   "cell_type": "code",
   "execution_count": 903,
   "metadata": {
    "executionInfo": {
     "elapsed": 11,
     "status": "ok",
     "timestamp": 1747062639529,
     "user": {
      "displayName": "Elijah Sinclair",
      "userId": "03784279658536308242"
     },
     "user_tz": 240
    },
    "id": "a21bKG3wk43e"
   },
   "outputs": [],
   "source": [
    "# Scale Features\n",
    "scaler_X = StandardScaler()\n",
    "X_train_scaled = scaler_X.fit_transform(X_train)\n",
    "X_test_scaled = scaler_X.transform(X_test)\n",
    "# Scale Target\n",
    "scaler_y = StandardScaler()\n",
    "y_train_scaled = scaler_y.fit_transform(y_train.values.reshape(-1, 1))\n",
    "y_test_scaled = scaler_y.transform(y_test.values.reshape(-1, 1))"
   ]
  },
  {
   "cell_type": "code",
   "execution_count": 904,
   "metadata": {
    "executionInfo": {
     "elapsed": 14,
     "status": "ok",
     "timestamp": 1747062639548,
     "user": {
      "displayName": "Elijah Sinclair",
      "userId": "03784279658536308242"
     },
     "user_tz": 240
    },
    "id": "0HqUzokygCNF"
   },
   "outputs": [],
   "source": [
    "def predict_price_with_margin(model, scaler, X_data):\n",
    "    \"\"\"Returns predictions with dollar margins\"\"\"\n",
    "    scaled_pred = model.predict(X_data)\n",
    "    pred_dollars = scaler.inverse_transform(scaled_pred).flatten()\n",
    "    mae_dollars = mean_absolute_error(\n",
    "        scaler.inverse_transform(y_test_scaled).flatten(),\n",
    "        pred_dollars\n",
    "    )\n",
    "    return pred_dollars, mae_dollars\n"
   ]
  },
  {
   "cell_type": "markdown",
   "metadata": {
    "id": "wjs-rRaHcERt"
   },
   "source": [
    "##### Defining the Structure of the Neural Network"
   ]
  },
  {
   "cell_type": "code",
   "execution_count": 905,
   "metadata": {
    "executionInfo": {
     "elapsed": 182,
     "status": "ok",
     "timestamp": 1747062639730,
     "user": {
      "displayName": "Elijah Sinclair",
      "userId": "03784279658536308242"
     },
     "user_tz": 240
    },
    "id": "JC8ECnYKUVfj"
   },
   "outputs": [],
   "source": [
    "model = Sequential(name=\"Smartphones_NN\")\n",
    "model.add(Input(shape=(X_train_scaled.shape[1],)))# Input Layer\n",
    "model.add(Dense(128, activation='relu'))\n",
    "model.add(BatchNormalization())\n",
    "model.add(Dropout(0.3)) # Deactivates % of neurons if they are not improving performance\n",
    "model.add(Dense(64, activation='relu')) # Hidden Layer 2\n",
    "model.add(BatchNormalization())\n",
    "model.add(Dropout(0.4))\n",
    "model.add(Dense(32, activation='relu')) # Hidden Layer 3\n",
    "model.add(BatchNormalization())\n",
    "model.add(Dropout(0.2))\n",
    "model.add(Dense(1)) # Output Layer"
   ]
  },
  {
   "cell_type": "markdown",
   "metadata": {
    "id": "im7E6uevcLw2"
   },
   "source": [
    "##### Compile Keras model aka Magic"
   ]
  },
  {
   "cell_type": "code",
   "execution_count": 906,
   "metadata": {
    "executionInfo": {
     "elapsed": 3,
     "status": "ok",
     "timestamp": 1747062639731,
     "user": {
      "displayName": "Elijah Sinclair",
      "userId": "03784279658536308242"
     },
     "user_tz": 240
    },
    "id": "X6cGUdsucSlX"
   },
   "outputs": [],
   "source": [
    "model.compile(\n",
    "    optimizer=Adam(learning_rate=0.005),\n",
    "    loss=Huber(delta=1.0),  # Handles Outliers better than mse\n",
    "    metrics=['mae']\n",
    ")"
   ]
  },
  {
   "cell_type": "code",
   "execution_count": 907,
   "metadata": {
    "colab": {
     "base_uri": "https://localhost:8080/"
    },
    "executionInfo": {
     "elapsed": 2,
     "status": "ok",
     "timestamp": 1747062639731,
     "user": {
      "displayName": "Elijah Sinclair",
      "userId": "03784279658536308242"
     },
     "user_tz": 240
    },
    "id": "xsdmg4TIkBLy",
    "outputId": "968c3571-9c24-4dc8-f8f0-6379618f6a7b"
   },
   "outputs": [
    {
     "name": "stdout",
     "output_type": "stream",
     "text": [
      "X_train_scaled shape: (588, 14)\n",
      "y_train_scaled shape: (588, 1)\n"
     ]
    }
   ],
   "source": [
    "print(\"X_train_scaled shape:\", X_train_scaled.shape)\n",
    "print(\"y_train_scaled shape:\", y_train_scaled.shape)"
   ]
  },
  {
   "cell_type": "markdown",
   "metadata": {
    "id": "ltqsMtKycTMf"
   },
   "source": [
    "##### Fitting keras model onto the dataset"
   ]
  },
  {
   "cell_type": "code",
   "execution_count": 908,
   "metadata": {
    "colab": {
     "base_uri": "https://localhost:8080/"
    },
    "collapsed": true,
    "executionInfo": {
     "elapsed": 26680,
     "status": "ok",
     "timestamp": 1747062666410,
     "user": {
      "displayName": "Elijah Sinclair",
      "userId": "03784279658536308242"
     },
     "user_tz": 240
    },
    "id": "Zb36kL7UcbUA",
    "outputId": "18cdf0eb-844d-47c2-8a38-71f5d76ab6ab"
   },
   "outputs": [
    {
     "name": "stdout",
     "output_type": "stream",
     "text": [
      "Epoch 1/200\n",
      "\u001b[1m10/10\u001b[0m \u001b[32m━━━━━━━━━━━━━━━━━━━━\u001b[0m\u001b[37m\u001b[0m \u001b[1m6s\u001b[0m 50ms/step - loss: 0.6811 - mae: 1.0750 - val_loss: 0.3635 - val_mae: 0.7425 - learning_rate: 0.0050\n",
      "Epoch 2/200\n",
      "\u001b[1m10/10\u001b[0m \u001b[32m━━━━━━━━━━━━━━━━━━━━\u001b[0m\u001b[37m\u001b[0m \u001b[1m0s\u001b[0m 12ms/step - loss: 0.4184 - mae: 0.7674 - val_loss: 0.2685 - val_mae: 0.6389 - learning_rate: 0.0050\n",
      "Epoch 3/200\n",
      "\u001b[1m10/10\u001b[0m \u001b[32m━━━━━━━━━━━━━━━━━━━━\u001b[0m\u001b[37m\u001b[0m \u001b[1m0s\u001b[0m 17ms/step - loss: 0.3415 - mae: 0.6887 - val_loss: 0.2176 - val_mae: 0.5576 - learning_rate: 0.0050\n",
      "Epoch 4/200\n",
      "\u001b[1m10/10\u001b[0m \u001b[32m━━━━━━━━━━━━━━━━━━━━\u001b[0m\u001b[37m\u001b[0m \u001b[1m0s\u001b[0m 13ms/step - loss: 0.2486 - mae: 0.5634 - val_loss: 0.2450 - val_mae: 0.5922 - learning_rate: 0.0050\n",
      "Epoch 5/200\n",
      "\u001b[1m10/10\u001b[0m \u001b[32m━━━━━━━━━━━━━━━━━━━━\u001b[0m\u001b[37m\u001b[0m \u001b[1m0s\u001b[0m 15ms/step - loss: 0.2194 - mae: 0.5266 - val_loss: 0.1817 - val_mae: 0.4952 - learning_rate: 0.0050\n",
      "Epoch 6/200\n",
      "\u001b[1m10/10\u001b[0m \u001b[32m━━━━━━━━━━━━━━━━━━━━\u001b[0m\u001b[37m\u001b[0m \u001b[1m0s\u001b[0m 16ms/step - loss: 0.2118 - mae: 0.5057 - val_loss: 0.2047 - val_mae: 0.5304 - learning_rate: 0.0050\n",
      "Epoch 7/200\n",
      "\u001b[1m10/10\u001b[0m \u001b[32m━━━━━━━━━━━━━━━━━━━━\u001b[0m\u001b[37m\u001b[0m \u001b[1m0s\u001b[0m 16ms/step - loss: 0.1905 - mae: 0.4760 - val_loss: 0.1951 - val_mae: 0.5094 - learning_rate: 0.0050\n",
      "Epoch 8/200\n",
      "\u001b[1m10/10\u001b[0m \u001b[32m━━━━━━━━━━━━━━━━━━━━\u001b[0m\u001b[37m\u001b[0m \u001b[1m0s\u001b[0m 14ms/step - loss: 0.1799 - mae: 0.4587 - val_loss: 0.1647 - val_mae: 0.4570 - learning_rate: 0.0050\n",
      "Epoch 9/200\n",
      "\u001b[1m10/10\u001b[0m \u001b[32m━━━━━━━━━━━━━━━━━━━━\u001b[0m\u001b[37m\u001b[0m \u001b[1m0s\u001b[0m 16ms/step - loss: 0.1275 - mae: 0.3918 - val_loss: 0.1783 - val_mae: 0.4835 - learning_rate: 0.0050\n",
      "Epoch 10/200\n",
      "\u001b[1m10/10\u001b[0m \u001b[32m━━━━━━━━━━━━━━━━━━━━\u001b[0m\u001b[37m\u001b[0m \u001b[1m0s\u001b[0m 12ms/step - loss: 0.1677 - mae: 0.4481 - val_loss: 0.1639 - val_mae: 0.4649 - learning_rate: 0.0050\n",
      "Epoch 11/200\n",
      "\u001b[1m10/10\u001b[0m \u001b[32m━━━━━━━━━━━━━━━━━━━━\u001b[0m\u001b[37m\u001b[0m \u001b[1m0s\u001b[0m 17ms/step - loss: 0.1439 - mae: 0.4107 - val_loss: 0.1551 - val_mae: 0.4449 - learning_rate: 0.0050\n",
      "Epoch 12/200\n",
      "\u001b[1m10/10\u001b[0m \u001b[32m━━━━━━━━━━━━━━━━━━━━\u001b[0m\u001b[37m\u001b[0m \u001b[1m0s\u001b[0m 13ms/step - loss: 0.1284 - mae: 0.3901 - val_loss: 0.1468 - val_mae: 0.4198 - learning_rate: 0.0050\n",
      "Epoch 13/200\n",
      "\u001b[1m10/10\u001b[0m \u001b[32m━━━━━━━━━━━━━━━━━━━━\u001b[0m\u001b[37m\u001b[0m \u001b[1m0s\u001b[0m 13ms/step - loss: 0.1284 - mae: 0.3746 - val_loss: 0.1416 - val_mae: 0.4169 - learning_rate: 0.0050\n",
      "Epoch 14/200\n",
      "\u001b[1m10/10\u001b[0m \u001b[32m━━━━━━━━━━━━━━━━━━━━\u001b[0m\u001b[37m\u001b[0m \u001b[1m0s\u001b[0m 15ms/step - loss: 0.1027 - mae: 0.3488 - val_loss: 0.1353 - val_mae: 0.4112 - learning_rate: 0.0050\n",
      "Epoch 15/200\n",
      "\u001b[1m10/10\u001b[0m \u001b[32m━━━━━━━━━━━━━━━━━━━━\u001b[0m\u001b[37m\u001b[0m \u001b[1m0s\u001b[0m 13ms/step - loss: 0.1075 - mae: 0.3469 - val_loss: 0.1211 - val_mae: 0.3821 - learning_rate: 0.0050\n",
      "Epoch 16/200\n",
      "\u001b[1m10/10\u001b[0m \u001b[32m━━━━━━━━━━━━━━━━━━━━\u001b[0m\u001b[37m\u001b[0m \u001b[1m0s\u001b[0m 16ms/step - loss: 0.1143 - mae: 0.3590 - val_loss: 0.1282 - val_mae: 0.3922 - learning_rate: 0.0050\n",
      "Epoch 17/200\n",
      "\u001b[1m10/10\u001b[0m \u001b[32m━━━━━━━━━━━━━━━━━━━━\u001b[0m\u001b[37m\u001b[0m \u001b[1m0s\u001b[0m 13ms/step - loss: 0.1094 - mae: 0.3522 - val_loss: 0.1135 - val_mae: 0.3643 - learning_rate: 0.0050\n",
      "Epoch 18/200\n",
      "\u001b[1m10/10\u001b[0m \u001b[32m━━━━━━━━━━━━━━━━━━━━\u001b[0m\u001b[37m\u001b[0m \u001b[1m0s\u001b[0m 12ms/step - loss: 0.0981 - mae: 0.3342 - val_loss: 0.1176 - val_mae: 0.3676 - learning_rate: 0.0050\n",
      "Epoch 19/200\n",
      "\u001b[1m10/10\u001b[0m \u001b[32m━━━━━━━━━━━━━━━━━━━━\u001b[0m\u001b[37m\u001b[0m \u001b[1m0s\u001b[0m 12ms/step - loss: 0.0979 - mae: 0.3187 - val_loss: 0.1213 - val_mae: 0.3790 - learning_rate: 0.0050\n",
      "Epoch 20/200\n",
      "\u001b[1m10/10\u001b[0m \u001b[32m━━━━━━━━━━━━━━━━━━━━\u001b[0m\u001b[37m\u001b[0m \u001b[1m0s\u001b[0m 13ms/step - loss: 0.0998 - mae: 0.3340 - val_loss: 0.1322 - val_mae: 0.4021 - learning_rate: 0.0050\n",
      "Epoch 21/200\n",
      "\u001b[1m10/10\u001b[0m \u001b[32m━━━━━━━━━━━━━━━━━━━━\u001b[0m\u001b[37m\u001b[0m \u001b[1m0s\u001b[0m 13ms/step - loss: 0.0968 - mae: 0.3347 - val_loss: 0.1106 - val_mae: 0.3582 - learning_rate: 0.0050\n",
      "Epoch 22/200\n",
      "\u001b[1m10/10\u001b[0m \u001b[32m━━━━━━━━━━━━━━━━━━━━\u001b[0m\u001b[37m\u001b[0m \u001b[1m0s\u001b[0m 13ms/step - loss: 0.0924 - mae: 0.3285 - val_loss: 0.1017 - val_mae: 0.3366 - learning_rate: 0.0050\n",
      "Epoch 23/200\n",
      "\u001b[1m10/10\u001b[0m \u001b[32m━━━━━━━━━━━━━━━━━━━━\u001b[0m\u001b[37m\u001b[0m \u001b[1m0s\u001b[0m 17ms/step - loss: 0.1111 - mae: 0.3489 - val_loss: 0.1139 - val_mae: 0.3646 - learning_rate: 0.0050\n",
      "Epoch 24/200\n",
      "\u001b[1m10/10\u001b[0m \u001b[32m━━━━━━━━━━━━━━━━━━━━\u001b[0m\u001b[37m\u001b[0m \u001b[1m0s\u001b[0m 12ms/step - loss: 0.1063 - mae: 0.3462 - val_loss: 0.0982 - val_mae: 0.3299 - learning_rate: 0.0050\n",
      "Epoch 25/200\n",
      "\u001b[1m10/10\u001b[0m \u001b[32m━━━━━━━━━━━━━━━━━━━━\u001b[0m\u001b[37m\u001b[0m \u001b[1m0s\u001b[0m 13ms/step - loss: 0.0971 - mae: 0.3276 - val_loss: 0.1107 - val_mae: 0.3564 - learning_rate: 0.0050\n",
      "Epoch 26/200\n",
      "\u001b[1m10/10\u001b[0m \u001b[32m━━━━━━━━━━━━━━━━━━━━\u001b[0m\u001b[37m\u001b[0m \u001b[1m0s\u001b[0m 12ms/step - loss: 0.0933 - mae: 0.3331 - val_loss: 0.0973 - val_mae: 0.3301 - learning_rate: 0.0050\n",
      "Epoch 27/200\n",
      "\u001b[1m10/10\u001b[0m \u001b[32m━━━━━━━━━━━━━━━━━━━━\u001b[0m\u001b[37m\u001b[0m \u001b[1m0s\u001b[0m 12ms/step - loss: 0.0841 - mae: 0.3069 - val_loss: 0.0887 - val_mae: 0.3178 - learning_rate: 0.0050\n",
      "Epoch 28/200\n",
      "\u001b[1m10/10\u001b[0m \u001b[32m━━━━━━━━━━━━━━━━━━━━\u001b[0m\u001b[37m\u001b[0m \u001b[1m0s\u001b[0m 12ms/step - loss: 0.0954 - mae: 0.3236 - val_loss: 0.0955 - val_mae: 0.3297 - learning_rate: 0.0050\n",
      "Epoch 29/200\n",
      "\u001b[1m10/10\u001b[0m \u001b[32m━━━━━━━━━━━━━━━━━━━━\u001b[0m\u001b[37m\u001b[0m \u001b[1m0s\u001b[0m 12ms/step - loss: 0.0828 - mae: 0.3048 - val_loss: 0.0932 - val_mae: 0.3192 - learning_rate: 0.0050\n",
      "Epoch 30/200\n",
      "\u001b[1m10/10\u001b[0m \u001b[32m━━━━━━━━━━━━━━━━━━━━\u001b[0m\u001b[37m\u001b[0m \u001b[1m0s\u001b[0m 12ms/step - loss: 0.0855 - mae: 0.3086 - val_loss: 0.0925 - val_mae: 0.3198 - learning_rate: 0.0050\n",
      "Epoch 31/200\n",
      "\u001b[1m10/10\u001b[0m \u001b[32m━━━━━━━━━━━━━━━━━━━━\u001b[0m\u001b[37m\u001b[0m \u001b[1m0s\u001b[0m 12ms/step - loss: 0.0851 - mae: 0.2976 - val_loss: 0.0929 - val_mae: 0.3217 - learning_rate: 0.0050\n",
      "Epoch 32/200\n",
      "\u001b[1m10/10\u001b[0m \u001b[32m━━━━━━━━━━━━━━━━━━━━\u001b[0m\u001b[37m\u001b[0m \u001b[1m0s\u001b[0m 13ms/step - loss: 0.0779 - mae: 0.2957 - val_loss: 0.0828 - val_mae: 0.3031 - learning_rate: 0.0050\n",
      "Epoch 33/200\n",
      "\u001b[1m10/10\u001b[0m \u001b[32m━━━━━━━━━━━━━━━━━━━━\u001b[0m\u001b[37m\u001b[0m \u001b[1m0s\u001b[0m 14ms/step - loss: 0.0885 - mae: 0.3102 - val_loss: 0.0765 - val_mae: 0.2887 - learning_rate: 0.0050\n",
      "Epoch 34/200\n",
      "\u001b[1m10/10\u001b[0m \u001b[32m━━━━━━━━━━━━━━━━━━━━\u001b[0m\u001b[37m\u001b[0m \u001b[1m0s\u001b[0m 13ms/step - loss: 0.0823 - mae: 0.3001 - val_loss: 0.0822 - val_mae: 0.2957 - learning_rate: 0.0050\n",
      "Epoch 35/200\n",
      "\u001b[1m10/10\u001b[0m \u001b[32m━━━━━━━━━━━━━━━━━━━━\u001b[0m\u001b[37m\u001b[0m \u001b[1m0s\u001b[0m 13ms/step - loss: 0.0703 - mae: 0.2866 - val_loss: 0.0791 - val_mae: 0.2779 - learning_rate: 0.0050\n",
      "Epoch 36/200\n",
      "\u001b[1m10/10\u001b[0m \u001b[32m━━━━━━━━━━━━━━━━━━━━\u001b[0m\u001b[37m\u001b[0m \u001b[1m0s\u001b[0m 12ms/step - loss: 0.0809 - mae: 0.2910 - val_loss: 0.0831 - val_mae: 0.3023 - learning_rate: 0.0050\n",
      "Epoch 37/200\n",
      "\u001b[1m10/10\u001b[0m \u001b[32m━━━━━━━━━━━━━━━━━━━━\u001b[0m\u001b[37m\u001b[0m \u001b[1m0s\u001b[0m 13ms/step - loss: 0.0841 - mae: 0.3154 - val_loss: 0.0742 - val_mae: 0.2817 - learning_rate: 0.0050\n",
      "Epoch 38/200\n",
      "\u001b[1m10/10\u001b[0m \u001b[32m━━━━━━━━━━━━━━━━━━━━\u001b[0m\u001b[37m\u001b[0m \u001b[1m0s\u001b[0m 19ms/step - loss: 0.0783 - mae: 0.2874 - val_loss: 0.0706 - val_mae: 0.2705 - learning_rate: 0.0050\n",
      "Epoch 39/200\n",
      "\u001b[1m10/10\u001b[0m \u001b[32m━━━━━━━━━━━━━━━━━━━━\u001b[0m\u001b[37m\u001b[0m \u001b[1m0s\u001b[0m 22ms/step - loss: 0.0815 - mae: 0.3033 - val_loss: 0.0759 - val_mae: 0.2809 - learning_rate: 0.0050\n",
      "Epoch 40/200\n",
      "\u001b[1m10/10\u001b[0m \u001b[32m━━━━━━━━━━━━━━━━━━━━\u001b[0m\u001b[37m\u001b[0m \u001b[1m0s\u001b[0m 18ms/step - loss: 0.0778 - mae: 0.2947 - val_loss: 0.0741 - val_mae: 0.2700 - learning_rate: 0.0050\n",
      "Epoch 41/200\n",
      "\u001b[1m10/10\u001b[0m \u001b[32m━━━━━━━━━━━━━━━━━━━━\u001b[0m\u001b[37m\u001b[0m \u001b[1m0s\u001b[0m 19ms/step - loss: 0.0829 - mae: 0.2977 - val_loss: 0.0792 - val_mae: 0.2948 - learning_rate: 0.0050\n",
      "Epoch 42/200\n",
      "\u001b[1m10/10\u001b[0m \u001b[32m━━━━━━━━━━━━━━━━━━━━\u001b[0m\u001b[37m\u001b[0m \u001b[1m0s\u001b[0m 21ms/step - loss: 0.0815 - mae: 0.2941 - val_loss: 0.0669 - val_mae: 0.2651 - learning_rate: 0.0050\n",
      "Epoch 43/200\n",
      "\u001b[1m10/10\u001b[0m \u001b[32m━━━━━━━━━━━━━━━━━━━━\u001b[0m\u001b[37m\u001b[0m \u001b[1m0s\u001b[0m 21ms/step - loss: 0.0727 - mae: 0.2830 - val_loss: 0.0728 - val_mae: 0.2739 - learning_rate: 0.0050\n",
      "Epoch 44/200\n",
      "\u001b[1m10/10\u001b[0m \u001b[32m━━━━━━━━━━━━━━━━━━━━\u001b[0m\u001b[37m\u001b[0m \u001b[1m0s\u001b[0m 23ms/step - loss: 0.0722 - mae: 0.2962 - val_loss: 0.0672 - val_mae: 0.2536 - learning_rate: 0.0050\n",
      "Epoch 45/200\n",
      "\u001b[1m10/10\u001b[0m \u001b[32m━━━━━━━━━━━━━━━━━━━━\u001b[0m\u001b[37m\u001b[0m \u001b[1m0s\u001b[0m 20ms/step - loss: 0.0734 - mae: 0.2929 - val_loss: 0.0635 - val_mae: 0.2560 - learning_rate: 0.0050\n",
      "Epoch 46/200\n",
      "\u001b[1m10/10\u001b[0m \u001b[32m━━━━━━━━━━━━━━━━━━━━\u001b[0m\u001b[37m\u001b[0m \u001b[1m0s\u001b[0m 22ms/step - loss: 0.0706 - mae: 0.2915 - val_loss: 0.0620 - val_mae: 0.2542 - learning_rate: 0.0050\n",
      "Epoch 47/200\n",
      "\u001b[1m10/10\u001b[0m \u001b[32m━━━━━━━━━━━━━━━━━━━━\u001b[0m\u001b[37m\u001b[0m \u001b[1m0s\u001b[0m 23ms/step - loss: 0.0756 - mae: 0.2818 - val_loss: 0.0643 - val_mae: 0.2563 - learning_rate: 0.0050\n",
      "Epoch 48/200\n",
      "\u001b[1m10/10\u001b[0m \u001b[32m━━━━━━━━━━━━━━━━━━━━\u001b[0m\u001b[37m\u001b[0m \u001b[1m0s\u001b[0m 18ms/step - loss: 0.0715 - mae: 0.2821 - val_loss: 0.0664 - val_mae: 0.2641 - learning_rate: 0.0050\n",
      "Epoch 49/200\n",
      "\u001b[1m10/10\u001b[0m \u001b[32m━━━━━━━━━━━━━━━━━━━━\u001b[0m\u001b[37m\u001b[0m \u001b[1m0s\u001b[0m 14ms/step - loss: 0.0693 - mae: 0.2792 - val_loss: 0.0651 - val_mae: 0.2600 - learning_rate: 0.0050\n",
      "Epoch 50/200\n",
      "\u001b[1m10/10\u001b[0m \u001b[32m━━━━━━━━━━━━━━━━━━━━\u001b[0m\u001b[37m\u001b[0m \u001b[1m0s\u001b[0m 15ms/step - loss: 0.0662 - mae: 0.2638 - val_loss: 0.0669 - val_mae: 0.2742 - learning_rate: 0.0050\n",
      "Epoch 51/200\n",
      "\u001b[1m10/10\u001b[0m \u001b[32m━━━━━━━━━━━━━━━━━━━━\u001b[0m\u001b[37m\u001b[0m \u001b[1m0s\u001b[0m 13ms/step - loss: 0.0874 - mae: 0.3059 - val_loss: 0.0626 - val_mae: 0.2575 - learning_rate: 0.0050\n",
      "Epoch 52/200\n",
      "\u001b[1m10/10\u001b[0m \u001b[32m━━━━━━━━━━━━━━━━━━━━\u001b[0m\u001b[37m\u001b[0m \u001b[1m0s\u001b[0m 17ms/step - loss: 0.0770 - mae: 0.2877 - val_loss: 0.0628 - val_mae: 0.2545 - learning_rate: 0.0050\n",
      "Epoch 53/200\n",
      "\u001b[1m10/10\u001b[0m \u001b[32m━━━━━━━━━━━━━━━━━━━━\u001b[0m\u001b[37m\u001b[0m \u001b[1m0s\u001b[0m 13ms/step - loss: 0.0719 - mae: 0.2845 - val_loss: 0.0620 - val_mae: 0.2518 - learning_rate: 0.0050\n",
      "Epoch 54/200\n",
      "\u001b[1m10/10\u001b[0m \u001b[32m━━━━━━━━━━━━━━━━━━━━\u001b[0m\u001b[37m\u001b[0m \u001b[1m0s\u001b[0m 13ms/step - loss: 0.0586 - mae: 0.2524 - val_loss: 0.0648 - val_mae: 0.2547 - learning_rate: 0.0050\n",
      "Epoch 55/200\n",
      "\u001b[1m10/10\u001b[0m \u001b[32m━━━━━━━━━━━━━━━━━━━━\u001b[0m\u001b[37m\u001b[0m \u001b[1m0s\u001b[0m 12ms/step - loss: 0.0730 - mae: 0.2799 - val_loss: 0.0643 - val_mae: 0.2543 - learning_rate: 0.0050\n",
      "Epoch 56/200\n",
      "\u001b[1m10/10\u001b[0m \u001b[32m━━━━━━━━━━━━━━━━━━━━\u001b[0m\u001b[37m\u001b[0m \u001b[1m0s\u001b[0m 12ms/step - loss: 0.0787 - mae: 0.2884 - val_loss: 0.0604 - val_mae: 0.2445 - learning_rate: 0.0050\n",
      "Epoch 57/200\n",
      "\u001b[1m10/10\u001b[0m \u001b[32m━━━━━━━━━━━━━━━━━━━━\u001b[0m\u001b[37m\u001b[0m \u001b[1m0s\u001b[0m 12ms/step - loss: 0.0786 - mae: 0.2882 - val_loss: 0.0622 - val_mae: 0.2475 - learning_rate: 0.0050\n",
      "Epoch 58/200\n",
      "\u001b[1m10/10\u001b[0m \u001b[32m━━━━━━━━━━━━━━━━━━━━\u001b[0m\u001b[37m\u001b[0m \u001b[1m0s\u001b[0m 12ms/step - loss: 0.0602 - mae: 0.2556 - val_loss: 0.0624 - val_mae: 0.2469 - learning_rate: 0.0050\n",
      "Epoch 59/200\n",
      "\u001b[1m10/10\u001b[0m \u001b[32m━━━━━━━━━━━━━━━━━━━━\u001b[0m\u001b[37m\u001b[0m \u001b[1m0s\u001b[0m 13ms/step - loss: 0.0801 - mae: 0.2956 - val_loss: 0.0585 - val_mae: 0.2445 - learning_rate: 0.0050\n",
      "Epoch 60/200\n",
      "\u001b[1m10/10\u001b[0m \u001b[32m━━━━━━━━━━━━━━━━━━━━\u001b[0m\u001b[37m\u001b[0m \u001b[1m0s\u001b[0m 12ms/step - loss: 0.0666 - mae: 0.2701 - val_loss: 0.0576 - val_mae: 0.2431 - learning_rate: 0.0050\n",
      "Epoch 61/200\n",
      "\u001b[1m10/10\u001b[0m \u001b[32m━━━━━━━━━━━━━━━━━━━━\u001b[0m\u001b[37m\u001b[0m \u001b[1m0s\u001b[0m 16ms/step - loss: 0.0722 - mae: 0.2815 - val_loss: 0.0632 - val_mae: 0.2527 - learning_rate: 0.0050\n",
      "Epoch 62/200\n",
      "\u001b[1m10/10\u001b[0m \u001b[32m━━━━━━━━━━━━━━━━━━━━\u001b[0m\u001b[37m\u001b[0m \u001b[1m0s\u001b[0m 12ms/step - loss: 0.0723 - mae: 0.2804 - val_loss: 0.0652 - val_mae: 0.2569 - learning_rate: 0.0050\n",
      "Epoch 63/200\n",
      "\u001b[1m10/10\u001b[0m \u001b[32m━━━━━━━━━━━━━━━━━━━━\u001b[0m\u001b[37m\u001b[0m \u001b[1m0s\u001b[0m 17ms/step - loss: 0.0607 - mae: 0.2638 - val_loss: 0.0641 - val_mae: 0.2530 - learning_rate: 0.0050\n",
      "Epoch 64/200\n",
      "\u001b[1m10/10\u001b[0m \u001b[32m━━━━━━━━━━━━━━━━━━━━\u001b[0m\u001b[37m\u001b[0m \u001b[1m0s\u001b[0m 18ms/step - loss: 0.0759 - mae: 0.2904 - val_loss: 0.0656 - val_mae: 0.2547 - learning_rate: 0.0050\n",
      "Epoch 65/200\n",
      "\u001b[1m10/10\u001b[0m \u001b[32m━━━━━━━━━━━━━━━━━━━━\u001b[0m\u001b[37m\u001b[0m \u001b[1m0s\u001b[0m 13ms/step - loss: 0.0730 - mae: 0.2831 - val_loss: 0.0667 - val_mae: 0.2624 - learning_rate: 0.0050\n",
      "Epoch 66/200\n",
      "\u001b[1m10/10\u001b[0m \u001b[32m━━━━━━━━━━━━━━━━━━━━\u001b[0m\u001b[37m\u001b[0m \u001b[1m0s\u001b[0m 13ms/step - loss: 0.0705 - mae: 0.2838 - val_loss: 0.0615 - val_mae: 0.2605 - learning_rate: 0.0050\n",
      "Epoch 67/200\n",
      "\u001b[1m10/10\u001b[0m \u001b[32m━━━━━━━━━━━━━━━━━━━━\u001b[0m\u001b[37m\u001b[0m \u001b[1m0s\u001b[0m 13ms/step - loss: 0.0598 - mae: 0.2514 - val_loss: 0.0644 - val_mae: 0.2539 - learning_rate: 0.0050\n",
      "Epoch 68/200\n",
      "\u001b[1m10/10\u001b[0m \u001b[32m━━━━━━━━━━━━━━━━━━━━\u001b[0m\u001b[37m\u001b[0m \u001b[1m0s\u001b[0m 12ms/step - loss: 0.0684 - mae: 0.2815 - val_loss: 0.0611 - val_mae: 0.2490 - learning_rate: 0.0050\n",
      "Epoch 69/200\n",
      "\u001b[1m10/10\u001b[0m \u001b[32m━━━━━━━━━━━━━━━━━━━━\u001b[0m\u001b[37m\u001b[0m \u001b[1m0s\u001b[0m 14ms/step - loss: 0.0646 - mae: 0.2745 - val_loss: 0.0578 - val_mae: 0.2459 - learning_rate: 0.0050\n",
      "Epoch 70/200\n",
      "\u001b[1m10/10\u001b[0m \u001b[32m━━━━━━━━━━━━━━━━━━━━\u001b[0m\u001b[37m\u001b[0m \u001b[1m0s\u001b[0m 17ms/step - loss: 0.0636 - mae: 0.2760 - val_loss: 0.0549 - val_mae: 0.2381 - learning_rate: 0.0050\n",
      "Epoch 71/200\n",
      "\u001b[1m10/10\u001b[0m \u001b[32m━━━━━━━━━━━━━━━━━━━━\u001b[0m\u001b[37m\u001b[0m \u001b[1m0s\u001b[0m 13ms/step - loss: 0.0660 - mae: 0.2679 - val_loss: 0.0571 - val_mae: 0.2386 - learning_rate: 0.0050\n",
      "Epoch 72/200\n",
      "\u001b[1m10/10\u001b[0m \u001b[32m━━━━━━━━━━━━━━━━━━━━\u001b[0m\u001b[37m\u001b[0m \u001b[1m0s\u001b[0m 12ms/step - loss: 0.0735 - mae: 0.2891 - val_loss: 0.0641 - val_mae: 0.2595 - learning_rate: 0.0050\n",
      "Epoch 73/200\n",
      "\u001b[1m10/10\u001b[0m \u001b[32m━━━━━━━━━━━━━━━━━━━━\u001b[0m\u001b[37m\u001b[0m \u001b[1m0s\u001b[0m 12ms/step - loss: 0.0665 - mae: 0.2810 - val_loss: 0.0643 - val_mae: 0.2625 - learning_rate: 0.0050\n",
      "Epoch 74/200\n",
      "\u001b[1m10/10\u001b[0m \u001b[32m━━━━━━━━━━━━━━━━━━━━\u001b[0m\u001b[37m\u001b[0m \u001b[1m0s\u001b[0m 13ms/step - loss: 0.0640 - mae: 0.2657 - val_loss: 0.0728 - val_mae: 0.2770 - learning_rate: 0.0050\n",
      "Epoch 75/200\n",
      "\u001b[1m10/10\u001b[0m \u001b[32m━━━━━━━━━━━━━━━━━━━━\u001b[0m\u001b[37m\u001b[0m \u001b[1m0s\u001b[0m 13ms/step - loss: 0.0749 - mae: 0.2870 - val_loss: 0.0691 - val_mae: 0.2669 - learning_rate: 0.0050\n",
      "Epoch 76/200\n",
      "\u001b[1m10/10\u001b[0m \u001b[32m━━━━━━━━━━━━━━━━━━━━\u001b[0m\u001b[37m\u001b[0m \u001b[1m0s\u001b[0m 12ms/step - loss: 0.0793 - mae: 0.3006 - val_loss: 0.0640 - val_mae: 0.2639 - learning_rate: 0.0050\n",
      "Epoch 77/200\n",
      "\u001b[1m10/10\u001b[0m \u001b[32m━━━━━━━━━━━━━━━━━━━━\u001b[0m\u001b[37m\u001b[0m \u001b[1m0s\u001b[0m 16ms/step - loss: 0.0613 - mae: 0.2705 - val_loss: 0.0683 - val_mae: 0.2715 - learning_rate: 0.0050\n",
      "Epoch 78/200\n",
      "\u001b[1m10/10\u001b[0m \u001b[32m━━━━━━━━━━━━━━━━━━━━\u001b[0m\u001b[37m\u001b[0m \u001b[1m0s\u001b[0m 12ms/step - loss: 0.0614 - mae: 0.2516 - val_loss: 0.0640 - val_mae: 0.2598 - learning_rate: 0.0050\n",
      "Epoch 79/200\n",
      "\u001b[1m10/10\u001b[0m \u001b[32m━━━━━━━━━━━━━━━━━━━━\u001b[0m\u001b[37m\u001b[0m \u001b[1m0s\u001b[0m 16ms/step - loss: 0.0647 - mae: 0.2663 - val_loss: 0.0607 - val_mae: 0.2544 - learning_rate: 0.0050\n",
      "Epoch 80/200\n",
      "\u001b[1m 1/10\u001b[0m \u001b[32m━━\u001b[0m\u001b[37m━━━━━━━━━━━━━━━━━━\u001b[0m \u001b[1m1s\u001b[0m 153ms/step - loss: 0.0510 - mae: 0.2395\n",
      "Epoch 80: ReduceLROnPlateau reducing learning rate to 0.0009999999776482583.\n",
      "\u001b[1m10/10\u001b[0m \u001b[32m━━━━━━━━━━━━━━━━━━━━\u001b[0m\u001b[37m\u001b[0m \u001b[1m0s\u001b[0m 12ms/step - loss: 0.0603 - mae: 0.2574 - val_loss: 0.0609 - val_mae: 0.2555 - learning_rate: 0.0050\n",
      "Epoch 81/200\n",
      "\u001b[1m10/10\u001b[0m \u001b[32m━━━━━━━━━━━━━━━━━━━━\u001b[0m\u001b[37m\u001b[0m \u001b[1m0s\u001b[0m 13ms/step - loss: 0.0559 - mae: 0.2518 - val_loss: 0.0590 - val_mae: 0.2518 - learning_rate: 1.0000e-03\n",
      "Epoch 82/200\n",
      "\u001b[1m10/10\u001b[0m \u001b[32m━━━━━━━━━━━━━━━━━━━━\u001b[0m\u001b[37m\u001b[0m \u001b[1m0s\u001b[0m 17ms/step - loss: 0.0575 - mae: 0.2561 - val_loss: 0.0575 - val_mae: 0.2478 - learning_rate: 1.0000e-03\n",
      "Epoch 83/200\n",
      "\u001b[1m10/10\u001b[0m \u001b[32m━━━━━━━━━━━━━━━━━━━━\u001b[0m\u001b[37m\u001b[0m \u001b[1m0s\u001b[0m 13ms/step - loss: 0.0618 - mae: 0.2613 - val_loss: 0.0565 - val_mae: 0.2428 - learning_rate: 1.0000e-03\n",
      "Epoch 84/200\n",
      "\u001b[1m10/10\u001b[0m \u001b[32m━━━━━━━━━━━━━━━━━━━━\u001b[0m\u001b[37m\u001b[0m \u001b[1m0s\u001b[0m 13ms/step - loss: 0.0549 - mae: 0.2517 - val_loss: 0.0569 - val_mae: 0.2443 - learning_rate: 1.0000e-03\n",
      "Epoch 85/200\n",
      "\u001b[1m10/10\u001b[0m \u001b[32m━━━━━━━━━━━━━━━━━━━━\u001b[0m\u001b[37m\u001b[0m \u001b[1m0s\u001b[0m 12ms/step - loss: 0.0554 - mae: 0.2506 - val_loss: 0.0563 - val_mae: 0.2426 - learning_rate: 1.0000e-03\n",
      "Epoch 86/200\n",
      "\u001b[1m10/10\u001b[0m \u001b[32m━━━━━━━━━━━━━━━━━━━━\u001b[0m\u001b[37m\u001b[0m \u001b[1m0s\u001b[0m 13ms/step - loss: 0.0700 - mae: 0.2834 - val_loss: 0.0556 - val_mae: 0.2393 - learning_rate: 1.0000e-03\n",
      "Epoch 87/200\n",
      "\u001b[1m10/10\u001b[0m \u001b[32m━━━━━━━━━━━━━━━━━━━━\u001b[0m\u001b[37m\u001b[0m \u001b[1m0s\u001b[0m 15ms/step - loss: 0.0622 - mae: 0.2644 - val_loss: 0.0579 - val_mae: 0.2476 - learning_rate: 1.0000e-03\n",
      "Epoch 88/200\n",
      "\u001b[1m10/10\u001b[0m \u001b[32m━━━━━━━━━━━━━━━━━━━━\u001b[0m\u001b[37m\u001b[0m \u001b[1m0s\u001b[0m 13ms/step - loss: 0.0530 - mae: 0.2446 - val_loss: 0.0578 - val_mae: 0.2487 - learning_rate: 1.0000e-03\n",
      "Epoch 89/200\n",
      "\u001b[1m10/10\u001b[0m \u001b[32m━━━━━━━━━━━━━━━━━━━━\u001b[0m\u001b[37m\u001b[0m \u001b[1m0s\u001b[0m 12ms/step - loss: 0.0550 - mae: 0.2504 - val_loss: 0.0568 - val_mae: 0.2446 - learning_rate: 1.0000e-03\n",
      "Epoch 90/200\n",
      "\u001b[1m 1/10\u001b[0m \u001b[32m━━\u001b[0m\u001b[37m━━━━━━━━━━━━━━━━━━\u001b[0m \u001b[1m0s\u001b[0m 30ms/step - loss: 0.0597 - mae: 0.2680\n",
      "Epoch 90: ReduceLROnPlateau reducing learning rate to 0.0001999999862164259.\n",
      "\u001b[1m10/10\u001b[0m \u001b[32m━━━━━━━━━━━━━━━━━━━━\u001b[0m\u001b[37m\u001b[0m \u001b[1m0s\u001b[0m 12ms/step - loss: 0.0507 - mae: 0.2395 - val_loss: 0.0567 - val_mae: 0.2428 - learning_rate: 1.0000e-03\n",
      "Epoch 91/200\n",
      "\u001b[1m10/10\u001b[0m \u001b[32m━━━━━━━━━━━━━━━━━━━━\u001b[0m\u001b[37m\u001b[0m \u001b[1m0s\u001b[0m 13ms/step - loss: 0.0599 - mae: 0.2627 - val_loss: 0.0567 - val_mae: 0.2431 - learning_rate: 2.0000e-04\n",
      "Epoch 92/200\n",
      "\u001b[1m10/10\u001b[0m \u001b[32m━━━━━━━━━━━━━━━━━━━━\u001b[0m\u001b[37m\u001b[0m \u001b[1m0s\u001b[0m 18ms/step - loss: 0.0619 - mae: 0.2690 - val_loss: 0.0571 - val_mae: 0.2449 - learning_rate: 2.0000e-04\n",
      "Epoch 93/200\n",
      "\u001b[1m10/10\u001b[0m \u001b[32m━━━━━━━━━━━━━━━━━━━━\u001b[0m\u001b[37m\u001b[0m \u001b[1m0s\u001b[0m 17ms/step - loss: 0.0684 - mae: 0.2828 - val_loss: 0.0571 - val_mae: 0.2459 - learning_rate: 2.0000e-04\n",
      "Epoch 94/200\n",
      "\u001b[1m10/10\u001b[0m \u001b[32m━━━━━━━━━━━━━━━━━━━━\u001b[0m\u001b[37m\u001b[0m \u001b[1m0s\u001b[0m 13ms/step - loss: 0.0574 - mae: 0.2489 - val_loss: 0.0568 - val_mae: 0.2455 - learning_rate: 2.0000e-04\n",
      "Epoch 95/200\n",
      "\u001b[1m10/10\u001b[0m \u001b[32m━━━━━━━━━━━━━━━━━━━━\u001b[0m\u001b[37m\u001b[0m \u001b[1m0s\u001b[0m 13ms/step - loss: 0.0540 - mae: 0.2446 - val_loss: 0.0570 - val_mae: 0.2461 - learning_rate: 2.0000e-04\n"
     ]
    }
   ],
   "source": [
    "batch_size = 64\n",
    "early_stop = EarlyStopping(monitor='val_mae', patience=25, restore_best_weights=True)\n",
    "reduce_lr = ReduceLROnPlateau(\n",
    "    monitor='val_mae',\n",
    "    factor=0.2,         # Reduce LR by 50%\n",
    "    patience=10,         # Wait 5 epochs w/o improvement before reducing LR\n",
    "    min_lr=1e-4,        # Smallest allowed LR\n",
    "    verbose=1           # Print a message when LR changes\n",
    ")\n",
    "history = model.fit(X_train_scaled, y_train_scaled,\n",
    "                    validation_data=(X_test_scaled, y_test_scaled),\n",
    "                    epochs=200,\n",
    "                    batch_size=batch_size,\n",
    "                    verbose=1,\n",
    "                    callbacks=[reduce_lr, early_stop])\n",
    "\n",
    "\n",
    "# model.fit(X_train_scaled, y_train_scaled, batch_size=batch_size,steps_per_epoch=steps_per_epoch, epochs=10)"
   ]
  },
  {
   "cell_type": "markdown",
   "metadata": {
    "id": "ENFD-Lmqfx9e"
   },
   "source": [
    "##### Making Predictions with our model"
   ]
  },
  {
   "cell_type": "markdown",
   "metadata": {
    "id": "tTHneo5Uf-0H"
   },
   "source": [
    "Evaluating model"
   ]
  },
  {
   "cell_type": "code",
   "execution_count": 909,
   "metadata": {
    "colab": {
     "base_uri": "https://localhost:8080/"
    },
    "executionInfo": {
     "elapsed": 442,
     "status": "ok",
     "timestamp": 1747062666855,
     "user": {
      "displayName": "Elijah Sinclair",
      "userId": "03784279658536308242"
     },
     "user_tz": 240
    },
    "id": "QWoywlLtbIEw",
    "outputId": "66e7805f-eb64-4856-e2b5-82b2193cd855"
   },
   "outputs": [
    {
     "name": "stdout",
     "output_type": "stream",
     "text": [
      "\u001b[1m5/5\u001b[0m \u001b[32m━━━━━━━━━━━━━━━━━━━━\u001b[0m\u001b[37m\u001b[0m \u001b[1m0s\u001b[0m 31ms/step\n",
      "Test MAE: 0.2381\n",
      "Official Test MAE (USD): ±$84.66\n",
      "Mean Absolute Percentage Error: 0.17\n"
     ]
    }
   ],
   "source": [
    "# Get your scaled test predictions\n",
    "y_pred_scaled = model.predict(X_test_scaled)\n",
    "\n",
    "# Inverse transform BOTH predictions and true values\n",
    "y_pred_dollars = scaler_y.inverse_transform(y_pred_scaled).flatten()\n",
    "y_true_dollars = scaler_y.inverse_transform(y_test_scaled).flatten()\n",
    "\n",
    "# Calculate MAE in original dollars\n",
    "test_loss, test_mae = model.evaluate(X_test_scaled, y_test_scaled, verbose=0)\n",
    "print(f\"Test MAE: {test_mae:.4f}\")\n",
    "mae_dollars = mean_absolute_error(y_true_dollars, y_pred_dollars)\n",
    "\n",
    "print(f\"Official Test MAE (USD): ±${mae_dollars:.2f}\")\n",
    "print(f'Mean Absolute Percentage Error: {mean_absolute_percentage_error(y_true_dollars, y_pred_dollars):.2f}')"
   ]
  },
  {
   "cell_type": "markdown",
   "metadata": {
    "id": "pdXUbXVIPiMO"
   },
   "source": [
    "Bias Check"
   ]
  },
  {
   "cell_type": "code",
   "execution_count": 910,
   "metadata": {
    "colab": {
     "base_uri": "https://localhost:8080/",
     "height": 489
    },
    "executionInfo": {
     "elapsed": 532,
     "status": "ok",
     "timestamp": 1747062667395,
     "user": {
      "displayName": "Elijah Sinclair",
      "userId": "03784279658536308242"
     },
     "user_tz": 240
    },
    "id": "TIedZ4GbPhlm",
    "outputId": "302e4f11-491c-4119-d06b-dfe1afba5fa6"
   },
   "outputs": [
    {
     "name": "stdout",
     "output_type": "stream",
     "text": [
      "\u001b[1m5/5\u001b[0m \u001b[32m━━━━━━━━━━━━━━━━━━━━\u001b[0m\u001b[37m\u001b[0m \u001b[1m0s\u001b[0m 9ms/step \n"
     ]
    },
    {
     "data": {
      "text/plain": [
       "Text(0.5, 1.0, 'Error Distribution')"
      ]
     },
     "execution_count": 910,
     "metadata": {},
     "output_type": "execute_result"
    },
    {
     "data": {
      "image/png": "[encoded data removed]",
      "text/plain": [
       "<Figure size 640x480 with 1 Axes>"
      ]
     },
     "metadata": {},
     "output_type": "display_data"
    }
   ],
   "source": [
    "predictions = model.predict(X_test_scaled)\n",
    "errors = y_test - predictions.flatten()\n",
    "plt.hist(errors, bins=30)\n",
    "plt.title(\"Error Distribution\")"
   ]
  },
  {
   "cell_type": "code",
   "execution_count": 911,
   "metadata": {
    "colab": {
     "base_uri": "https://localhost:8080/"
    },
    "executionInfo": {
     "elapsed": 157,
     "status": "ok",
     "timestamp": 1747062667554,
     "user": {
      "displayName": "Elijah Sinclair",
      "userId": "03784279658536308242"
     },
     "user_tz": 240
    },
    "id": "D7tJhaa2f9of",
    "outputId": "3749ce36-a38b-4417-f67c-2cc83a4afb01"
   },
   "outputs": [
    {
     "name": "stdout",
     "output_type": "stream",
     "text": [
      "\u001b[1m5/5\u001b[0m \u001b[32m━━━━━━━━━━━━━━━━━━━━\u001b[0m\u001b[37m\u001b[0m \u001b[1m0s\u001b[0m 10ms/step\n"
     ]
    }
   ],
   "source": [
    "# Make predictions and compare with true values\n",
    "y_pred_scaled = model.predict(X_test_scaled)\n",
    "y_pred = scaler_y.inverse_transform(y_pred_scaled)"
   ]
  },
  {
   "cell_type": "markdown",
   "metadata": {
    "id": "7KGsnd6sxRpo"
   },
   "source": [
    "##Plots"
   ]
  },
  {
   "cell_type": "code",
   "execution_count": 912,
   "metadata": {
    "colab": {
     "base_uri": "https://localhost:8080/",
     "height": 452
    },
    "executionInfo": {
     "elapsed": 246,
     "status": "ok",
     "timestamp": 1747062667801,
     "user": {
      "displayName": "Elijah Sinclair",
      "userId": "03784279658536308242"
     },
     "user_tz": 240
    },
    "id": "DGgzrUMbF2fn",
    "outputId": "00d59fba-acb7-43b6-acfd-0cdb4db45de4"
   },
   "outputs": [
    {
     "data": {
      "image/png": "[encoded data removed]",
      "text/plain": [
       "<Figure size 640x480 with 1 Axes>"
      ]
     },
     "metadata": {},
     "output_type": "display_data"
    }
   ],
   "source": [
    "# Plot Loss\n",
    "plt.plot(history.history['loss'], label='Training Loss')\n",
    "plt.plot(history.history['val_loss'], label='Validation Loss')\n",
    "plt.title('Loss Over Epochs')\n",
    "plt.legend()\n",
    "plt.show()\n",
    "\n"
   ]
  },
  {
   "cell_type": "code",
   "execution_count": 913,
   "metadata": {
    "colab": {
     "base_uri": "https://localhost:8080/",
     "height": 452
    },
    "executionInfo": {
     "elapsed": 257,
     "status": "ok",
     "timestamp": 1747062668068,
     "user": {
      "displayName": "Elijah Sinclair",
      "userId": "03784279658536308242"
     },
     "user_tz": 240
    },
    "id": "Ki4qmbG881XC",
    "outputId": "970c9838-9055-40e1-d6bc-7049d6e45818"
   },
   "outputs": [
    {
     "data": {
      "image/png": "[encoded data removed]",
      "text/plain": [
       "<Figure size 640x480 with 1 Axes>"
      ]
     },
     "metadata": {},
     "output_type": "display_data"
    }
   ],
   "source": [
    "# Plot MAE\n",
    "plt.plot(history.history['mae'], label='Training MAE')\n",
    "plt.plot(history.history['val_mae'], label='Validation MAE')\n",
    "plt.title('MAE Over Epochs')\n",
    "plt.legend()\n",
    "plt.show()"
   ]
  },
  {
   "cell_type": "code",
   "execution_count": 916,
   "metadata": {
    "colab": {
     "base_uri": "https://localhost:8080/",
     "height": 493
    },
    "executionInfo": {
     "elapsed": 349,
     "status": "ok",
     "timestamp": 1747063357732,
     "user": {
      "displayName": "Elijah Sinclair",
      "userId": "03784279658536308242"
     },
     "user_tz": 240
    },
    "id": "rjdNXbIdxQ5w",
    "outputId": "5ff76ec1-bf64-42cd-889d-4f6db5780236"
   },
   "outputs": [
    {
     "data": {
      "image/png": "[encoded data removed]",
      "text/plain": [
       "<Figure size 640x480 with 1 Axes>"
      ]
     },
     "metadata": {},
     "output_type": "display_data"
    }
   ],
   "source": [
    "plt.scatter(y_test, y_pred, alpha=0.5)\n",
    "plt.plot([min(y_test), max(y_test)], [min(y_test), max(y_test)], 'r--')\n",
    "plt.xlabel(\"True Prices\")\n",
    "plt.ylabel(\"Predicted Prices\")\n",
    "plt.title(\"Mobiles Dataset (2025)\\n Feedforward Neural Network Model Predictions vs True Values\")\n",
    "plt.show()"
   ]
  },
  {
   "cell_type": "markdown",
   "metadata": {
    "id": "vwmidQMXtP3f"
   },
   "source": [
    "## a"
   ]
  },
  {
   "cell_type": "code",
   "execution_count": 915,
   "metadata": {
    "colab": {
     "base_uri": "https://localhost:8080/"
    },
    "executionInfo": {
     "elapsed": 1,
     "status": "ok",
     "timestamp": 1747062668321,
     "user": {
      "displayName": "Elijah Sinclair",
      "userId": "03784279658536308242"
     },
     "user_tz": 240
    },
    "id": "YPzzd8aprclQ",
    "outputId": "4f46223d-3ebe-4868-8d6c-7552ff1c5868"
   },
   "outputs": [
    {
     "name": "stdout",
     "output_type": "stream",
     "text": [
      "Over 30\n",
      "Avg MAE  83.63254033509678\n",
      "Avg MAPE  0.1731777385638513\n"
     ]
    }
   ],
   "source": [
    "count = count + 1\n",
    "if count > 30:\n",
    "  print('Over 30')\n",
    "  print('Avg MAE ', avg_mae/30*1.0)\n",
    "  print('Avg MAPE ', avg_mape/30*1.0)\n",
    "else:\n",
    "  print('Clount = ', count)\n",
    "  avg_mae = avg_mae + mae_dollars\n",
    "  avg_mape = avg_mape + mean_absolute_percentage_error(y_test, y_pred)"
   ]
  }
 ],
 "metadata": {
  "colab": {
   "provenance": []
  },
  "kernelspec": {
   "display_name": "Python 3",
   "name": "python3"
  },
  "language_info": {
   "name": "python"
  }
 },
 "nbformat": 4,
 "nbformat_minor": 0
}
