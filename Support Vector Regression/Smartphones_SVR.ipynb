{
  "cells": [
    {
      "cell_type": "markdown",
      "metadata": {},
      "source": [
        "# Real World Smartphones SVR"
      ]
    },
    {
      "cell_type": "markdown",
      "metadata": {},
      "source": [
        "## Libraries"
      ]
    },
    {
      "cell_type": "code",
      "execution_count": 1,
      "metadata": {},
      "outputs": [],
      "source": [
        "import pandas as pd\n",
        "from sklearn.preprocessing import TargetEncoder, StandardScaler\n",
        "from sklearn.feature_selection import mutual_info_regression, SelectKBest\n",
        "from sklearn.model_selection import train_test_split\n",
        "from sklearn.metrics import mean_absolute_error, mean_absolute_percentage_error\n",
        "from sklearn.svm import SVR\n",
        "import matplotlib.pyplot as plt"
      ]
    },
    {
      "cell_type": "markdown",
      "metadata": {
        "id": "IGE48odHQ3_8"
      },
      "source": [
        "## Preprocessing"
      ]
    },
    {
      "cell_type": "markdown",
      "metadata": {
        "id": "EUxOX7UBbUeJ"
      },
      "source": [
        "### The dataset"
      ]
    },
    {
      "cell_type": "code",
      "execution_count": 2,
      "metadata": {
        "colab": {
          "base_uri": "https://localhost:8080/"
        },
        "id": "5XgZZIdD9EWi",
        "outputId": "cee02e54-6573-4891-a459-c10695b37470"
      },
      "outputs": [
        {
          "name": "stdout",
          "output_type": "stream",
          "text": [
            "  brand_name       price  avg_rating  5G_or_not processor_brand  num_cores  \\\n",
            "0      apple  472.314400         7.3          0          bionic        6.0   \n",
            "1      apple  569.201889         7.5          0          bionic        6.0   \n",
            "2      apple  629.756570         7.4          1          bionic        6.0   \n",
            "3      apple  678.200315         7.5          1          bionic        6.0   \n",
            "4      apple  823.531549         7.6          1          bionic        6.0   \n",
            "\n",
            "   processor_speed  battery_capacity  fast_charging_available  ram_capacity  \\\n",
            "0             2.65       3110.000000                        0             4   \n",
            "1             2.65       3110.000000                        0             4   \n",
            "2             3.10       4817.748194                        0             4   \n",
            "3             3.10       4817.748194                        0             4   \n",
            "4             3.10       4817.748194                        0             4   \n",
            "\n",
            "   internal_memory  screen_size  refresh_rate  num_rear_cameras   os  \\\n",
            "0               64          6.1            60                 2  ios   \n",
            "1              128          6.1            60                 2  ios   \n",
            "2               64          6.1            60                 2  ios   \n",
            "3              128          6.1            60                 2  ios   \n",
            "4              256          6.1            60                 2  ios   \n",
            "\n",
            "   primary_camera_rear  primary_camera_front  extended_memory_available  \\\n",
            "0                 12.0                  12.0                          0   \n",
            "1                 12.0                  12.0                          0   \n",
            "2                 12.0                  12.0                          0   \n",
            "3                 12.0                  12.0                          0   \n",
            "4                 12.0                  12.0                          0   \n",
            "\n",
            "   resolution_height  resolution_width  \n",
            "0               1792               828  \n",
            "1               1792               828  \n",
            "2               2532              1170  \n",
            "3               2532              1170  \n",
            "4               2532              1170  \n"
          ]
        }
      ],
      "source": [
        "data = pd.read_csv(\"../CSVs Cleaned/Cleaned smartphones.csv\")\n",
        "print(data.head())\n",
        "y = data['price']"
      ]
    },
    {
      "cell_type": "markdown",
      "metadata": {
        "id": "2C5H9KkW9EWj"
      },
      "source": [
        "Using TargetEncoder to encode categorical features"
      ]
    },
    {
      "cell_type": "code",
      "execution_count": 3,
      "metadata": {
        "colab": {
          "base_uri": "https://localhost:8080/"
        },
        "id": "xL8pRZvQ9EWj",
        "outputId": "f29ba2fa-c511-4ed2-c291-1cfcd495fe99"
      },
      "outputs": [
        {
          "name": "stdout",
          "output_type": "stream",
          "text": [
            "        price  avg_rating  5G_or_not  num_cores  processor_speed  \\\n",
            "0  472.314400         7.3          0        6.0             2.65   \n",
            "1  569.201889         7.5          0        6.0             2.65   \n",
            "2  629.756570         7.4          1        6.0             3.10   \n",
            "3  678.200315         7.5          1        6.0             3.10   \n",
            "4  823.531549         7.6          1        6.0             3.10   \n",
            "\n",
            "   battery_capacity  fast_charging_available  ram_capacity  internal_memory  \\\n",
            "0       3110.000000                        0             4               64   \n",
            "1       3110.000000                        0             4              128   \n",
            "2       4817.748194                        0             4               64   \n",
            "3       4817.748194                        0             4              128   \n",
            "4       4817.748194                        0             4              256   \n",
            "\n",
            "   screen_size  refresh_rate  num_rear_cameras  primary_camera_rear  \\\n",
            "0          6.1            60                 2                 12.0   \n",
            "1          6.1            60                 2                 12.0   \n",
            "2          6.1            60                 2                 12.0   \n",
            "3          6.1            60                 2                 12.0   \n",
            "4          6.1            60                 2                 12.0   \n",
            "\n",
            "   primary_camera_front  extended_memory_available  resolution_height  \\\n",
            "0                  12.0                          0               1792   \n",
            "1                  12.0                          0               1792   \n",
            "2                  12.0                          0               2532   \n",
            "3                  12.0                          0               2532   \n",
            "4                  12.0                          0               2532   \n",
            "\n",
            "   resolution_width  brand_name_encoded  processor_brand_encoded  os_encoded  \n",
            "0               828          618.667630               598.574601  599.353225  \n",
            "1               828          623.205017               617.946315  623.961391  \n",
            "2              1170          572.714503               561.066341  599.353225  \n",
            "3              1170          586.671865               561.066341  594.224942  \n",
            "4              1170          572.714503               561.066341  592.692564  \n"
          ]
        }
      ],
      "source": [
        "encoder = TargetEncoder(target_type=\"continuous\")\n",
        "data['brand_name_encoded'] = encoder.fit_transform(data[['brand_name']], y)\n",
        "data['processor_brand_encoded'] = encoder.fit_transform(data[['processor_brand']], y)\n",
        "data['os_encoded'] = encoder.fit_transform(data[['os']], y)\n",
        "\n",
        "del data['brand_name']\n",
        "del data['processor_brand']\n",
        "del data['os']\n",
        "\n",
        "print(data.head())"
      ]
    },
    {
      "cell_type": "markdown",
      "metadata": {
        "id": "xrzhXwaZ9EWk"
      },
      "source": [
        "Drop samples with empty columns and separate features from target feature, price. Then select the top 10 features based on their mutual information (nat) score."
      ]
    },
    {
      "cell_type": "code",
      "execution_count": 4,
      "metadata": {
        "colab": {
          "base_uri": "https://localhost:8080/"
        },
        "id": "lhoIvRv5QVGD",
        "outputId": "47a7cd71-885f-49d4-9b10-bd251973edb3"
      },
      "outputs": [
        {
          "name": "stdout",
          "output_type": "stream",
          "text": [
            "                      Feature     Score\n",
            "0                  avg_rating  0.795892\n",
            "3             processor_speed  0.605670\n",
            "6                ram_capacity  0.555176\n",
            "7             internal_memory  0.468522\n",
            "12       primary_camera_front  0.422033\n",
            "17    processor_brand_encoded  0.412333\n",
            "14          resolution_height  0.373280\n",
            "11        primary_camera_rear  0.320140\n",
            "15           resolution_width  0.304525\n",
            "1                   5G_or_not  0.285255\n",
            "8                 screen_size  0.281479\n",
            "13  extended_memory_available  0.255022\n",
            "4            battery_capacity  0.243932\n",
            "9                refresh_rate  0.240282\n",
            "16         brand_name_encoded  0.179245\n",
            "5     fast_charging_available  0.150325\n",
            "10           num_rear_cameras  0.141629\n",
            "2                   num_cores  0.118245\n",
            "18                 os_encoded  0.055526\n",
            "\n",
            "Selected Features: ['avg_rating' 'processor_speed' 'ram_capacity' 'internal_memory'\n",
            " 'screen_size' 'primary_camera_rear' 'primary_camera_front'\n",
            " 'resolution_height' 'resolution_width' 'processor_brand_encoded']\n"
          ]
        }
      ],
      "source": [
        "data = data.dropna()\n",
        "\n",
        "y = data['price']\n",
        "X = data.drop('price', axis=1)\n",
        "\n",
        "\n",
        "mutual_info = mutual_info_regression(X, y)\n",
        "\n",
        "# Create a DataFrame for better visualization\n",
        "feature_scores = pd.DataFrame({\n",
        "    'Feature': X.columns,\n",
        "    'Score': mutual_info,\n",
        "}).sort_values(by='Score', ascending=False)\n",
        "\n",
        "# Display the feature importance scores\n",
        "print(feature_scores)\n",
        "\n",
        "select = SelectKBest(mutual_info_regression, k=10).fit(X, y)\n",
        "X = select.transform(X)\n",
        "print(f\"\\nSelected Features: {select.get_feature_names_out()}\")"
      ]
    },
    {
      "cell_type": "markdown",
      "metadata": {
        "id": "lK16VvyNQ2TQ"
      },
      "source": [
        "## Training and testing"
      ]
    },
    {
      "cell_type": "markdown",
      "metadata": {
        "id": "42Rgxqyx9EWl"
      },
      "source": [
        "Scaling features"
      ]
    },
    {
      "cell_type": "code",
      "execution_count": 5,
      "metadata": {
        "id": "lpRY907a9EWm"
      },
      "outputs": [],
      "source": [
        "sc_X = StandardScaler()\n",
        "sc_y = StandardScaler()\n",
        "scaled_X = sc_X.fit_transform(X)\n",
        "scaled_y = sc_y.fit_transform(y.to_numpy().reshape(-1, 1))"
      ]
    },
    {
      "cell_type": "markdown",
      "metadata": {
        "id": "sM9qnm6B9EWm"
      },
      "source": [
        "Split the dataset into test data and training data"
      ]
    },
    {
      "cell_type": "code",
      "execution_count": 6,
      "metadata": {
        "id": "erWaG8kM9EWm"
      },
      "outputs": [],
      "source": [
        "X_train, X_test, y_train, y_test = train_test_split(scaled_X, scaled_y, test_size=0.1)"
      ]
    },
    {
      "cell_type": "markdown",
      "metadata": {
        "id": "CiA5KKkZ9EWm"
      },
      "source": [
        "Fit the training data to the model, and test by performing predictions on the test data"
      ]
    },
    {
      "cell_type": "code",
      "execution_count": 7,
      "metadata": {
        "colab": {
          "base_uri": "https://localhost:8080/"
        },
        "id": "ng8JrCzlTC8o",
        "outputId": "98bd9a76-ebc3-4cf8-ae05-5140c73dac6b"
      },
      "outputs": [
        {
          "name": "stderr",
          "output_type": "stream",
          "text": [
            "c:\\Users\\andre\\Documents\\GitHub\\Mobile-Phone-Price-Prediction\\.venv\\lib\\site-packages\\sklearn\\utils\\validation.py:1408: DataConversionWarning: A column-vector y was passed when a 1d array was expected. Please change the shape of y to (n_samples, ), for example using ravel().\n",
            "  y = column_or_1d(y, warn=True)\n"
          ]
        }
      ],
      "source": [
        "regressor = SVR()\n",
        "regressor.fit(X_train, y_train)\n",
        "\n",
        "pred = regressor.predict(X_test)\n",
        "pred = pd.DataFrame(pred)\n",
        "\n",
        "# Revert scaled values to price information\n",
        "predicted_price = sc_y.inverse_transform(pred)\n",
        "real_price = sc_y.inverse_transform(y_test)"
      ]
    },
    {
      "cell_type": "markdown",
      "metadata": {
        "id": "EOFklnkM9EWm"
      },
      "source": [
        "Summarize performance"
      ]
    },
    {
      "cell_type": "code",
      "execution_count": 8,
      "metadata": {
        "colab": {
          "base_uri": "https://localhost:8080/",
          "height": 518
        },
        "id": "ONVwgaNy9EWn",
        "outputId": "b98905d2-5bef-4188-b4bc-f35e23f07edb"
      },
      "outputs": [
        {
          "name": "stdout",
          "output_type": "stream",
          "text": [
            "Train coeff of determination: 0.847602885093842\n",
            "Test coeff of determination: 0.7817641589479062\n",
            "MAE: $46.99981400235808\n",
            "MAPE: 0.17623800414652363\n"
          ]
        },
        {
          "data": {
            "image/png": "[encoded data removed]",
            "text/plain": [
              "<Figure size 640x480 with 1 Axes>"
            ]
          },
          "metadata": {},
          "output_type": "display_data"
        }
      ],
      "source": [
        "print(f\"Train coeff of determination: {regressor.score(X_train, y_train)}\")\n",
        "print(f\"Test coeff of determination: {regressor.score(X_test, y_test)}\")\n",
        "print(f\"MAE: ${mean_absolute_error(real_price, predicted_price)}\")\n",
        "print(f\"MAPE: {mean_absolute_percentage_error(real_price, predicted_price)}\")\n",
        "\n",
        "graph_points = len(y_test)\n",
        "plt.scatter(real_price, predicted_price, alpha=0.5)\n",
        "plt.plot([min(real_price), max(real_price)], [min(real_price), max(real_price)], 'r--')\n",
        "plt.xlabel(\"True Prices\")\n",
        "plt.ylabel(\"Predicted Prices\")\n",
        "plt.title(\"Real World Smartphones Dataset\\nSupport Vector Regressor Model Predictions vs True Values\")\n",
        "plt.show()"
      ]
    }
  ],
  "metadata": {
    "colab": {
      "provenance": []
    },
    "kernelspec": {
      "display_name": ".venv",
      "language": "python",
      "name": "python3"
    },
    "language_info": {
      "codemirror_mode": {
        "name": "ipython",
        "version": 3
      },
      "file_extension": ".py",
      "mimetype": "text/x-python",
      "name": "python",
      "nbconvert_exporter": "python",
      "pygments_lexer": "ipython3",
      "version": "3.10.11"
    }
  },
  "nbformat": 4,
  "nbformat_minor": 0
}
