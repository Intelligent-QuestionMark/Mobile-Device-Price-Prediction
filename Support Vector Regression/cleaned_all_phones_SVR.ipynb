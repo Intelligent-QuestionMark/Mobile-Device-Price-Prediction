{
  "cells": [
    {
      "cell_type": "markdown",
      "metadata": {},
      "source": [
        "# Phone Prices SVR"
      ]
    },
    {
      "cell_type": "markdown",
      "metadata": {},
      "source": [
        "## Libraries"
      ]
    },
    {
      "cell_type": "code",
      "execution_count": 457,
      "metadata": {},
      "outputs": [],
      "source": [
        "import pandas as pd\n",
        "from sklearn.preprocessing import TargetEncoder, StandardScaler\n",
        "from datetime import datetime\n",
        "from sklearn.feature_selection import mutual_info_regression, SelectKBest\n",
        "from sklearn.model_selection import train_test_split\n",
        "from sklearn.metrics import mean_absolute_error, mean_absolute_percentage_error\n",
        "from sklearn.svm import SVR\n",
        "import matplotlib.pyplot as plt"
      ]
    },
    {
      "cell_type": "markdown",
      "metadata": {
        "id": "IGE48odHQ3_8"
      },
      "source": [
        "## Preprocessing"
      ]
    },
    {
      "cell_type": "markdown",
      "metadata": {
        "id": "EUxOX7UBbUeJ"
      },
      "source": [
        "### The dataset"
      ]
    },
    {
      "cell_type": "code",
      "execution_count": 458,
      "metadata": {
        "colab": {
          "base_uri": "https://localhost:8080/"
        },
        "id": "5XgZZIdD9EWi",
        "outputId": "0c166698-315f-4365-c3b2-0dede903201b"
      },
      "outputs": [
        {
          "name": "stdout",
          "output_type": "stream",
          "text": [
            "    brand           os  inches  battery battery_type  ram(GB)  \\\n",
            "0  Huawei  Android 5.1     5.0     2200        Li-Po        2   \n",
            "1      LG  Android 7.0     5.3     2700       Li-Ion        2   \n",
            "2  Huawei  Android 7.0     5.2     3000       Li-Ion        4   \n",
            "3  Xiaomi  Android 6.0     5.5     4100        Li-Po        4   \n",
            "4  Huawei  Android 7.0     5.1     3200       Li-Ion        4   \n",
            "\n",
            "  announcement_date  weight(g)  storage(GB)  video_720p  ...  video_120fps  \\\n",
            "0        2016-09-01      140.0           16        True  ...         False   \n",
            "1        2016-12-01      140.0           16       False  ...         False   \n",
            "2        2017-01-01      147.0           16       False  ...         False   \n",
            "3        2017-01-01      165.0           32        True  ...          True   \n",
            "4        2017-02-01      145.0           32        True  ...         False   \n",
            "\n",
            "   video_240fps  video_480fps  video_960fps  price  resolution_height  \\\n",
            "0         False         False         False  120.0                720   \n",
            "1         False         False         False  100.0                720   \n",
            "2         False         False         False  420.0               1080   \n",
            "3         False         False         False  150.0               1080   \n",
            "4         False         False         False  420.0               1080   \n",
            "\n",
            "   resolution_width  resolution  os_brands         ppi  \n",
            "0              1280      921600    Android  293.720956  \n",
            "1              1280      921600    Android  277.095242  \n",
            "2              1920     2073600    Android  423.635994  \n",
            "3              1920     2073600    Android  400.528576  \n",
            "4              1920     2073600    Android  431.942582  \n",
            "\n",
            "[5 rows x 25 columns]\n"
          ]
        }
      ],
      "source": [
        "data = pd.read_csv(\"../CSVs Cleaned/Cleaned cleaned_all_phones.csv\")\n",
        "print(data.head())\n",
        "y = data['price']"
      ]
    },
    {
      "cell_type": "markdown",
      "metadata": {
        "id": "2C5H9KkW9EWj"
      },
      "source": [
        "Using TargetEncoder to encode categorical features"
      ]
    },
    {
      "cell_type": "code",
      "execution_count": 459,
      "metadata": {
        "colab": {
          "base_uri": "https://localhost:8080/"
        },
        "id": "xL8pRZvQ9EWj",
        "outputId": "9aad8686-ecd9-425f-cf62-14fee41d5898"
      },
      "outputs": [
        {
          "name": "stdout",
          "output_type": "stream",
          "text": [
            "   inches  battery  ram(GB)  weight(g)  storage(GB)  video_720p  video_1080p  \\\n",
            "0     5.0     2200        2      140.0           16        True        False   \n",
            "1     5.3     2700        2      140.0           16       False         True   \n",
            "2     5.2     3000        4      147.0           16       False         True   \n",
            "3     5.5     4100        4      165.0           32        True         True   \n",
            "4     5.1     3200        4      145.0           32        True         True   \n",
            "\n",
            "   video_4K  video_8K  video_30fps  ...  video_960fps  price  resolution  \\\n",
            "0     False     False         True  ...         False  120.0      921600   \n",
            "1     False     False         True  ...         False  100.0      921600   \n",
            "2     False     False         True  ...         False  420.0     2073600   \n",
            "3     False     False         True  ...         False  150.0     2073600   \n",
            "4      True     False         True  ...         False  420.0     2073600   \n",
            "\n",
            "          ppi  brand_encoded  battery_type_encoded  os_encoded  \\\n",
            "0  293.720956     272.129104            272.575508  278.098858   \n",
            "1  277.095242     250.315386            285.382150  278.098858   \n",
            "2  423.635994     272.129104            280.918808  274.089172   \n",
            "3  400.528576     271.175410            277.956947  274.089172   \n",
            "4  431.942582     265.073124            280.918808  278.098858   \n",
            "\n",
            "   announcement_year  announcement_month  announcement_day  \n",
            "0               2016                   9                 1  \n",
            "1               2016                  12                 1  \n",
            "2               2017                   1                 1  \n",
            "3               2017                   1                 1  \n",
            "4               2017                   2                 1  \n",
            "\n",
            "[5 rows x 24 columns]\n"
          ]
        }
      ],
      "source": [
        "encoder = TargetEncoder(target_type=\"continuous\")\n",
        "data['brand_encoded'] = encoder.fit_transform(data[['brand']], y)\n",
        "data['battery_type_encoded'] = encoder.fit_transform(data[['battery_type']], y)\n",
        "data['os_encoded'] = encoder.fit_transform(data[['os_brands']], y)\n",
        "\n",
        "data['announcement_year'] = pd.Series(data['announcement_date']).apply(lambda x: datetime.fromisoformat(x).year)\n",
        "data['announcement_month'] = pd.Series(data['announcement_date']).apply(lambda x: datetime.fromisoformat(x).month)\n",
        "data['announcement_day'] = pd.Series(data['announcement_date']).apply(lambda x: datetime.fromisoformat(x).day)\n",
        "del data['announcement_date']\n",
        "del data['brand']\n",
        "del data['battery_type']\n",
        "del data['os']\n",
        "del data['os_brands']\n",
        "del data['resolution_height']\n",
        "del data['resolution_width']\n",
        "\n",
        "print(data.head())"
      ]
    },
    {
      "cell_type": "markdown",
      "metadata": {
        "id": "xrzhXwaZ9EWk"
      },
      "source": [
        "Drop samples with empty columns and separate features from target feature, price. Then select the top 10 features based on their mutual information (nat) score."
      ]
    },
    {
      "cell_type": "code",
      "execution_count": 460,
      "metadata": {
        "colab": {
          "base_uri": "https://localhost:8080/"
        },
        "id": "lhoIvRv5QVGD",
        "outputId": "3c0d5dd9-4f90-4700-acdf-dd10ab964fbe"
      },
      "outputs": [
        {
          "name": "stdout",
          "output_type": "stream",
          "text": [
            "                 Feature     Score\n",
            "16                   ppi  0.140578\n",
            "15            resolution  0.125915\n",
            "4            storage(GB)  0.120839\n",
            "7               video_4K  0.096005\n",
            "2                ram(GB)  0.094369\n",
            "5             video_720p  0.093538\n",
            "0                 inches  0.076580\n",
            "1                battery  0.073894\n",
            "12          video_240fps  0.065903\n",
            "17         brand_encoded  0.062532\n",
            "10           video_60fps  0.059903\n",
            "22      announcement_day  0.059101\n",
            "20     announcement_year  0.049435\n",
            "11          video_120fps  0.049390\n",
            "3              weight(g)  0.044313\n",
            "8               video_8K  0.027761\n",
            "13          video_480fps  0.024643\n",
            "21    announcement_month  0.017108\n",
            "6            video_1080p  0.016117\n",
            "18  battery_type_encoded  0.015545\n",
            "19            os_encoded  0.010704\n",
            "14          video_960fps  0.009942\n",
            "9            video_30fps  0.000000\n",
            "\n",
            "Selected Features: ['inches' 'battery' 'ram(GB)' 'storage(GB)' 'video_720p' 'video_4K'\n",
            " 'resolution' 'ppi' 'announcement_year' 'announcement_day']\n"
          ]
        }
      ],
      "source": [
        "data = data.dropna()\n",
        "\n",
        "y = data['price']\n",
        "X = data.drop('price', axis=1)\n",
        "\n",
        "mutual_info = mutual_info_regression(X, y)\n",
        "\n",
        "# Create a DataFrame for better visualization\n",
        "feature_scores = pd.DataFrame({\n",
        "    'Feature': X.columns,\n",
        "    'Score': mutual_info,\n",
        "}).sort_values(by='Score', ascending=False)\n",
        "\n",
        "# Display the feature importance scores\n",
        "print(feature_scores)\n",
        "\n",
        "select = SelectKBest(mutual_info_regression, k=10).fit(X, y)\n",
        "X = select.transform(X)\n",
        "print(f\"\\nSelected Features: {select.get_feature_names_out()}\")"
      ]
    },
    {
      "cell_type": "markdown",
      "metadata": {
        "id": "lK16VvyNQ2TQ"
      },
      "source": [
        "## Training and testing"
      ]
    },
    {
      "cell_type": "markdown",
      "metadata": {
        "id": "42Rgxqyx9EWl"
      },
      "source": [
        "Scaling features"
      ]
    },
    {
      "cell_type": "code",
      "execution_count": 461,
      "metadata": {
        "id": "lpRY907a9EWm"
      },
      "outputs": [],
      "source": [
        "sc_X = StandardScaler()\n",
        "sc_y = StandardScaler()\n",
        "scaled_X = sc_X.fit_transform(X)\n",
        "scaled_y = sc_y.fit_transform(y.to_numpy().reshape(-1, 1))"
      ]
    },
    {
      "cell_type": "markdown",
      "metadata": {
        "id": "sM9qnm6B9EWm"
      },
      "source": [
        "Split the dataset into test data and training data"
      ]
    },
    {
      "cell_type": "code",
      "execution_count": 462,
      "metadata": {
        "id": "erWaG8kM9EWm"
      },
      "outputs": [],
      "source": [
        "X_train, X_test, y_train, y_test = train_test_split(scaled_X, scaled_y, test_size=0.2)"
      ]
    },
    {
      "cell_type": "markdown",
      "metadata": {
        "id": "CiA5KKkZ9EWm"
      },
      "source": [
        "Fit the training data to the model, and test by performing predictions on the test data"
      ]
    },
    {
      "cell_type": "code",
      "execution_count": null,
      "metadata": {
        "colab": {
          "base_uri": "https://localhost:8080/"
        },
        "id": "ng8JrCzlTC8o",
        "outputId": "73792fa4-ddf1-4567-d90d-f6cf6d62d571"
      },
      "outputs": [
        {
          "name": "stderr",
          "output_type": "stream",
          "text": [
            "c:\\Users\\andre\\Documents\\GitHub\\Mobile-Phone-Price-Prediction\\.venv\\lib\\site-packages\\sklearn\\utils\\validation.py:1408: DataConversionWarning: A column-vector y was passed when a 1d array was expected. Please change the shape of y to (n_samples, ), for example using ravel().\n",
            "  y = column_or_1d(y, warn=True)\n"
          ]
        }
      ],
      "source": [
        "regressor = SVR(kernel='linear', C=0.8)\n",
        "regressor.fit(X_train, y_train)\n",
        "\n",
        "pred = regressor.predict(X_test)\n",
        "pred = pd.DataFrame(pred)\n",
        "\n",
        "# Revert scaled values to price information\n",
        "predicted_price = sc_y.inverse_transform(pred)\n",
        "real_price = sc_y.inverse_transform(y_test)"
      ]
    },
    {
      "cell_type": "markdown",
      "metadata": {
        "id": "EOFklnkM9EWm"
      },
      "source": [
        "Summarize performance"
      ]
    },
    {
      "cell_type": "code",
      "execution_count": 464,
      "metadata": {
        "colab": {
          "base_uri": "https://localhost:8080/",
          "height": 518
        },
        "id": "ONVwgaNy9EWn",
        "outputId": "e2ead22a-29a5-4000-dcdb-c1320d2e43bf"
      },
      "outputs": [
        {
          "name": "stdout",
          "output_type": "stream",
          "text": [
            "Train coeff of determination: 0.05513018280351101\n",
            "Test coeff of determination: -0.05693851763640323\n",
            "MAE: $109.25301638683689\n",
            "MAPE: 0.42829295161461023\n"
          ]
        },
        {
          "data": {
            "image/png": "[encoded data removed]",
            "text/plain": [
              "<Figure size 640x480 with 1 Axes>"
            ]
          },
          "metadata": {},
          "output_type": "display_data"
        }
      ],
      "source": [
        "print(f\"Train coeff of determination: {regressor.score(X_train, y_train)}\")\n",
        "print(f\"Test coeff of determination: {regressor.score(X_test, y_test)}\")\n",
        "print(f\"MAE: ${mean_absolute_error(real_price, predicted_price)}\")\n",
        "print(f\"MAPE: {mean_absolute_percentage_error(real_price, predicted_price)}\")\n",
        "\n",
        "plt.scatter(real_price, predicted_price, alpha=0.5)\n",
        "plt.plot([min(real_price), max(real_price)], [min(real_price), max(real_price)], 'r--')\n",
        "plt.xlabel(\"True Prices\")\n",
        "plt.ylabel(\"Predicted Prices\")\n",
        "plt.title(\"Phone Prices\\nSupport Vector Regressor Model Predictions vs True Values\")\n",
        "plt.show()"
      ]
    }
  ],
  "metadata": {
    "colab": {
      "provenance": []
    },
    "kernelspec": {
      "display_name": ".venv",
      "language": "python",
      "name": "python3"
    },
    "language_info": {
      "codemirror_mode": {
        "name": "ipython",
        "version": 3
      },
      "file_extension": ".py",
      "mimetype": "text/x-python",
      "name": "python",
      "nbconvert_exporter": "python",
      "pygments_lexer": "ipython3",
      "version": "3.10.11"
    }
  },
  "nbformat": 4,
  "nbformat_minor": 0
}
