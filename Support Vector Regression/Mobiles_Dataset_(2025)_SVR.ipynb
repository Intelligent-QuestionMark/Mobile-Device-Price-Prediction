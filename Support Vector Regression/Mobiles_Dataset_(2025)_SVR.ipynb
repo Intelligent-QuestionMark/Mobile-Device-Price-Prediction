{
  "cells": [
    {
      "cell_type": "markdown",
      "metadata": {},
      "source": [
        "# Mobiles Dataset (2025) SVR"
      ]
    },
    {
      "cell_type": "markdown",
      "metadata": {},
      "source": [
        "## Libraries"
      ]
    },
    {
      "cell_type": "code",
      "execution_count": 67,
      "metadata": {},
      "outputs": [],
      "source": [
        "import pandas as pd\n",
        "from sklearn.preprocessing import TargetEncoder, StandardScaler\n",
        "from sklearn.feature_selection import mutual_info_regression, SelectKBest\n",
        "from sklearn.model_selection import train_test_split\n",
        "from sklearn.metrics import mean_absolute_error, mean_absolute_percentage_error"
      ]
    },
    {
      "cell_type": "markdown",
      "metadata": {
        "id": "IGE48odHQ3_8"
      },
      "source": [
        "## Preprocessing"
      ]
    },
    {
      "cell_type": "markdown",
      "metadata": {
        "id": "EUxOX7UBbUeJ"
      },
      "source": [
        "### The dataset"
      ]
    },
    {
      "cell_type": "code",
      "execution_count": 68,
      "metadata": {
        "colab": {
          "base_uri": "https://localhost:8080/"
        },
        "id": "5XgZZIdD9EWi",
        "outputId": "0beef26d-c6b0-479a-a989-cc066fed5a9b"
      },
      "outputs": [
        {
          "name": "stdout",
          "output_type": "stream",
          "text": [
            "  Company Name  Mobile Weight  RAM   Processor  Battery Capacity  Screen Size  \\\n",
            "0        Apple          174.0  6.0  A17 Bionic              3600          6.1   \n",
            "1        Apple          174.0  6.0  A17 Bionic              3600          6.1   \n",
            "2        Apple          174.0  6.0  A17 Bionic              3600          6.1   \n",
            "3        Apple          203.0  6.0  A17 Bionic              4200          6.7   \n",
            "4        Apple          203.0  6.0  A17 Bionic              4200          6.7   \n",
            "\n",
            "   Launched Year  Back Camera 1  Back Camera 2  Back Camera 3  Back Camera 4  \\\n",
            "0           2024             48              0              0              0   \n",
            "1           2024             48              0              0              0   \n",
            "2           2024             48              0              0              0   \n",
            "3           2024             48              0              0              0   \n",
            "4           2024             48              0              0              0   \n",
            "\n",
            "   Front Camera 1  Front Camera 2  Storage  price  \n",
            "0              12               0      128  799.0  \n",
            "1              12               0      256  849.0  \n",
            "2              12               0      512  899.0  \n",
            "3              12               0      128  899.0  \n",
            "4              12               0      256  949.0  \n"
          ]
        }
      ],
      "source": [
        "data = pd.read_csv(\"../CSVs Cleaned/Cleaned Mobiles Dataset (2025).csv\")\n",
        "print(data.head())\n",
        "y = data['price']"
      ]
    },
    {
      "cell_type": "markdown",
      "metadata": {
        "id": "2C5H9KkW9EWj"
      },
      "source": [
        "Using TargetEncoder to encode categorical features"
      ]
    },
    {
      "cell_type": "code",
      "execution_count": 69,
      "metadata": {
        "colab": {
          "base_uri": "https://localhost:8080/"
        },
        "id": "xL8pRZvQ9EWj",
        "outputId": "17a0c819-c453-4950-8df3-8d2a1121a373"
      },
      "outputs": [
        {
          "name": "stdout",
          "output_type": "stream",
          "text": [
            "   Mobile Weight  RAM  Battery Capacity  Screen Size  Launched Year  \\\n",
            "0          174.0  6.0              3600          6.1           2024   \n",
            "1          174.0  6.0              3600          6.1           2024   \n",
            "2          174.0  6.0              3600          6.1           2024   \n",
            "3          203.0  6.0              4200          6.7           2024   \n",
            "4          203.0  6.0              4200          6.7           2024   \n",
            "\n",
            "   Back Camera 1  Back Camera 2  Back Camera 3  Back Camera 4  Front Camera 1  \\\n",
            "0             48              0              0              0              12   \n",
            "1             48              0              0              0              12   \n",
            "2             48              0              0              0              12   \n",
            "3             48              0              0              0              12   \n",
            "4             48              0              0              0              12   \n",
            "\n",
            "   Front Camera 2  Storage  price  Company Name_encoded  Processor_encoded  \n",
            "0               0      128  799.0           1012.738626         917.523859  \n",
            "1               0      256  849.0           1014.965734         906.588568  \n",
            "2               0      512  899.0           1012.738626         896.444354  \n",
            "3               0      128  899.0           1025.130808         896.139402  \n",
            "4               0      256  949.0           1025.130808         860.377705  \n"
          ]
        }
      ],
      "source": [
        "encoder = TargetEncoder(target_type=\"continuous\")\n",
        "data['Company Name_encoded'] = encoder.fit_transform(data[['Company Name']], y)\n",
        "data['Processor_encoded'] = encoder.fit_transform(data[['Processor']], y)\n",
        "\n",
        "del data['Company Name']\n",
        "del data['Processor']\n",
        "\n",
        "print(data.head())"
      ]
    },
    {
      "cell_type": "markdown",
      "metadata": {
        "id": "xrzhXwaZ9EWk"
      },
      "source": [
        "Drop samples with empty columns and separate features from target feature, price. Then select the top 10 features based on their mutual information (nat) score."
      ]
    },
    {
      "cell_type": "code",
      "execution_count": null,
      "metadata": {
        "colab": {
          "base_uri": "https://localhost:8080/"
        },
        "id": "lhoIvRv5QVGD",
        "outputId": "81ad81a8-28d3-4dbf-e2f8-bd145fde59da"
      },
      "outputs": [
        {
          "name": "stdout",
          "output_type": "stream",
          "text": [
            "                 Feature     Score\n",
            "13     Processor_encoded  0.907515\n",
            "9         Front Camera 1  0.472527\n",
            "6          Back Camera 2  0.402601\n",
            "2       Battery Capacity  0.359628\n",
            "3            Screen Size  0.356845\n",
            "11               Storage  0.330968\n",
            "12  Company Name_encoded  0.319453\n",
            "1                    RAM  0.315627\n",
            "0          Mobile Weight  0.297944\n",
            "5          Back Camera 1  0.267613\n",
            "7          Back Camera 3  0.147353\n",
            "4          Launched Year  0.051321\n",
            "8          Back Camera 4  0.034411\n",
            "10        Front Camera 2  0.000000\n",
            "\n",
            "Selected Features: ['Mobile Weight' 'RAM' 'Battery Capacity' 'Screen Size' 'Back Camera 1'\n",
            " 'Back Camera 2' 'Front Camera 1' 'Storage' 'Company Name_encoded'\n",
            " 'Processor_encoded']\n"
          ]
        }
      ],
      "source": [
        "data = data.dropna()\n",
        "\n",
        "y = data['price']\n",
        "X = data.drop('price', axis=1)\n",
        "\n",
        "mutual_info = mutual_info_regression(X, y)\n",
        "\n",
        "# Create a DataFrame for better visualization\n",
        "feature_scores = pd.DataFrame({\n",
        "    'Feature': X.columns,\n",
        "    'Score': mutual_info,\n",
        "}).sort_values(by='Score', ascending=False)\n",
        "\n",
        "# Display the feature importance scores\n",
        "print(feature_scores)\n",
        "\n",
        "select = SelectKBest(mutual_info_regression, k=10).fit(X, y)\n",
        "X = select.transform(X)\n",
        "print(f\"\\nSelected Features: {select.get_feature_names_out()}\")"
      ]
    },
    {
      "cell_type": "markdown",
      "metadata": {
        "id": "lK16VvyNQ2TQ"
      },
      "source": [
        "## Training and testing"
      ]
    },
    {
      "cell_type": "markdown",
      "metadata": {
        "id": "42Rgxqyx9EWl"
      },
      "source": [
        "Scaling features"
      ]
    },
    {
      "cell_type": "code",
      "execution_count": 71,
      "metadata": {
        "id": "lpRY907a9EWm"
      },
      "outputs": [],
      "source": [
        "sc_X = StandardScaler()\n",
        "sc_y = StandardScaler()\n",
        "scaled_X = sc_X.fit_transform(X)\n",
        "scaled_y = sc_y.fit_transform(y.to_numpy().reshape(-1, 1))"
      ]
    },
    {
      "cell_type": "markdown",
      "metadata": {
        "id": "sM9qnm6B9EWm"
      },
      "source": [
        "Split the dataset into test data and training data"
      ]
    },
    {
      "cell_type": "code",
      "execution_count": 72,
      "metadata": {
        "id": "erWaG8kM9EWm"
      },
      "outputs": [],
      "source": [
        "X_train, X_test, y_train, y_test = train_test_split(scaled_X, scaled_y, test_size=0.4)"
      ]
    },
    {
      "cell_type": "markdown",
      "metadata": {
        "id": "CiA5KKkZ9EWm"
      },
      "source": [
        "Fit the training data to the model, and test by performing predictions on the test data"
      ]
    },
    {
      "cell_type": "code",
      "execution_count": 73,
      "metadata": {
        "colab": {
          "base_uri": "https://localhost:8080/"
        },
        "id": "ng8JrCzlTC8o",
        "outputId": "22b97c02-791c-4561-b93c-db361be5eef0"
      },
      "outputs": [
        {
          "name": "stderr",
          "output_type": "stream",
          "text": [
            "c:\\Users\\andre\\Documents\\GitHub\\Mobile-Phone-Price-Prediction\\.venv\\lib\\site-packages\\sklearn\\utils\\validation.py:1408: DataConversionWarning: A column-vector y was passed when a 1d array was expected. Please change the shape of y to (n_samples, ), for example using ravel().\n",
            "  y = column_or_1d(y, warn=True)\n"
          ]
        }
      ],
      "source": [
        "regressor = SVR()\n",
        "regressor.fit(X_train, y_train)\n",
        "\n",
        "pred = regressor.predict(X_test)\n",
        "pred = pd.DataFrame(pred)\n",
        "\n",
        "# Revert scaled values to price information\n",
        "predicted_price = sc_y.inverse_transform(pred)\n",
        "real_price = sc_y.inverse_transform(y_test)"
      ]
    },
    {
      "cell_type": "markdown",
      "metadata": {
        "id": "EOFklnkM9EWm"
      },
      "source": [
        "Summarize performance"
      ]
    },
    {
      "cell_type": "code",
      "execution_count": 74,
      "metadata": {
        "colab": {
          "base_uri": "https://localhost:8080/",
          "height": 518
        },
        "id": "ONVwgaNy9EWn",
        "outputId": "d2f87b15-fbe9-419f-e733-5587b56038af"
      },
      "outputs": [
        {
          "name": "stdout",
          "output_type": "stream",
          "text": [
            "Train coeff of determination: 0.9163406558988458\n",
            "Test coeff of determination: 0.8483936586672733\n",
            "MAE: $91.12618099646448\n",
            "MAPE: 0.1755743830200237\n"
          ]
        },
        {
          "data": {
            "image/png": "[encoded data removed]",
            "text/plain": [
              "<Figure size 640x480 with 1 Axes>"
            ]
          },
          "metadata": {},
          "output_type": "display_data"
        }
      ],
      "source": [
        "print(f\"Train coeff of determination: {regressor.score(X_train, y_train)}\")\n",
        "print(f\"Test coeff of determination: {regressor.score(X_test, y_test)}\")\n",
        "print(f\"MAE: ${mean_absolute_error(real_price, predicted_price)}\")\n",
        "print(f\"MAPE: {mean_absolute_percentage_error(real_price, predicted_price)}\")\n",
        "\n",
        "import matplotlib.pyplot as plt\n",
        "plt.scatter(real_price, predicted_price, alpha=0.5)\n",
        "plt.plot([min(real_price), max(real_price)], [min(real_price), max(real_price)], 'r--')\n",
        "plt.xlabel(\"True Prices\")\n",
        "plt.ylabel(\"Predicted Prices\")\n",
        "plt.title(\"Model Predictions vs True Values\")\n",
        "plt.show()"
      ]
    }
  ],
  "metadata": {
    "colab": {
      "provenance": []
    },
    "kernelspec": {
      "display_name": ".venv",
      "language": "python",
      "name": "python3"
    },
    "language_info": {
      "codemirror_mode": {
        "name": "ipython",
        "version": 3
      },
      "file_extension": ".py",
      "mimetype": "text/x-python",
      "name": "python",
      "nbconvert_exporter": "python",
      "pygments_lexer": "ipython3",
      "version": "3.10.11"
    }
  },
  "nbformat": 4,
  "nbformat_minor": 0
}
