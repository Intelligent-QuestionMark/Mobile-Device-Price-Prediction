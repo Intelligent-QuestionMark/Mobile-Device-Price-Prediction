{
  "cells": [
    {
      "cell_type": "markdown",
      "metadata": {
        "id": "IGE48odHQ3_8"
      },
      "source": [
        "# Feature Selection"
      ]
    },
    {
      "cell_type": "markdown",
      "metadata": {
        "id": "z9Z2l_uJbLXu"
      },
      "source": [
        "## Numerical Features only"
      ]
    },
    {
      "cell_type": "code",
      "execution_count": null,
      "metadata": {
        "colab": {
          "base_uri": "https://localhost:8080/"
        },
        "id": "yjUY106Jxymy",
        "outputId": "01ff1b18-a6ff-44f4-981d-71d8ff14e805"
      },
      "outputs": [
        {
          "name": "stdout",
          "output_type": "stream",
          "text": [
            "price    687\n",
            "dtype: int64\n"
          ]
        },
        {
          "name": "stderr",
          "output_type": "stream",
          "text": [
            "c:\\Users\\andre\\Documents\\Github\\Mobile-Phone-Price-Prediction\\.venv\\lib\\site-packages\\sklearn\\utils\\validation.py:1408: DataConversionWarning: A column-vector y was passed when a 1d array was expected. Please change the shape of y to (n_samples, ), for example using ravel().\n",
            "  y = column_or_1d(y, warn=True)\n"
          ]
        }
      ],
      "source": [
        "from sklearn.feature_selection import SelectKBest, f_regression\n",
        "import pandas as pd\n",
        "from sklearn.preprocessing import OneHotEncoder\n",
        "\n",
        "\n",
        "pd.set_option(\"display.max_columns\", None)\n",
        "pd.set_option(\"display.max_rows\", None)\n",
        "pd.set_option(\"display.max_colwidth\", None)\n",
        "pd.set_option(\"display.float_format\", lambda x: \"%.2f\" % x)\n",
        "\n",
        "data = pd.read_csv(\"smartphones.csv\")\n",
        "del data['model']\n",
        "del data['brand_name']\n",
        "del data['processor_brand']\n",
        "del data['os']\n",
        "\n",
        "data = data.dropna()\n",
        "\n",
        "y = pd.DataFrame(data['price'])\n",
        "X = data.drop('price', axis=1)\n",
        "print(y.count())\n",
        "\n",
        "\n",
        "f_scores, p_values = f_regression(X, y.to_numpy().ravel())\n",
        "\n",
        "X = SelectKBest(f_regression, k=15).fit_transform(X, y)"
      ]
    },
    {
      "cell_type": "markdown",
      "metadata": {
        "id": "jmlYcrCFAUyq"
      },
      "source": [
        "## LabelEncoder"
      ]
    },
    {
      "cell_type": "code",
      "execution_count": null,
      "metadata": {
        "colab": {
          "base_uri": "https://localhost:8080/"
        },
        "id": "Tr17rpUjMPZj",
        "outputId": "a6437fa1-2ab8-4cd6-934c-ae846da71a4c"
      },
      "outputs": [
        {
          "name": "stdout",
          "output_type": "stream",
          "text": [
            "                      Feature  F-Score  P-Value\n",
            "8             internal_memory   227.94     0.00\n",
            "3             processor_speed   225.04     0.00\n",
            "0                  avg_rating   191.73     0.00\n",
            "7                ram_capacity   154.37     0.00\n",
            "14  extended_memory_available   130.98     0.00\n",
            "19                 os_encoded    72.54     0.00\n",
            "15          resolution_height    67.07     0.00\n",
            "6               fast_charging    56.20     0.00\n",
            "10               refresh_rate    49.15     0.00\n",
            "1                   5G_or_not    33.58     0.00\n",
            "16           resolution_width    26.38     0.00\n",
            "13       primary_camera_front    18.94     0.00\n",
            "9                 screen_size    17.35     0.00\n",
            "17         brand_name_encoded     9.47     0.00\n",
            "4            battery_capacity     7.08     0.01\n",
            "18    processor_brand_encoded     2.82     0.09\n",
            "11           num_rear_cameras     1.62     0.20\n",
            "12        primary_camera_rear     1.38     0.24\n",
            "2                   num_cores     0.96     0.33\n",
            "5     fast_charging_available     0.00     1.00\n"
          ]
        },
        {
          "name": "stderr",
          "output_type": "stream",
          "text": [
            "/usr/local/lib/python3.11/dist-packages/sklearn/utils/validation.py:1408: DataConversionWarning: A column-vector y was passed when a 1d array was expected. Please change the shape of y to (n_samples, ), for example using ravel().\n",
            "  y = column_or_1d(y, warn=True)\n"
          ]
        }
      ],
      "source": [
        "from sklearn.feature_selection import f_regression\n",
        "from sklearn.preprocessing import LabelEncoder\n",
        "import pandas as pd\n",
        "from sklearn.preprocessing import OneHotEncoder\n",
        "\n",
        "\n",
        "pd.set_option(\"display.max_columns\", None)\n",
        "pd.set_option(\"display.max_rows\", None)\n",
        "pd.set_option(\"display.max_colwidth\", None)\n",
        "pd.set_option(\"display.float_format\", lambda x: \"%.2f\" % x)\n",
        "\n",
        "data = pd.read_csv(\"smartphones.csv\")\n",
        "\n",
        "label_encoder_brand = LabelEncoder()\n",
        "data['brand_name_encoded'] = label_encoder_brand.fit_transform(data['brand_name'])\n",
        "data['processor_brand_encoded'] = label_encoder_brand.fit_transform(data['processor_brand'])\n",
        "data['os_encoded'] = label_encoder_brand.fit_transform(data['os'])\n",
        "\n",
        "del data['model']\n",
        "del data['brand_name']\n",
        "del data['processor_brand']\n",
        "del data['os']\n",
        "\n",
        "data = data.dropna()\n",
        "\n",
        "\n",
        "X = data.drop('price', axis=1)\n",
        "\n",
        "\n",
        "f_scores, p_values = f_regression(X, y)\n",
        "\n",
        "# Create a DataFrame for better visualization\n",
        "feature_scores = pd.DataFrame({\n",
        "    'Feature': X.columns,\n",
        "    'F-Score': f_scores,\n",
        "    'P-Value': p_values\n",
        "}).sort_values(by='F-Score', ascending=False)\n",
        "\n",
        "# Display the feature importance scores\n",
        "print(feature_scores)"
      ]
    },
    {
      "cell_type": "markdown",
      "metadata": {
        "id": "EUxOX7UBbUeJ"
      },
      "source": [
        "## Target Encoder"
      ]
    },
    {
      "cell_type": "code",
      "execution_count": null,
      "metadata": {
        "colab": {
          "base_uri": "https://localhost:8080/"
        },
        "id": "lhoIvRv5QVGD",
        "outputId": "4c0d3333-50c4-40a3-cfd6-cd7c2024a48a"
      },
      "outputs": [
        {
          "name": "stdout",
          "output_type": "stream",
          "text": [
            "                      Feature  F-Score  P-Value\n",
            "8             internal_memory   227.94     0.00\n",
            "3             processor_speed   225.04     0.00\n",
            "0                  avg_rating   191.73     0.00\n",
            "7                ram_capacity   154.37     0.00\n",
            "14  extended_memory_available   130.98     0.00\n",
            "18    processor_brand_encoded    67.19     0.00\n",
            "15          resolution_height    67.07     0.00\n",
            "17         brand_name_encoded    65.42     0.00\n",
            "19                 os_encoded    57.18     0.00\n",
            "6               fast_charging    56.20     0.00\n",
            "10               refresh_rate    49.15     0.00\n",
            "1                   5G_or_not    33.58     0.00\n",
            "16           resolution_width    26.38     0.00\n",
            "13       primary_camera_front    18.94     0.00\n",
            "9                 screen_size    17.35     0.00\n",
            "4            battery_capacity     7.08     0.01\n",
            "11           num_rear_cameras     1.62     0.20\n",
            "12        primary_camera_rear     1.38     0.24\n",
            "2                   num_cores     0.96     0.33\n",
            "5     fast_charging_available     0.00     1.00\n"
          ]
        }
      ],
      "source": [
        "#Trying Target Encoder\n",
        "from sklearn.feature_selection import f_regression\n",
        "from sklearn.preprocessing import TargetEncoder\n",
        "import pandas as pd\n",
        "\n",
        "\n",
        "pd.set_option(\"display.max_columns\", None)\n",
        "pd.set_option(\"display.max_rows\", None)\n",
        "pd.set_option(\"display.max_colwidth\", None)\n",
        "pd.set_option(\"display.float_format\", lambda x: \"%.2f\" % x)\n",
        "\n",
        "data = pd.read_csv(\"smartphones.csv\")\n",
        "y = data['price']\n",
        "\n",
        "#encoder = TargetEncoder(smooth=\"auto\", target_type=\"continuous\")\n",
        "#print(data[['brand_name']])\n",
        "#print(y)\n",
        "#for col in ['brand_name', 'processor_brand', 'os']:\n",
        "    # Fit and transform, then flatten to 1D array\n",
        "   # encoded = encoder.fit_transform(data[[col]], y).ravel()\n",
        "    #data[f\"{col}_encoded\"] = encoded\n",
        "\n",
        "encoder = TargetEncoder(target_type=\"continuous\")\n",
        "data['brand_name_encoded'] = encoder.fit_transform(data[['brand_name']], y).ravel()\n",
        "data['processor_brand_encoded'] = encoder.fit_transform(data[['processor_brand']], data['price'])\n",
        "data['os_encoded'] = encoder.fit_transform(data[['os']], data['price'])\n",
        "\n",
        "del data['model']\n",
        "del data['brand_name']\n",
        "del data['processor_brand']\n",
        "del data['os']\n",
        "\n",
        "data = data.dropna()\n",
        "\n",
        "y = data['price']\n",
        "X = data.drop('price', axis=1)\n",
        "\n",
        "\n",
        "f_scores, p_values = f_regression(X, y)\n",
        "\n",
        "# Create a DataFrame for better visualization\n",
        "feature_scores = pd.DataFrame({\n",
        "    'Feature': X.columns,\n",
        "    'F-Score': f_scores,\n",
        "    'P-Value': p_values\n",
        "}).sort_values(by='F-Score', ascending=False)\n",
        "\n",
        "# Display the feature importance scores\n",
        "print(feature_scores)"
      ]
    },
    {
      "cell_type": "markdown",
      "metadata": {
        "id": "lK16VvyNQ2TQ"
      },
      "source": [
        "# New Section"
      ]
    },
    {
      "cell_type": "code",
      "execution_count": 46,
      "metadata": {
        "colab": {
          "base_uri": "https://localhost:8080/",
          "height": 1000
        },
        "id": "ng8JrCzlTC8o",
        "outputId": "14305754-a1f0-4cb4-f2f2-bd3262eb3226"
      },
      "outputs": [
        {
          "name": "stdout",
          "output_type": "stream",
          "text": [
            "[18560.11135838] [18999.]\n",
            "[39248.88200415] [33749.]\n",
            "[15342.53002721] [13999.]\n",
            "[17464.45942875] [15490.]\n",
            "[15384.65240572] [17859.]\n",
            "[12390.55168074] [10799.]\n",
            "[22585.42240286] [24820.]\n",
            "[26025.63558214] [24494.]\n",
            "[16696.38919697] [13999.]\n",
            "[23658.16172807] [27999.]\n",
            "[15689.22521965] [14439.]\n",
            "[14055.84529497] [12999.]\n",
            "[27714.48968275] [24999.]\n",
            "[33018.69088122] [49990.]\n",
            "[21698.18723493] [19999.]\n",
            "[18189.80850492] [29999.]\n",
            "[43221.35879473] [48990.]\n",
            "[35804.4205619] [24999.]\n",
            "[15369.6566591] [12999.]\n",
            "[24816.70721691] [19999.]\n",
            "[51436.08270885] [43999.]\n",
            "[14449.5638862] [13999.]\n",
            "[14449.5638862] [13999.]\n",
            "[7415.84080002] [7999.]\n",
            "[26244.35128419] [29990.]\n",
            "[49332.50970217] [57999.]\n",
            "[18241.70362137] [15499.]\n",
            "[26244.35128419] [21999.]\n",
            "[25114.99007971] [24999.]\n",
            "[32140.07721359] [34999.]\n",
            "[24849.57978748] [23994.]\n",
            "[13289.16393778] [17999.]\n",
            "[15886.14527902] [14490.]\n",
            "[14121.75761016] [16490.]\n",
            "[13945.27878847] [11999.]\n",
            "[15996.34029278] [19999.]\n",
            "[39035.83284617] [45999.]\n",
            "[8721.85322491] [11990.]\n",
            "[40277.34054048] [49999.]\n",
            "[23208.78574857] [18999.]\n",
            "[15400.29298254] [14999.]\n",
            "[25313.51285224] [19999.]\n",
            "[10322.96850219] [17990.]\n",
            "[20332.03567403] [20999.]\n",
            "[16131.66335671] [11999.]\n",
            "[12452.60065651] [13990.]\n",
            "[10666.98578424] [9999.]\n",
            "[7851.22441565] [7499.]\n",
            "[17464.45942875] [18999.]\n",
            "[23136.77561264] [24990.]\n",
            "[15689.22521965] [12499.]\n",
            "[6884.39579806] [8720.]\n",
            "[25365.83132008] [23890.]\n",
            "[30298.19384711] [24990.]\n",
            "[7806.66310468] [8990.]\n",
            "[43654.5803422] [39999.]\n",
            "[53607.75590963] [88999.]\n",
            "[28548.70160402] [19999.]\n",
            "[23136.77561264] [22999.]\n",
            "[14809.82820686] [14999.]\n",
            "[8942.33032749] [11490.]\n",
            "[26506.82502612] [28990.]\n",
            "[23062.59865635] [16999.]\n",
            "[27714.48968275] [25999.]\n",
            "[13289.16393778] [13999.]\n",
            "[39560.90464245] [162990.]\n",
            "[44547.21590858] [36999.]\n",
            "[30298.19384711] [25990.]\n",
            "[31325.16604587] [38700.]\n",
            "[20332.03567403] [15999.]\n",
            "[16247.92168056] [16999.]\n",
            "[19606.30178756] [19980.]\n",
            "[16370.11291809] [18999.]\n",
            "[29835.89690373] [27999.]\n",
            "[15759.45792211] [17990.]\n",
            "[10255.84018111] [10999.]\n",
            "[9523.63384274] [13990.]\n",
            "[20332.03567403] [22990.]\n",
            "[15795.20026077] [14990.]\n",
            "[18057.58855287] [12999.]\n",
            "[26506.82502612] [19990.]\n",
            "[18560.11135838] [17999.]\n",
            "[13945.27878847] [12989.]\n",
            "[18555.67040869] [14999.]\n",
            "[34234.16049347] [28249.]\n",
            "[19607.63765081] [17999.]\n",
            "[19608.74122102] [19990.]\n",
            "[10187.63907224] [8999.]\n",
            "[12017.0128598] [17990.]\n",
            "[11223.01386051] [10499.]\n",
            "[25238.29243095] [25994.]\n",
            "[18210.87507327] [19990.]\n",
            "[22452.06081766] [41990.]\n",
            "[16312.55565307] [14999.]\n",
            "[39362.85152707] [34990.]\n",
            "[14809.82820686] [15999.]\n",
            "[18741.84325188] [20999.]\n",
            "[19608.74122102] [18990.]\n",
            "[16786.26648722] [14859.]\n",
            "[25681.5258884] [26499.]\n",
            "[15088.62636332] [12999.]\n",
            "[38433.66961437] [28990.]\n",
            "[14809.82820686] [11999.]\n",
            "[17464.45942875] [16999.]\n",
            "[20351.50259084] [32999.]\n",
            "[29967.87690502] [34990.]\n",
            "[20347.59246158] [21990.]\n",
            "[10068.80367869] [11828.]\n",
            "[12297.04480986] [10999.]\n",
            "[12062.62330439] [9999.]\n",
            "[23657.34942116] [29990.]\n",
            "[12939.24953298] [13279.]\n",
            "[20203.95749531] [25999.]\n",
            "[17955.82146311] [14290.]\n",
            "[12062.62330439] [8968.]\n",
            "[15369.6566591] [12799.]\n",
            "[9436.31473104] [14999.]\n",
            "[14758.26368549] [11999.]\n",
            "[18699.53234308] [22999.]\n",
            "[12297.04480986] [11700.]\n",
            "[16380.05257746] [15499.]\n",
            "[15885.69564911] [13990.]\n",
            "[11004.33375863] [13969.]\n",
            "[49691.85076055] [43999.]\n",
            "[36813.70946263] [47990.]\n",
            "[42098.21938772] [134999.]\n",
            "[26599.53151406] [22999.]\n",
            "[18210.87507327] [13999.]\n",
            "[39979.66674979] [36499.]\n",
            "[19732.78586666] [16999.]\n",
            "[7851.22441565] [11490.]\n",
            "[13078.22110052] [11999.]\n",
            "[27724.43443278] [34999.]\n",
            "[53466.76743146] [49999.]\n",
            "[43157.97036085] [30990.]\n",
            "[8604.88184475] [9990.]\n",
            "[14927.51216348] [14700.]\n",
            "[21486.54344293] [25900.]\n",
            "[30118.64788213] [24990.]\n",
            "[29967.87690502] [29340.]\n",
            "[21698.18723493] [24999.]\n",
            "[23053.76657526] [21999.]\n",
            "[16927.69590949] [21999.]\n",
            "[23208.78574857] [24999.]\n",
            "[12390.55168074] [13466.]\n",
            "[12939.24953298] [13999.]\n",
            "[7683.16053964] [8910.]\n",
            "[17955.82146311] [15999.]\n",
            "[16888.33800474] [19990.]\n",
            "[16786.26648722] [14746.]\n",
            "[15715.36646485] [20990.]\n",
            "[22760.68558962] [22700.]\n",
            "[15178.36122569] [21990.]\n",
            "[15088.62636332] [13999.]\n",
            "[10598.39797577] [12489.]\n",
            "[36628.20618616] [29999.]\n",
            "[12939.24953298] [9499.]\n",
            "[41549.96411499] [39990.]\n",
            "[52367.51568125] [49959.]\n",
            "[47614.14582563] [39999.]\n",
            "[37276.30311052] [69990.]\n",
            "[33015.81050849] [26749.]\n",
            "[52297.39399135] [46999.]\n",
            "[28924.64999493] [26990.]\n",
            "[48770.78881378] [480000.]\n",
            "[17464.45942875] [14999.]\n",
            "[11388.47782659] [9022.]\n",
            "[39391.97746254] [19499.]\n",
            "[17608.74200557] [15990.]\n",
            "[12840.80477819] [11989.]\n",
            "[50677.17984663] [75990.]\n",
            "[16696.38919697] [14799.]\n",
            "Train accuracy: 0.6281634025323988\n",
            "Test accuracy: 0.1884540126633213\n",
            "35491.297690254265\n"
          ]
        },
        {
          "name": "stderr",
          "output_type": "stream",
          "text": [
            "c:\\Users\\andre\\Documents\\Github\\Mobile-Phone-Price-Prediction\\.venv\\lib\\site-packages\\sklearn\\utils\\validation.py:1408: DataConversionWarning: A column-vector y was passed when a 1d array was expected. Please change the shape of y to (n_samples, ), for example using ravel().\n",
            "  y = column_or_1d(y, warn=True)\n"
          ]
        },
        {
          "data": {
            "image/png": "[encoded data removed]",
            "text/plain": [
              "<Figure size 640x480 with 1 Axes>"
            ]
          },
          "metadata": {},
          "output_type": "display_data"
        }
      ],
      "source": [
        "import numpy as np\n",
        "import matplotlib.pyplot as plt\n",
        "\n",
        "\n",
        "from sklearn.preprocessing import StandardScaler\n",
        "from sklearn.model_selection import train_test_split\n",
        "\n",
        "sc_X = StandardScaler()\n",
        "sc_y = StandardScaler()\n",
        "scaled_X = sc_X.fit_transform(X)\n",
        "scaled_y = sc_y.fit_transform(y.to_numpy().reshape(-1, 1))\n",
        "\n",
        "X_train, X_test, y_train, y_test = train_test_split(scaled_X, scaled_y)\n",
        "\n",
        "\n",
        "from sklearn.svm import SVR\n",
        "regressor = SVR(kernel = 'rbf', epsilon=0.05)\n",
        "regressor.fit(X_train, y_train)\n",
        "\n",
        "pred = regressor.predict(X_test)\n",
        "pred = pd.DataFrame(pred)\n",
        "\n",
        "predicted_price = sc_y.inverse_transform(pred)\n",
        "real_price = sc_y.inverse_transform(y_test)\n",
        "from sklearn.metrics import root_mean_squared_error\n",
        "\n",
        "for est, real in zip(predicted_price, real_price):\n",
        "  print(est, real)\n",
        "\n",
        "print(f\"Train accuracy: {regressor.score(X_train, y_train)}\")\n",
        "print(f\"Test accuracy: {regressor.score(X_test, y_test)}\")\n",
        "print(root_mean_squared_error(real_price, predicted_price))\n",
        "\n",
        "graph_points = 50\n",
        "plt.scatter(range(graph_points), real_price[:graph_points], color = 'magenta')\n",
        "plt.plot(range(graph_points), predicted_price[:graph_points], color = 'green')\n",
        "plt.xlabel('Data')\n",
        "plt.ylabel('Price')\n",
        "plt.show()"
      ]
    }
  ],
  "metadata": {
    "colab": {
      "collapsed_sections": [
        "z9Z2l_uJbLXu",
        "jmlYcrCFAUyq",
        "EUxOX7UBbUeJ"
      ],
      "provenance": []
    },
    "kernelspec": {
      "display_name": ".venv",
      "language": "python",
      "name": "python3"
    },
    "language_info": {
      "codemirror_mode": {
        "name": "ipython",
        "version": 3
      },
      "file_extension": ".py",
      "mimetype": "text/x-python",
      "name": "python",
      "nbconvert_exporter": "python",
      "pygments_lexer": "ipython3",
      "version": "3.10.1"
    }
  },
  "nbformat": 4,
  "nbformat_minor": 0
}
