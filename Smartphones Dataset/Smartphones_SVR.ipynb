{
  "cells": [
    {
      "cell_type": "markdown",
      "metadata": {
        "colab_type": "text",
        "id": "view-in-github"
      },
      "source": [
        "<a href=\"https://colab.research.google.com/github/Intelligent-QuestionMark/Mobile-Phone-Price-Prediction/blob/smartphones-dataset-svr/Smartphones%20Dataset/Smartphones_SVR.ipynb\" target=\"_parent\"><img src=\"https://colab.research.google.com/assets/colab-badge.svg\" alt=\"Open In Colab\"/></a>"
      ]
    },
    {
      "cell_type": "markdown",
      "metadata": {
        "id": "IGE48odHQ3_8"
      },
      "source": [
        "# Preprocessing"
      ]
    },
    {
      "cell_type": "markdown",
      "metadata": {
        "id": "EUxOX7UBbUeJ"
      },
      "source": [
        "## The dataset"
      ]
    },
    {
      "cell_type": "code",
      "execution_count": 311,
      "metadata": {},
      "outputs": [
        {
          "name": "stdout",
          "output_type": "stream",
          "text": [
            "  brand_name                    model   price  avg_rating  5G_or_not  \\\n",
            "0      apple          Apple iPhone 11   38999        7.30          0   \n",
            "1      apple  Apple iPhone 11 (128GB)   46999        7.50          0   \n",
            "2      apple  Apple iPhone 11 Pro Max  109900        7.70          0   \n",
            "3      apple          Apple iPhone 12   51999        7.40          1   \n",
            "4      apple  Apple iPhone 12 (128GB)   55999        7.50          1   \n",
            "\n",
            "  processor_brand  num_cores  processor_speed  battery_capacity  \\\n",
            "0          bionic       6.00             2.65           3110.00   \n",
            "1          bionic       6.00             2.65           3110.00   \n",
            "2          bionic       6.00             2.65           3500.00   \n",
            "3          bionic       6.00             3.10               NaN   \n",
            "4          bionic       6.00             3.10               NaN   \n",
            "\n",
            "   fast_charging_available  fast_charging  ram_capacity  internal_memory  \\\n",
            "0                        0            NaN             4               64   \n",
            "1                        0            NaN             4              128   \n",
            "2                        1          18.00             4               64   \n",
            "3                        0            NaN             4               64   \n",
            "4                        0            NaN             4              128   \n",
            "\n",
            "   screen_size  refresh_rate  num_rear_cameras   os  primary_camera_rear  \\\n",
            "0         6.10            60                 2  ios                12.00   \n",
            "1         6.10            60                 2  ios                12.00   \n",
            "2         6.50            60                 3  ios                12.00   \n",
            "3         6.10            60                 2  ios                12.00   \n",
            "4         6.10            60                 2  ios                12.00   \n",
            "\n",
            "   primary_camera_front  extended_memory_available  resolution_height  \\\n",
            "0                 12.00                          0               1792   \n",
            "1                 12.00                          0               1792   \n",
            "2                 12.00                          0               2688   \n",
            "3                 12.00                          0               2532   \n",
            "4                 12.00                          0               2532   \n",
            "\n",
            "   resolution_width  \n",
            "0               828  \n",
            "1               828  \n",
            "2              1242  \n",
            "3              1170  \n",
            "4              1170  \n"
          ]
        }
      ],
      "source": [
        "import pandas as pd\n",
        "\n",
        "data = pd.read_csv(\"smartphones.csv\")\n",
        "print(data.head())\n",
        "y = data['price']"
      ]
    },
    {
      "cell_type": "markdown",
      "metadata": {},
      "source": [
        "Using TargetEncoder to encode categorical features"
      ]
    },
    {
      "cell_type": "code",
      "execution_count": 312,
      "metadata": {},
      "outputs": [],
      "source": [
        "from sklearn.preprocessing import TargetEncoder\n",
        "\n",
        "encoder = TargetEncoder(target_type=\"continuous\")\n",
        "data['brand_name_encoded'] = encoder.fit_transform(data[['brand_name']], y)\n",
        "data['processor_brand_encoded'] = encoder.fit_transform(data[['processor_brand']], y)\n",
        "data['os_encoded'] = encoder.fit_transform(data[['os']], y)\n",
        "\n",
        "del data['model']\n",
        "del data['brand_name']\n",
        "del data['processor_brand']\n",
        "del data['os']"
      ]
    },
    {
      "cell_type": "markdown",
      "metadata": {},
      "source": [
        "Drop samples with empty columns and separate features from target feature, price. Then select the top 10 features based on their mutual information (nat) score."
      ]
    },
    {
      "cell_type": "code",
      "execution_count": 313,
      "metadata": {
        "colab": {
          "base_uri": "https://localhost:8080/"
        },
        "id": "lhoIvRv5QVGD",
        "outputId": "4c0d3333-50c4-40a3-cfd6-cd7c2024a48a"
      },
      "outputs": [
        {
          "name": "stdout",
          "output_type": "stream",
          "text": [
            "                      Feature  Score\n",
            "0                  avg_rating   0.81\n",
            "3             processor_speed   0.55\n",
            "7                ram_capacity   0.48\n",
            "6               fast_charging   0.43\n",
            "8             internal_memory   0.40\n",
            "13       primary_camera_front   0.33\n",
            "9                 screen_size   0.28\n",
            "14  extended_memory_available   0.25\n",
            "10               refresh_rate   0.24\n",
            "4            battery_capacity   0.22\n",
            "15          resolution_height   0.22\n",
            "1                   5G_or_not   0.22\n",
            "18    processor_brand_encoded   0.21\n",
            "16           resolution_width   0.20\n",
            "12        primary_camera_rear   0.19\n",
            "11           num_rear_cameras   0.11\n",
            "19                 os_encoded   0.05\n",
            "5     fast_charging_available   0.02\n",
            "17         brand_name_encoded   0.02\n",
            "2                   num_cores   0.01\n",
            "\n",
            "Selected Features: ['avg_rating' 'processor_speed' 'fast_charging' 'ram_capacity'\n",
            " 'internal_memory' 'screen_size' 'refresh_rate' 'primary_camera_front'\n",
            " 'extended_memory_available' 'resolution_height']\n"
          ]
        },
        {
          "name": "stderr",
          "output_type": "stream",
          "text": [
            "c:\\Users\\andre\\Documents\\GitHub\\Mobile-Phone-Price-Prediction\\.venv\\lib\\site-packages\\sklearn\\utils\\validation.py:1408: DataConversionWarning: A column-vector y was passed when a 1d array was expected. Please change the shape of y to (n_samples, ), for example using ravel().\n",
            "  y = column_or_1d(y, warn=True)\n",
            "c:\\Users\\andre\\Documents\\GitHub\\Mobile-Phone-Price-Prediction\\.venv\\lib\\site-packages\\sklearn\\utils\\validation.py:1408: DataConversionWarning: A column-vector y was passed when a 1d array was expected. Please change the shape of y to (n_samples, ), for example using ravel().\n",
            "  y = column_or_1d(y, warn=True)\n"
          ]
        }
      ],
      "source": [
        "from sklearn.feature_selection import mutual_info_regression, SelectKBest\n",
        "data = data.dropna()\n",
        "\n",
        "y = data['price']\n",
        "dollars = []\n",
        "for price in y:\n",
        "    dollars.append(int(price) / 100)\n",
        "y = pd.DataFrame(dollars)\n",
        "X = data.drop('price', axis=1)\n",
        "\n",
        "\n",
        "mutual_info = mutual_info_regression(X, y)\n",
        "\n",
        "# Create a DataFrame for better visualization\n",
        "feature_scores = pd.DataFrame({\n",
        "    'Feature': X.columns,\n",
        "    'Score': mutual_info,\n",
        "}).sort_values(by='Score', ascending=False)\n",
        "\n",
        "# Display the feature importance scores\n",
        "print(feature_scores)\n",
        "\n",
        "select = SelectKBest(mutual_info_regression, k=10).fit(X, y)\n",
        "X = select.transform(X)\n",
        "print(f\"\\nSelected Features: {select.get_feature_names_out()}\")"
      ]
    },
    {
      "cell_type": "markdown",
      "metadata": {
        "id": "lK16VvyNQ2TQ"
      },
      "source": [
        "# Training and testing"
      ]
    },
    {
      "cell_type": "markdown",
      "metadata": {},
      "source": [
        "Scaling features"
      ]
    },
    {
      "cell_type": "code",
      "execution_count": 314,
      "metadata": {},
      "outputs": [],
      "source": [
        "from sklearn.preprocessing import StandardScaler\n",
        "sc_X = StandardScaler()\n",
        "sc_y = StandardScaler()\n",
        "scaled_X = sc_X.fit_transform(X)\n",
        "scaled_y = sc_y.fit_transform(y.to_numpy().reshape(-1, 1))"
      ]
    },
    {
      "cell_type": "markdown",
      "metadata": {},
      "source": [
        "Split the dataset into test data and training data"
      ]
    },
    {
      "cell_type": "code",
      "execution_count": 315,
      "metadata": {},
      "outputs": [],
      "source": [
        "from sklearn.model_selection import train_test_split\n",
        "X_train, X_test, y_train, y_test = train_test_split(scaled_X, scaled_y, test_size=0.1)"
      ]
    },
    {
      "cell_type": "markdown",
      "metadata": {},
      "source": [
        "Fit the training data to the model, and test by performing predictions on the test data"
      ]
    },
    {
      "cell_type": "code",
      "execution_count": 316,
      "metadata": {
        "colab": {
          "base_uri": "https://localhost:8080/",
          "height": 1000
        },
        "id": "ng8JrCzlTC8o",
        "outputId": "14305754-a1f0-4cb4-f2f2-bd3262eb3226"
      },
      "outputs": [
        {
          "name": "stderr",
          "output_type": "stream",
          "text": [
            "c:\\Users\\andre\\Documents\\GitHub\\Mobile-Phone-Price-Prediction\\.venv\\lib\\site-packages\\sklearn\\utils\\validation.py:1408: DataConversionWarning: A column-vector y was passed when a 1d array was expected. Please change the shape of y to (n_samples, ), for example using ravel().\n",
            "  y = column_or_1d(y, warn=True)\n"
          ]
        }
      ],
      "source": [
        "from sklearn.svm import SVR\n",
        "regressor = SVR(kernel = 'rbf')\n",
        "regressor.fit(X_train, y_train)\n",
        "\n",
        "pred = regressor.predict(X_test)\n",
        "pred = pd.DataFrame(pred)\n",
        "\n",
        "# Revert scaled values to price information\n",
        "predicted_price = sc_y.inverse_transform(pred)\n",
        "real_price = sc_y.inverse_transform(y_test)"
      ]
    },
    {
      "cell_type": "markdown",
      "metadata": {},
      "source": [
        "Summarize performance"
      ]
    },
    {
      "cell_type": "code",
      "execution_count": 317,
      "metadata": {},
      "outputs": [
        {
          "name": "stdout",
          "output_type": "stream",
          "text": [
            "Train accuracy: 0.45493362072255084\n",
            "Test accuracy: 0.7977293749250545\n",
            "RMSE: $65.13932108333728\n"
          ]
        },
        {
          "data": {
            "image/png": "[encoded data removed]",
            "text/plain": [
              "<Figure size 640x480 with 1 Axes>"
            ]
          },
          "metadata": {},
          "output_type": "display_data"
        }
      ],
      "source": [
        "from sklearn.metrics import root_mean_squared_error\n",
        "\n",
        "print(f\"Train accuracy: {regressor.score(X_train, y_train)}\")\n",
        "print(f\"Test accuracy: {regressor.score(X_test, y_test)}\")\n",
        "print(f\"RMSE: ${root_mean_squared_error(real_price, predicted_price)}\")\n",
        "\n",
        "import matplotlib.pyplot as plt\n",
        "graph_points = 50\n",
        "plt.scatter(range(graph_points), real_price[:graph_points], color = 'magenta')\n",
        "plt.plot(range(graph_points), predicted_price[:graph_points], color = 'green')\n",
        "plt.xlabel('Data')\n",
        "plt.ylabel('Price')\n",
        "plt.show()"
      ]
    }
  ],
  "metadata": {
    "colab": {
      "collapsed_sections": [
        "z9Z2l_uJbLXu",
        "jmlYcrCFAUyq",
        "EUxOX7UBbUeJ"
      ],
      "include_colab_link": true,
      "provenance": []
    },
    "kernelspec": {
      "display_name": ".venv",
      "language": "python",
      "name": "python3"
    },
    "language_info": {
      "codemirror_mode": {
        "name": "ipython",
        "version": 3
      },
      "file_extension": ".py",
      "mimetype": "text/x-python",
      "name": "python",
      "nbconvert_exporter": "python",
      "pygments_lexer": "ipython3",
      "version": "3.10.11"
    }
  },
  "nbformat": 4,
  "nbformat_minor": 0
}
