{
  "nbformat": 4,
  "nbformat_minor": 0,
  "metadata": {
    "colab": {
      "provenance": []
    },
    "kernelspec": {
      "name": "python3",
      "display_name": "Python 3"
    },
    "language_info": {
      "name": "python"
    }
  },
  "cells": [
    {
      "cell_type": "markdown",
      "source": [
        "#Mobiles Dataset (2025) Random Foreest"
      ],
      "metadata": {
        "id": "BMIyna4JF63K"
      }
    },
    {
      "cell_type": "markdown",
      "source": [
        "##Set up"
      ],
      "metadata": {
        "id": "vWcwGAYFtyrl"
      }
    },
    {
      "cell_type": "code",
      "source": [
        "use_grid_search = False\n",
        "use_feature_selection = False"
      ],
      "metadata": {
        "id": "olkBfoMSttdL"
      },
      "execution_count": null,
      "outputs": []
    },
    {
      "cell_type": "code",
      "source": [
        "# choice = ''\n",
        "# while choice not in ['1', '2']:\n",
        "#   print('1. Use Grid Search')\n",
        "#   print('2. Use Default Parameters')\n",
        "#   choice = input('Enter your choice:')\n",
        "\n",
        "# if choice == '1':\n",
        "#   use_grid_search = True\n",
        "# else:\n",
        "#   use_grid_search = False\n",
        "\n",
        "\n",
        "# choice = ''\n",
        "# while choice not in ['1', '2']:\n",
        "#   print('1. Use Feature Selection')\n",
        "#   print('2. Do not use Feature Selection')\n",
        "#   choice = input('Enter your choice:')\n",
        "\n",
        "# if choice == '1':\n",
        "#   use_feature_selection = True\n",
        "# else:\n",
        "#   use_feature_selection = False"
      ],
      "metadata": {
        "id": "5MRKa2_br7f1"
      },
      "execution_count": null,
      "outputs": []
    },
    {
      "cell_type": "markdown",
      "source": [
        "##Libraries"
      ],
      "metadata": {
        "id": "I77pLlGiPXkb"
      }
    },
    {
      "cell_type": "code",
      "execution_count": null,
      "metadata": {
        "id": "plSZU5ghOvfw"
      },
      "outputs": [],
      "source": [
        "import pandas as pd\n",
        "from sklearn.model_selection import train_test_split\n",
        "from sklearn.preprocessing import StandardScaler, OneHotEncoder, TargetEncoder, LabelEncoder\n",
        "import numpy as np\n",
        "from sklearn.ensemble import RandomForestRegressor\n",
        "from sklearn.metrics import mean_absolute_error, mean_absolute_percentage_error\n",
        "from sklearn.feature_selection import SelectFromModel\n",
        "from sklearn.model_selection import GridSearchCV\n",
        "import matplotlib.pyplot as plt\n",
        "import seaborn as sns"
      ]
    },
    {
      "cell_type": "markdown",
      "source": [
        "##Importing Dataset"
      ],
      "metadata": {
        "id": "GriS9fQYPRg1"
      }
    },
    {
      "cell_type": "code",
      "source": [
        "data = pd.read_csv(\"Mobiles Dataset (2025).csv\", encoding = \"latin-1\")\n",
        "\n",
        "data.head()"
      ],
      "metadata": {
        "colab": {
          "base_uri": "https://localhost:8080/",
          "height": 310
        },
        "id": "FesrcG5hPdZA",
        "outputId": "e8fc55fc-6f43-46d1-96c0-ba2b40e75682"
      },
      "execution_count": null,
      "outputs": [
        {
          "output_type": "execute_result",
          "data": {
            "text/plain": [
              "  Company Name            Model Name Mobile Weight  RAM Front Camera  \\\n",
              "0        Apple       iPhone 16 128GB          174g  6GB         12MP   \n",
              "1        Apple       iPhone 16 256GB          174g  6GB         12MP   \n",
              "2        Apple       iPhone 16 512GB          174g  6GB         12MP   \n",
              "3        Apple  iPhone 16 Plus 128GB          203g  6GB         12MP   \n",
              "4        Apple  iPhone 16 Plus 256GB          203g  6GB         12MP   \n",
              "\n",
              "  Back Camera   Processor Battery Capacity Screen Size  \\\n",
              "0        48MP  A17 Bionic         3,600mAh  6.1 inches   \n",
              "1        48MP  A17 Bionic         3,600mAh  6.1 inches   \n",
              "2        48MP  A17 Bionic         3,600mAh  6.1 inches   \n",
              "3        48MP  A17 Bionic         4,200mAh  6.7 inches   \n",
              "4        48MP  A17 Bionic         4,200mAh  6.7 inches   \n",
              "\n",
              "  Launched Price (Pakistan) Launched Price (India) Launched Price (China)  \\\n",
              "0               PKR 224,999             INR 79,999              CNY 5,799   \n",
              "1               PKR 234,999             INR 84,999              CNY 6,099   \n",
              "2               PKR 244,999             INR 89,999              CNY 6,499   \n",
              "3               PKR 249,999             INR 89,999              CNY 6,199   \n",
              "4               PKR 259,999             INR 94,999              CNY 6,499   \n",
              "\n",
              "  Launched Price (USA) Launched Price (Dubai)  Launched Year  \n",
              "0              USD 799              AED 2,799           2024  \n",
              "1              USD 849              AED 2,999           2024  \n",
              "2              USD 899              AED 3,199           2024  \n",
              "3              USD 899              AED 3,199           2024  \n",
              "4              USD 949              AED 3,399           2024  "
            ],
            "text/html": [
              "\n",
              "  <div id=\"df-76d3c1ce-c406-4e8e-9151-563908a55a44\" class=\"colab-df-container\">\n",
              "    <div>\n",
              "<style scoped>\n",
              "    .dataframe tbody tr th:only-of-type {\n",
              "        vertical-align: middle;\n",
              "    }\n",
              "\n",
              "    .dataframe tbody tr th {\n",
              "        vertical-align: top;\n",
              "    }\n",
              "\n",
              "    .dataframe thead th {\n",
              "        text-align: right;\n",
              "    }\n",
              "</style>\n",
              "<table border=\"1\" class=\"dataframe\">\n",
              "  <thead>\n",
              "    <tr style=\"text-align: right;\">\n",
              "      <th></th>\n",
              "      <th>Company Name</th>\n",
              "      <th>Model Name</th>\n",
              "      <th>Mobile Weight</th>\n",
              "      <th>RAM</th>\n",
              "      <th>Front Camera</th>\n",
              "      <th>Back Camera</th>\n",
              "      <th>Processor</th>\n",
              "      <th>Battery Capacity</th>\n",
              "      <th>Screen Size</th>\n",
              "      <th>Launched Price (Pakistan)</th>\n",
              "      <th>Launched Price (India)</th>\n",
              "      <th>Launched Price (China)</th>\n",
              "      <th>Launched Price (USA)</th>\n",
              "      <th>Launched Price (Dubai)</th>\n",
              "      <th>Launched Year</th>\n",
              "    </tr>\n",
              "  </thead>\n",
              "  <tbody>\n",
              "    <tr>\n",
              "      <th>0</th>\n",
              "      <td>Apple</td>\n",
              "      <td>iPhone 16 128GB</td>\n",
              "      <td>174g</td>\n",
              "      <td>6GB</td>\n",
              "      <td>12MP</td>\n",
              "      <td>48MP</td>\n",
              "      <td>A17 Bionic</td>\n",
              "      <td>3,600mAh</td>\n",
              "      <td>6.1 inches</td>\n",
              "      <td>PKR 224,999</td>\n",
              "      <td>INR 79,999</td>\n",
              "      <td>CNY 5,799</td>\n",
              "      <td>USD 799</td>\n",
              "      <td>AED 2,799</td>\n",
              "      <td>2024</td>\n",
              "    </tr>\n",
              "    <tr>\n",
              "      <th>1</th>\n",
              "      <td>Apple</td>\n",
              "      <td>iPhone 16 256GB</td>\n",
              "      <td>174g</td>\n",
              "      <td>6GB</td>\n",
              "      <td>12MP</td>\n",
              "      <td>48MP</td>\n",
              "      <td>A17 Bionic</td>\n",
              "      <td>3,600mAh</td>\n",
              "      <td>6.1 inches</td>\n",
              "      <td>PKR 234,999</td>\n",
              "      <td>INR 84,999</td>\n",
              "      <td>CNY 6,099</td>\n",
              "      <td>USD 849</td>\n",
              "      <td>AED 2,999</td>\n",
              "      <td>2024</td>\n",
              "    </tr>\n",
              "    <tr>\n",
              "      <th>2</th>\n",
              "      <td>Apple</td>\n",
              "      <td>iPhone 16 512GB</td>\n",
              "      <td>174g</td>\n",
              "      <td>6GB</td>\n",
              "      <td>12MP</td>\n",
              "      <td>48MP</td>\n",
              "      <td>A17 Bionic</td>\n",
              "      <td>3,600mAh</td>\n",
              "      <td>6.1 inches</td>\n",
              "      <td>PKR 244,999</td>\n",
              "      <td>INR 89,999</td>\n",
              "      <td>CNY 6,499</td>\n",
              "      <td>USD 899</td>\n",
              "      <td>AED 3,199</td>\n",
              "      <td>2024</td>\n",
              "    </tr>\n",
              "    <tr>\n",
              "      <th>3</th>\n",
              "      <td>Apple</td>\n",
              "      <td>iPhone 16 Plus 128GB</td>\n",
              "      <td>203g</td>\n",
              "      <td>6GB</td>\n",
              "      <td>12MP</td>\n",
              "      <td>48MP</td>\n",
              "      <td>A17 Bionic</td>\n",
              "      <td>4,200mAh</td>\n",
              "      <td>6.7 inches</td>\n",
              "      <td>PKR 249,999</td>\n",
              "      <td>INR 89,999</td>\n",
              "      <td>CNY 6,199</td>\n",
              "      <td>USD 899</td>\n",
              "      <td>AED 3,199</td>\n",
              "      <td>2024</td>\n",
              "    </tr>\n",
              "    <tr>\n",
              "      <th>4</th>\n",
              "      <td>Apple</td>\n",
              "      <td>iPhone 16 Plus 256GB</td>\n",
              "      <td>203g</td>\n",
              "      <td>6GB</td>\n",
              "      <td>12MP</td>\n",
              "      <td>48MP</td>\n",
              "      <td>A17 Bionic</td>\n",
              "      <td>4,200mAh</td>\n",
              "      <td>6.7 inches</td>\n",
              "      <td>PKR 259,999</td>\n",
              "      <td>INR 94,999</td>\n",
              "      <td>CNY 6,499</td>\n",
              "      <td>USD 949</td>\n",
              "      <td>AED 3,399</td>\n",
              "      <td>2024</td>\n",
              "    </tr>\n",
              "  </tbody>\n",
              "</table>\n",
              "</div>\n",
              "    <div class=\"colab-df-buttons\">\n",
              "\n",
              "  <div class=\"colab-df-container\">\n",
              "    <button class=\"colab-df-convert\" onclick=\"convertToInteractive('df-76d3c1ce-c406-4e8e-9151-563908a55a44')\"\n",
              "            title=\"Convert this dataframe to an interactive table.\"\n",
              "            style=\"display:none;\">\n",
              "\n",
              "  <svg xmlns=\"http://www.w3.org/2000/svg\" height=\"24px\" viewBox=\"0 -960 960 960\">\n",
              "    <path d=\"M120-120v-720h720v720H120Zm60-500h600v-160H180v160Zm220 220h160v-160H400v160Zm0 220h160v-160H400v160ZM180-400h160v-160H180v160Zm440 0h160v-160H620v160ZM180-180h160v-160H180v160Zm440 0h160v-160H620v160Z\"/>\n",
              "  </svg>\n",
              "    </button>\n",
              "\n",
              "  <style>\n",
              "    .colab-df-container {\n",
              "      display:flex;\n",
              "      gap: 12px;\n",
              "    }\n",
              "\n",
              "    .colab-df-convert {\n",
              "      background-color: #E8F0FE;\n",
              "      border: none;\n",
              "      border-radius: 50%;\n",
              "      cursor: pointer;\n",
              "      display: none;\n",
              "      fill: #1967D2;\n",
              "      height: 32px;\n",
              "      padding: 0 0 0 0;\n",
              "      width: 32px;\n",
              "    }\n",
              "\n",
              "    .colab-df-convert:hover {\n",
              "      background-color: #E2EBFA;\n",
              "      box-shadow: 0px 1px 2px rgba(60, 64, 67, 0.3), 0px 1px 3px 1px rgba(60, 64, 67, 0.15);\n",
              "      fill: #174EA6;\n",
              "    }\n",
              "\n",
              "    .colab-df-buttons div {\n",
              "      margin-bottom: 4px;\n",
              "    }\n",
              "\n",
              "    [theme=dark] .colab-df-convert {\n",
              "      background-color: #3B4455;\n",
              "      fill: #D2E3FC;\n",
              "    }\n",
              "\n",
              "    [theme=dark] .colab-df-convert:hover {\n",
              "      background-color: #434B5C;\n",
              "      box-shadow: 0px 1px 3px 1px rgba(0, 0, 0, 0.15);\n",
              "      filter: drop-shadow(0px 1px 2px rgba(0, 0, 0, 0.3));\n",
              "      fill: #FFFFFF;\n",
              "    }\n",
              "  </style>\n",
              "\n",
              "    <script>\n",
              "      const buttonEl =\n",
              "        document.querySelector('#df-76d3c1ce-c406-4e8e-9151-563908a55a44 button.colab-df-convert');\n",
              "      buttonEl.style.display =\n",
              "        google.colab.kernel.accessAllowed ? 'block' : 'none';\n",
              "\n",
              "      async function convertToInteractive(key) {\n",
              "        const element = document.querySelector('#df-76d3c1ce-c406-4e8e-9151-563908a55a44');\n",
              "        const dataTable =\n",
              "          await google.colab.kernel.invokeFunction('convertToInteractive',\n",
              "                                                    [key], {});\n",
              "        if (!dataTable) return;\n",
              "\n",
              "        const docLinkHtml = 'Like what you see? Visit the ' +\n",
              "          '<a target=\"_blank\" href=https://colab.research.google.com/notebooks/data_table.ipynb>data table notebook</a>'\n",
              "          + ' to learn more about interactive tables.';\n",
              "        element.innerHTML = '';\n",
              "        dataTable['output_type'] = 'display_data';\n",
              "        await google.colab.output.renderOutput(dataTable, element);\n",
              "        const docLink = document.createElement('div');\n",
              "        docLink.innerHTML = docLinkHtml;\n",
              "        element.appendChild(docLink);\n",
              "      }\n",
              "    </script>\n",
              "  </div>\n",
              "\n",
              "\n",
              "    <div id=\"df-579fbc5a-51b5-4f8f-b4e1-2aae1492261e\">\n",
              "      <button class=\"colab-df-quickchart\" onclick=\"quickchart('df-579fbc5a-51b5-4f8f-b4e1-2aae1492261e')\"\n",
              "                title=\"Suggest charts\"\n",
              "                style=\"display:none;\">\n",
              "\n",
              "<svg xmlns=\"http://www.w3.org/2000/svg\" height=\"24px\"viewBox=\"0 0 24 24\"\n",
              "     width=\"24px\">\n",
              "    <g>\n",
              "        <path d=\"M19 3H5c-1.1 0-2 .9-2 2v14c0 1.1.9 2 2 2h14c1.1 0 2-.9 2-2V5c0-1.1-.9-2-2-2zM9 17H7v-7h2v7zm4 0h-2V7h2v10zm4 0h-2v-4h2v4z\"/>\n",
              "    </g>\n",
              "</svg>\n",
              "      </button>\n",
              "\n",
              "<style>\n",
              "  .colab-df-quickchart {\n",
              "      --bg-color: #E8F0FE;\n",
              "      --fill-color: #1967D2;\n",
              "      --hover-bg-color: #E2EBFA;\n",
              "      --hover-fill-color: #174EA6;\n",
              "      --disabled-fill-color: #AAA;\n",
              "      --disabled-bg-color: #DDD;\n",
              "  }\n",
              "\n",
              "  [theme=dark] .colab-df-quickchart {\n",
              "      --bg-color: #3B4455;\n",
              "      --fill-color: #D2E3FC;\n",
              "      --hover-bg-color: #434B5C;\n",
              "      --hover-fill-color: #FFFFFF;\n",
              "      --disabled-bg-color: #3B4455;\n",
              "      --disabled-fill-color: #666;\n",
              "  }\n",
              "\n",
              "  .colab-df-quickchart {\n",
              "    background-color: var(--bg-color);\n",
              "    border: none;\n",
              "    border-radius: 50%;\n",
              "    cursor: pointer;\n",
              "    display: none;\n",
              "    fill: var(--fill-color);\n",
              "    height: 32px;\n",
              "    padding: 0;\n",
              "    width: 32px;\n",
              "  }\n",
              "\n",
              "  .colab-df-quickchart:hover {\n",
              "    background-color: var(--hover-bg-color);\n",
              "    box-shadow: 0 1px 2px rgba(60, 64, 67, 0.3), 0 1px 3px 1px rgba(60, 64, 67, 0.15);\n",
              "    fill: var(--button-hover-fill-color);\n",
              "  }\n",
              "\n",
              "  .colab-df-quickchart-complete:disabled,\n",
              "  .colab-df-quickchart-complete:disabled:hover {\n",
              "    background-color: var(--disabled-bg-color);\n",
              "    fill: var(--disabled-fill-color);\n",
              "    box-shadow: none;\n",
              "  }\n",
              "\n",
              "  .colab-df-spinner {\n",
              "    border: 2px solid var(--fill-color);\n",
              "    border-color: transparent;\n",
              "    border-bottom-color: var(--fill-color);\n",
              "    animation:\n",
              "      spin 1s steps(1) infinite;\n",
              "  }\n",
              "\n",
              "  @keyframes spin {\n",
              "    0% {\n",
              "      border-color: transparent;\n",
              "      border-bottom-color: var(--fill-color);\n",
              "      border-left-color: var(--fill-color);\n",
              "    }\n",
              "    20% {\n",
              "      border-color: transparent;\n",
              "      border-left-color: var(--fill-color);\n",
              "      border-top-color: var(--fill-color);\n",
              "    }\n",
              "    30% {\n",
              "      border-color: transparent;\n",
              "      border-left-color: var(--fill-color);\n",
              "      border-top-color: var(--fill-color);\n",
              "      border-right-color: var(--fill-color);\n",
              "    }\n",
              "    40% {\n",
              "      border-color: transparent;\n",
              "      border-right-color: var(--fill-color);\n",
              "      border-top-color: var(--fill-color);\n",
              "    }\n",
              "    60% {\n",
              "      border-color: transparent;\n",
              "      border-right-color: var(--fill-color);\n",
              "    }\n",
              "    80% {\n",
              "      border-color: transparent;\n",
              "      border-right-color: var(--fill-color);\n",
              "      border-bottom-color: var(--fill-color);\n",
              "    }\n",
              "    90% {\n",
              "      border-color: transparent;\n",
              "      border-bottom-color: var(--fill-color);\n",
              "    }\n",
              "  }\n",
              "</style>\n",
              "\n",
              "      <script>\n",
              "        async function quickchart(key) {\n",
              "          const quickchartButtonEl =\n",
              "            document.querySelector('#' + key + ' button');\n",
              "          quickchartButtonEl.disabled = true;  // To prevent multiple clicks.\n",
              "          quickchartButtonEl.classList.add('colab-df-spinner');\n",
              "          try {\n",
              "            const charts = await google.colab.kernel.invokeFunction(\n",
              "                'suggestCharts', [key], {});\n",
              "          } catch (error) {\n",
              "            console.error('Error during call to suggestCharts:', error);\n",
              "          }\n",
              "          quickchartButtonEl.classList.remove('colab-df-spinner');\n",
              "          quickchartButtonEl.classList.add('colab-df-quickchart-complete');\n",
              "        }\n",
              "        (() => {\n",
              "          let quickchartButtonEl =\n",
              "            document.querySelector('#df-579fbc5a-51b5-4f8f-b4e1-2aae1492261e button');\n",
              "          quickchartButtonEl.style.display =\n",
              "            google.colab.kernel.accessAllowed ? 'block' : 'none';\n",
              "        })();\n",
              "      </script>\n",
              "    </div>\n",
              "\n",
              "    </div>\n",
              "  </div>\n"
            ],
            "application/vnd.google.colaboratory.intrinsic+json": {
              "type": "dataframe",
              "variable_name": "data",
              "summary": "{\n  \"name\": \"data\",\n  \"rows\": 930,\n  \"fields\": [\n    {\n      \"column\": \"Company Name\",\n      \"properties\": {\n        \"dtype\": \"category\",\n        \"num_unique_values\": 19,\n        \"samples\": [\n          \"Apple\",\n          \"Oppo\",\n          \"Nokia\"\n        ],\n        \"semantic_type\": \"\",\n        \"description\": \"\"\n      }\n    },\n    {\n      \"column\": \"Model Name\",\n      \"properties\": {\n        \"dtype\": \"string\",\n        \"num_unique_values\": 908,\n        \"samples\": [\n          \"Pad X8a Kids Edition\",\n          \"GT 6 512GB\",\n          \"A3 128GB\"\n        ],\n        \"semantic_type\": \"\",\n        \"description\": \"\"\n      }\n    },\n    {\n      \"column\": \"Mobile Weight\",\n      \"properties\": {\n        \"dtype\": \"category\",\n        \"num_unique_values\": 148,\n        \"samples\": [\n          \"450g\",\n          \"503g\",\n          \"460g\"\n        ],\n        \"semantic_type\": \"\",\n        \"description\": \"\"\n      }\n    },\n    {\n      \"column\": \"RAM\",\n      \"properties\": {\n        \"dtype\": \"category\",\n        \"num_unique_values\": 11,\n        \"samples\": [\n          \"2GB\",\n          \"6GB\",\n          \"1GB\"\n        ],\n        \"semantic_type\": \"\",\n        \"description\": \"\"\n      }\n    },\n    {\n      \"column\": \"Front Camera\",\n      \"properties\": {\n        \"dtype\": \"category\",\n        \"num_unique_values\": 29,\n        \"samples\": [\n          \"42MP\",\n          \"25MP\",\n          \"24MP\"\n        ],\n        \"semantic_type\": \"\",\n        \"description\": \"\"\n      }\n    },\n    {\n      \"column\": \"Back Camera\",\n      \"properties\": {\n        \"dtype\": \"category\",\n        \"num_unique_values\": 91,\n        \"samples\": [\n          \"48MP + 64MP + 48MP\",\n          \"16MP + 8MP\",\n          \"50MP + 13MP + 16MP + 2MP\"\n        ],\n        \"semantic_type\": \"\",\n        \"description\": \"\"\n      }\n    },\n    {\n      \"column\": \"Processor\",\n      \"properties\": {\n        \"dtype\": \"category\",\n        \"num_unique_values\": 217,\n        \"samples\": [\n          \"MediaTek MT8786\",\n          \"MediaTek Dimensity 8300\",\n          \"Snapdragon 632\"\n        ],\n        \"semantic_type\": \"\",\n        \"description\": \"\"\n      }\n    },\n    {\n      \"column\": \"Battery Capacity\",\n      \"properties\": {\n        \"dtype\": \"category\",\n        \"num_unique_values\": 147,\n        \"samples\": [\n          \"4,410mAh\",\n          \"7600mAh\",\n          \"7,250mAh\"\n        ],\n        \"semantic_type\": \"\",\n        \"description\": \"\"\n      }\n    },\n    {\n      \"column\": \"Screen Size\",\n      \"properties\": {\n        \"dtype\": \"category\",\n        \"num_unique_values\": 97,\n        \"samples\": [\n          \"7.1 inches\",\n          \"6.67 inches\",\n          \"12.6 inches\"\n        ],\n        \"semantic_type\": \"\",\n        \"description\": \"\"\n      }\n    },\n    {\n      \"column\": \"Launched Price (Pakistan)\",\n      \"properties\": {\n        \"dtype\": \"category\",\n        \"num_unique_values\": 157,\n        \"samples\": [\n          \"PKR 56,999\",\n          \"PKR 350,000\",\n          \"PKR 38,999\"\n        ],\n        \"semantic_type\": \"\",\n        \"description\": \"\"\n      }\n    },\n    {\n      \"column\": \"Launched Price (India)\",\n      \"properties\": {\n        \"dtype\": \"category\",\n        \"num_unique_values\": 147,\n        \"samples\": [\n          \"INR 7,499\",\n          \"INR 20,999\",\n          \"INR 169,999\"\n        ],\n        \"semantic_type\": \"\",\n        \"description\": \"\"\n      }\n    },\n    {\n      \"column\": \"Launched Price (China)\",\n      \"properties\": {\n        \"dtype\": \"category\",\n        \"num_unique_values\": 137,\n        \"samples\": [\n          \"CNY 1,100\",\n          \"CNY 1,200\",\n          \"CNY 5,699\"\n        ],\n        \"semantic_type\": \"\",\n        \"description\": \"\"\n      }\n    },\n    {\n      \"column\": \"Launched Price (USA)\",\n      \"properties\": {\n        \"dtype\": \"category\",\n        \"num_unique_values\": 107,\n        \"samples\": [\n          \"USD 399.00\",\n          \"USD 699\",\n          \"USD 999\"\n        ],\n        \"semantic_type\": \"\",\n        \"description\": \"\"\n      }\n    },\n    {\n      \"column\": \"Launched Price (Dubai)\",\n      \"properties\": {\n        \"dtype\": \"category\",\n        \"num_unique_values\": 141,\n        \"samples\": [\n          \"AED 800\",\n          \"AED 770\",\n          \"AED 6,999\"\n        ],\n        \"semantic_type\": \"\",\n        \"description\": \"\"\n      }\n    },\n    {\n      \"column\": \"Launched Year\",\n      \"properties\": {\n        \"dtype\": \"number\",\n        \"std\": 1,\n        \"min\": 2014,\n        \"max\": 2025,\n        \"num_unique_values\": 11,\n        \"samples\": [\n          2019,\n          2024,\n          2014\n        ],\n        \"semantic_type\": \"\",\n        \"description\": \"\"\n      }\n    }\n  ]\n}"
            }
          },
          "metadata": {},
          "execution_count": 4
        }
      ]
    },
    {
      "cell_type": "code",
      "source": [
        "data.columns"
      ],
      "metadata": {
        "colab": {
          "base_uri": "https://localhost:8080/"
        },
        "id": "EO6qxafuLfOB",
        "outputId": "cbd44326-f758-4bb7-ab12-92bc4f6a33f9"
      },
      "execution_count": null,
      "outputs": [
        {
          "output_type": "execute_result",
          "data": {
            "text/plain": [
              "Index(['Company Name', 'Model Name', 'Mobile Weight', 'RAM', 'Front Camera',\n",
              "       'Back Camera', 'Processor', 'Battery Capacity', 'Screen Size',\n",
              "       'Launched Price (Pakistan)', 'Launched Price (India)',\n",
              "       'Launched Price (China)', 'Launched Price (USA)',\n",
              "       'Launched Price (Dubai)', 'Launched Year'],\n",
              "      dtype='object')"
            ]
          },
          "metadata": {},
          "execution_count": 5
        }
      ]
    },
    {
      "cell_type": "code",
      "source": [
        "data.shape"
      ],
      "metadata": {
        "colab": {
          "base_uri": "https://localhost:8080/"
        },
        "id": "JEE90uKoPohd",
        "outputId": "a7a1cae9-957d-492c-862a-4a691938298b"
      },
      "execution_count": null,
      "outputs": [
        {
          "output_type": "execute_result",
          "data": {
            "text/plain": [
              "(930, 15)"
            ]
          },
          "metadata": {},
          "execution_count": 6
        }
      ]
    },
    {
      "cell_type": "code",
      "source": [
        "data.info()"
      ],
      "metadata": {
        "colab": {
          "base_uri": "https://localhost:8080/"
        },
        "id": "M6amgQ-WPyUb",
        "outputId": "46801248-64f9-4498-f190-0699ad3cf5a1"
      },
      "execution_count": null,
      "outputs": [
        {
          "output_type": "stream",
          "name": "stdout",
          "text": [
            "<class 'pandas.core.frame.DataFrame'>\n",
            "RangeIndex: 930 entries, 0 to 929\n",
            "Data columns (total 15 columns):\n",
            " #   Column                     Non-Null Count  Dtype \n",
            "---  ------                     --------------  ----- \n",
            " 0   Company Name               930 non-null    object\n",
            " 1   Model Name                 930 non-null    object\n",
            " 2   Mobile Weight              930 non-null    object\n",
            " 3   RAM                        930 non-null    object\n",
            " 4   Front Camera               930 non-null    object\n",
            " 5   Back Camera                930 non-null    object\n",
            " 6   Processor                  930 non-null    object\n",
            " 7   Battery Capacity           930 non-null    object\n",
            " 8   Screen Size                930 non-null    object\n",
            " 9   Launched Price (Pakistan)  930 non-null    object\n",
            " 10  Launched Price (India)     930 non-null    object\n",
            " 11  Launched Price (China)     930 non-null    object\n",
            " 12  Launched Price (USA)       930 non-null    object\n",
            " 13  Launched Price (Dubai)     930 non-null    object\n",
            " 14  Launched Year              930 non-null    int64 \n",
            "dtypes: int64(1), object(14)\n",
            "memory usage: 109.1+ KB\n"
          ]
        }
      ]
    },
    {
      "cell_type": "code",
      "source": [
        "data.describe()"
      ],
      "metadata": {
        "colab": {
          "base_uri": "https://localhost:8080/",
          "height": 300
        },
        "id": "x9JqT5Y4P2Jz",
        "outputId": "e764ce31-4fbb-49ea-a2a5-e5db66f0cbcd"
      },
      "execution_count": null,
      "outputs": [
        {
          "output_type": "execute_result",
          "data": {
            "text/plain": [
              "       Launched Year\n",
              "count     930.000000\n",
              "mean     2022.193548\n",
              "std         1.862080\n",
              "min      2014.000000\n",
              "25%      2021.000000\n",
              "50%      2023.000000\n",
              "75%      2024.000000\n",
              "max      2025.000000"
            ],
            "text/html": [
              "\n",
              "  <div id=\"df-f24bcf6f-506c-4040-bec7-64c7cb665c34\" class=\"colab-df-container\">\n",
              "    <div>\n",
              "<style scoped>\n",
              "    .dataframe tbody tr th:only-of-type {\n",
              "        vertical-align: middle;\n",
              "    }\n",
              "\n",
              "    .dataframe tbody tr th {\n",
              "        vertical-align: top;\n",
              "    }\n",
              "\n",
              "    .dataframe thead th {\n",
              "        text-align: right;\n",
              "    }\n",
              "</style>\n",
              "<table border=\"1\" class=\"dataframe\">\n",
              "  <thead>\n",
              "    <tr style=\"text-align: right;\">\n",
              "      <th></th>\n",
              "      <th>Launched Year</th>\n",
              "    </tr>\n",
              "  </thead>\n",
              "  <tbody>\n",
              "    <tr>\n",
              "      <th>count</th>\n",
              "      <td>930.000000</td>\n",
              "    </tr>\n",
              "    <tr>\n",
              "      <th>mean</th>\n",
              "      <td>2022.193548</td>\n",
              "    </tr>\n",
              "    <tr>\n",
              "      <th>std</th>\n",
              "      <td>1.862080</td>\n",
              "    </tr>\n",
              "    <tr>\n",
              "      <th>min</th>\n",
              "      <td>2014.000000</td>\n",
              "    </tr>\n",
              "    <tr>\n",
              "      <th>25%</th>\n",
              "      <td>2021.000000</td>\n",
              "    </tr>\n",
              "    <tr>\n",
              "      <th>50%</th>\n",
              "      <td>2023.000000</td>\n",
              "    </tr>\n",
              "    <tr>\n",
              "      <th>75%</th>\n",
              "      <td>2024.000000</td>\n",
              "    </tr>\n",
              "    <tr>\n",
              "      <th>max</th>\n",
              "      <td>2025.000000</td>\n",
              "    </tr>\n",
              "  </tbody>\n",
              "</table>\n",
              "</div>\n",
              "    <div class=\"colab-df-buttons\">\n",
              "\n",
              "  <div class=\"colab-df-container\">\n",
              "    <button class=\"colab-df-convert\" onclick=\"convertToInteractive('df-f24bcf6f-506c-4040-bec7-64c7cb665c34')\"\n",
              "            title=\"Convert this dataframe to an interactive table.\"\n",
              "            style=\"display:none;\">\n",
              "\n",
              "  <svg xmlns=\"http://www.w3.org/2000/svg\" height=\"24px\" viewBox=\"0 -960 960 960\">\n",
              "    <path d=\"M120-120v-720h720v720H120Zm60-500h600v-160H180v160Zm220 220h160v-160H400v160Zm0 220h160v-160H400v160ZM180-400h160v-160H180v160Zm440 0h160v-160H620v160ZM180-180h160v-160H180v160Zm440 0h160v-160H620v160Z\"/>\n",
              "  </svg>\n",
              "    </button>\n",
              "\n",
              "  <style>\n",
              "    .colab-df-container {\n",
              "      display:flex;\n",
              "      gap: 12px;\n",
              "    }\n",
              "\n",
              "    .colab-df-convert {\n",
              "      background-color: #E8F0FE;\n",
              "      border: none;\n",
              "      border-radius: 50%;\n",
              "      cursor: pointer;\n",
              "      display: none;\n",
              "      fill: #1967D2;\n",
              "      height: 32px;\n",
              "      padding: 0 0 0 0;\n",
              "      width: 32px;\n",
              "    }\n",
              "\n",
              "    .colab-df-convert:hover {\n",
              "      background-color: #E2EBFA;\n",
              "      box-shadow: 0px 1px 2px rgba(60, 64, 67, 0.3), 0px 1px 3px 1px rgba(60, 64, 67, 0.15);\n",
              "      fill: #174EA6;\n",
              "    }\n",
              "\n",
              "    .colab-df-buttons div {\n",
              "      margin-bottom: 4px;\n",
              "    }\n",
              "\n",
              "    [theme=dark] .colab-df-convert {\n",
              "      background-color: #3B4455;\n",
              "      fill: #D2E3FC;\n",
              "    }\n",
              "\n",
              "    [theme=dark] .colab-df-convert:hover {\n",
              "      background-color: #434B5C;\n",
              "      box-shadow: 0px 1px 3px 1px rgba(0, 0, 0, 0.15);\n",
              "      filter: drop-shadow(0px 1px 2px rgba(0, 0, 0, 0.3));\n",
              "      fill: #FFFFFF;\n",
              "    }\n",
              "  </style>\n",
              "\n",
              "    <script>\n",
              "      const buttonEl =\n",
              "        document.querySelector('#df-f24bcf6f-506c-4040-bec7-64c7cb665c34 button.colab-df-convert');\n",
              "      buttonEl.style.display =\n",
              "        google.colab.kernel.accessAllowed ? 'block' : 'none';\n",
              "\n",
              "      async function convertToInteractive(key) {\n",
              "        const element = document.querySelector('#df-f24bcf6f-506c-4040-bec7-64c7cb665c34');\n",
              "        const dataTable =\n",
              "          await google.colab.kernel.invokeFunction('convertToInteractive',\n",
              "                                                    [key], {});\n",
              "        if (!dataTable) return;\n",
              "\n",
              "        const docLinkHtml = 'Like what you see? Visit the ' +\n",
              "          '<a target=\"_blank\" href=https://colab.research.google.com/notebooks/data_table.ipynb>data table notebook</a>'\n",
              "          + ' to learn more about interactive tables.';\n",
              "        element.innerHTML = '';\n",
              "        dataTable['output_type'] = 'display_data';\n",
              "        await google.colab.output.renderOutput(dataTable, element);\n",
              "        const docLink = document.createElement('div');\n",
              "        docLink.innerHTML = docLinkHtml;\n",
              "        element.appendChild(docLink);\n",
              "      }\n",
              "    </script>\n",
              "  </div>\n",
              "\n",
              "\n",
              "    <div id=\"df-0102a40f-c3d4-4869-beba-f6abdfd8365b\">\n",
              "      <button class=\"colab-df-quickchart\" onclick=\"quickchart('df-0102a40f-c3d4-4869-beba-f6abdfd8365b')\"\n",
              "                title=\"Suggest charts\"\n",
              "                style=\"display:none;\">\n",
              "\n",
              "<svg xmlns=\"http://www.w3.org/2000/svg\" height=\"24px\"viewBox=\"0 0 24 24\"\n",
              "     width=\"24px\">\n",
              "    <g>\n",
              "        <path d=\"M19 3H5c-1.1 0-2 .9-2 2v14c0 1.1.9 2 2 2h14c1.1 0 2-.9 2-2V5c0-1.1-.9-2-2-2zM9 17H7v-7h2v7zm4 0h-2V7h2v10zm4 0h-2v-4h2v4z\"/>\n",
              "    </g>\n",
              "</svg>\n",
              "      </button>\n",
              "\n",
              "<style>\n",
              "  .colab-df-quickchart {\n",
              "      --bg-color: #E8F0FE;\n",
              "      --fill-color: #1967D2;\n",
              "      --hover-bg-color: #E2EBFA;\n",
              "      --hover-fill-color: #174EA6;\n",
              "      --disabled-fill-color: #AAA;\n",
              "      --disabled-bg-color: #DDD;\n",
              "  }\n",
              "\n",
              "  [theme=dark] .colab-df-quickchart {\n",
              "      --bg-color: #3B4455;\n",
              "      --fill-color: #D2E3FC;\n",
              "      --hover-bg-color: #434B5C;\n",
              "      --hover-fill-color: #FFFFFF;\n",
              "      --disabled-bg-color: #3B4455;\n",
              "      --disabled-fill-color: #666;\n",
              "  }\n",
              "\n",
              "  .colab-df-quickchart {\n",
              "    background-color: var(--bg-color);\n",
              "    border: none;\n",
              "    border-radius: 50%;\n",
              "    cursor: pointer;\n",
              "    display: none;\n",
              "    fill: var(--fill-color);\n",
              "    height: 32px;\n",
              "    padding: 0;\n",
              "    width: 32px;\n",
              "  }\n",
              "\n",
              "  .colab-df-quickchart:hover {\n",
              "    background-color: var(--hover-bg-color);\n",
              "    box-shadow: 0 1px 2px rgba(60, 64, 67, 0.3), 0 1px 3px 1px rgba(60, 64, 67, 0.15);\n",
              "    fill: var(--button-hover-fill-color);\n",
              "  }\n",
              "\n",
              "  .colab-df-quickchart-complete:disabled,\n",
              "  .colab-df-quickchart-complete:disabled:hover {\n",
              "    background-color: var(--disabled-bg-color);\n",
              "    fill: var(--disabled-fill-color);\n",
              "    box-shadow: none;\n",
              "  }\n",
              "\n",
              "  .colab-df-spinner {\n",
              "    border: 2px solid var(--fill-color);\n",
              "    border-color: transparent;\n",
              "    border-bottom-color: var(--fill-color);\n",
              "    animation:\n",
              "      spin 1s steps(1) infinite;\n",
              "  }\n",
              "\n",
              "  @keyframes spin {\n",
              "    0% {\n",
              "      border-color: transparent;\n",
              "      border-bottom-color: var(--fill-color);\n",
              "      border-left-color: var(--fill-color);\n",
              "    }\n",
              "    20% {\n",
              "      border-color: transparent;\n",
              "      border-left-color: var(--fill-color);\n",
              "      border-top-color: var(--fill-color);\n",
              "    }\n",
              "    30% {\n",
              "      border-color: transparent;\n",
              "      border-left-color: var(--fill-color);\n",
              "      border-top-color: var(--fill-color);\n",
              "      border-right-color: var(--fill-color);\n",
              "    }\n",
              "    40% {\n",
              "      border-color: transparent;\n",
              "      border-right-color: var(--fill-color);\n",
              "      border-top-color: var(--fill-color);\n",
              "    }\n",
              "    60% {\n",
              "      border-color: transparent;\n",
              "      border-right-color: var(--fill-color);\n",
              "    }\n",
              "    80% {\n",
              "      border-color: transparent;\n",
              "      border-right-color: var(--fill-color);\n",
              "      border-bottom-color: var(--fill-color);\n",
              "    }\n",
              "    90% {\n",
              "      border-color: transparent;\n",
              "      border-bottom-color: var(--fill-color);\n",
              "    }\n",
              "  }\n",
              "</style>\n",
              "\n",
              "      <script>\n",
              "        async function quickchart(key) {\n",
              "          const quickchartButtonEl =\n",
              "            document.querySelector('#' + key + ' button');\n",
              "          quickchartButtonEl.disabled = true;  // To prevent multiple clicks.\n",
              "          quickchartButtonEl.classList.add('colab-df-spinner');\n",
              "          try {\n",
              "            const charts = await google.colab.kernel.invokeFunction(\n",
              "                'suggestCharts', [key], {});\n",
              "          } catch (error) {\n",
              "            console.error('Error during call to suggestCharts:', error);\n",
              "          }\n",
              "          quickchartButtonEl.classList.remove('colab-df-spinner');\n",
              "          quickchartButtonEl.classList.add('colab-df-quickchart-complete');\n",
              "        }\n",
              "        (() => {\n",
              "          let quickchartButtonEl =\n",
              "            document.querySelector('#df-0102a40f-c3d4-4869-beba-f6abdfd8365b button');\n",
              "          quickchartButtonEl.style.display =\n",
              "            google.colab.kernel.accessAllowed ? 'block' : 'none';\n",
              "        })();\n",
              "      </script>\n",
              "    </div>\n",
              "\n",
              "    </div>\n",
              "  </div>\n"
            ],
            "application/vnd.google.colaboratory.intrinsic+json": {
              "type": "dataframe",
              "summary": "{\n  \"name\": \"data\",\n  \"rows\": 8,\n  \"fields\": [\n    {\n      \"column\": \"Launched Year\",\n      \"properties\": {\n        \"dtype\": \"number\",\n        \"std\": 761.6373760241389,\n        \"min\": 1.8620801851862105,\n        \"max\": 2025.0,\n        \"num_unique_values\": 8,\n        \"samples\": [\n          2022.1935483870968,\n          2023.0,\n          930.0\n        ],\n        \"semantic_type\": \"\",\n        \"description\": \"\"\n      }\n    }\n  ]\n}"
            }
          },
          "metadata": {},
          "execution_count": 8
        }
      ]
    },
    {
      "cell_type": "code",
      "source": [
        "for col in data.columns:\n",
        "  print(data[col].value_counts())\n",
        "  print()"
      ],
      "metadata": {
        "colab": {
          "base_uri": "https://localhost:8080/"
        },
        "id": "1TuOzoe7QJSb",
        "outputId": "124c0184-dbf7-45e5-bb84-0c5740239f5d"
      },
      "execution_count": null,
      "outputs": [
        {
          "output_type": "stream",
          "name": "stdout",
          "text": [
            "Company Name\n",
            "Oppo        129\n",
            "Apple        97\n",
            "Honor        91\n",
            "Samsung      88\n",
            "Vivo         86\n",
            "Realme       69\n",
            "Motorola     62\n",
            "Infinix      56\n",
            "OnePlus      53\n",
            "Huawei       42\n",
            "Tecno        39\n",
            "POCO         30\n",
            "Xiaomi       27\n",
            "Google       21\n",
            "Lenovo       15\n",
            "Nokia        11\n",
            "Sony          9\n",
            "iQOO          3\n",
            "Poco          2\n",
            "Name: count, dtype: int64\n",
            "\n",
            "Model Name\n",
            "Pad 128GB        3\n",
            "Pad 2 256GB      3\n",
            "K10x 128GB       2\n",
            "K10x 256GB       2\n",
            "K10 5G 128GB     2\n",
            "                ..\n",
            "V25 Pro 128GB    1\n",
            "V25 Pro 256GB    1\n",
            "X90 Pro 256GB    1\n",
            "X90 Pro 512GB    1\n",
            "X70 Pro 128GB    1\n",
            "Name: count, Length: 908, dtype: int64\n",
            "\n",
            "Mobile Weight\n",
            "190g      68\n",
            "195g      64\n",
            "185g      29\n",
            "192g      26\n",
            "180g      25\n",
            "          ..\n",
            "288g       1\n",
            "495g       1\n",
            "505g       1\n",
            "475g       1\n",
            "178.8g     1\n",
            "Name: count, Length: 148, dtype: int64\n",
            "\n",
            "RAM\n",
            "8GB           308\n",
            "6GB           206\n",
            "12GB          193\n",
            "4GB           146\n",
            "3GB            34\n",
            "16GB           31\n",
            "2GB             6\n",
            "1.5GB           2\n",
            "8GB / 12GB      2\n",
            "10GB            1\n",
            "1GB             1\n",
            "Name: count, dtype: int64\n",
            "\n",
            "Front Camera\n",
            "16MP                                  211\n",
            "32MP                                  207\n",
            "8MP                                   165\n",
            "12MP                                   81\n",
            "5MP                                    47\n",
            "13MP                                   43\n",
            "12MP / 4K                              36\n",
            "50MP                                   30\n",
            "7MP                                    24\n",
            "10MP                                   22\n",
            "2MP                                    12\n",
            "20MP                                   12\n",
            "10.8MP                                  7\n",
            "60MP                                    5\n",
            "10.5MP                                  3\n",
            "44MP                                    3\n",
            "10MP, 4MP (UDC)                         3\n",
            "60MP + 8MP                              3\n",
            "12MP + 12MP                             2\n",
            "60MP (ultrawide) + 8MP (telephoto)      2\n",
            "20MP+8MP                                2\n",
            "10.7MP                                  2\n",
            "25MP                                    2\n",
            "24MP                                    1\n",
            "Dual 32MP                               1\n",
            "Dual 60MP                               1\n",
            "11.1MP                                  1\n",
            "48MP                                    1\n",
            "42MP                                    1\n",
            "Name: count, dtype: int64\n",
            "\n",
            "Back Camera\n",
            "50MP                                                           182\n",
            "13MP                                                            76\n",
            "48MP                                                            60\n",
            "64MP                                                            57\n",
            "50MP + 2MP                                                      39\n",
            "                                                              ... \n",
            "50MP (wide) + 40MP (ultrawide) + 48MP (telephoto)                1\n",
            "48MP (wide) + 40MP (ultrawide) + 48MP (telephoto)                1\n",
            "50MP (wide) + 13MP (ultrawide) + 12MP (periscope telephoto)      1\n",
            "50MP (wide) + 12MP (ultrawide) + 12MP (telephoto)                1\n",
            "50MP + 40MP + 50MP                                               1\n",
            "Name: count, Length: 91, dtype: int64\n",
            "\n",
            "Processor\n",
            "Snapdragon 8 Gen 2         30\n",
            "MediaTek Dimensity 810     22\n",
            "MediaTek Helio G99         21\n",
            "MediaTek Helio G85         19\n",
            "Snapdragon 8 Gen 3         19\n",
            "                           ..\n",
            "Snapdragon 7+ Gen 2         1\n",
            "Snapdragon 4 Gen 1          1\n",
            "MediaTek Dimensity 8300     1\n",
            "Snapdragon 8+ Gen 2         1\n",
            "MediaTek Dimensity 8400     1\n",
            "Name: count, Length: 217, dtype: int64\n",
            "\n",
            "Battery Capacity\n",
            "5,000mAh    197\n",
            "5000mAh      96\n",
            "4,500mAh     46\n",
            "4500mAh      38\n",
            "5,200mAh     35\n",
            "           ... \n",
            "7,500mAh      1\n",
            "8,300mAh      1\n",
            "8,850mAh      1\n",
            "5065mAh       1\n",
            "5110mAh       1\n",
            "Name: count, Length: 147, dtype: int64\n",
            "\n",
            "Screen Size\n",
            "6.7 inches     124\n",
            "6.5 inches      76\n",
            "6.67 inches     69\n",
            "6.6 inches      64\n",
            "6.78 inches     61\n",
            "              ... \n",
            "7.85 inches      1\n",
            "6.34 inches      1\n",
            "12.0 inches      1\n",
            "13.5 inches      1\n",
            "6.79 inches      1\n",
            "Name: count, Length: 97, dtype: int64\n",
            "\n",
            "Launched Price (Pakistan)\n",
            "PKR 79,999       39\n",
            "PKR 89,999       38\n",
            "PKR 69,999       38\n",
            "PKR 59,999       35\n",
            "PKR 54,999       32\n",
            "                 ..\n",
            "PKR 66,220        1\n",
            "PKR 71,220        1\n",
            "PKR 604,999       1\n",
            "PKR 544,999       1\n",
            "Not available     1\n",
            "Name: count, Length: 157, dtype: int64\n",
            "\n",
            "Launched Price (India)\n",
            "INR 29,999     35\n",
            "INR 39,999     31\n",
            "INR 22,999     30\n",
            "INR 44,999     29\n",
            "INR 34,999     27\n",
            "               ..\n",
            "INR 5,999       1\n",
            "INR 72,999      1\n",
            "INR 164,999     1\n",
            "INR 176,999     1\n",
            "INR 200,999     1\n",
            "Name: count, Length: 147, dtype: int64\n",
            "\n",
            "Launched Price (China)\n",
            "CNY 2,499      36\n",
            "CNY 1,499      32\n",
            "CNY 3,499      31\n",
            "CNY 2,199      29\n",
            "CNY 1,799      29\n",
            "               ..\n",
            "CNY 9,988       1\n",
            "CNY 499         1\n",
            "¥13,999         1\n",
            "CNY 15,999      1\n",
            "CNY 17,999      1\n",
            "Name: count, Length: 137, dtype: int64\n",
            "\n",
            "Launched Price (USA)\n",
            "USD 499      44\n",
            "USD 1,099    43\n",
            "USD 899      43\n",
            "USD 299      43\n",
            "USD 399      42\n",
            "             ..\n",
            "USD 877       1\n",
            "USD 289       1\n",
            "USD 79        1\n",
            "USD 1719      1\n",
            "USD 2,259     1\n",
            "Name: count, Length: 107, dtype: int64\n",
            "\n",
            "Launched Price (Dubai)\n",
            "AED 1,499    39\n",
            "AED 1,099    35\n",
            "AED 1,299    29\n",
            "AED 3,299    25\n",
            "AED 1,699    25\n",
            "             ..\n",
            "AED 6,599     1\n",
            "AED 1,029     1\n",
            "AED 7,199     1\n",
            "AED 7,699     1\n",
            "AED 8,699     1\n",
            "Name: count, Length: 141, dtype: int64\n",
            "\n",
            "Launched Year\n",
            "2024    292\n",
            "2023    184\n",
            "2022    149\n",
            "2021    109\n",
            "2020    101\n",
            "2019     46\n",
            "2018     21\n",
            "2025     12\n",
            "2017      9\n",
            "2016      5\n",
            "2014      2\n",
            "Name: count, dtype: int64\n",
            "\n"
          ]
        }
      ]
    },
    {
      "cell_type": "markdown",
      "source": [
        "Looking for null values"
      ],
      "metadata": {
        "id": "SezzM6LaTDlg"
      }
    },
    {
      "cell_type": "code",
      "source": [
        "data.isnull().sum()"
      ],
      "metadata": {
        "colab": {
          "base_uri": "https://localhost:8080/",
          "height": 554
        },
        "id": "ftLNffdRQCYL",
        "outputId": "23a7b178-d403-44be-cb4d-e5fcfbb79bc0"
      },
      "execution_count": null,
      "outputs": [
        {
          "output_type": "execute_result",
          "data": {
            "text/plain": [
              "Company Name                 0\n",
              "Model Name                   0\n",
              "Mobile Weight                0\n",
              "RAM                          0\n",
              "Front Camera                 0\n",
              "Back Camera                  0\n",
              "Processor                    0\n",
              "Battery Capacity             0\n",
              "Screen Size                  0\n",
              "Launched Price (Pakistan)    0\n",
              "Launched Price (India)       0\n",
              "Launched Price (China)       0\n",
              "Launched Price (USA)         0\n",
              "Launched Price (Dubai)       0\n",
              "Launched Year                0\n",
              "dtype: int64"
            ],
            "text/html": [
              "<div>\n",
              "<style scoped>\n",
              "    .dataframe tbody tr th:only-of-type {\n",
              "        vertical-align: middle;\n",
              "    }\n",
              "\n",
              "    .dataframe tbody tr th {\n",
              "        vertical-align: top;\n",
              "    }\n",
              "\n",
              "    .dataframe thead th {\n",
              "        text-align: right;\n",
              "    }\n",
              "</style>\n",
              "<table border=\"1\" class=\"dataframe\">\n",
              "  <thead>\n",
              "    <tr style=\"text-align: right;\">\n",
              "      <th></th>\n",
              "      <th>0</th>\n",
              "    </tr>\n",
              "  </thead>\n",
              "  <tbody>\n",
              "    <tr>\n",
              "      <th>Company Name</th>\n",
              "      <td>0</td>\n",
              "    </tr>\n",
              "    <tr>\n",
              "      <th>Model Name</th>\n",
              "      <td>0</td>\n",
              "    </tr>\n",
              "    <tr>\n",
              "      <th>Mobile Weight</th>\n",
              "      <td>0</td>\n",
              "    </tr>\n",
              "    <tr>\n",
              "      <th>RAM</th>\n",
              "      <td>0</td>\n",
              "    </tr>\n",
              "    <tr>\n",
              "      <th>Front Camera</th>\n",
              "      <td>0</td>\n",
              "    </tr>\n",
              "    <tr>\n",
              "      <th>Back Camera</th>\n",
              "      <td>0</td>\n",
              "    </tr>\n",
              "    <tr>\n",
              "      <th>Processor</th>\n",
              "      <td>0</td>\n",
              "    </tr>\n",
              "    <tr>\n",
              "      <th>Battery Capacity</th>\n",
              "      <td>0</td>\n",
              "    </tr>\n",
              "    <tr>\n",
              "      <th>Screen Size</th>\n",
              "      <td>0</td>\n",
              "    </tr>\n",
              "    <tr>\n",
              "      <th>Launched Price (Pakistan)</th>\n",
              "      <td>0</td>\n",
              "    </tr>\n",
              "    <tr>\n",
              "      <th>Launched Price (India)</th>\n",
              "      <td>0</td>\n",
              "    </tr>\n",
              "    <tr>\n",
              "      <th>Launched Price (China)</th>\n",
              "      <td>0</td>\n",
              "    </tr>\n",
              "    <tr>\n",
              "      <th>Launched Price (USA)</th>\n",
              "      <td>0</td>\n",
              "    </tr>\n",
              "    <tr>\n",
              "      <th>Launched Price (Dubai)</th>\n",
              "      <td>0</td>\n",
              "    </tr>\n",
              "    <tr>\n",
              "      <th>Launched Year</th>\n",
              "      <td>0</td>\n",
              "    </tr>\n",
              "  </tbody>\n",
              "</table>\n",
              "</div><br><label><b>dtype:</b> int64</label>"
            ]
          },
          "metadata": {},
          "execution_count": 10
        }
      ]
    },
    {
      "cell_type": "markdown",
      "source": [
        "Hence no nulls"
      ],
      "metadata": {
        "id": "ar8paGcOTCxL"
      }
    },
    {
      "cell_type": "markdown",
      "source": [
        "Looking for duplicates"
      ],
      "metadata": {
        "id": "2EceM2WGTHek"
      }
    },
    {
      "cell_type": "code",
      "source": [
        "data.duplicated().sum()"
      ],
      "metadata": {
        "colab": {
          "base_uri": "https://localhost:8080/"
        },
        "id": "5nQIFOVUTKYa",
        "outputId": "b9ad3f59-3680-4278-b145-e656f271a04d"
      },
      "execution_count": null,
      "outputs": [
        {
          "output_type": "execute_result",
          "data": {
            "text/plain": [
              "np.int64(15)"
            ]
          },
          "metadata": {},
          "execution_count": 11
        }
      ]
    },
    {
      "cell_type": "markdown",
      "source": [
        "Inspecting unique values"
      ],
      "metadata": {
        "id": "n3W7rqKEQXvq"
      }
    },
    {
      "cell_type": "code",
      "source": [
        "temp = ['Mobile Weight', 'RAM', 'Front Camera', 'Back Camera', 'Battery Capacity', 'Screen Size']\n",
        "\n",
        "for col in temp:\n",
        "    print(f\"Unique values for column \", col, \":\")\n",
        "    print(data[col].unique())\n",
        "    print()\n"
      ],
      "metadata": {
        "colab": {
          "base_uri": "https://localhost:8080/"
        },
        "id": "4eA8AMx_PZS4",
        "outputId": "41f64034-c1bb-4c3a-c8be-4a157943bfab"
      },
      "execution_count": null,
      "outputs": [
        {
          "output_type": "stream",
          "name": "stdout",
          "text": [
            "Unique values for column  Mobile Weight :\n",
            "['174g' '203g' '206g' '221g' '171g' '172g' '140g' '204g' '238g' '135g'\n",
            " '164g' '189g' '228g' '194g' '188g' '226g' '177g' '208g' '458g' '490g'\n",
            " '300.5g' '468g' '682g' '708g' '234g' '196g' '168g' '195g' '167g' '254g'\n",
            " '187g' '263g' '199g' '190g' '202g' '198g' '192g' '235g' '191g' '181g'\n",
            " '178g' '175g' '165g' '143g' '229g' '732g' '586g' '498g' '523g' '726g'\n",
            " '567g' '503g' '480g' '366g' '508g' '433g' '674g' '426g' '360g' '205g'\n",
            " '179g' '200g' '183g' '185g' '180g' '173g' '184g' '170g' '162g' '210g'\n",
            " '155g' '215g' '550g' '610g' '223g' '150g' '146g' '158g' '163g' '153g'\n",
            " '176g' '201g' '193g' '159g' '156g' '182g' '535g' '510g' '500g' '560g'\n",
            " '520g' '540g' '555g' '239g' '186g' '533g' '218g' '207g' '233g' '222.8g'\n",
            " '440g' '482g' '466g' '499g' '372g' '465g' '209g' '166g' '169g' '295g'\n",
            " '255g' '197g' '225g' '220g' '241g' '245g' '161g' '580g' '147g' '151g'\n",
            " '212g' '213g' '216g' '222g' '250g' '450g' '420g' '280g' '230g' '240g'\n",
            " '470g' '211g' '227g' '236g' '242g' '288g' '219g' '267g' '231g' '460g'\n",
            " '485g' '530g' '495g' '590g' '505g' '475g' '178.8g' '571g']\n",
            "\n",
            "Unique values for column  RAM :\n",
            "['6GB' '8GB' '4GB' '3GB' '12GB' '2GB' '1.5GB' '16GB' '10GB' '1GB'\n",
            " '8GB / 12GB']\n",
            "\n",
            "Unique values for column  Front Camera :\n",
            "['12MP' '12MP / 4K' '7MP' '10MP' '32MP' '13MP' '5MP' '16MP' '8MP'\n",
            " '12MP + 12MP' '2MP' '44MP' '24MP' '20MP+8MP' '20MP' '50MP' '25MP' '60MP'\n",
            " '10.7MP' 'Dual 32MP' 'Dual 60MP' '60MP (ultrawide) + 8MP (telephoto)'\n",
            " '60MP + 8MP' '11.1MP' '10.8MP' '10.5MP' '48MP' '42MP' '10MP, 4MP (UDC)']\n",
            "\n",
            "Unique values for column  Back Camera :\n",
            "['48MP' '50MP + 12MP' '48MP + 12MP' '12MP + 12MP' '12MP'\n",
            " '12MP + 12MP + 12MP' '8MP' '12MP + 10MP' '200MP + 12MP' '108MP + 12MP'\n",
            " '48MP + 8MP' '50MP + 5MP' '50MP + 2MP' '108MP + 8MP' '50MP + 8MP'\n",
            " '13MP + 2MP' '12MP + 16MP' '50MP' '16MP' '16MP + 5MP' '13MP' '13MP + 5MP'\n",
            " '16MP + 8MP' '13MP + 8MP' '13MP + 6MP' '5MP' '50MP + 48MP' '108MP'\n",
            " '64MP + 2MP' '48MP + 48MP' '48MP + 50MP' '48MP + 16MP' '48MP + 5MP'\n",
            " '64MP + 8MP' '20MP + 16MP' '16MP + 20MP' '50MP + 16MP' '200MP' '64MP'\n",
            " '13MP+2MP' '48MP + 64MP + 48MP' '50MP + 32MP + 48MP' '50MP + 50MP + 50MP'\n",
            " '50MP + 50MP' '50MP + 8MP + 2MP' '50MP + 50MP + 8MP' '50MP + 32MP + 8MP'\n",
            " '64MP + 8MP + 2MP' '8MP + 2MP' '50MP + 50MP + 64MP' '50MP + 50MP + 13MP'\n",
            " '50MP + 48MP + 32MP' '64MP + 32MP + 8MP' '50MP + 64MP + 8MP'\n",
            " '64MP + 8MP + 2MP + 2MP' '50MP + 13MP + 16MP + 2MP'\n",
            " '50MP + 16MP + 13MP + 2MP' '48MP + 8MP + 2MP + 2MP' '48MP + 13MP + 12MP'\n",
            " '48MP + 13MP + 8MP + 2MP' '13MP + 2MP + 2MP' '16MP + 2MP + 2MP'\n",
            " '12MP + 8MP + 2MP + 2MP' '108MP + 2MP' '64MP + 2MP + 2MP'\n",
            " '50MP + 8MP + 50MP' '48MP + 2MP + 2MP'\n",
            " '50MP (Main) + 50MP (Ultra-wide) + 50MP (Telephoto)'\n",
            " '50MP (Main) + 50MP (Ultra-wide)'\n",
            " '200MP (Main) + 8MP (Ultra-wide) + 2MP (Macro)'\n",
            " '108MP (Main) + 8MP (Ultra-wide) + 2MP (Macro)'\n",
            " '50MP (Main) + 8MP (Ultra-wide) + 2MP (Macro)'\n",
            " '50MP (Main) + 2MP (Depth)' '40MP'\n",
            " '48MP (wide) + 13MP (ultrawide) + 48MP (telephoto)'\n",
            " '48MP (wide) + 40MP (ultrawide) + 48MP (telephoto)'\n",
            " '50MP (wide) + 13MP (ultrawide) + 12MP (periscope telephoto)'\n",
            " '50MP (wide) + 12MP (ultrawide) + 12MP (telephoto)'\n",
            " '50MP (wide) + 40MP (ultrawide) + 48MP (telephoto)'\n",
            " '50MP (wide) + 48MP (ultrawide) + 48MP (telephoto)'\n",
            " '50MP (wide) + 8MP (ultrawide)' '50MP + 13MP + 12MP'\n",
            " '50MP + 12.5MP + 48MP' '50MP + 40MP + 50MP' '50MP + 12MP + 40MP'\n",
            " '50MP + 12MP + 48MP' '13MP (f/1.8, AF)' '12.2MP' '54MP' '160MP' '100MP']\n",
            "\n",
            "Unique values for column  Battery Capacity :\n",
            "['3,600mAh' '4,200mAh' '4,400mAh' '4,500mAh' '3,200mAh' '4,300mAh'\n",
            " '4,325mAh' '2,438mAh' '3,240mAh' '3,095mAh' '4,352mAh' '2,227mAh'\n",
            " '2,815mAh' '3,687mAh' '3,110mAh' '3,046mAh' '3,969mAh' '2,716mAh'\n",
            " '2,658mAh' '3,174mAh' '2,942mAh' '7,608mAh' '8,612mAh' '5,124mAh'\n",
            " '7,812mAh' '9,720mAh' '10,307mAh' '5000mAh' '4800mAh' '4000mAh' '4700mAh'\n",
            " '3900mAh' '4500mAh' '3800mAh' '4400mAh' '3700mAh' '6000mAh' '4300mAh'\n",
            " '3500mAh' '4050mAh' '3000mAh' '3600mAh' '3300mAh' '2600mAh' '11200mAh'\n",
            " '10090mAh' '8400mAh' '8000mAh' '7040mAh' '5100mAh' '5050mAh' '7600mAh'\n",
            " '4510mAh' '4115mAh' '4085mAh' '9510mAh' '11000mAh' '5700mAh' '4100mAh'\n",
            " '3315mAh' '3260mAh' '2300mAh' '3055mAh' '4030mAh' '2000mAh' '3200mAh'\n",
            " '4200mAh' '4450mAh' '4600mAh' '4830mAh' '4870mAh' '8040mAh' '4805mAh'\n",
            " '5800mAh' '5600mAh' '6400mAh' '8360mAh' '4520mAh' '5,000mAh' '4,600mAh'\n",
            " '4,700mAh' '4,350mAh' '4,000mAh' '4,025mAh' '4,040mAh' '5,100mAh'\n",
            " '6,500mAh' '5,500mAh' '6,000mAh' '5,800mAh' '5,200mAh' '7,100mAh'\n",
            " '8,360mAh' '8,340mAh' '6,400mAh' '7,200mAh' '6,100mAh' '5,400mAh'\n",
            " '4,610mAh' '5,110mAh' '4,050mAh' '3,350mAh' '3,500mAh' '4,310mAh'\n",
            " '3,800mAh' '4,020mAh' '4,100mAh' '4,360mAh' '4,460mAh' '4,815mAh'\n",
            " '4,800mAh' '4,750mAh' '4,900mAh' '5,050mAh' '8200mAh' '10,100mAh'\n",
            " '3,000mAh' '3,700mAh' '2,800mAh' '3,140mAh' '3,885mAh' '4,080mAh'\n",
            " '4,680mAh' '4,614mAh' '5,003mAh' '4,410mAh' '4,355mAh' '4,385mAh'\n",
            " '4,575mAh' '5,250mAh' '8,000mAh' '7,500mAh' '7,000mAh' '9,000mAh'\n",
            " '5,300mAh' '3,750mAh' '5,450mAh' '5,550mAh' '7,250mAh' '8,500mAh'\n",
            " '8,300mAh' '10,000mAh' '10,500mAh' '8,850mAh' '5160mAh' '5065mAh'\n",
            " '5110mAh']\n",
            "\n",
            "Unique values for column  Screen Size :\n",
            "['6.1 inches' '6.7 inches' '5.4 inches' '5.8 inches' '6.5 inches'\n",
            " '10.9 inches' '10.2 inches' '7.9 inches' '11 inches' '12.9 inches'\n",
            " '13 inches' '6.8 inches' '6.6 inches' '7.6 inches' '6.4 inches'\n",
            " '6.9 inches' '6.3 inches' '5.3 inches' '6.0 inches' '5.5 inches'\n",
            " '5.7 inches' '5.2 inches' '14.6 inches' '12.4 inches' '8.7 inches'\n",
            " '10.5 inches' '8 inches' '10.1 inches' '6.74 inches' '6.72 inches'\n",
            " '7.8 inches' '6.55 inches' '6.43 inches' '6.49 inches' '6.52 inches'\n",
            " '6.78 inches' '6.59 inches' '6.44 inches' '6.41 inches' '6.01 inches'\n",
            " '6.67 inches' '6.28 inches' '11.61 inches' '6.31 inches' '6.58 inches'\n",
            " '6.38 inches' '6.56 inches' '5.88 inches' '6.22 inches' '5.0 inches'\n",
            " '6.51 inches' '6.35 inches' '6.53 inches' '6.39 inches' '6.47 inches'\n",
            " '10.4 inches' '12.3 inches' '7.82 inches' '6.83 inches' '11.6 inches'\n",
            " '12.1 inches' '6.82 inches' '7.1 inches' '11.5 inches' '6.73 inches'\n",
            " '6.36 inches' '6.09 inches' '6.7 inches (main), 2.7 inches (external)'\n",
            " '6.9 inches (internal), 4.0 inches (external)'\n",
            " '6.7 inches (internal), 3.6 inches (external)' '6.9 inches (unfolded)'\n",
            " '8.0 inches (unfolded)' '6.57 inches' '7.8 inches (unfolded)'\n",
            " '7.85 inches (unfolded)' '7.93 inches' '7.92 inches' '12.2 inches'\n",
            " '13.2 inches' '5.6 inches' '6.2 inches' '6.34 inches' '6.71 inches'\n",
            " '7.85 inches' '9.7 inches' '11.0 inches' '6.95 inches' '6.85 inches'\n",
            " '6.63 inches' '7.09 inches' '6.81 inches' '6.76 inches' '12.0 inches'\n",
            " '12.6 inches' '13.0 inches' '13.5 inches' '6.79 inches']\n",
            "\n"
          ]
        }
      ]
    },
    {
      "cell_type": "markdown",
      "source": [
        "##Cleaning\n"
      ],
      "metadata": {
        "id": "gxVnd3dGRgjz"
      }
    },
    {
      "cell_type": "code",
      "source": [
        "cleaned = data.copy()"
      ],
      "metadata": {
        "id": "VMg4Ss8MSHo7"
      },
      "execution_count": null,
      "outputs": []
    },
    {
      "cell_type": "markdown",
      "source": [
        "###Handling duplicates"
      ],
      "metadata": {
        "id": "HjMjCyGjRiva"
      }
    },
    {
      "cell_type": "code",
      "source": [
        "cleaned.duplicated().sum()"
      ],
      "metadata": {
        "colab": {
          "base_uri": "https://localhost:8080/"
        },
        "id": "80Q77py0Svsr",
        "outputId": "2c016176-a0c6-43bd-85c1-661f854fe322"
      },
      "execution_count": null,
      "outputs": [
        {
          "output_type": "execute_result",
          "data": {
            "text/plain": [
              "np.int64(15)"
            ]
          },
          "metadata": {},
          "execution_count": 14
        }
      ]
    },
    {
      "cell_type": "code",
      "source": [
        "cleaned.drop_duplicates(inplace=True)"
      ],
      "metadata": {
        "id": "Ty_5xWBiS0Kk"
      },
      "execution_count": null,
      "outputs": []
    },
    {
      "cell_type": "code",
      "source": [
        "cleaned.duplicated().sum()"
      ],
      "metadata": {
        "colab": {
          "base_uri": "https://localhost:8080/"
        },
        "id": "IggbQIKLS19A",
        "outputId": "723ecb46-48b1-473a-a700-ceb5e7315725"
      },
      "execution_count": null,
      "outputs": [
        {
          "output_type": "execute_result",
          "data": {
            "text/plain": [
              "np.int64(0)"
            ]
          },
          "metadata": {},
          "execution_count": 16
        }
      ]
    },
    {
      "cell_type": "markdown",
      "source": [
        "###Converting battery to int"
      ],
      "metadata": {
        "id": "kIQwTQQKTSuQ"
      }
    },
    {
      "cell_type": "code",
      "source": [
        "cleaned['Battery Capacity'] = cleaned['Battery Capacity'].str.replace('mAh', '').str.replace(',', '').astype(int)"
      ],
      "metadata": {
        "id": "60MSmrmfTY9y"
      },
      "execution_count": null,
      "outputs": []
    },
    {
      "cell_type": "markdown",
      "source": [
        "###Converting RAM to float"
      ],
      "metadata": {
        "id": "CkL8RyNFYcyt"
      }
    },
    {
      "cell_type": "markdown",
      "source": [
        "Replace '8GB / 12GB' with '8GB', since this is the base configuration"
      ],
      "metadata": {
        "id": "h2LsogrUa4Mq"
      }
    },
    {
      "cell_type": "code",
      "source": [
        "cleaned['RAM'] = cleaned['RAM'].replace('8GB / 12GB', '8GB')"
      ],
      "metadata": {
        "id": "LqrPk6AHYhGL"
      },
      "execution_count": null,
      "outputs": []
    },
    {
      "cell_type": "code",
      "source": [
        "cleaned['RAM'] = cleaned['RAM'].str.replace('GB', '').astype(float)  # Remove 'GB' and convert to float"
      ],
      "metadata": {
        "id": "Dz2Ptv2ia7Rx"
      },
      "execution_count": null,
      "outputs": []
    },
    {
      "cell_type": "markdown",
      "source": [
        "###Converting Weight"
      ],
      "metadata": {
        "id": "rH4EfZcZbISM"
      }
    },
    {
      "cell_type": "code",
      "source": [
        "cleaned['Mobile Weight'] = cleaned['Mobile Weight'].str.replace('g', '').astype(float)"
      ],
      "metadata": {
        "id": "T51frqSWbRrZ"
      },
      "execution_count": null,
      "outputs": []
    },
    {
      "cell_type": "markdown",
      "source": [
        "###Convert size"
      ],
      "metadata": {
        "id": "RMnM2JwkbigB"
      }
    },
    {
      "cell_type": "markdown",
      "source": [
        "Setting the size to the maximum size for the foldable devices"
      ],
      "metadata": {
        "id": "wFzox7eIgSdS"
      }
    },
    {
      "cell_type": "code",
      "source": [
        "cleaned['Screen Size'] = cleaned['Screen Size'].replace('6.7 inches (main), 2.7 inches (external)', '6.7 inches')\n",
        "cleaned['Screen Size'] = cleaned['Screen Size'].replace('6.9 inches (internal), 4.0 inches (external)', '6.9 inches')\n",
        "cleaned['Screen Size'] = cleaned['Screen Size'].replace( '6.7 inches (internal), 3.6 inches (external)', '6.7 inches')"
      ],
      "metadata": {
        "id": "spfRZchsccx5"
      },
      "execution_count": null,
      "outputs": []
    },
    {
      "cell_type": "markdown",
      "source": [
        "Looking at unique screen size values"
      ],
      "metadata": {
        "id": "sHExJjy5Y_M4"
      }
    },
    {
      "cell_type": "code",
      "source": [
        "col = 'Screen Size'\n",
        "print(f\"Unique values for column \", col, \":\")\n",
        "print(cleaned[col].unique())"
      ],
      "metadata": {
        "colab": {
          "base_uri": "https://localhost:8080/"
        },
        "id": "H1M-m9nOfa40",
        "outputId": "d6953a3c-38e0-4226-b677-4da44b3ba79e"
      },
      "execution_count": null,
      "outputs": [
        {
          "output_type": "stream",
          "name": "stdout",
          "text": [
            "Unique values for column  Screen Size :\n",
            "['6.1 inches' '6.7 inches' '5.4 inches' '5.8 inches' '6.5 inches'\n",
            " '10.9 inches' '10.2 inches' '7.9 inches' '11 inches' '12.9 inches'\n",
            " '13 inches' '6.8 inches' '6.6 inches' '7.6 inches' '6.4 inches'\n",
            " '6.9 inches' '6.3 inches' '5.3 inches' '6.0 inches' '5.5 inches'\n",
            " '5.7 inches' '5.2 inches' '14.6 inches' '12.4 inches' '8.7 inches'\n",
            " '10.5 inches' '8 inches' '10.1 inches' '6.74 inches' '6.72 inches'\n",
            " '7.8 inches' '6.55 inches' '6.43 inches' '6.49 inches' '6.52 inches'\n",
            " '6.78 inches' '6.59 inches' '6.44 inches' '6.41 inches' '6.01 inches'\n",
            " '6.67 inches' '6.28 inches' '11.61 inches' '6.31 inches' '6.58 inches'\n",
            " '6.38 inches' '6.56 inches' '5.88 inches' '6.22 inches' '5.0 inches'\n",
            " '6.51 inches' '6.35 inches' '6.53 inches' '6.39 inches' '6.47 inches'\n",
            " '10.4 inches' '12.3 inches' '7.82 inches' '6.83 inches' '11.6 inches'\n",
            " '12.1 inches' '6.82 inches' '7.1 inches' '11.5 inches' '6.73 inches'\n",
            " '6.36 inches' '6.09 inches' '6.9 inches (unfolded)'\n",
            " '8.0 inches (unfolded)' '6.57 inches' '7.8 inches (unfolded)'\n",
            " '7.85 inches (unfolded)' '7.93 inches' '7.92 inches' '12.2 inches'\n",
            " '13.2 inches' '5.6 inches' '6.2 inches' '6.34 inches' '6.71 inches'\n",
            " '7.85 inches' '9.7 inches' '11.0 inches' '6.95 inches' '6.85 inches'\n",
            " '6.63 inches' '7.09 inches' '6.81 inches' '6.76 inches' '12.0 inches'\n",
            " '12.6 inches' '13.0 inches' '13.5 inches' '6.79 inches']\n"
          ]
        }
      ]
    },
    {
      "cell_type": "markdown",
      "source": [
        "Checking on rows with '(unfolded)' to determine if they would be an issue"
      ],
      "metadata": {
        "id": "987IVMPagfJC"
      }
    },
    {
      "cell_type": "code",
      "source": [
        "cleaned[cleaned['Screen Size'].str.contains('unfolded', case=False, na=False)]"
      ],
      "metadata": {
        "colab": {
          "base_uri": "https://localhost:8080/",
          "height": 279
        },
        "id": "fKh8LBq0f85M",
        "outputId": "b5522498-fd85-40de-d3cc-db497e64d0ec"
      },
      "execution_count": null,
      "outputs": [
        {
          "output_type": "execute_result",
          "data": {
            "text/plain": [
              "    Company Name  Model Name  Mobile Weight   RAM Front Camera  \\\n",
              "628       Huawei  P50 Pocket          190.0   8.0       10.7MP   \n",
              "630       Huawei     Mate X2          295.0   8.0         16MP   \n",
              "634       Huawei   Mate Xs 2          255.0   8.0       10.7MP   \n",
              "643       Huawei     Mate X3          239.0  12.0          8MP   \n",
              "\n",
              "                                           Back Camera  \\\n",
              "628                                               40MP   \n",
              "630                                               50MP   \n",
              "634                                               50MP   \n",
              "643  50MP (wide) + 13MP (ultrawide) + 12MP (perisco...   \n",
              "\n",
              "                  Processor  Battery Capacity             Screen Size  \\\n",
              "628       Snapdragon 888 4G              4000   6.9 inches (unfolded)   \n",
              "630           Kirin 9000 5G              4500   8.0 inches (unfolded)   \n",
              "634       Snapdragon 888 4G              4600   7.8 inches (unfolded)   \n",
              "643  Snapdragon 8+ Gen 1 4G              4800  7.85 inches (unfolded)   \n",
              "\n",
              "    Launched Price (Pakistan) Launched Price (India) Launched Price (China)  \\\n",
              "628               PKR 199,999            INR 129,999              CNY 8,988   \n",
              "630               PKR 349,999            INR 249,999             CNY 17,999   \n",
              "634               PKR 299,999            INR 199,999             CNY 14,999   \n",
              "643               PKR 349,999            INR 249,999             CNY 13,999   \n",
              "\n",
              "    Launched Price (USA) Launched Price (Dubai)  Launched Year  \n",
              "628            USD 1,299              AED 4,799           2021  \n",
              "630            USD 2,699              AED 9,999           2021  \n",
              "634            USD 2,499              AED 8,999           2022  \n",
              "643            USD 2,499              AED 9,999           2023  "
            ],
            "text/html": [
              "\n",
              "  <div id=\"df-bc1ca5c1-fad2-4767-9a4b-e8dec18ce215\" class=\"colab-df-container\">\n",
              "    <div>\n",
              "<style scoped>\n",
              "    .dataframe tbody tr th:only-of-type {\n",
              "        vertical-align: middle;\n",
              "    }\n",
              "\n",
              "    .dataframe tbody tr th {\n",
              "        vertical-align: top;\n",
              "    }\n",
              "\n",
              "    .dataframe thead th {\n",
              "        text-align: right;\n",
              "    }\n",
              "</style>\n",
              "<table border=\"1\" class=\"dataframe\">\n",
              "  <thead>\n",
              "    <tr style=\"text-align: right;\">\n",
              "      <th></th>\n",
              "      <th>Company Name</th>\n",
              "      <th>Model Name</th>\n",
              "      <th>Mobile Weight</th>\n",
              "      <th>RAM</th>\n",
              "      <th>Front Camera</th>\n",
              "      <th>Back Camera</th>\n",
              "      <th>Processor</th>\n",
              "      <th>Battery Capacity</th>\n",
              "      <th>Screen Size</th>\n",
              "      <th>Launched Price (Pakistan)</th>\n",
              "      <th>Launched Price (India)</th>\n",
              "      <th>Launched Price (China)</th>\n",
              "      <th>Launched Price (USA)</th>\n",
              "      <th>Launched Price (Dubai)</th>\n",
              "      <th>Launched Year</th>\n",
              "    </tr>\n",
              "  </thead>\n",
              "  <tbody>\n",
              "    <tr>\n",
              "      <th>628</th>\n",
              "      <td>Huawei</td>\n",
              "      <td>P50 Pocket</td>\n",
              "      <td>190.0</td>\n",
              "      <td>8.0</td>\n",
              "      <td>10.7MP</td>\n",
              "      <td>40MP</td>\n",
              "      <td>Snapdragon 888 4G</td>\n",
              "      <td>4000</td>\n",
              "      <td>6.9 inches (unfolded)</td>\n",
              "      <td>PKR 199,999</td>\n",
              "      <td>INR 129,999</td>\n",
              "      <td>CNY 8,988</td>\n",
              "      <td>USD 1,299</td>\n",
              "      <td>AED 4,799</td>\n",
              "      <td>2021</td>\n",
              "    </tr>\n",
              "    <tr>\n",
              "      <th>630</th>\n",
              "      <td>Huawei</td>\n",
              "      <td>Mate X2</td>\n",
              "      <td>295.0</td>\n",
              "      <td>8.0</td>\n",
              "      <td>16MP</td>\n",
              "      <td>50MP</td>\n",
              "      <td>Kirin 9000 5G</td>\n",
              "      <td>4500</td>\n",
              "      <td>8.0 inches (unfolded)</td>\n",
              "      <td>PKR 349,999</td>\n",
              "      <td>INR 249,999</td>\n",
              "      <td>CNY 17,999</td>\n",
              "      <td>USD 2,699</td>\n",
              "      <td>AED 9,999</td>\n",
              "      <td>2021</td>\n",
              "    </tr>\n",
              "    <tr>\n",
              "      <th>634</th>\n",
              "      <td>Huawei</td>\n",
              "      <td>Mate Xs 2</td>\n",
              "      <td>255.0</td>\n",
              "      <td>8.0</td>\n",
              "      <td>10.7MP</td>\n",
              "      <td>50MP</td>\n",
              "      <td>Snapdragon 888 4G</td>\n",
              "      <td>4600</td>\n",
              "      <td>7.8 inches (unfolded)</td>\n",
              "      <td>PKR 299,999</td>\n",
              "      <td>INR 199,999</td>\n",
              "      <td>CNY 14,999</td>\n",
              "      <td>USD 2,499</td>\n",
              "      <td>AED 8,999</td>\n",
              "      <td>2022</td>\n",
              "    </tr>\n",
              "    <tr>\n",
              "      <th>643</th>\n",
              "      <td>Huawei</td>\n",
              "      <td>Mate X3</td>\n",
              "      <td>239.0</td>\n",
              "      <td>12.0</td>\n",
              "      <td>8MP</td>\n",
              "      <td>50MP (wide) + 13MP (ultrawide) + 12MP (perisco...</td>\n",
              "      <td>Snapdragon 8+ Gen 1 4G</td>\n",
              "      <td>4800</td>\n",
              "      <td>7.85 inches (unfolded)</td>\n",
              "      <td>PKR 349,999</td>\n",
              "      <td>INR 249,999</td>\n",
              "      <td>CNY 13,999</td>\n",
              "      <td>USD 2,499</td>\n",
              "      <td>AED 9,999</td>\n",
              "      <td>2023</td>\n",
              "    </tr>\n",
              "  </tbody>\n",
              "</table>\n",
              "</div>\n",
              "    <div class=\"colab-df-buttons\">\n",
              "\n",
              "  <div class=\"colab-df-container\">\n",
              "    <button class=\"colab-df-convert\" onclick=\"convertToInteractive('df-bc1ca5c1-fad2-4767-9a4b-e8dec18ce215')\"\n",
              "            title=\"Convert this dataframe to an interactive table.\"\n",
              "            style=\"display:none;\">\n",
              "\n",
              "  <svg xmlns=\"http://www.w3.org/2000/svg\" height=\"24px\" viewBox=\"0 -960 960 960\">\n",
              "    <path d=\"M120-120v-720h720v720H120Zm60-500h600v-160H180v160Zm220 220h160v-160H400v160Zm0 220h160v-160H400v160ZM180-400h160v-160H180v160Zm440 0h160v-160H620v160ZM180-180h160v-160H180v160Zm440 0h160v-160H620v160Z\"/>\n",
              "  </svg>\n",
              "    </button>\n",
              "\n",
              "  <style>\n",
              "    .colab-df-container {\n",
              "      display:flex;\n",
              "      gap: 12px;\n",
              "    }\n",
              "\n",
              "    .colab-df-convert {\n",
              "      background-color: #E8F0FE;\n",
              "      border: none;\n",
              "      border-radius: 50%;\n",
              "      cursor: pointer;\n",
              "      display: none;\n",
              "      fill: #1967D2;\n",
              "      height: 32px;\n",
              "      padding: 0 0 0 0;\n",
              "      width: 32px;\n",
              "    }\n",
              "\n",
              "    .colab-df-convert:hover {\n",
              "      background-color: #E2EBFA;\n",
              "      box-shadow: 0px 1px 2px rgba(60, 64, 67, 0.3), 0px 1px 3px 1px rgba(60, 64, 67, 0.15);\n",
              "      fill: #174EA6;\n",
              "    }\n",
              "\n",
              "    .colab-df-buttons div {\n",
              "      margin-bottom: 4px;\n",
              "    }\n",
              "\n",
              "    [theme=dark] .colab-df-convert {\n",
              "      background-color: #3B4455;\n",
              "      fill: #D2E3FC;\n",
              "    }\n",
              "\n",
              "    [theme=dark] .colab-df-convert:hover {\n",
              "      background-color: #434B5C;\n",
              "      box-shadow: 0px 1px 3px 1px rgba(0, 0, 0, 0.15);\n",
              "      filter: drop-shadow(0px 1px 2px rgba(0, 0, 0, 0.3));\n",
              "      fill: #FFFFFF;\n",
              "    }\n",
              "  </style>\n",
              "\n",
              "    <script>\n",
              "      const buttonEl =\n",
              "        document.querySelector('#df-bc1ca5c1-fad2-4767-9a4b-e8dec18ce215 button.colab-df-convert');\n",
              "      buttonEl.style.display =\n",
              "        google.colab.kernel.accessAllowed ? 'block' : 'none';\n",
              "\n",
              "      async function convertToInteractive(key) {\n",
              "        const element = document.querySelector('#df-bc1ca5c1-fad2-4767-9a4b-e8dec18ce215');\n",
              "        const dataTable =\n",
              "          await google.colab.kernel.invokeFunction('convertToInteractive',\n",
              "                                                    [key], {});\n",
              "        if (!dataTable) return;\n",
              "\n",
              "        const docLinkHtml = 'Like what you see? Visit the ' +\n",
              "          '<a target=\"_blank\" href=https://colab.research.google.com/notebooks/data_table.ipynb>data table notebook</a>'\n",
              "          + ' to learn more about interactive tables.';\n",
              "        element.innerHTML = '';\n",
              "        dataTable['output_type'] = 'display_data';\n",
              "        await google.colab.output.renderOutput(dataTable, element);\n",
              "        const docLink = document.createElement('div');\n",
              "        docLink.innerHTML = docLinkHtml;\n",
              "        element.appendChild(docLink);\n",
              "      }\n",
              "    </script>\n",
              "  </div>\n",
              "\n",
              "\n",
              "    <div id=\"df-9354c378-0576-41f7-a4c6-e64d589e071e\">\n",
              "      <button class=\"colab-df-quickchart\" onclick=\"quickchart('df-9354c378-0576-41f7-a4c6-e64d589e071e')\"\n",
              "                title=\"Suggest charts\"\n",
              "                style=\"display:none;\">\n",
              "\n",
              "<svg xmlns=\"http://www.w3.org/2000/svg\" height=\"24px\"viewBox=\"0 0 24 24\"\n",
              "     width=\"24px\">\n",
              "    <g>\n",
              "        <path d=\"M19 3H5c-1.1 0-2 .9-2 2v14c0 1.1.9 2 2 2h14c1.1 0 2-.9 2-2V5c0-1.1-.9-2-2-2zM9 17H7v-7h2v7zm4 0h-2V7h2v10zm4 0h-2v-4h2v4z\"/>\n",
              "    </g>\n",
              "</svg>\n",
              "      </button>\n",
              "\n",
              "<style>\n",
              "  .colab-df-quickchart {\n",
              "      --bg-color: #E8F0FE;\n",
              "      --fill-color: #1967D2;\n",
              "      --hover-bg-color: #E2EBFA;\n",
              "      --hover-fill-color: #174EA6;\n",
              "      --disabled-fill-color: #AAA;\n",
              "      --disabled-bg-color: #DDD;\n",
              "  }\n",
              "\n",
              "  [theme=dark] .colab-df-quickchart {\n",
              "      --bg-color: #3B4455;\n",
              "      --fill-color: #D2E3FC;\n",
              "      --hover-bg-color: #434B5C;\n",
              "      --hover-fill-color: #FFFFFF;\n",
              "      --disabled-bg-color: #3B4455;\n",
              "      --disabled-fill-color: #666;\n",
              "  }\n",
              "\n",
              "  .colab-df-quickchart {\n",
              "    background-color: var(--bg-color);\n",
              "    border: none;\n",
              "    border-radius: 50%;\n",
              "    cursor: pointer;\n",
              "    display: none;\n",
              "    fill: var(--fill-color);\n",
              "    height: 32px;\n",
              "    padding: 0;\n",
              "    width: 32px;\n",
              "  }\n",
              "\n",
              "  .colab-df-quickchart:hover {\n",
              "    background-color: var(--hover-bg-color);\n",
              "    box-shadow: 0 1px 2px rgba(60, 64, 67, 0.3), 0 1px 3px 1px rgba(60, 64, 67, 0.15);\n",
              "    fill: var(--button-hover-fill-color);\n",
              "  }\n",
              "\n",
              "  .colab-df-quickchart-complete:disabled,\n",
              "  .colab-df-quickchart-complete:disabled:hover {\n",
              "    background-color: var(--disabled-bg-color);\n",
              "    fill: var(--disabled-fill-color);\n",
              "    box-shadow: none;\n",
              "  }\n",
              "\n",
              "  .colab-df-spinner {\n",
              "    border: 2px solid var(--fill-color);\n",
              "    border-color: transparent;\n",
              "    border-bottom-color: var(--fill-color);\n",
              "    animation:\n",
              "      spin 1s steps(1) infinite;\n",
              "  }\n",
              "\n",
              "  @keyframes spin {\n",
              "    0% {\n",
              "      border-color: transparent;\n",
              "      border-bottom-color: var(--fill-color);\n",
              "      border-left-color: var(--fill-color);\n",
              "    }\n",
              "    20% {\n",
              "      border-color: transparent;\n",
              "      border-left-color: var(--fill-color);\n",
              "      border-top-color: var(--fill-color);\n",
              "    }\n",
              "    30% {\n",
              "      border-color: transparent;\n",
              "      border-left-color: var(--fill-color);\n",
              "      border-top-color: var(--fill-color);\n",
              "      border-right-color: var(--fill-color);\n",
              "    }\n",
              "    40% {\n",
              "      border-color: transparent;\n",
              "      border-right-color: var(--fill-color);\n",
              "      border-top-color: var(--fill-color);\n",
              "    }\n",
              "    60% {\n",
              "      border-color: transparent;\n",
              "      border-right-color: var(--fill-color);\n",
              "    }\n",
              "    80% {\n",
              "      border-color: transparent;\n",
              "      border-right-color: var(--fill-color);\n",
              "      border-bottom-color: var(--fill-color);\n",
              "    }\n",
              "    90% {\n",
              "      border-color: transparent;\n",
              "      border-bottom-color: var(--fill-color);\n",
              "    }\n",
              "  }\n",
              "</style>\n",
              "\n",
              "      <script>\n",
              "        async function quickchart(key) {\n",
              "          const quickchartButtonEl =\n",
              "            document.querySelector('#' + key + ' button');\n",
              "          quickchartButtonEl.disabled = true;  // To prevent multiple clicks.\n",
              "          quickchartButtonEl.classList.add('colab-df-spinner');\n",
              "          try {\n",
              "            const charts = await google.colab.kernel.invokeFunction(\n",
              "                'suggestCharts', [key], {});\n",
              "          } catch (error) {\n",
              "            console.error('Error during call to suggestCharts:', error);\n",
              "          }\n",
              "          quickchartButtonEl.classList.remove('colab-df-spinner');\n",
              "          quickchartButtonEl.classList.add('colab-df-quickchart-complete');\n",
              "        }\n",
              "        (() => {\n",
              "          let quickchartButtonEl =\n",
              "            document.querySelector('#df-9354c378-0576-41f7-a4c6-e64d589e071e button');\n",
              "          quickchartButtonEl.style.display =\n",
              "            google.colab.kernel.accessAllowed ? 'block' : 'none';\n",
              "        })();\n",
              "      </script>\n",
              "    </div>\n",
              "\n",
              "    </div>\n",
              "  </div>\n"
            ],
            "application/vnd.google.colaboratory.intrinsic+json": {
              "type": "dataframe",
              "summary": "{\n  \"name\": \"cleaned[cleaned['Screen Size']\",\n  \"rows\": 4,\n  \"fields\": [\n    {\n      \"column\": \"Company Name\",\n      \"properties\": {\n        \"dtype\": \"category\",\n        \"num_unique_values\": 1,\n        \"samples\": [\n          \"Huawei\"\n        ],\n        \"semantic_type\": \"\",\n        \"description\": \"\"\n      }\n    },\n    {\n      \"column\": \"Model Name\",\n      \"properties\": {\n        \"dtype\": \"string\",\n        \"num_unique_values\": 4,\n        \"samples\": [\n          \"Mate X2\"\n        ],\n        \"semantic_type\": \"\",\n        \"description\": \"\"\n      }\n    },\n    {\n      \"column\": \"Mobile Weight\",\n      \"properties\": {\n        \"dtype\": \"number\",\n        \"std\": 43.438654061407874,\n        \"min\": 190.0,\n        \"max\": 295.0,\n        \"num_unique_values\": 4,\n        \"samples\": [\n          295.0\n        ],\n        \"semantic_type\": \"\",\n        \"description\": \"\"\n      }\n    },\n    {\n      \"column\": \"RAM\",\n      \"properties\": {\n        \"dtype\": \"number\",\n        \"std\": 2.0,\n        \"min\": 8.0,\n        \"max\": 12.0,\n        \"num_unique_values\": 2,\n        \"samples\": [\n          12.0\n        ],\n        \"semantic_type\": \"\",\n        \"description\": \"\"\n      }\n    },\n    {\n      \"column\": \"Front Camera\",\n      \"properties\": {\n        \"dtype\": \"string\",\n        \"num_unique_values\": 3,\n        \"samples\": [\n          \"10.7MP\"\n        ],\n        \"semantic_type\": \"\",\n        \"description\": \"\"\n      }\n    },\n    {\n      \"column\": \"Back Camera\",\n      \"properties\": {\n        \"dtype\": \"string\",\n        \"num_unique_values\": 3,\n        \"samples\": [\n          \"40MP\"\n        ],\n        \"semantic_type\": \"\",\n        \"description\": \"\"\n      }\n    },\n    {\n      \"column\": \"Processor\",\n      \"properties\": {\n        \"dtype\": \"string\",\n        \"num_unique_values\": 3,\n        \"samples\": [\n          \"Snapdragon 888 4G\"\n        ],\n        \"semantic_type\": \"\",\n        \"description\": \"\"\n      }\n    },\n    {\n      \"column\": \"Battery Capacity\",\n      \"properties\": {\n        \"dtype\": \"number\",\n        \"std\": 340,\n        \"min\": 4000,\n        \"max\": 4800,\n        \"num_unique_values\": 4,\n        \"samples\": [\n          4500\n        ],\n        \"semantic_type\": \"\",\n        \"description\": \"\"\n      }\n    },\n    {\n      \"column\": \"Screen Size\",\n      \"properties\": {\n        \"dtype\": \"string\",\n        \"num_unique_values\": 4,\n        \"samples\": [\n          \"8.0 inches (unfolded)\"\n        ],\n        \"semantic_type\": \"\",\n        \"description\": \"\"\n      }\n    },\n    {\n      \"column\": \"Launched Price (Pakistan)\",\n      \"properties\": {\n        \"dtype\": \"string\",\n        \"num_unique_values\": 3,\n        \"samples\": [\n          \"PKR 199,999\"\n        ],\n        \"semantic_type\": \"\",\n        \"description\": \"\"\n      }\n    },\n    {\n      \"column\": \"Launched Price (India)\",\n      \"properties\": {\n        \"dtype\": \"string\",\n        \"num_unique_values\": 3,\n        \"samples\": [\n          \"INR 129,999\"\n        ],\n        \"semantic_type\": \"\",\n        \"description\": \"\"\n      }\n    },\n    {\n      \"column\": \"Launched Price (China)\",\n      \"properties\": {\n        \"dtype\": \"string\",\n        \"num_unique_values\": 4,\n        \"samples\": [\n          \"CNY 17,999\"\n        ],\n        \"semantic_type\": \"\",\n        \"description\": \"\"\n      }\n    },\n    {\n      \"column\": \"Launched Price (USA)\",\n      \"properties\": {\n        \"dtype\": \"string\",\n        \"num_unique_values\": 3,\n        \"samples\": [\n          \"USD 1,299\"\n        ],\n        \"semantic_type\": \"\",\n        \"description\": \"\"\n      }\n    },\n    {\n      \"column\": \"Launched Price (Dubai)\",\n      \"properties\": {\n        \"dtype\": \"string\",\n        \"num_unique_values\": 3,\n        \"samples\": [\n          \"AED 4,799\"\n        ],\n        \"semantic_type\": \"\",\n        \"description\": \"\"\n      }\n    },\n    {\n      \"column\": \"Launched Year\",\n      \"properties\": {\n        \"dtype\": \"number\",\n        \"std\": 0,\n        \"min\": 2021,\n        \"max\": 2023,\n        \"num_unique_values\": 3,\n        \"samples\": [\n          2021\n        ],\n        \"semantic_type\": \"\",\n        \"description\": \"\"\n      }\n    }\n  ]\n}"
            }
          },
          "metadata": {},
          "execution_count": 23
        }
      ]
    },
    {
      "cell_type": "markdown",
      "source": [
        "Converting size to float"
      ],
      "metadata": {
        "id": "g1eWgJVlgpaR"
      }
    },
    {
      "cell_type": "code",
      "source": [
        "cleaned['Screen Size'] = cleaned['Screen Size'].str.extract(r'(\\d+\\.?\\d*)').astype(float)"
      ],
      "metadata": {
        "id": "Q95cLJU1gpEc"
      },
      "execution_count": null,
      "outputs": []
    },
    {
      "cell_type": "markdown",
      "source": [
        "Checking that unfolded is properly done"
      ],
      "metadata": {
        "id": "JhV_AR-1ZmXR"
      }
    },
    {
      "cell_type": "code",
      "source": [
        "cleaned[cleaned.index==628]"
      ],
      "metadata": {
        "colab": {
          "base_uri": "https://localhost:8080/",
          "height": 115
        },
        "id": "mZVjSWjKhPYt",
        "outputId": "f52c7280-b8f9-435a-8c75-c6fc4c78f261"
      },
      "execution_count": null,
      "outputs": [
        {
          "output_type": "execute_result",
          "data": {
            "text/plain": [
              "    Company Name  Model Name  Mobile Weight  RAM Front Camera Back Camera  \\\n",
              "628       Huawei  P50 Pocket          190.0  8.0       10.7MP        40MP   \n",
              "\n",
              "             Processor  Battery Capacity  Screen Size  \\\n",
              "628  Snapdragon 888 4G              4000          6.9   \n",
              "\n",
              "    Launched Price (Pakistan) Launched Price (India) Launched Price (China)  \\\n",
              "628               PKR 199,999            INR 129,999              CNY 8,988   \n",
              "\n",
              "    Launched Price (USA) Launched Price (Dubai)  Launched Year  \n",
              "628            USD 1,299              AED 4,799           2021  "
            ],
            "text/html": [
              "\n",
              "  <div id=\"df-45d8c0f0-89c4-4ab1-8b0b-64ad906178c9\" class=\"colab-df-container\">\n",
              "    <div>\n",
              "<style scoped>\n",
              "    .dataframe tbody tr th:only-of-type {\n",
              "        vertical-align: middle;\n",
              "    }\n",
              "\n",
              "    .dataframe tbody tr th {\n",
              "        vertical-align: top;\n",
              "    }\n",
              "\n",
              "    .dataframe thead th {\n",
              "        text-align: right;\n",
              "    }\n",
              "</style>\n",
              "<table border=\"1\" class=\"dataframe\">\n",
              "  <thead>\n",
              "    <tr style=\"text-align: right;\">\n",
              "      <th></th>\n",
              "      <th>Company Name</th>\n",
              "      <th>Model Name</th>\n",
              "      <th>Mobile Weight</th>\n",
              "      <th>RAM</th>\n",
              "      <th>Front Camera</th>\n",
              "      <th>Back Camera</th>\n",
              "      <th>Processor</th>\n",
              "      <th>Battery Capacity</th>\n",
              "      <th>Screen Size</th>\n",
              "      <th>Launched Price (Pakistan)</th>\n",
              "      <th>Launched Price (India)</th>\n",
              "      <th>Launched Price (China)</th>\n",
              "      <th>Launched Price (USA)</th>\n",
              "      <th>Launched Price (Dubai)</th>\n",
              "      <th>Launched Year</th>\n",
              "    </tr>\n",
              "  </thead>\n",
              "  <tbody>\n",
              "    <tr>\n",
              "      <th>628</th>\n",
              "      <td>Huawei</td>\n",
              "      <td>P50 Pocket</td>\n",
              "      <td>190.0</td>\n",
              "      <td>8.0</td>\n",
              "      <td>10.7MP</td>\n",
              "      <td>40MP</td>\n",
              "      <td>Snapdragon 888 4G</td>\n",
              "      <td>4000</td>\n",
              "      <td>6.9</td>\n",
              "      <td>PKR 199,999</td>\n",
              "      <td>INR 129,999</td>\n",
              "      <td>CNY 8,988</td>\n",
              "      <td>USD 1,299</td>\n",
              "      <td>AED 4,799</td>\n",
              "      <td>2021</td>\n",
              "    </tr>\n",
              "  </tbody>\n",
              "</table>\n",
              "</div>\n",
              "    <div class=\"colab-df-buttons\">\n",
              "\n",
              "  <div class=\"colab-df-container\">\n",
              "    <button class=\"colab-df-convert\" onclick=\"convertToInteractive('df-45d8c0f0-89c4-4ab1-8b0b-64ad906178c9')\"\n",
              "            title=\"Convert this dataframe to an interactive table.\"\n",
              "            style=\"display:none;\">\n",
              "\n",
              "  <svg xmlns=\"http://www.w3.org/2000/svg\" height=\"24px\" viewBox=\"0 -960 960 960\">\n",
              "    <path d=\"M120-120v-720h720v720H120Zm60-500h600v-160H180v160Zm220 220h160v-160H400v160Zm0 220h160v-160H400v160ZM180-400h160v-160H180v160Zm440 0h160v-160H620v160ZM180-180h160v-160H180v160Zm440 0h160v-160H620v160Z\"/>\n",
              "  </svg>\n",
              "    </button>\n",
              "\n",
              "  <style>\n",
              "    .colab-df-container {\n",
              "      display:flex;\n",
              "      gap: 12px;\n",
              "    }\n",
              "\n",
              "    .colab-df-convert {\n",
              "      background-color: #E8F0FE;\n",
              "      border: none;\n",
              "      border-radius: 50%;\n",
              "      cursor: pointer;\n",
              "      display: none;\n",
              "      fill: #1967D2;\n",
              "      height: 32px;\n",
              "      padding: 0 0 0 0;\n",
              "      width: 32px;\n",
              "    }\n",
              "\n",
              "    .colab-df-convert:hover {\n",
              "      background-color: #E2EBFA;\n",
              "      box-shadow: 0px 1px 2px rgba(60, 64, 67, 0.3), 0px 1px 3px 1px rgba(60, 64, 67, 0.15);\n",
              "      fill: #174EA6;\n",
              "    }\n",
              "\n",
              "    .colab-df-buttons div {\n",
              "      margin-bottom: 4px;\n",
              "    }\n",
              "\n",
              "    [theme=dark] .colab-df-convert {\n",
              "      background-color: #3B4455;\n",
              "      fill: #D2E3FC;\n",
              "    }\n",
              "\n",
              "    [theme=dark] .colab-df-convert:hover {\n",
              "      background-color: #434B5C;\n",
              "      box-shadow: 0px 1px 3px 1px rgba(0, 0, 0, 0.15);\n",
              "      filter: drop-shadow(0px 1px 2px rgba(0, 0, 0, 0.3));\n",
              "      fill: #FFFFFF;\n",
              "    }\n",
              "  </style>\n",
              "\n",
              "    <script>\n",
              "      const buttonEl =\n",
              "        document.querySelector('#df-45d8c0f0-89c4-4ab1-8b0b-64ad906178c9 button.colab-df-convert');\n",
              "      buttonEl.style.display =\n",
              "        google.colab.kernel.accessAllowed ? 'block' : 'none';\n",
              "\n",
              "      async function convertToInteractive(key) {\n",
              "        const element = document.querySelector('#df-45d8c0f0-89c4-4ab1-8b0b-64ad906178c9');\n",
              "        const dataTable =\n",
              "          await google.colab.kernel.invokeFunction('convertToInteractive',\n",
              "                                                    [key], {});\n",
              "        if (!dataTable) return;\n",
              "\n",
              "        const docLinkHtml = 'Like what you see? Visit the ' +\n",
              "          '<a target=\"_blank\" href=https://colab.research.google.com/notebooks/data_table.ipynb>data table notebook</a>'\n",
              "          + ' to learn more about interactive tables.';\n",
              "        element.innerHTML = '';\n",
              "        dataTable['output_type'] = 'display_data';\n",
              "        await google.colab.output.renderOutput(dataTable, element);\n",
              "        const docLink = document.createElement('div');\n",
              "        docLink.innerHTML = docLinkHtml;\n",
              "        element.appendChild(docLink);\n",
              "      }\n",
              "    </script>\n",
              "  </div>\n",
              "\n",
              "\n",
              "    </div>\n",
              "  </div>\n"
            ],
            "application/vnd.google.colaboratory.intrinsic+json": {
              "type": "dataframe",
              "summary": "{\n  \"name\": \"cleaned[cleaned\",\n  \"rows\": 1,\n  \"fields\": [\n    {\n      \"column\": \"Company Name\",\n      \"properties\": {\n        \"dtype\": \"string\",\n        \"num_unique_values\": 1,\n        \"samples\": [\n          \"Huawei\"\n        ],\n        \"semantic_type\": \"\",\n        \"description\": \"\"\n      }\n    },\n    {\n      \"column\": \"Model Name\",\n      \"properties\": {\n        \"dtype\": \"string\",\n        \"num_unique_values\": 1,\n        \"samples\": [\n          \"P50 Pocket\"\n        ],\n        \"semantic_type\": \"\",\n        \"description\": \"\"\n      }\n    },\n    {\n      \"column\": \"Mobile Weight\",\n      \"properties\": {\n        \"dtype\": \"number\",\n        \"std\": null,\n        \"min\": 190.0,\n        \"max\": 190.0,\n        \"num_unique_values\": 1,\n        \"samples\": [\n          190.0\n        ],\n        \"semantic_type\": \"\",\n        \"description\": \"\"\n      }\n    },\n    {\n      \"column\": \"RAM\",\n      \"properties\": {\n        \"dtype\": \"number\",\n        \"std\": null,\n        \"min\": 8.0,\n        \"max\": 8.0,\n        \"num_unique_values\": 1,\n        \"samples\": [\n          8.0\n        ],\n        \"semantic_type\": \"\",\n        \"description\": \"\"\n      }\n    },\n    {\n      \"column\": \"Front Camera\",\n      \"properties\": {\n        \"dtype\": \"string\",\n        \"num_unique_values\": 1,\n        \"samples\": [\n          \"10.7MP\"\n        ],\n        \"semantic_type\": \"\",\n        \"description\": \"\"\n      }\n    },\n    {\n      \"column\": \"Back Camera\",\n      \"properties\": {\n        \"dtype\": \"string\",\n        \"num_unique_values\": 1,\n        \"samples\": [\n          \"40MP\"\n        ],\n        \"semantic_type\": \"\",\n        \"description\": \"\"\n      }\n    },\n    {\n      \"column\": \"Processor\",\n      \"properties\": {\n        \"dtype\": \"string\",\n        \"num_unique_values\": 1,\n        \"samples\": [\n          \"Snapdragon 888 4G\"\n        ],\n        \"semantic_type\": \"\",\n        \"description\": \"\"\n      }\n    },\n    {\n      \"column\": \"Battery Capacity\",\n      \"properties\": {\n        \"dtype\": \"number\",\n        \"std\": null,\n        \"min\": 4000,\n        \"max\": 4000,\n        \"num_unique_values\": 1,\n        \"samples\": [\n          4000\n        ],\n        \"semantic_type\": \"\",\n        \"description\": \"\"\n      }\n    },\n    {\n      \"column\": \"Screen Size\",\n      \"properties\": {\n        \"dtype\": \"number\",\n        \"std\": null,\n        \"min\": 6.9,\n        \"max\": 6.9,\n        \"num_unique_values\": 1,\n        \"samples\": [\n          6.9\n        ],\n        \"semantic_type\": \"\",\n        \"description\": \"\"\n      }\n    },\n    {\n      \"column\": \"Launched Price (Pakistan)\",\n      \"properties\": {\n        \"dtype\": \"string\",\n        \"num_unique_values\": 1,\n        \"samples\": [\n          \"PKR 199,999\"\n        ],\n        \"semantic_type\": \"\",\n        \"description\": \"\"\n      }\n    },\n    {\n      \"column\": \"Launched Price (India)\",\n      \"properties\": {\n        \"dtype\": \"string\",\n        \"num_unique_values\": 1,\n        \"samples\": [\n          \"INR 129,999\"\n        ],\n        \"semantic_type\": \"\",\n        \"description\": \"\"\n      }\n    },\n    {\n      \"column\": \"Launched Price (China)\",\n      \"properties\": {\n        \"dtype\": \"string\",\n        \"num_unique_values\": 1,\n        \"samples\": [\n          \"CNY 8,988\"\n        ],\n        \"semantic_type\": \"\",\n        \"description\": \"\"\n      }\n    },\n    {\n      \"column\": \"Launched Price (USA)\",\n      \"properties\": {\n        \"dtype\": \"string\",\n        \"num_unique_values\": 1,\n        \"samples\": [\n          \"USD 1,299\"\n        ],\n        \"semantic_type\": \"\",\n        \"description\": \"\"\n      }\n    },\n    {\n      \"column\": \"Launched Price (Dubai)\",\n      \"properties\": {\n        \"dtype\": \"string\",\n        \"num_unique_values\": 1,\n        \"samples\": [\n          \"AED 4,799\"\n        ],\n        \"semantic_type\": \"\",\n        \"description\": \"\"\n      }\n    },\n    {\n      \"column\": \"Launched Year\",\n      \"properties\": {\n        \"dtype\": \"number\",\n        \"std\": null,\n        \"min\": 2021,\n        \"max\": 2021,\n        \"num_unique_values\": 1,\n        \"samples\": [\n          2021\n        ],\n        \"semantic_type\": \"\",\n        \"description\": \"\"\n      }\n    }\n  ]\n}"
            }
          },
          "metadata": {},
          "execution_count": 25
        }
      ]
    },
    {
      "cell_type": "markdown",
      "source": [
        "###Converting Back Camera"
      ],
      "metadata": {
        "id": "Gc_XYED1hi1t"
      }
    },
    {
      "cell_type": "markdown",
      "source": [
        "Normalizing specific values"
      ],
      "metadata": {
        "id": "-OY2yH06i0CU"
      }
    },
    {
      "cell_type": "code",
      "source": [
        "cleaned['Back Camera'] = cleaned['Back Camera'].replace('13MP (f/1.8, AF)', '13 MP')"
      ],
      "metadata": {
        "id": "WZK4EHHBiYF6"
      },
      "execution_count": null,
      "outputs": []
    },
    {
      "cell_type": "markdown",
      "source": [
        "Checking if any value is separated by a comma"
      ],
      "metadata": {
        "id": "2aoJ825VjU-X"
      }
    },
    {
      "cell_type": "code",
      "source": [
        "cleaned[cleaned['Back Camera'].str.contains(',', na=False)]"
      ],
      "metadata": {
        "colab": {
          "base_uri": "https://localhost:8080/",
          "height": 67
        },
        "id": "8M7Cwn0ripka",
        "outputId": "43f8d2f0-7070-44b3-e817-2893a5da03b0"
      },
      "execution_count": null,
      "outputs": [
        {
          "output_type": "execute_result",
          "data": {
            "text/plain": [
              "Empty DataFrame\n",
              "Columns: [Company Name, Model Name, Mobile Weight, RAM, Front Camera, Back Camera, Processor, Battery Capacity, Screen Size, Launched Price (Pakistan), Launched Price (India), Launched Price (China), Launched Price (USA), Launched Price (Dubai), Launched Year]\n",
              "Index: []"
            ],
            "text/html": [
              "\n",
              "  <div id=\"df-e3296040-b93a-4375-874a-c3b4fc6b85a4\" class=\"colab-df-container\">\n",
              "    <div>\n",
              "<style scoped>\n",
              "    .dataframe tbody tr th:only-of-type {\n",
              "        vertical-align: middle;\n",
              "    }\n",
              "\n",
              "    .dataframe tbody tr th {\n",
              "        vertical-align: top;\n",
              "    }\n",
              "\n",
              "    .dataframe thead th {\n",
              "        text-align: right;\n",
              "    }\n",
              "</style>\n",
              "<table border=\"1\" class=\"dataframe\">\n",
              "  <thead>\n",
              "    <tr style=\"text-align: right;\">\n",
              "      <th></th>\n",
              "      <th>Company Name</th>\n",
              "      <th>Model Name</th>\n",
              "      <th>Mobile Weight</th>\n",
              "      <th>RAM</th>\n",
              "      <th>Front Camera</th>\n",
              "      <th>Back Camera</th>\n",
              "      <th>Processor</th>\n",
              "      <th>Battery Capacity</th>\n",
              "      <th>Screen Size</th>\n",
              "      <th>Launched Price (Pakistan)</th>\n",
              "      <th>Launched Price (India)</th>\n",
              "      <th>Launched Price (China)</th>\n",
              "      <th>Launched Price (USA)</th>\n",
              "      <th>Launched Price (Dubai)</th>\n",
              "      <th>Launched Year</th>\n",
              "    </tr>\n",
              "  </thead>\n",
              "  <tbody>\n",
              "  </tbody>\n",
              "</table>\n",
              "</div>\n",
              "    <div class=\"colab-df-buttons\">\n",
              "\n",
              "  <div class=\"colab-df-container\">\n",
              "    <button class=\"colab-df-convert\" onclick=\"convertToInteractive('df-e3296040-b93a-4375-874a-c3b4fc6b85a4')\"\n",
              "            title=\"Convert this dataframe to an interactive table.\"\n",
              "            style=\"display:none;\">\n",
              "\n",
              "  <svg xmlns=\"http://www.w3.org/2000/svg\" height=\"24px\" viewBox=\"0 -960 960 960\">\n",
              "    <path d=\"M120-120v-720h720v720H120Zm60-500h600v-160H180v160Zm220 220h160v-160H400v160Zm0 220h160v-160H400v160ZM180-400h160v-160H180v160Zm440 0h160v-160H620v160ZM180-180h160v-160H180v160Zm440 0h160v-160H620v160Z\"/>\n",
              "  </svg>\n",
              "    </button>\n",
              "\n",
              "  <style>\n",
              "    .colab-df-container {\n",
              "      display:flex;\n",
              "      gap: 12px;\n",
              "    }\n",
              "\n",
              "    .colab-df-convert {\n",
              "      background-color: #E8F0FE;\n",
              "      border: none;\n",
              "      border-radius: 50%;\n",
              "      cursor: pointer;\n",
              "      display: none;\n",
              "      fill: #1967D2;\n",
              "      height: 32px;\n",
              "      padding: 0 0 0 0;\n",
              "      width: 32px;\n",
              "    }\n",
              "\n",
              "    .colab-df-convert:hover {\n",
              "      background-color: #E2EBFA;\n",
              "      box-shadow: 0px 1px 2px rgba(60, 64, 67, 0.3), 0px 1px 3px 1px rgba(60, 64, 67, 0.15);\n",
              "      fill: #174EA6;\n",
              "    }\n",
              "\n",
              "    .colab-df-buttons div {\n",
              "      margin-bottom: 4px;\n",
              "    }\n",
              "\n",
              "    [theme=dark] .colab-df-convert {\n",
              "      background-color: #3B4455;\n",
              "      fill: #D2E3FC;\n",
              "    }\n",
              "\n",
              "    [theme=dark] .colab-df-convert:hover {\n",
              "      background-color: #434B5C;\n",
              "      box-shadow: 0px 1px 3px 1px rgba(0, 0, 0, 0.15);\n",
              "      filter: drop-shadow(0px 1px 2px rgba(0, 0, 0, 0.3));\n",
              "      fill: #FFFFFF;\n",
              "    }\n",
              "  </style>\n",
              "\n",
              "    <script>\n",
              "      const buttonEl =\n",
              "        document.querySelector('#df-e3296040-b93a-4375-874a-c3b4fc6b85a4 button.colab-df-convert');\n",
              "      buttonEl.style.display =\n",
              "        google.colab.kernel.accessAllowed ? 'block' : 'none';\n",
              "\n",
              "      async function convertToInteractive(key) {\n",
              "        const element = document.querySelector('#df-e3296040-b93a-4375-874a-c3b4fc6b85a4');\n",
              "        const dataTable =\n",
              "          await google.colab.kernel.invokeFunction('convertToInteractive',\n",
              "                                                    [key], {});\n",
              "        if (!dataTable) return;\n",
              "\n",
              "        const docLinkHtml = 'Like what you see? Visit the ' +\n",
              "          '<a target=\"_blank\" href=https://colab.research.google.com/notebooks/data_table.ipynb>data table notebook</a>'\n",
              "          + ' to learn more about interactive tables.';\n",
              "        element.innerHTML = '';\n",
              "        dataTable['output_type'] = 'display_data';\n",
              "        await google.colab.output.renderOutput(dataTable, element);\n",
              "        const docLink = document.createElement('div');\n",
              "        docLink.innerHTML = docLinkHtml;\n",
              "        element.appendChild(docLink);\n",
              "      }\n",
              "    </script>\n",
              "  </div>\n",
              "\n",
              "\n",
              "    </div>\n",
              "  </div>\n"
            ],
            "application/vnd.google.colaboratory.intrinsic+json": {
              "type": "dataframe",
              "repr_error": "Out of range float values are not JSON compliant: nan"
            }
          },
          "metadata": {},
          "execution_count": 27
        }
      ]
    },
    {
      "cell_type": "markdown",
      "source": [
        "Splitting up back camera into differnt columns depending on the number of cameras, indicated by +"
      ],
      "metadata": {
        "id": "O4kjFBWhjaLL"
      }
    },
    {
      "cell_type": "code",
      "source": [
        "split_columns = cleaned['Back Camera'].str.split('+', expand=True)\n",
        "split_columns.columns = [f'Back Camera {i+1}' for i in range(split_columns.shape[1])]\n",
        "# Merging into cleaned\n",
        "cleaned = pd.concat([cleaned, split_columns], axis=1)"
      ],
      "metadata": {
        "id": "B5hQGUqojZ7G"
      },
      "execution_count": null,
      "outputs": []
    },
    {
      "cell_type": "code",
      "source": [
        "cleaned.drop(columns=['Back Camera'], inplace=True)"
      ],
      "metadata": {
        "id": "E1lQWf1TlvqK"
      },
      "execution_count": null,
      "outputs": []
    },
    {
      "cell_type": "markdown",
      "source": [
        "Converting Back Cameras into int and replacing nulls with 0"
      ],
      "metadata": {
        "id": "tozKAGO7kzuh"
      }
    },
    {
      "cell_type": "code",
      "source": [
        "columns_to_convert = ['Back Camera 1', 'Back Camera 2', 'Back Camera 3', 'Back Camera 4']\n",
        "for col in columns_to_convert:\n",
        "    cleaned[col] = cleaned[col].str.extract('(\\d+)').astype(float).fillna(0).astype(int)"
      ],
      "metadata": {
        "id": "WDf4wYfGk5cS"
      },
      "execution_count": null,
      "outputs": []
    },
    {
      "cell_type": "markdown",
      "source": [
        "###Converting Front Camera"
      ],
      "metadata": {
        "id": "J4O9vVqsmrCq"
      }
    },
    {
      "cell_type": "markdown",
      "source": [
        "Fixing specific values"
      ],
      "metadata": {
        "id": "0qkeFX43nfai"
      }
    },
    {
      "cell_type": "code",
      "source": [
        "cleaned['Front Camera'] = cleaned['Front Camera'].replace('10MP, 4MP (UDC)', '10 MP + 4 MP')\n",
        "cleaned['Front Camera'] = cleaned['Front Camera'].replace('12MP / 4K', '12 MP')"
      ],
      "metadata": {
        "id": "BYo5uBkvmtTC"
      },
      "execution_count": null,
      "outputs": []
    },
    {
      "cell_type": "markdown",
      "source": [
        "Checking for commas"
      ],
      "metadata": {
        "id": "kE7rDWFEoEuz"
      }
    },
    {
      "cell_type": "code",
      "source": [
        "cleaned[cleaned['Front Camera'].str.contains(',', na=False)]"
      ],
      "metadata": {
        "colab": {
          "base_uri": "https://localhost:8080/",
          "height": 67
        },
        "id": "JoIqpqZUnsHS",
        "outputId": "e0abd7b5-66b6-4393-8ddd-f1e50a21dafa"
      },
      "execution_count": null,
      "outputs": [
        {
          "output_type": "execute_result",
          "data": {
            "text/plain": [
              "Empty DataFrame\n",
              "Columns: [Company Name, Model Name, Mobile Weight, RAM, Front Camera, Processor, Battery Capacity, Screen Size, Launched Price (Pakistan), Launched Price (India), Launched Price (China), Launched Price (USA), Launched Price (Dubai), Launched Year, Back Camera 1, Back Camera 2, Back Camera 3, Back Camera 4]\n",
              "Index: []"
            ],
            "text/html": [
              "\n",
              "  <div id=\"df-bc687ec6-8ff0-4a05-911d-9c350cdda08b\" class=\"colab-df-container\">\n",
              "    <div>\n",
              "<style scoped>\n",
              "    .dataframe tbody tr th:only-of-type {\n",
              "        vertical-align: middle;\n",
              "    }\n",
              "\n",
              "    .dataframe tbody tr th {\n",
              "        vertical-align: top;\n",
              "    }\n",
              "\n",
              "    .dataframe thead th {\n",
              "        text-align: right;\n",
              "    }\n",
              "</style>\n",
              "<table border=\"1\" class=\"dataframe\">\n",
              "  <thead>\n",
              "    <tr style=\"text-align: right;\">\n",
              "      <th></th>\n",
              "      <th>Company Name</th>\n",
              "      <th>Model Name</th>\n",
              "      <th>Mobile Weight</th>\n",
              "      <th>RAM</th>\n",
              "      <th>Front Camera</th>\n",
              "      <th>Processor</th>\n",
              "      <th>Battery Capacity</th>\n",
              "      <th>Screen Size</th>\n",
              "      <th>Launched Price (Pakistan)</th>\n",
              "      <th>Launched Price (India)</th>\n",
              "      <th>Launched Price (China)</th>\n",
              "      <th>Launched Price (USA)</th>\n",
              "      <th>Launched Price (Dubai)</th>\n",
              "      <th>Launched Year</th>\n",
              "      <th>Back Camera 1</th>\n",
              "      <th>Back Camera 2</th>\n",
              "      <th>Back Camera 3</th>\n",
              "      <th>Back Camera 4</th>\n",
              "    </tr>\n",
              "  </thead>\n",
              "  <tbody>\n",
              "  </tbody>\n",
              "</table>\n",
              "</div>\n",
              "    <div class=\"colab-df-buttons\">\n",
              "\n",
              "  <div class=\"colab-df-container\">\n",
              "    <button class=\"colab-df-convert\" onclick=\"convertToInteractive('df-bc687ec6-8ff0-4a05-911d-9c350cdda08b')\"\n",
              "            title=\"Convert this dataframe to an interactive table.\"\n",
              "            style=\"display:none;\">\n",
              "\n",
              "  <svg xmlns=\"http://www.w3.org/2000/svg\" height=\"24px\" viewBox=\"0 -960 960 960\">\n",
              "    <path d=\"M120-120v-720h720v720H120Zm60-500h600v-160H180v160Zm220 220h160v-160H400v160Zm0 220h160v-160H400v160ZM180-400h160v-160H180v160Zm440 0h160v-160H620v160ZM180-180h160v-160H180v160Zm440 0h160v-160H620v160Z\"/>\n",
              "  </svg>\n",
              "    </button>\n",
              "\n",
              "  <style>\n",
              "    .colab-df-container {\n",
              "      display:flex;\n",
              "      gap: 12px;\n",
              "    }\n",
              "\n",
              "    .colab-df-convert {\n",
              "      background-color: #E8F0FE;\n",
              "      border: none;\n",
              "      border-radius: 50%;\n",
              "      cursor: pointer;\n",
              "      display: none;\n",
              "      fill: #1967D2;\n",
              "      height: 32px;\n",
              "      padding: 0 0 0 0;\n",
              "      width: 32px;\n",
              "    }\n",
              "\n",
              "    .colab-df-convert:hover {\n",
              "      background-color: #E2EBFA;\n",
              "      box-shadow: 0px 1px 2px rgba(60, 64, 67, 0.3), 0px 1px 3px 1px rgba(60, 64, 67, 0.15);\n",
              "      fill: #174EA6;\n",
              "    }\n",
              "\n",
              "    .colab-df-buttons div {\n",
              "      margin-bottom: 4px;\n",
              "    }\n",
              "\n",
              "    [theme=dark] .colab-df-convert {\n",
              "      background-color: #3B4455;\n",
              "      fill: #D2E3FC;\n",
              "    }\n",
              "\n",
              "    [theme=dark] .colab-df-convert:hover {\n",
              "      background-color: #434B5C;\n",
              "      box-shadow: 0px 1px 3px 1px rgba(0, 0, 0, 0.15);\n",
              "      filter: drop-shadow(0px 1px 2px rgba(0, 0, 0, 0.3));\n",
              "      fill: #FFFFFF;\n",
              "    }\n",
              "  </style>\n",
              "\n",
              "    <script>\n",
              "      const buttonEl =\n",
              "        document.querySelector('#df-bc687ec6-8ff0-4a05-911d-9c350cdda08b button.colab-df-convert');\n",
              "      buttonEl.style.display =\n",
              "        google.colab.kernel.accessAllowed ? 'block' : 'none';\n",
              "\n",
              "      async function convertToInteractive(key) {\n",
              "        const element = document.querySelector('#df-bc687ec6-8ff0-4a05-911d-9c350cdda08b');\n",
              "        const dataTable =\n",
              "          await google.colab.kernel.invokeFunction('convertToInteractive',\n",
              "                                                    [key], {});\n",
              "        if (!dataTable) return;\n",
              "\n",
              "        const docLinkHtml = 'Like what you see? Visit the ' +\n",
              "          '<a target=\"_blank\" href=https://colab.research.google.com/notebooks/data_table.ipynb>data table notebook</a>'\n",
              "          + ' to learn more about interactive tables.';\n",
              "        element.innerHTML = '';\n",
              "        dataTable['output_type'] = 'display_data';\n",
              "        await google.colab.output.renderOutput(dataTable, element);\n",
              "        const docLink = document.createElement('div');\n",
              "        docLink.innerHTML = docLinkHtml;\n",
              "        element.appendChild(docLink);\n",
              "      }\n",
              "    </script>\n",
              "  </div>\n",
              "\n",
              "\n",
              "    </div>\n",
              "  </div>\n"
            ],
            "application/vnd.google.colaboratory.intrinsic+json": {
              "type": "dataframe",
              "repr_error": "Out of range float values are not JSON compliant: nan"
            }
          },
          "metadata": {},
          "execution_count": 32
        }
      ]
    },
    {
      "cell_type": "markdown",
      "source": [
        "Splitting up back camera into differnt columns depending on the number of cameras, indicated by +"
      ],
      "metadata": {
        "id": "zhhNvwbTodCK"
      }
    },
    {
      "cell_type": "code",
      "source": [
        "split_columns = cleaned['Front Camera'].str.split('+', expand=True)\n",
        "split_columns.columns = [f'Front Camera {i+1}' for i in range(split_columns.shape[1])]\n",
        "# Merging into cleaned\n",
        "cleaned = pd.concat([cleaned, split_columns], axis=1)"
      ],
      "metadata": {
        "id": "wEHMDQsqoi1q"
      },
      "execution_count": null,
      "outputs": []
    },
    {
      "cell_type": "code",
      "source": [
        "cleaned.drop(columns=['Front Camera'], inplace=True)"
      ],
      "metadata": {
        "id": "L7bWVpfRpUkz"
      },
      "execution_count": null,
      "outputs": []
    },
    {
      "cell_type": "markdown",
      "source": [
        "Converting to int and filling nulls with 0"
      ],
      "metadata": {
        "id": "czsXLIRirRCh"
      }
    },
    {
      "cell_type": "code",
      "source": [
        "cleaned['Front Camera 1'] = cleaned['Front Camera 1'].str.extract('(\\d+)').astype(float).fillna(0).astype(int)\n",
        "cleaned['Front Camera 2'] = cleaned['Front Camera 2'].str.extract('(\\d+)').astype(float).fillna(0).astype(int)"
      ],
      "metadata": {
        "id": "xo1akM0cpwya"
      },
      "execution_count": null,
      "outputs": []
    },
    {
      "cell_type": "markdown",
      "source": [
        "###Extracting Storage from Model Name"
      ],
      "metadata": {
        "id": "dvCEuDg-roCi"
      }
    },
    {
      "cell_type": "markdown",
      "source": [
        "Checking the units used"
      ],
      "metadata": {
        "id": "cIwZliQZrq8z"
      }
    },
    {
      "cell_type": "markdown",
      "source": [
        "Removing records of models that do not contain TB or GB"
      ],
      "metadata": {
        "id": "-nXmA9O2szj_"
      }
    },
    {
      "cell_type": "code",
      "source": [
        "temp = cleaned[~cleaned['Model Name'].str.contains('TB|GB', na=False)]\n",
        "temp['Model Name'].unique()"
      ],
      "metadata": {
        "colab": {
          "base_uri": "https://localhost:8080/"
        },
        "id": "vNKoI3BesL_q",
        "outputId": "a1fd3504-0d8c-4931-cce5-bc69d67cd21e"
      },
      "execution_count": null,
      "outputs": [
        {
          "output_type": "execute_result",
          "data": {
            "text/plain": [
              "array(['OnePlus Pad', 'OnePlus Pad 2', 'OnePlus Pad Pro', 'P50',\n",
              "       'P50 Pro', 'P50 Pocket', 'Mate 40E', 'Mate X2', 'Nova 9',\n",
              "       'Nova 9 Pro', 'P50E', 'Mate Xs 2', 'Mate 50', 'Mate 50 Pro',\n",
              "       'Nova 10', 'Nova 10 Pro', 'Nova 10 SE', 'P60', 'P60 Pro',\n",
              "       'P60 Art', 'Mate X3', 'Mate 60', 'Mate 60 Pro', 'Mate 60 Pro+',\n",
              "       'Nova 11', 'Nova 11 Pro', 'Nova 11 Ultra', 'Pura 70',\n",
              "       'Pura 70 Pro', 'Pura 70 Pro+', 'Pura 70 Ultra', 'Mate 70',\n",
              "       'Mate 70 Pro', 'Mate 70 Pro+', 'Mate X6', 'Nova 12', 'Nova 12 Pro',\n",
              "       'T21', 'Xpad', 'Xpad 5G', 'Xpad Lite', 'Xpad Pro', 'Hot 50',\n",
              "       'Hot 50i', 'Hot 50 5G', 'Hot 50 Pro', 'Hot 50 Pro+', 'GT 20 Pro',\n",
              "       'Note 40X 5G', 'Note 40S', 'Note 40 5G', 'Note 40 Pro 5G',\n",
              "       'Note 40 Racing Edition', 'Hot 40', 'Hot 40i', 'Hot 40 Pro',\n",
              "       'Zero 40', 'Zero 40 5G', 'Zero Flip', 'Note 40', 'Note 40 Pro',\n",
              "       '9X Lite', '30', '30 Pro', '30 Pro+', '30S', 'X10', 'X10 Max',\n",
              "       'Play 4', 'Play 4 Pro', '10X Lite', 'V40', '50', '50 Pro', '50 SE',\n",
              "       'X20', 'X20 SE', 'Play 5', 'Play 5T', 'Magic3', 'Magic3 Pro',\n",
              "       'Magic3 Pro+', '60', '60 Pro', '60 SE', 'X30', 'X30i', 'X30 Max',\n",
              "       'Play 6', 'Play 6T', 'Magic4', 'Magic4 Pro', 'Magic4 Ultimate',\n",
              "       'Magic V', '70', '70 Pro', '70 Pro+', 'X40', 'X40i', 'Play 7',\n",
              "       'Play 7T', 'Magic5', 'Magic5 Pro', 'Magic5 Ultimate', 'Magic Vs',\n",
              "       '80', '80 Pro', '80 SE', 'X50', 'X50i', 'Play 8', 'Play 8T',\n",
              "       'Magic6', 'Magic6 Pro', 'Magic6 Ultimate', 'Magic V2', '90',\n",
              "       '90 Pro', '90 SE', 'X60', 'X60i', 'Play 9', 'Play 9T', 'Magic7',\n",
              "       'Magic7 Pro', 'Magic7 Ultimate', 'Magic V3', 'Pad 6', 'Pad X6',\n",
              "       'Pad 7', 'Tablet V7', 'Tablet V7 Pro', 'Pad 8', 'Pad X8',\n",
              "       'Pad X8 Lite', 'Pad V8', 'Pad V8 Pro', 'Pad 9', 'Pad 9 Pro',\n",
              "       'Pad X9', 'Pad X8 Pro', 'MagicPad 13', 'MagicPad 2', 'Pad X8a',\n",
              "       'Pad X8a Kids Edition', 'Pad X9 Pro', 'Pad V9', 'Pad GT Pro',\n",
              "       'Pad X10', 'Pad X10 Pro', 'MagicPad 3', 'Pad V10'], dtype=object)"
            ]
          },
          "metadata": {},
          "execution_count": 36
        }
      ]
    },
    {
      "cell_type": "code",
      "source": [
        "cleaned = cleaned[cleaned['Model Name'].str.contains('GB|TB', na=False)]"
      ],
      "metadata": {
        "id": "SGqEv99ztmS_"
      },
      "execution_count": null,
      "outputs": []
    },
    {
      "cell_type": "code",
      "source": [
        "cleaned[['Model Name', 'Storage']] = cleaned['Model Name'].str.extract(r'(.+)\\s(\\d+(?:GB|TB))')"
      ],
      "metadata": {
        "id": "By_SEyEOt8yr",
        "colab": {
          "base_uri": "https://localhost:8080/"
        },
        "outputId": "a7e333a2-d848-4361-dba6-e152e7142be4"
      },
      "execution_count": null,
      "outputs": [
        {
          "output_type": "stream",
          "name": "stderr",
          "text": [
            "<ipython-input-38-9a14765a1172>:1: SettingWithCopyWarning: \n",
            "A value is trying to be set on a copy of a slice from a DataFrame.\n",
            "Try using .loc[row_indexer,col_indexer] = value instead\n",
            "\n",
            "See the caveats in the documentation: https://pandas.pydata.org/pandas-docs/stable/user_guide/indexing.html#returning-a-view-versus-a-copy\n",
            "  cleaned[['Model Name', 'Storage']] = cleaned['Model Name'].str.extract(r'(.+)\\s(\\d+(?:GB|TB))')\n",
            "<ipython-input-38-9a14765a1172>:1: SettingWithCopyWarning: \n",
            "A value is trying to be set on a copy of a slice from a DataFrame.\n",
            "Try using .loc[row_indexer,col_indexer] = value instead\n",
            "\n",
            "See the caveats in the documentation: https://pandas.pydata.org/pandas-docs/stable/user_guide/indexing.html#returning-a-view-versus-a-copy\n",
            "  cleaned[['Model Name', 'Storage']] = cleaned['Model Name'].str.extract(r'(.+)\\s(\\d+(?:GB|TB))')\n"
          ]
        }
      ]
    },
    {
      "cell_type": "markdown",
      "source": [
        "Checking for nulls and duplicates"
      ],
      "metadata": {
        "id": "Q8cX3Pb_utJz"
      }
    },
    {
      "cell_type": "code",
      "source": [
        "cleaned.isnull().sum()"
      ],
      "metadata": {
        "colab": {
          "base_uri": "https://localhost:8080/",
          "height": 711
        },
        "id": "HXnPxe-runSz",
        "outputId": "35b38cc5-2ee6-451b-db11-cdc67e2d1845"
      },
      "execution_count": null,
      "outputs": [
        {
          "output_type": "execute_result",
          "data": {
            "text/plain": [
              "Company Name                 0\n",
              "Model Name                   0\n",
              "Mobile Weight                0\n",
              "RAM                          0\n",
              "Processor                    0\n",
              "Battery Capacity             0\n",
              "Screen Size                  0\n",
              "Launched Price (Pakistan)    0\n",
              "Launched Price (India)       0\n",
              "Launched Price (China)       0\n",
              "Launched Price (USA)         0\n",
              "Launched Price (Dubai)       0\n",
              "Launched Year                0\n",
              "Back Camera 1                0\n",
              "Back Camera 2                0\n",
              "Back Camera 3                0\n",
              "Back Camera 4                0\n",
              "Front Camera 1               0\n",
              "Front Camera 2               0\n",
              "Storage                      0\n",
              "dtype: int64"
            ],
            "text/html": [
              "<div>\n",
              "<style scoped>\n",
              "    .dataframe tbody tr th:only-of-type {\n",
              "        vertical-align: middle;\n",
              "    }\n",
              "\n",
              "    .dataframe tbody tr th {\n",
              "        vertical-align: top;\n",
              "    }\n",
              "\n",
              "    .dataframe thead th {\n",
              "        text-align: right;\n",
              "    }\n",
              "</style>\n",
              "<table border=\"1\" class=\"dataframe\">\n",
              "  <thead>\n",
              "    <tr style=\"text-align: right;\">\n",
              "      <th></th>\n",
              "      <th>0</th>\n",
              "    </tr>\n",
              "  </thead>\n",
              "  <tbody>\n",
              "    <tr>\n",
              "      <th>Company Name</th>\n",
              "      <td>0</td>\n",
              "    </tr>\n",
              "    <tr>\n",
              "      <th>Model Name</th>\n",
              "      <td>0</td>\n",
              "    </tr>\n",
              "    <tr>\n",
              "      <th>Mobile Weight</th>\n",
              "      <td>0</td>\n",
              "    </tr>\n",
              "    <tr>\n",
              "      <th>RAM</th>\n",
              "      <td>0</td>\n",
              "    </tr>\n",
              "    <tr>\n",
              "      <th>Processor</th>\n",
              "      <td>0</td>\n",
              "    </tr>\n",
              "    <tr>\n",
              "      <th>Battery Capacity</th>\n",
              "      <td>0</td>\n",
              "    </tr>\n",
              "    <tr>\n",
              "      <th>Screen Size</th>\n",
              "      <td>0</td>\n",
              "    </tr>\n",
              "    <tr>\n",
              "      <th>Launched Price (Pakistan)</th>\n",
              "      <td>0</td>\n",
              "    </tr>\n",
              "    <tr>\n",
              "      <th>Launched Price (India)</th>\n",
              "      <td>0</td>\n",
              "    </tr>\n",
              "    <tr>\n",
              "      <th>Launched Price (China)</th>\n",
              "      <td>0</td>\n",
              "    </tr>\n",
              "    <tr>\n",
              "      <th>Launched Price (USA)</th>\n",
              "      <td>0</td>\n",
              "    </tr>\n",
              "    <tr>\n",
              "      <th>Launched Price (Dubai)</th>\n",
              "      <td>0</td>\n",
              "    </tr>\n",
              "    <tr>\n",
              "      <th>Launched Year</th>\n",
              "      <td>0</td>\n",
              "    </tr>\n",
              "    <tr>\n",
              "      <th>Back Camera 1</th>\n",
              "      <td>0</td>\n",
              "    </tr>\n",
              "    <tr>\n",
              "      <th>Back Camera 2</th>\n",
              "      <td>0</td>\n",
              "    </tr>\n",
              "    <tr>\n",
              "      <th>Back Camera 3</th>\n",
              "      <td>0</td>\n",
              "    </tr>\n",
              "    <tr>\n",
              "      <th>Back Camera 4</th>\n",
              "      <td>0</td>\n",
              "    </tr>\n",
              "    <tr>\n",
              "      <th>Front Camera 1</th>\n",
              "      <td>0</td>\n",
              "    </tr>\n",
              "    <tr>\n",
              "      <th>Front Camera 2</th>\n",
              "      <td>0</td>\n",
              "    </tr>\n",
              "    <tr>\n",
              "      <th>Storage</th>\n",
              "      <td>0</td>\n",
              "    </tr>\n",
              "  </tbody>\n",
              "</table>\n",
              "</div><br><label><b>dtype:</b> int64</label>"
            ]
          },
          "metadata": {},
          "execution_count": 39
        }
      ]
    },
    {
      "cell_type": "code",
      "source": [
        "cleaned.duplicated().sum()"
      ],
      "metadata": {
        "colab": {
          "base_uri": "https://localhost:8080/"
        },
        "id": "aAsnh0l5upVT",
        "outputId": "c0668111-2994-4640-82da-7a5ee2331dd0"
      },
      "execution_count": null,
      "outputs": [
        {
          "output_type": "execute_result",
          "data": {
            "text/plain": [
              "np.int64(0)"
            ]
          },
          "metadata": {},
          "execution_count": 40
        }
      ]
    },
    {
      "cell_type": "markdown",
      "source": [
        "Converting storage to int in terms of GB"
      ],
      "metadata": {
        "id": "9d8LEMr0uzo_"
      }
    },
    {
      "cell_type": "code",
      "source": [
        "cleaned['Storage'] = cleaned['Storage'].str.replace('TB', '*1024').str.replace('GB', '').map(eval).astype(str) + 'GB'"
      ],
      "metadata": {
        "id": "cSoSMSEWuzTL",
        "colab": {
          "base_uri": "https://localhost:8080/"
        },
        "outputId": "bf70deec-04c0-4a96-bbba-05e5eb51bab7"
      },
      "execution_count": null,
      "outputs": [
        {
          "output_type": "stream",
          "name": "stderr",
          "text": [
            "<ipython-input-41-2ed1c785e7bf>:1: SettingWithCopyWarning: \n",
            "A value is trying to be set on a copy of a slice from a DataFrame.\n",
            "Try using .loc[row_indexer,col_indexer] = value instead\n",
            "\n",
            "See the caveats in the documentation: https://pandas.pydata.org/pandas-docs/stable/user_guide/indexing.html#returning-a-view-versus-a-copy\n",
            "  cleaned['Storage'] = cleaned['Storage'].str.replace('TB', '*1024').str.replace('GB', '').map(eval).astype(str) + 'GB'\n"
          ]
        }
      ]
    },
    {
      "cell_type": "code",
      "source": [
        "cleaned['Storage'] = cleaned['Storage'].str.extract('(\\d+)').astype(int)"
      ],
      "metadata": {
        "id": "W1e9isiewYdr",
        "colab": {
          "base_uri": "https://localhost:8080/"
        },
        "outputId": "898e1035-b6cb-4732-acee-65970e02d259"
      },
      "execution_count": null,
      "outputs": [
        {
          "output_type": "stream",
          "name": "stderr",
          "text": [
            "<ipython-input-42-8cd537ae9052>:1: SettingWithCopyWarning: \n",
            "A value is trying to be set on a copy of a slice from a DataFrame.\n",
            "Try using .loc[row_indexer,col_indexer] = value instead\n",
            "\n",
            "See the caveats in the documentation: https://pandas.pydata.org/pandas-docs/stable/user_guide/indexing.html#returning-a-view-versus-a-copy\n",
            "  cleaned['Storage'] = cleaned['Storage'].str.extract('(\\d+)').astype(int)\n"
          ]
        }
      ]
    },
    {
      "cell_type": "markdown",
      "source": [
        "###Converting Prices in floats"
      ],
      "metadata": {
        "id": "4HP-A3r9wpTz"
      }
    },
    {
      "cell_type": "code",
      "source": [
        "price_columns = [\n",
        "    \"Launched Price (Pakistan)\",\n",
        "    \"Launched Price (India)\",\n",
        "    \"Launched Price (China)\",\n",
        "    \"Launched Price (USA)\",\n",
        "    \"Launched Price (Dubai)\"\n",
        "]"
      ],
      "metadata": {
        "id": "UcyyFqXLwruT"
      },
      "execution_count": null,
      "outputs": []
    },
    {
      "cell_type": "markdown",
      "source": [
        "Removing everything except digits and '.' from price columns"
      ],
      "metadata": {
        "id": "R7cA1F3-xwHb"
      }
    },
    {
      "cell_type": "code",
      "source": [
        "for col in price_columns:\n",
        "    cleaned[col] = cleaned[col].str.replace(r\"[^\\d.]\", \"\", regex=True)"
      ],
      "metadata": {
        "id": "P9_ELgxfxp7z",
        "colab": {
          "base_uri": "https://localhost:8080/"
        },
        "outputId": "610a1e89-a2f6-4174-b98b-47f5b126d18d"
      },
      "execution_count": null,
      "outputs": [
        {
          "output_type": "stream",
          "name": "stderr",
          "text": [
            "<ipython-input-44-f08fbc7a1a30>:2: SettingWithCopyWarning: \n",
            "A value is trying to be set on a copy of a slice from a DataFrame.\n",
            "Try using .loc[row_indexer,col_indexer] = value instead\n",
            "\n",
            "See the caveats in the documentation: https://pandas.pydata.org/pandas-docs/stable/user_guide/indexing.html#returning-a-view-versus-a-copy\n",
            "  cleaned[col] = cleaned[col].str.replace(r\"[^\\d.]\", \"\", regex=True)\n"
          ]
        }
      ]
    },
    {
      "cell_type": "markdown",
      "source": [
        "Converting prices to floats"
      ],
      "metadata": {
        "id": "isU283b8xylj"
      }
    },
    {
      "cell_type": "code",
      "source": [
        "for col in price_columns:\n",
        "    cleaned[col] = pd.to_numeric(cleaned[col], errors='coerce')"
      ],
      "metadata": {
        "id": "zYNt9p8rx2WK"
      },
      "execution_count": null,
      "outputs": []
    },
    {
      "cell_type": "code",
      "source": [
        "cleaned.isnull().sum()"
      ],
      "metadata": {
        "colab": {
          "base_uri": "https://localhost:8080/",
          "height": 711
        },
        "id": "BCr2c4t5zYrE",
        "outputId": "7759cfb9-e70f-4240-cb52-c85480876476"
      },
      "execution_count": null,
      "outputs": [
        {
          "output_type": "execute_result",
          "data": {
            "text/plain": [
              "Company Name                 0\n",
              "Model Name                   0\n",
              "Mobile Weight                0\n",
              "RAM                          0\n",
              "Processor                    0\n",
              "Battery Capacity             0\n",
              "Screen Size                  0\n",
              "Launched Price (Pakistan)    1\n",
              "Launched Price (India)       0\n",
              "Launched Price (China)       0\n",
              "Launched Price (USA)         0\n",
              "Launched Price (Dubai)       0\n",
              "Launched Year                0\n",
              "Back Camera 1                0\n",
              "Back Camera 2                0\n",
              "Back Camera 3                0\n",
              "Back Camera 4                0\n",
              "Front Camera 1               0\n",
              "Front Camera 2               0\n",
              "Storage                      0\n",
              "dtype: int64"
            ],
            "text/html": [
              "<div>\n",
              "<style scoped>\n",
              "    .dataframe tbody tr th:only-of-type {\n",
              "        vertical-align: middle;\n",
              "    }\n",
              "\n",
              "    .dataframe tbody tr th {\n",
              "        vertical-align: top;\n",
              "    }\n",
              "\n",
              "    .dataframe thead th {\n",
              "        text-align: right;\n",
              "    }\n",
              "</style>\n",
              "<table border=\"1\" class=\"dataframe\">\n",
              "  <thead>\n",
              "    <tr style=\"text-align: right;\">\n",
              "      <th></th>\n",
              "      <th>0</th>\n",
              "    </tr>\n",
              "  </thead>\n",
              "  <tbody>\n",
              "    <tr>\n",
              "      <th>Company Name</th>\n",
              "      <td>0</td>\n",
              "    </tr>\n",
              "    <tr>\n",
              "      <th>Model Name</th>\n",
              "      <td>0</td>\n",
              "    </tr>\n",
              "    <tr>\n",
              "      <th>Mobile Weight</th>\n",
              "      <td>0</td>\n",
              "    </tr>\n",
              "    <tr>\n",
              "      <th>RAM</th>\n",
              "      <td>0</td>\n",
              "    </tr>\n",
              "    <tr>\n",
              "      <th>Processor</th>\n",
              "      <td>0</td>\n",
              "    </tr>\n",
              "    <tr>\n",
              "      <th>Battery Capacity</th>\n",
              "      <td>0</td>\n",
              "    </tr>\n",
              "    <tr>\n",
              "      <th>Screen Size</th>\n",
              "      <td>0</td>\n",
              "    </tr>\n",
              "    <tr>\n",
              "      <th>Launched Price (Pakistan)</th>\n",
              "      <td>1</td>\n",
              "    </tr>\n",
              "    <tr>\n",
              "      <th>Launched Price (India)</th>\n",
              "      <td>0</td>\n",
              "    </tr>\n",
              "    <tr>\n",
              "      <th>Launched Price (China)</th>\n",
              "      <td>0</td>\n",
              "    </tr>\n",
              "    <tr>\n",
              "      <th>Launched Price (USA)</th>\n",
              "      <td>0</td>\n",
              "    </tr>\n",
              "    <tr>\n",
              "      <th>Launched Price (Dubai)</th>\n",
              "      <td>0</td>\n",
              "    </tr>\n",
              "    <tr>\n",
              "      <th>Launched Year</th>\n",
              "      <td>0</td>\n",
              "    </tr>\n",
              "    <tr>\n",
              "      <th>Back Camera 1</th>\n",
              "      <td>0</td>\n",
              "    </tr>\n",
              "    <tr>\n",
              "      <th>Back Camera 2</th>\n",
              "      <td>0</td>\n",
              "    </tr>\n",
              "    <tr>\n",
              "      <th>Back Camera 3</th>\n",
              "      <td>0</td>\n",
              "    </tr>\n",
              "    <tr>\n",
              "      <th>Back Camera 4</th>\n",
              "      <td>0</td>\n",
              "    </tr>\n",
              "    <tr>\n",
              "      <th>Front Camera 1</th>\n",
              "      <td>0</td>\n",
              "    </tr>\n",
              "    <tr>\n",
              "      <th>Front Camera 2</th>\n",
              "      <td>0</td>\n",
              "    </tr>\n",
              "    <tr>\n",
              "      <th>Storage</th>\n",
              "      <td>0</td>\n",
              "    </tr>\n",
              "  </tbody>\n",
              "</table>\n",
              "</div><br><label><b>dtype:</b> int64</label>"
            ]
          },
          "metadata": {},
          "execution_count": 46
        }
      ]
    },
    {
      "cell_type": "markdown",
      "source": [
        "Inspecting null value"
      ],
      "metadata": {
        "id": "YQ1WYf1S0BwW"
      }
    },
    {
      "cell_type": "code",
      "source": [
        "cleaned[cleaned.isnull().any(axis=1)]"
      ],
      "metadata": {
        "colab": {
          "base_uri": "https://localhost:8080/",
          "height": 133
        },
        "id": "o0JedJR4zokQ",
        "outputId": "b1c9f37e-43e9-4078-8bfc-adc0214860f4"
      },
      "execution_count": null,
      "outputs": [
        {
          "output_type": "execute_result",
          "data": {
            "text/plain": [
              "    Company Name      Model Name  Mobile Weight   RAM           Processor  \\\n",
              "929      Samsung  Galaxy Z Fold6          239.0  12.0  Snapdragon 8 Gen 3   \n",
              "\n",
              "     Battery Capacity  Screen Size  Launched Price (Pakistan)  \\\n",
              "929              4400          7.6                        NaN   \n",
              "\n",
              "     Launched Price (India)  Launched Price (China)  Launched Price (USA)  \\\n",
              "929                  200999                   17999                2259.0   \n",
              "\n",
              "     Launched Price (Dubai)  Launched Year  Back Camera 1  Back Camera 2  \\\n",
              "929                    8699           2024             50              0   \n",
              "\n",
              "     Back Camera 3  Back Camera 4  Front Camera 1  Front Camera 2  Storage  \n",
              "929              0              0              10               4     1024  "
            ],
            "text/html": [
              "\n",
              "  <div id=\"df-3690eda8-1c45-4a30-9fe3-49ac5414b714\" class=\"colab-df-container\">\n",
              "    <div>\n",
              "<style scoped>\n",
              "    .dataframe tbody tr th:only-of-type {\n",
              "        vertical-align: middle;\n",
              "    }\n",
              "\n",
              "    .dataframe tbody tr th {\n",
              "        vertical-align: top;\n",
              "    }\n",
              "\n",
              "    .dataframe thead th {\n",
              "        text-align: right;\n",
              "    }\n",
              "</style>\n",
              "<table border=\"1\" class=\"dataframe\">\n",
              "  <thead>\n",
              "    <tr style=\"text-align: right;\">\n",
              "      <th></th>\n",
              "      <th>Company Name</th>\n",
              "      <th>Model Name</th>\n",
              "      <th>Mobile Weight</th>\n",
              "      <th>RAM</th>\n",
              "      <th>Processor</th>\n",
              "      <th>Battery Capacity</th>\n",
              "      <th>Screen Size</th>\n",
              "      <th>Launched Price (Pakistan)</th>\n",
              "      <th>Launched Price (India)</th>\n",
              "      <th>Launched Price (China)</th>\n",
              "      <th>Launched Price (USA)</th>\n",
              "      <th>Launched Price (Dubai)</th>\n",
              "      <th>Launched Year</th>\n",
              "      <th>Back Camera 1</th>\n",
              "      <th>Back Camera 2</th>\n",
              "      <th>Back Camera 3</th>\n",
              "      <th>Back Camera 4</th>\n",
              "      <th>Front Camera 1</th>\n",
              "      <th>Front Camera 2</th>\n",
              "      <th>Storage</th>\n",
              "    </tr>\n",
              "  </thead>\n",
              "  <tbody>\n",
              "    <tr>\n",
              "      <th>929</th>\n",
              "      <td>Samsung</td>\n",
              "      <td>Galaxy Z Fold6</td>\n",
              "      <td>239.0</td>\n",
              "      <td>12.0</td>\n",
              "      <td>Snapdragon 8 Gen 3</td>\n",
              "      <td>4400</td>\n",
              "      <td>7.6</td>\n",
              "      <td>NaN</td>\n",
              "      <td>200999</td>\n",
              "      <td>17999</td>\n",
              "      <td>2259.0</td>\n",
              "      <td>8699</td>\n",
              "      <td>2024</td>\n",
              "      <td>50</td>\n",
              "      <td>0</td>\n",
              "      <td>0</td>\n",
              "      <td>0</td>\n",
              "      <td>10</td>\n",
              "      <td>4</td>\n",
              "      <td>1024</td>\n",
              "    </tr>\n",
              "  </tbody>\n",
              "</table>\n",
              "</div>\n",
              "    <div class=\"colab-df-buttons\">\n",
              "\n",
              "  <div class=\"colab-df-container\">\n",
              "    <button class=\"colab-df-convert\" onclick=\"convertToInteractive('df-3690eda8-1c45-4a30-9fe3-49ac5414b714')\"\n",
              "            title=\"Convert this dataframe to an interactive table.\"\n",
              "            style=\"display:none;\">\n",
              "\n",
              "  <svg xmlns=\"http://www.w3.org/2000/svg\" height=\"24px\" viewBox=\"0 -960 960 960\">\n",
              "    <path d=\"M120-120v-720h720v720H120Zm60-500h600v-160H180v160Zm220 220h160v-160H400v160Zm0 220h160v-160H400v160ZM180-400h160v-160H180v160Zm440 0h160v-160H620v160ZM180-180h160v-160H180v160Zm440 0h160v-160H620v160Z\"/>\n",
              "  </svg>\n",
              "    </button>\n",
              "\n",
              "  <style>\n",
              "    .colab-df-container {\n",
              "      display:flex;\n",
              "      gap: 12px;\n",
              "    }\n",
              "\n",
              "    .colab-df-convert {\n",
              "      background-color: #E8F0FE;\n",
              "      border: none;\n",
              "      border-radius: 50%;\n",
              "      cursor: pointer;\n",
              "      display: none;\n",
              "      fill: #1967D2;\n",
              "      height: 32px;\n",
              "      padding: 0 0 0 0;\n",
              "      width: 32px;\n",
              "    }\n",
              "\n",
              "    .colab-df-convert:hover {\n",
              "      background-color: #E2EBFA;\n",
              "      box-shadow: 0px 1px 2px rgba(60, 64, 67, 0.3), 0px 1px 3px 1px rgba(60, 64, 67, 0.15);\n",
              "      fill: #174EA6;\n",
              "    }\n",
              "\n",
              "    .colab-df-buttons div {\n",
              "      margin-bottom: 4px;\n",
              "    }\n",
              "\n",
              "    [theme=dark] .colab-df-convert {\n",
              "      background-color: #3B4455;\n",
              "      fill: #D2E3FC;\n",
              "    }\n",
              "\n",
              "    [theme=dark] .colab-df-convert:hover {\n",
              "      background-color: #434B5C;\n",
              "      box-shadow: 0px 1px 3px 1px rgba(0, 0, 0, 0.15);\n",
              "      filter: drop-shadow(0px 1px 2px rgba(0, 0, 0, 0.3));\n",
              "      fill: #FFFFFF;\n",
              "    }\n",
              "  </style>\n",
              "\n",
              "    <script>\n",
              "      const buttonEl =\n",
              "        document.querySelector('#df-3690eda8-1c45-4a30-9fe3-49ac5414b714 button.colab-df-convert');\n",
              "      buttonEl.style.display =\n",
              "        google.colab.kernel.accessAllowed ? 'block' : 'none';\n",
              "\n",
              "      async function convertToInteractive(key) {\n",
              "        const element = document.querySelector('#df-3690eda8-1c45-4a30-9fe3-49ac5414b714');\n",
              "        const dataTable =\n",
              "          await google.colab.kernel.invokeFunction('convertToInteractive',\n",
              "                                                    [key], {});\n",
              "        if (!dataTable) return;\n",
              "\n",
              "        const docLinkHtml = 'Like what you see? Visit the ' +\n",
              "          '<a target=\"_blank\" href=https://colab.research.google.com/notebooks/data_table.ipynb>data table notebook</a>'\n",
              "          + ' to learn more about interactive tables.';\n",
              "        element.innerHTML = '';\n",
              "        dataTable['output_type'] = 'display_data';\n",
              "        await google.colab.output.renderOutput(dataTable, element);\n",
              "        const docLink = document.createElement('div');\n",
              "        docLink.innerHTML = docLinkHtml;\n",
              "        element.appendChild(docLink);\n",
              "      }\n",
              "    </script>\n",
              "  </div>\n",
              "\n",
              "\n",
              "    </div>\n",
              "  </div>\n"
            ],
            "application/vnd.google.colaboratory.intrinsic+json": {
              "type": "dataframe",
              "summary": "{\n  \"name\": \"cleaned[cleaned\",\n  \"rows\": 1,\n  \"fields\": [\n    {\n      \"column\": \"Company Name\",\n      \"properties\": {\n        \"dtype\": \"string\",\n        \"num_unique_values\": 1,\n        \"samples\": [\n          \"Samsung\"\n        ],\n        \"semantic_type\": \"\",\n        \"description\": \"\"\n      }\n    },\n    {\n      \"column\": \"Model Name\",\n      \"properties\": {\n        \"dtype\": \"string\",\n        \"num_unique_values\": 1,\n        \"samples\": [\n          \"Galaxy Z Fold6\"\n        ],\n        \"semantic_type\": \"\",\n        \"description\": \"\"\n      }\n    },\n    {\n      \"column\": \"Mobile Weight\",\n      \"properties\": {\n        \"dtype\": \"number\",\n        \"std\": null,\n        \"min\": 239.0,\n        \"max\": 239.0,\n        \"num_unique_values\": 1,\n        \"samples\": [\n          239.0\n        ],\n        \"semantic_type\": \"\",\n        \"description\": \"\"\n      }\n    },\n    {\n      \"column\": \"RAM\",\n      \"properties\": {\n        \"dtype\": \"number\",\n        \"std\": null,\n        \"min\": 12.0,\n        \"max\": 12.0,\n        \"num_unique_values\": 1,\n        \"samples\": [\n          12.0\n        ],\n        \"semantic_type\": \"\",\n        \"description\": \"\"\n      }\n    },\n    {\n      \"column\": \"Processor\",\n      \"properties\": {\n        \"dtype\": \"string\",\n        \"num_unique_values\": 1,\n        \"samples\": [\n          \"Snapdragon 8 Gen 3\"\n        ],\n        \"semantic_type\": \"\",\n        \"description\": \"\"\n      }\n    },\n    {\n      \"column\": \"Battery Capacity\",\n      \"properties\": {\n        \"dtype\": \"number\",\n        \"std\": null,\n        \"min\": 4400,\n        \"max\": 4400,\n        \"num_unique_values\": 1,\n        \"samples\": [\n          4400\n        ],\n        \"semantic_type\": \"\",\n        \"description\": \"\"\n      }\n    },\n    {\n      \"column\": \"Screen Size\",\n      \"properties\": {\n        \"dtype\": \"number\",\n        \"std\": null,\n        \"min\": 7.6,\n        \"max\": 7.6,\n        \"num_unique_values\": 1,\n        \"samples\": [\n          7.6\n        ],\n        \"semantic_type\": \"\",\n        \"description\": \"\"\n      }\n    },\n    {\n      \"column\": \"Launched Price (Pakistan)\",\n      \"properties\": {\n        \"dtype\": \"number\",\n        \"std\": null,\n        \"min\": null,\n        \"max\": null,\n        \"num_unique_values\": 0,\n        \"samples\": [],\n        \"semantic_type\": \"\",\n        \"description\": \"\"\n      }\n    },\n    {\n      \"column\": \"Launched Price (India)\",\n      \"properties\": {\n        \"dtype\": \"number\",\n        \"std\": null,\n        \"min\": 200999,\n        \"max\": 200999,\n        \"num_unique_values\": 1,\n        \"samples\": [],\n        \"semantic_type\": \"\",\n        \"description\": \"\"\n      }\n    },\n    {\n      \"column\": \"Launched Price (China)\",\n      \"properties\": {\n        \"dtype\": \"number\",\n        \"std\": null,\n        \"min\": 17999,\n        \"max\": 17999,\n        \"num_unique_values\": 1,\n        \"samples\": [],\n        \"semantic_type\": \"\",\n        \"description\": \"\"\n      }\n    },\n    {\n      \"column\": \"Launched Price (USA)\",\n      \"properties\": {\n        \"dtype\": \"number\",\n        \"std\": null,\n        \"min\": 2259.0,\n        \"max\": 2259.0,\n        \"num_unique_values\": 1,\n        \"samples\": [],\n        \"semantic_type\": \"\",\n        \"description\": \"\"\n      }\n    },\n    {\n      \"column\": \"Launched Price (Dubai)\",\n      \"properties\": {\n        \"dtype\": \"number\",\n        \"std\": null,\n        \"min\": 8699,\n        \"max\": 8699,\n        \"num_unique_values\": 1,\n        \"samples\": [],\n        \"semantic_type\": \"\",\n        \"description\": \"\"\n      }\n    },\n    {\n      \"column\": \"Launched Year\",\n      \"properties\": {\n        \"dtype\": \"number\",\n        \"std\": null,\n        \"min\": 2024,\n        \"max\": 2024,\n        \"num_unique_values\": 1,\n        \"samples\": [],\n        \"semantic_type\": \"\",\n        \"description\": \"\"\n      }\n    },\n    {\n      \"column\": \"Back Camera 1\",\n      \"properties\": {\n        \"dtype\": \"number\",\n        \"std\": null,\n        \"min\": 50,\n        \"max\": 50,\n        \"num_unique_values\": 1,\n        \"samples\": [],\n        \"semantic_type\": \"\",\n        \"description\": \"\"\n      }\n    },\n    {\n      \"column\": \"Back Camera 2\",\n      \"properties\": {\n        \"dtype\": \"number\",\n        \"std\": null,\n        \"min\": 0,\n        \"max\": 0,\n        \"num_unique_values\": 1,\n        \"samples\": [],\n        \"semantic_type\": \"\",\n        \"description\": \"\"\n      }\n    },\n    {\n      \"column\": \"Back Camera 3\",\n      \"properties\": {\n        \"dtype\": \"number\",\n        \"std\": null,\n        \"min\": 0,\n        \"max\": 0,\n        \"num_unique_values\": 1,\n        \"samples\": [],\n        \"semantic_type\": \"\",\n        \"description\": \"\"\n      }\n    },\n    {\n      \"column\": \"Back Camera 4\",\n      \"properties\": {\n        \"dtype\": \"number\",\n        \"std\": null,\n        \"min\": 0,\n        \"max\": 0,\n        \"num_unique_values\": 1,\n        \"samples\": [],\n        \"semantic_type\": \"\",\n        \"description\": \"\"\n      }\n    },\n    {\n      \"column\": \"Front Camera 1\",\n      \"properties\": {\n        \"dtype\": \"number\",\n        \"std\": null,\n        \"min\": 10,\n        \"max\": 10,\n        \"num_unique_values\": 1,\n        \"samples\": [],\n        \"semantic_type\": \"\",\n        \"description\": \"\"\n      }\n    },\n    {\n      \"column\": \"Front Camera 2\",\n      \"properties\": {\n        \"dtype\": \"number\",\n        \"std\": null,\n        \"min\": 4,\n        \"max\": 4,\n        \"num_unique_values\": 1,\n        \"samples\": [],\n        \"semantic_type\": \"\",\n        \"description\": \"\"\n      }\n    },\n    {\n      \"column\": \"Storage\",\n      \"properties\": {\n        \"dtype\": \"number\",\n        \"std\": null,\n        \"min\": 1024,\n        \"max\": 1024,\n        \"num_unique_values\": 1,\n        \"samples\": [],\n        \"semantic_type\": \"\",\n        \"description\": \"\"\n      }\n    }\n  ]\n}"
            }
          },
          "metadata": {},
          "execution_count": 47
        }
      ]
    },
    {
      "cell_type": "code",
      "source": [
        "data[data.index==929]"
      ],
      "metadata": {
        "colab": {
          "base_uri": "https://localhost:8080/",
          "height": 115
        },
        "id": "eQXNd2qE0Pp0",
        "outputId": "2b988198-0e0a-4764-b765-4f15b86e92ee"
      },
      "execution_count": null,
      "outputs": [
        {
          "output_type": "execute_result",
          "data": {
            "text/plain": [
              "    Company Name          Model Name Mobile Weight   RAM     Front Camera  \\\n",
              "929      Samsung  Galaxy Z Fold6 1TB          239g  12GB  10MP, 4MP (UDC)   \n",
              "\n",
              "    Back Camera           Processor Battery Capacity Screen Size  \\\n",
              "929        50MP  Snapdragon 8 Gen 3          4400mAh  7.6 inches   \n",
              "\n",
              "    Launched Price (Pakistan) Launched Price (India) Launched Price (China)  \\\n",
              "929             Not available            INR 200,999            CNY 17,999    \n",
              "\n",
              "    Launched Price (USA) Launched Price (Dubai)  Launched Year  \n",
              "929            USD 2,259              AED 8,699           2024  "
            ],
            "text/html": [
              "\n",
              "  <div id=\"df-2b76b694-9daf-4ee9-a0f9-ff097e8bae92\" class=\"colab-df-container\">\n",
              "    <div>\n",
              "<style scoped>\n",
              "    .dataframe tbody tr th:only-of-type {\n",
              "        vertical-align: middle;\n",
              "    }\n",
              "\n",
              "    .dataframe tbody tr th {\n",
              "        vertical-align: top;\n",
              "    }\n",
              "\n",
              "    .dataframe thead th {\n",
              "        text-align: right;\n",
              "    }\n",
              "</style>\n",
              "<table border=\"1\" class=\"dataframe\">\n",
              "  <thead>\n",
              "    <tr style=\"text-align: right;\">\n",
              "      <th></th>\n",
              "      <th>Company Name</th>\n",
              "      <th>Model Name</th>\n",
              "      <th>Mobile Weight</th>\n",
              "      <th>RAM</th>\n",
              "      <th>Front Camera</th>\n",
              "      <th>Back Camera</th>\n",
              "      <th>Processor</th>\n",
              "      <th>Battery Capacity</th>\n",
              "      <th>Screen Size</th>\n",
              "      <th>Launched Price (Pakistan)</th>\n",
              "      <th>Launched Price (India)</th>\n",
              "      <th>Launched Price (China)</th>\n",
              "      <th>Launched Price (USA)</th>\n",
              "      <th>Launched Price (Dubai)</th>\n",
              "      <th>Launched Year</th>\n",
              "    </tr>\n",
              "  </thead>\n",
              "  <tbody>\n",
              "    <tr>\n",
              "      <th>929</th>\n",
              "      <td>Samsung</td>\n",
              "      <td>Galaxy Z Fold6 1TB</td>\n",
              "      <td>239g</td>\n",
              "      <td>12GB</td>\n",
              "      <td>10MP, 4MP (UDC)</td>\n",
              "      <td>50MP</td>\n",
              "      <td>Snapdragon 8 Gen 3</td>\n",
              "      <td>4400mAh</td>\n",
              "      <td>7.6 inches</td>\n",
              "      <td>Not available</td>\n",
              "      <td>INR 200,999</td>\n",
              "      <td>CNY 17,999</td>\n",
              "      <td>USD 2,259</td>\n",
              "      <td>AED 8,699</td>\n",
              "      <td>2024</td>\n",
              "    </tr>\n",
              "  </tbody>\n",
              "</table>\n",
              "</div>\n",
              "    <div class=\"colab-df-buttons\">\n",
              "\n",
              "  <div class=\"colab-df-container\">\n",
              "    <button class=\"colab-df-convert\" onclick=\"convertToInteractive('df-2b76b694-9daf-4ee9-a0f9-ff097e8bae92')\"\n",
              "            title=\"Convert this dataframe to an interactive table.\"\n",
              "            style=\"display:none;\">\n",
              "\n",
              "  <svg xmlns=\"http://www.w3.org/2000/svg\" height=\"24px\" viewBox=\"0 -960 960 960\">\n",
              "    <path d=\"M120-120v-720h720v720H120Zm60-500h600v-160H180v160Zm220 220h160v-160H400v160Zm0 220h160v-160H400v160ZM180-400h160v-160H180v160Zm440 0h160v-160H620v160ZM180-180h160v-160H180v160Zm440 0h160v-160H620v160Z\"/>\n",
              "  </svg>\n",
              "    </button>\n",
              "\n",
              "  <style>\n",
              "    .colab-df-container {\n",
              "      display:flex;\n",
              "      gap: 12px;\n",
              "    }\n",
              "\n",
              "    .colab-df-convert {\n",
              "      background-color: #E8F0FE;\n",
              "      border: none;\n",
              "      border-radius: 50%;\n",
              "      cursor: pointer;\n",
              "      display: none;\n",
              "      fill: #1967D2;\n",
              "      height: 32px;\n",
              "      padding: 0 0 0 0;\n",
              "      width: 32px;\n",
              "    }\n",
              "\n",
              "    .colab-df-convert:hover {\n",
              "      background-color: #E2EBFA;\n",
              "      box-shadow: 0px 1px 2px rgba(60, 64, 67, 0.3), 0px 1px 3px 1px rgba(60, 64, 67, 0.15);\n",
              "      fill: #174EA6;\n",
              "    }\n",
              "\n",
              "    .colab-df-buttons div {\n",
              "      margin-bottom: 4px;\n",
              "    }\n",
              "\n",
              "    [theme=dark] .colab-df-convert {\n",
              "      background-color: #3B4455;\n",
              "      fill: #D2E3FC;\n",
              "    }\n",
              "\n",
              "    [theme=dark] .colab-df-convert:hover {\n",
              "      background-color: #434B5C;\n",
              "      box-shadow: 0px 1px 3px 1px rgba(0, 0, 0, 0.15);\n",
              "      filter: drop-shadow(0px 1px 2px rgba(0, 0, 0, 0.3));\n",
              "      fill: #FFFFFF;\n",
              "    }\n",
              "  </style>\n",
              "\n",
              "    <script>\n",
              "      const buttonEl =\n",
              "        document.querySelector('#df-2b76b694-9daf-4ee9-a0f9-ff097e8bae92 button.colab-df-convert');\n",
              "      buttonEl.style.display =\n",
              "        google.colab.kernel.accessAllowed ? 'block' : 'none';\n",
              "\n",
              "      async function convertToInteractive(key) {\n",
              "        const element = document.querySelector('#df-2b76b694-9daf-4ee9-a0f9-ff097e8bae92');\n",
              "        const dataTable =\n",
              "          await google.colab.kernel.invokeFunction('convertToInteractive',\n",
              "                                                    [key], {});\n",
              "        if (!dataTable) return;\n",
              "\n",
              "        const docLinkHtml = 'Like what you see? Visit the ' +\n",
              "          '<a target=\"_blank\" href=https://colab.research.google.com/notebooks/data_table.ipynb>data table notebook</a>'\n",
              "          + ' to learn more about interactive tables.';\n",
              "        element.innerHTML = '';\n",
              "        dataTable['output_type'] = 'display_data';\n",
              "        await google.colab.output.renderOutput(dataTable, element);\n",
              "        const docLink = document.createElement('div');\n",
              "        docLink.innerHTML = docLinkHtml;\n",
              "        element.appendChild(docLink);\n",
              "      }\n",
              "    </script>\n",
              "  </div>\n",
              "\n",
              "\n",
              "    </div>\n",
              "  </div>\n"
            ],
            "application/vnd.google.colaboratory.intrinsic+json": {
              "type": "dataframe",
              "summary": "{\n  \"name\": \"data[data\",\n  \"rows\": 1,\n  \"fields\": [\n    {\n      \"column\": \"Company Name\",\n      \"properties\": {\n        \"dtype\": \"string\",\n        \"num_unique_values\": 1,\n        \"samples\": [\n          \"Samsung\"\n        ],\n        \"semantic_type\": \"\",\n        \"description\": \"\"\n      }\n    },\n    {\n      \"column\": \"Model Name\",\n      \"properties\": {\n        \"dtype\": \"string\",\n        \"num_unique_values\": 1,\n        \"samples\": [\n          \"Galaxy Z Fold6 1TB\"\n        ],\n        \"semantic_type\": \"\",\n        \"description\": \"\"\n      }\n    },\n    {\n      \"column\": \"Mobile Weight\",\n      \"properties\": {\n        \"dtype\": \"string\",\n        \"num_unique_values\": 1,\n        \"samples\": [\n          \"239g\"\n        ],\n        \"semantic_type\": \"\",\n        \"description\": \"\"\n      }\n    },\n    {\n      \"column\": \"RAM\",\n      \"properties\": {\n        \"dtype\": \"string\",\n        \"num_unique_values\": 1,\n        \"samples\": [\n          \"12GB\"\n        ],\n        \"semantic_type\": \"\",\n        \"description\": \"\"\n      }\n    },\n    {\n      \"column\": \"Front Camera\",\n      \"properties\": {\n        \"dtype\": \"string\",\n        \"num_unique_values\": 1,\n        \"samples\": [\n          \"10MP, 4MP (UDC)\"\n        ],\n        \"semantic_type\": \"\",\n        \"description\": \"\"\n      }\n    },\n    {\n      \"column\": \"Back Camera\",\n      \"properties\": {\n        \"dtype\": \"string\",\n        \"num_unique_values\": 1,\n        \"samples\": [\n          \"50MP\"\n        ],\n        \"semantic_type\": \"\",\n        \"description\": \"\"\n      }\n    },\n    {\n      \"column\": \"Processor\",\n      \"properties\": {\n        \"dtype\": \"string\",\n        \"num_unique_values\": 1,\n        \"samples\": [\n          \"Snapdragon 8 Gen 3\"\n        ],\n        \"semantic_type\": \"\",\n        \"description\": \"\"\n      }\n    },\n    {\n      \"column\": \"Battery Capacity\",\n      \"properties\": {\n        \"dtype\": \"string\",\n        \"num_unique_values\": 1,\n        \"samples\": [\n          \"4400mAh\"\n        ],\n        \"semantic_type\": \"\",\n        \"description\": \"\"\n      }\n    },\n    {\n      \"column\": \"Screen Size\",\n      \"properties\": {\n        \"dtype\": \"string\",\n        \"num_unique_values\": 1,\n        \"samples\": [\n          \"7.6 inches\"\n        ],\n        \"semantic_type\": \"\",\n        \"description\": \"\"\n      }\n    },\n    {\n      \"column\": \"Launched Price (Pakistan)\",\n      \"properties\": {\n        \"dtype\": \"string\",\n        \"num_unique_values\": 1,\n        \"samples\": [\n          \"Not available\"\n        ],\n        \"semantic_type\": \"\",\n        \"description\": \"\"\n      }\n    },\n    {\n      \"column\": \"Launched Price (India)\",\n      \"properties\": {\n        \"dtype\": \"string\",\n        \"num_unique_values\": 1,\n        \"samples\": [\n          \"INR 200,999\"\n        ],\n        \"semantic_type\": \"\",\n        \"description\": \"\"\n      }\n    },\n    {\n      \"column\": \"Launched Price (China)\",\n      \"properties\": {\n        \"dtype\": \"string\",\n        \"num_unique_values\": 1,\n        \"samples\": [\n          \"CNY 17,999\\u00a0\"\n        ],\n        \"semantic_type\": \"\",\n        \"description\": \"\"\n      }\n    },\n    {\n      \"column\": \"Launched Price (USA)\",\n      \"properties\": {\n        \"dtype\": \"string\",\n        \"num_unique_values\": 1,\n        \"samples\": [\n          \"USD 2,259\"\n        ],\n        \"semantic_type\": \"\",\n        \"description\": \"\"\n      }\n    },\n    {\n      \"column\": \"Launched Price (Dubai)\",\n      \"properties\": {\n        \"dtype\": \"string\",\n        \"num_unique_values\": 1,\n        \"samples\": [\n          \"AED 8,699\"\n        ],\n        \"semantic_type\": \"\",\n        \"description\": \"\"\n      }\n    },\n    {\n      \"column\": \"Launched Year\",\n      \"properties\": {\n        \"dtype\": \"number\",\n        \"std\": null,\n        \"min\": 2024,\n        \"max\": 2024,\n        \"num_unique_values\": 1,\n        \"samples\": [\n          2024\n        ],\n        \"semantic_type\": \"\",\n        \"description\": \"\"\n      }\n    }\n  ]\n}"
            }
          },
          "metadata": {},
          "execution_count": 48
        }
      ]
    },
    {
      "cell_type": "markdown",
      "source": [
        "Since the value here is not available from the original dataset, we convert to Pakistan using the average conversion rate in 2024 from USD"
      ],
      "metadata": {
        "id": "qbmzoZ761BdV"
      }
    },
    {
      "cell_type": "code",
      "source": [
        "cleaned['Launched Price (Pakistan)'] = cleaned['Launched Price (Pakistan)'].fillna(630508.08)"
      ],
      "metadata": {
        "id": "PPiocq6X1RRU"
      },
      "execution_count": null,
      "outputs": []
    },
    {
      "cell_type": "code",
      "source": [
        "cleaned[cleaned.index==929]"
      ],
      "metadata": {
        "colab": {
          "base_uri": "https://localhost:8080/",
          "height": 133
        },
        "id": "8HGktKYlexvO",
        "outputId": "67a97771-5be8-4343-d76d-ff9b899bac06"
      },
      "execution_count": null,
      "outputs": [
        {
          "output_type": "execute_result",
          "data": {
            "text/plain": [
              "    Company Name      Model Name  Mobile Weight   RAM           Processor  \\\n",
              "929      Samsung  Galaxy Z Fold6          239.0  12.0  Snapdragon 8 Gen 3   \n",
              "\n",
              "     Battery Capacity  Screen Size  Launched Price (Pakistan)  \\\n",
              "929              4400          7.6                  630508.08   \n",
              "\n",
              "     Launched Price (India)  Launched Price (China)  Launched Price (USA)  \\\n",
              "929                  200999                   17999                2259.0   \n",
              "\n",
              "     Launched Price (Dubai)  Launched Year  Back Camera 1  Back Camera 2  \\\n",
              "929                    8699           2024             50              0   \n",
              "\n",
              "     Back Camera 3  Back Camera 4  Front Camera 1  Front Camera 2  Storage  \n",
              "929              0              0              10               4     1024  "
            ],
            "text/html": [
              "\n",
              "  <div id=\"df-a2be0d9f-b237-4ea1-b0e5-3dd55332f007\" class=\"colab-df-container\">\n",
              "    <div>\n",
              "<style scoped>\n",
              "    .dataframe tbody tr th:only-of-type {\n",
              "        vertical-align: middle;\n",
              "    }\n",
              "\n",
              "    .dataframe tbody tr th {\n",
              "        vertical-align: top;\n",
              "    }\n",
              "\n",
              "    .dataframe thead th {\n",
              "        text-align: right;\n",
              "    }\n",
              "</style>\n",
              "<table border=\"1\" class=\"dataframe\">\n",
              "  <thead>\n",
              "    <tr style=\"text-align: right;\">\n",
              "      <th></th>\n",
              "      <th>Company Name</th>\n",
              "      <th>Model Name</th>\n",
              "      <th>Mobile Weight</th>\n",
              "      <th>RAM</th>\n",
              "      <th>Processor</th>\n",
              "      <th>Battery Capacity</th>\n",
              "      <th>Screen Size</th>\n",
              "      <th>Launched Price (Pakistan)</th>\n",
              "      <th>Launched Price (India)</th>\n",
              "      <th>Launched Price (China)</th>\n",
              "      <th>Launched Price (USA)</th>\n",
              "      <th>Launched Price (Dubai)</th>\n",
              "      <th>Launched Year</th>\n",
              "      <th>Back Camera 1</th>\n",
              "      <th>Back Camera 2</th>\n",
              "      <th>Back Camera 3</th>\n",
              "      <th>Back Camera 4</th>\n",
              "      <th>Front Camera 1</th>\n",
              "      <th>Front Camera 2</th>\n",
              "      <th>Storage</th>\n",
              "    </tr>\n",
              "  </thead>\n",
              "  <tbody>\n",
              "    <tr>\n",
              "      <th>929</th>\n",
              "      <td>Samsung</td>\n",
              "      <td>Galaxy Z Fold6</td>\n",
              "      <td>239.0</td>\n",
              "      <td>12.0</td>\n",
              "      <td>Snapdragon 8 Gen 3</td>\n",
              "      <td>4400</td>\n",
              "      <td>7.6</td>\n",
              "      <td>630508.08</td>\n",
              "      <td>200999</td>\n",
              "      <td>17999</td>\n",
              "      <td>2259.0</td>\n",
              "      <td>8699</td>\n",
              "      <td>2024</td>\n",
              "      <td>50</td>\n",
              "      <td>0</td>\n",
              "      <td>0</td>\n",
              "      <td>0</td>\n",
              "      <td>10</td>\n",
              "      <td>4</td>\n",
              "      <td>1024</td>\n",
              "    </tr>\n",
              "  </tbody>\n",
              "</table>\n",
              "</div>\n",
              "    <div class=\"colab-df-buttons\">\n",
              "\n",
              "  <div class=\"colab-df-container\">\n",
              "    <button class=\"colab-df-convert\" onclick=\"convertToInteractive('df-a2be0d9f-b237-4ea1-b0e5-3dd55332f007')\"\n",
              "            title=\"Convert this dataframe to an interactive table.\"\n",
              "            style=\"display:none;\">\n",
              "\n",
              "  <svg xmlns=\"http://www.w3.org/2000/svg\" height=\"24px\" viewBox=\"0 -960 960 960\">\n",
              "    <path d=\"M120-120v-720h720v720H120Zm60-500h600v-160H180v160Zm220 220h160v-160H400v160Zm0 220h160v-160H400v160ZM180-400h160v-160H180v160Zm440 0h160v-160H620v160ZM180-180h160v-160H180v160Zm440 0h160v-160H620v160Z\"/>\n",
              "  </svg>\n",
              "    </button>\n",
              "\n",
              "  <style>\n",
              "    .colab-df-container {\n",
              "      display:flex;\n",
              "      gap: 12px;\n",
              "    }\n",
              "\n",
              "    .colab-df-convert {\n",
              "      background-color: #E8F0FE;\n",
              "      border: none;\n",
              "      border-radius: 50%;\n",
              "      cursor: pointer;\n",
              "      display: none;\n",
              "      fill: #1967D2;\n",
              "      height: 32px;\n",
              "      padding: 0 0 0 0;\n",
              "      width: 32px;\n",
              "    }\n",
              "\n",
              "    .colab-df-convert:hover {\n",
              "      background-color: #E2EBFA;\n",
              "      box-shadow: 0px 1px 2px rgba(60, 64, 67, 0.3), 0px 1px 3px 1px rgba(60, 64, 67, 0.15);\n",
              "      fill: #174EA6;\n",
              "    }\n",
              "\n",
              "    .colab-df-buttons div {\n",
              "      margin-bottom: 4px;\n",
              "    }\n",
              "\n",
              "    [theme=dark] .colab-df-convert {\n",
              "      background-color: #3B4455;\n",
              "      fill: #D2E3FC;\n",
              "    }\n",
              "\n",
              "    [theme=dark] .colab-df-convert:hover {\n",
              "      background-color: #434B5C;\n",
              "      box-shadow: 0px 1px 3px 1px rgba(0, 0, 0, 0.15);\n",
              "      filter: drop-shadow(0px 1px 2px rgba(0, 0, 0, 0.3));\n",
              "      fill: #FFFFFF;\n",
              "    }\n",
              "  </style>\n",
              "\n",
              "    <script>\n",
              "      const buttonEl =\n",
              "        document.querySelector('#df-a2be0d9f-b237-4ea1-b0e5-3dd55332f007 button.colab-df-convert');\n",
              "      buttonEl.style.display =\n",
              "        google.colab.kernel.accessAllowed ? 'block' : 'none';\n",
              "\n",
              "      async function convertToInteractive(key) {\n",
              "        const element = document.querySelector('#df-a2be0d9f-b237-4ea1-b0e5-3dd55332f007');\n",
              "        const dataTable =\n",
              "          await google.colab.kernel.invokeFunction('convertToInteractive',\n",
              "                                                    [key], {});\n",
              "        if (!dataTable) return;\n",
              "\n",
              "        const docLinkHtml = 'Like what you see? Visit the ' +\n",
              "          '<a target=\"_blank\" href=https://colab.research.google.com/notebooks/data_table.ipynb>data table notebook</a>'\n",
              "          + ' to learn more about interactive tables.';\n",
              "        element.innerHTML = '';\n",
              "        dataTable['output_type'] = 'display_data';\n",
              "        await google.colab.output.renderOutput(dataTable, element);\n",
              "        const docLink = document.createElement('div');\n",
              "        docLink.innerHTML = docLinkHtml;\n",
              "        element.appendChild(docLink);\n",
              "      }\n",
              "    </script>\n",
              "  </div>\n",
              "\n",
              "\n",
              "    </div>\n",
              "  </div>\n"
            ],
            "application/vnd.google.colaboratory.intrinsic+json": {
              "type": "dataframe",
              "summary": "{\n  \"name\": \"cleaned[cleaned\",\n  \"rows\": 1,\n  \"fields\": [\n    {\n      \"column\": \"Company Name\",\n      \"properties\": {\n        \"dtype\": \"string\",\n        \"num_unique_values\": 1,\n        \"samples\": [\n          \"Samsung\"\n        ],\n        \"semantic_type\": \"\",\n        \"description\": \"\"\n      }\n    },\n    {\n      \"column\": \"Model Name\",\n      \"properties\": {\n        \"dtype\": \"string\",\n        \"num_unique_values\": 1,\n        \"samples\": [\n          \"Galaxy Z Fold6\"\n        ],\n        \"semantic_type\": \"\",\n        \"description\": \"\"\n      }\n    },\n    {\n      \"column\": \"Mobile Weight\",\n      \"properties\": {\n        \"dtype\": \"number\",\n        \"std\": null,\n        \"min\": 239.0,\n        \"max\": 239.0,\n        \"num_unique_values\": 1,\n        \"samples\": [\n          239.0\n        ],\n        \"semantic_type\": \"\",\n        \"description\": \"\"\n      }\n    },\n    {\n      \"column\": \"RAM\",\n      \"properties\": {\n        \"dtype\": \"number\",\n        \"std\": null,\n        \"min\": 12.0,\n        \"max\": 12.0,\n        \"num_unique_values\": 1,\n        \"samples\": [\n          12.0\n        ],\n        \"semantic_type\": \"\",\n        \"description\": \"\"\n      }\n    },\n    {\n      \"column\": \"Processor\",\n      \"properties\": {\n        \"dtype\": \"string\",\n        \"num_unique_values\": 1,\n        \"samples\": [\n          \"Snapdragon 8 Gen 3\"\n        ],\n        \"semantic_type\": \"\",\n        \"description\": \"\"\n      }\n    },\n    {\n      \"column\": \"Battery Capacity\",\n      \"properties\": {\n        \"dtype\": \"number\",\n        \"std\": null,\n        \"min\": 4400,\n        \"max\": 4400,\n        \"num_unique_values\": 1,\n        \"samples\": [\n          4400\n        ],\n        \"semantic_type\": \"\",\n        \"description\": \"\"\n      }\n    },\n    {\n      \"column\": \"Screen Size\",\n      \"properties\": {\n        \"dtype\": \"number\",\n        \"std\": null,\n        \"min\": 7.6,\n        \"max\": 7.6,\n        \"num_unique_values\": 1,\n        \"samples\": [\n          7.6\n        ],\n        \"semantic_type\": \"\",\n        \"description\": \"\"\n      }\n    },\n    {\n      \"column\": \"Launched Price (Pakistan)\",\n      \"properties\": {\n        \"dtype\": \"number\",\n        \"std\": null,\n        \"min\": 630508.08,\n        \"max\": 630508.08,\n        \"num_unique_values\": 1,\n        \"samples\": [\n          630508.08\n        ],\n        \"semantic_type\": \"\",\n        \"description\": \"\"\n      }\n    },\n    {\n      \"column\": \"Launched Price (India)\",\n      \"properties\": {\n        \"dtype\": \"number\",\n        \"std\": null,\n        \"min\": 200999,\n        \"max\": 200999,\n        \"num_unique_values\": 1,\n        \"samples\": [\n          200999\n        ],\n        \"semantic_type\": \"\",\n        \"description\": \"\"\n      }\n    },\n    {\n      \"column\": \"Launched Price (China)\",\n      \"properties\": {\n        \"dtype\": \"number\",\n        \"std\": null,\n        \"min\": 17999,\n        \"max\": 17999,\n        \"num_unique_values\": 1,\n        \"samples\": [\n          17999\n        ],\n        \"semantic_type\": \"\",\n        \"description\": \"\"\n      }\n    },\n    {\n      \"column\": \"Launched Price (USA)\",\n      \"properties\": {\n        \"dtype\": \"number\",\n        \"std\": null,\n        \"min\": 2259.0,\n        \"max\": 2259.0,\n        \"num_unique_values\": 1,\n        \"samples\": [\n          2259.0\n        ],\n        \"semantic_type\": \"\",\n        \"description\": \"\"\n      }\n    },\n    {\n      \"column\": \"Launched Price (Dubai)\",\n      \"properties\": {\n        \"dtype\": \"number\",\n        \"std\": null,\n        \"min\": 8699,\n        \"max\": 8699,\n        \"num_unique_values\": 1,\n        \"samples\": [\n          8699\n        ],\n        \"semantic_type\": \"\",\n        \"description\": \"\"\n      }\n    },\n    {\n      \"column\": \"Launched Year\",\n      \"properties\": {\n        \"dtype\": \"number\",\n        \"std\": null,\n        \"min\": 2024,\n        \"max\": 2024,\n        \"num_unique_values\": 1,\n        \"samples\": [\n          2024\n        ],\n        \"semantic_type\": \"\",\n        \"description\": \"\"\n      }\n    },\n    {\n      \"column\": \"Back Camera 1\",\n      \"properties\": {\n        \"dtype\": \"number\",\n        \"std\": null,\n        \"min\": 50,\n        \"max\": 50,\n        \"num_unique_values\": 1,\n        \"samples\": [\n          50\n        ],\n        \"semantic_type\": \"\",\n        \"description\": \"\"\n      }\n    },\n    {\n      \"column\": \"Back Camera 2\",\n      \"properties\": {\n        \"dtype\": \"number\",\n        \"std\": null,\n        \"min\": 0,\n        \"max\": 0,\n        \"num_unique_values\": 1,\n        \"samples\": [\n          0\n        ],\n        \"semantic_type\": \"\",\n        \"description\": \"\"\n      }\n    },\n    {\n      \"column\": \"Back Camera 3\",\n      \"properties\": {\n        \"dtype\": \"number\",\n        \"std\": null,\n        \"min\": 0,\n        \"max\": 0,\n        \"num_unique_values\": 1,\n        \"samples\": [\n          0\n        ],\n        \"semantic_type\": \"\",\n        \"description\": \"\"\n      }\n    },\n    {\n      \"column\": \"Back Camera 4\",\n      \"properties\": {\n        \"dtype\": \"number\",\n        \"std\": null,\n        \"min\": 0,\n        \"max\": 0,\n        \"num_unique_values\": 1,\n        \"samples\": [\n          0\n        ],\n        \"semantic_type\": \"\",\n        \"description\": \"\"\n      }\n    },\n    {\n      \"column\": \"Front Camera 1\",\n      \"properties\": {\n        \"dtype\": \"number\",\n        \"std\": null,\n        \"min\": 10,\n        \"max\": 10,\n        \"num_unique_values\": 1,\n        \"samples\": [\n          10\n        ],\n        \"semantic_type\": \"\",\n        \"description\": \"\"\n      }\n    },\n    {\n      \"column\": \"Front Camera 2\",\n      \"properties\": {\n        \"dtype\": \"number\",\n        \"std\": null,\n        \"min\": 4,\n        \"max\": 4,\n        \"num_unique_values\": 1,\n        \"samples\": [\n          4\n        ],\n        \"semantic_type\": \"\",\n        \"description\": \"\"\n      }\n    },\n    {\n      \"column\": \"Storage\",\n      \"properties\": {\n        \"dtype\": \"number\",\n        \"std\": null,\n        \"min\": 1024,\n        \"max\": 1024,\n        \"num_unique_values\": 1,\n        \"samples\": [\n          1024\n        ],\n        \"semantic_type\": \"\",\n        \"description\": \"\"\n      }\n    }\n  ]\n}"
            }
          },
          "metadata": {},
          "execution_count": 50
        }
      ]
    },
    {
      "cell_type": "markdown",
      "source": [
        "###Inspecting Cleaned dataframe"
      ],
      "metadata": {
        "id": "yFHHMDqIv6dj"
      }
    },
    {
      "cell_type": "code",
      "source": [
        "cleaned.info()"
      ],
      "metadata": {
        "colab": {
          "base_uri": "https://localhost:8080/"
        },
        "id": "xV52oTI8wd4D",
        "outputId": "85227f6f-f68b-4c93-c9c9-382044fcc06b"
      },
      "execution_count": null,
      "outputs": [
        {
          "output_type": "stream",
          "name": "stdout",
          "text": [
            "<class 'pandas.core.frame.DataFrame'>\n",
            "Index: 763 entries, 0 to 929\n",
            "Data columns (total 20 columns):\n",
            " #   Column                     Non-Null Count  Dtype  \n",
            "---  ------                     --------------  -----  \n",
            " 0   Company Name               763 non-null    object \n",
            " 1   Model Name                 763 non-null    object \n",
            " 2   Mobile Weight              763 non-null    float64\n",
            " 3   RAM                        763 non-null    float64\n",
            " 4   Processor                  763 non-null    object \n",
            " 5   Battery Capacity           763 non-null    int64  \n",
            " 6   Screen Size                763 non-null    float64\n",
            " 7   Launched Price (Pakistan)  763 non-null    float64\n",
            " 8   Launched Price (India)     763 non-null    int64  \n",
            " 9   Launched Price (China)     763 non-null    int64  \n",
            " 10  Launched Price (USA)       763 non-null    float64\n",
            " 11  Launched Price (Dubai)     763 non-null    int64  \n",
            " 12  Launched Year              763 non-null    int64  \n",
            " 13  Back Camera 1              763 non-null    int64  \n",
            " 14  Back Camera 2              763 non-null    int64  \n",
            " 15  Back Camera 3              763 non-null    int64  \n",
            " 16  Back Camera 4              763 non-null    int64  \n",
            " 17  Front Camera 1             763 non-null    int64  \n",
            " 18  Front Camera 2             763 non-null    int64  \n",
            " 19  Storage                    763 non-null    int64  \n",
            "dtypes: float64(5), int64(12), object(3)\n",
            "memory usage: 125.2+ KB\n"
          ]
        }
      ]
    },
    {
      "cell_type": "code",
      "source": [
        "for col in cleaned.columns:\n",
        "  if cleaned.dtypes[col] == 'object':\n",
        "    print(col)"
      ],
      "metadata": {
        "colab": {
          "base_uri": "https://localhost:8080/"
        },
        "id": "4ebCKiJB2jMk",
        "outputId": "56bbf794-6a99-4013-acd7-85b39a8467b2"
      },
      "execution_count": null,
      "outputs": [
        {
          "output_type": "stream",
          "name": "stdout",
          "text": [
            "Company Name\n",
            "Model Name\n",
            "Processor\n"
          ]
        }
      ]
    },
    {
      "cell_type": "code",
      "source": [
        "cleaned.describe()"
      ],
      "metadata": {
        "colab": {
          "base_uri": "https://localhost:8080/",
          "height": 355
        },
        "id": "2NHsQsJR2sfU",
        "outputId": "ca428566-263d-406e-a94d-a40cf2619063"
      },
      "execution_count": null,
      "outputs": [
        {
          "output_type": "execute_result",
          "data": {
            "text/plain": [
              "       Mobile Weight         RAM  Battery Capacity  Screen Size  \\\n",
              "count     763.000000  763.000000        763.000000   763.000000   \n",
              "mean      221.309830    7.651376       4955.618611     6.956225   \n",
              "std        99.156102    3.222046       1311.545769     1.412366   \n",
              "min       135.000000    1.000000       2000.000000     5.000000   \n",
              "25%       184.000000    6.000000       4400.000000     6.500000   \n",
              "50%       193.000000    8.000000       5000.000000     6.600000   \n",
              "75%       206.000000    8.000000       5000.000000     6.740000   \n",
              "max       732.000000   16.000000      11200.000000    14.600000   \n",
              "\n",
              "       Launched Price (Pakistan)  Launched Price (India)  \\\n",
              "count                 763.000000              763.000000   \n",
              "mean               127703.508624            50001.473132   \n",
              "std                106236.084151            39558.061192   \n",
              "min                 15999.000000             5999.000000   \n",
              "25%                 51499.500000            19999.000000   \n",
              "50%                 84999.000000            34999.000000   \n",
              "75%                179999.000000            74949.500000   \n",
              "max                630508.080000           274999.000000   \n",
              "\n",
              "       Launched Price (China)  Launched Price (USA)  Launched Price (Dubai)  \\\n",
              "count              763.000000            763.000000              763.000000   \n",
              "mean              3829.707733            572.429436             2141.993447   \n",
              "std               2719.527314            400.432143             1488.515425   \n",
              "min                499.000000             79.000000              299.000000   \n",
              "25%               1699.500000            249.000000              999.000000   \n",
              "50%               2900.000000            449.000000             1620.000000   \n",
              "75%               5649.000000            849.000000             3199.000000   \n",
              "max              17999.000000           2799.000000            11099.000000   \n",
              "\n",
              "       Launched Year  Back Camera 1  Back Camera 2  Back Camera 3  \\\n",
              "count     763.000000     763.000000     763.000000     763.000000   \n",
              "mean     2022.132372      45.283093       6.643512       2.694626   \n",
              "std         1.952732      29.807802      12.074302      10.082068   \n",
              "min      2014.000000       5.000000       0.000000       0.000000   \n",
              "25%      2021.000000      13.000000       0.000000       0.000000   \n",
              "50%      2023.000000      50.000000       2.000000       0.000000   \n",
              "75%      2024.000000      50.000000       8.000000       0.000000   \n",
              "max      2025.000000     200.000000      64.000000      64.000000   \n",
              "\n",
              "       Back Camera 4  Front Camera 1  Front Camera 2      Storage  \n",
              "count     763.000000      763.000000      763.000000   763.000000  \n",
              "mean        0.047182       18.077326        0.089122   213.619921  \n",
              "std         0.303742       11.338761        0.876898   156.355196  \n",
              "min         0.000000        2.000000        0.000000    16.000000  \n",
              "25%         0.000000        8.000000        0.000000   128.000000  \n",
              "50%         0.000000       16.000000        0.000000   128.000000  \n",
              "75%         0.000000       32.000000        0.000000   256.000000  \n",
              "max         2.000000       60.000000       12.000000  2048.000000  "
            ],
            "text/html": [
              "\n",
              "  <div id=\"df-18528db1-accd-49fb-bb87-0a12451cae35\" class=\"colab-df-container\">\n",
              "    <div>\n",
              "<style scoped>\n",
              "    .dataframe tbody tr th:only-of-type {\n",
              "        vertical-align: middle;\n",
              "    }\n",
              "\n",
              "    .dataframe tbody tr th {\n",
              "        vertical-align: top;\n",
              "    }\n",
              "\n",
              "    .dataframe thead th {\n",
              "        text-align: right;\n",
              "    }\n",
              "</style>\n",
              "<table border=\"1\" class=\"dataframe\">\n",
              "  <thead>\n",
              "    <tr style=\"text-align: right;\">\n",
              "      <th></th>\n",
              "      <th>Mobile Weight</th>\n",
              "      <th>RAM</th>\n",
              "      <th>Battery Capacity</th>\n",
              "      <th>Screen Size</th>\n",
              "      <th>Launched Price (Pakistan)</th>\n",
              "      <th>Launched Price (India)</th>\n",
              "      <th>Launched Price (China)</th>\n",
              "      <th>Launched Price (USA)</th>\n",
              "      <th>Launched Price (Dubai)</th>\n",
              "      <th>Launched Year</th>\n",
              "      <th>Back Camera 1</th>\n",
              "      <th>Back Camera 2</th>\n",
              "      <th>Back Camera 3</th>\n",
              "      <th>Back Camera 4</th>\n",
              "      <th>Front Camera 1</th>\n",
              "      <th>Front Camera 2</th>\n",
              "      <th>Storage</th>\n",
              "    </tr>\n",
              "  </thead>\n",
              "  <tbody>\n",
              "    <tr>\n",
              "      <th>count</th>\n",
              "      <td>763.000000</td>\n",
              "      <td>763.000000</td>\n",
              "      <td>763.000000</td>\n",
              "      <td>763.000000</td>\n",
              "      <td>763.000000</td>\n",
              "      <td>763.000000</td>\n",
              "      <td>763.000000</td>\n",
              "      <td>763.000000</td>\n",
              "      <td>763.000000</td>\n",
              "      <td>763.000000</td>\n",
              "      <td>763.000000</td>\n",
              "      <td>763.000000</td>\n",
              "      <td>763.000000</td>\n",
              "      <td>763.000000</td>\n",
              "      <td>763.000000</td>\n",
              "      <td>763.000000</td>\n",
              "      <td>763.000000</td>\n",
              "    </tr>\n",
              "    <tr>\n",
              "      <th>mean</th>\n",
              "      <td>221.309830</td>\n",
              "      <td>7.651376</td>\n",
              "      <td>4955.618611</td>\n",
              "      <td>6.956225</td>\n",
              "      <td>127703.508624</td>\n",
              "      <td>50001.473132</td>\n",
              "      <td>3829.707733</td>\n",
              "      <td>572.429436</td>\n",
              "      <td>2141.993447</td>\n",
              "      <td>2022.132372</td>\n",
              "      <td>45.283093</td>\n",
              "      <td>6.643512</td>\n",
              "      <td>2.694626</td>\n",
              "      <td>0.047182</td>\n",
              "      <td>18.077326</td>\n",
              "      <td>0.089122</td>\n",
              "      <td>213.619921</td>\n",
              "    </tr>\n",
              "    <tr>\n",
              "      <th>std</th>\n",
              "      <td>99.156102</td>\n",
              "      <td>3.222046</td>\n",
              "      <td>1311.545769</td>\n",
              "      <td>1.412366</td>\n",
              "      <td>106236.084151</td>\n",
              "      <td>39558.061192</td>\n",
              "      <td>2719.527314</td>\n",
              "      <td>400.432143</td>\n",
              "      <td>1488.515425</td>\n",
              "      <td>1.952732</td>\n",
              "      <td>29.807802</td>\n",
              "      <td>12.074302</td>\n",
              "      <td>10.082068</td>\n",
              "      <td>0.303742</td>\n",
              "      <td>11.338761</td>\n",
              "      <td>0.876898</td>\n",
              "      <td>156.355196</td>\n",
              "    </tr>\n",
              "    <tr>\n",
              "      <th>min</th>\n",
              "      <td>135.000000</td>\n",
              "      <td>1.000000</td>\n",
              "      <td>2000.000000</td>\n",
              "      <td>5.000000</td>\n",
              "      <td>15999.000000</td>\n",
              "      <td>5999.000000</td>\n",
              "      <td>499.000000</td>\n",
              "      <td>79.000000</td>\n",
              "      <td>299.000000</td>\n",
              "      <td>2014.000000</td>\n",
              "      <td>5.000000</td>\n",
              "      <td>0.000000</td>\n",
              "      <td>0.000000</td>\n",
              "      <td>0.000000</td>\n",
              "      <td>2.000000</td>\n",
              "      <td>0.000000</td>\n",
              "      <td>16.000000</td>\n",
              "    </tr>\n",
              "    <tr>\n",
              "      <th>25%</th>\n",
              "      <td>184.000000</td>\n",
              "      <td>6.000000</td>\n",
              "      <td>4400.000000</td>\n",
              "      <td>6.500000</td>\n",
              "      <td>51499.500000</td>\n",
              "      <td>19999.000000</td>\n",
              "      <td>1699.500000</td>\n",
              "      <td>249.000000</td>\n",
              "      <td>999.000000</td>\n",
              "      <td>2021.000000</td>\n",
              "      <td>13.000000</td>\n",
              "      <td>0.000000</td>\n",
              "      <td>0.000000</td>\n",
              "      <td>0.000000</td>\n",
              "      <td>8.000000</td>\n",
              "      <td>0.000000</td>\n",
              "      <td>128.000000</td>\n",
              "    </tr>\n",
              "    <tr>\n",
              "      <th>50%</th>\n",
              "      <td>193.000000</td>\n",
              "      <td>8.000000</td>\n",
              "      <td>5000.000000</td>\n",
              "      <td>6.600000</td>\n",
              "      <td>84999.000000</td>\n",
              "      <td>34999.000000</td>\n",
              "      <td>2900.000000</td>\n",
              "      <td>449.000000</td>\n",
              "      <td>1620.000000</td>\n",
              "      <td>2023.000000</td>\n",
              "      <td>50.000000</td>\n",
              "      <td>2.000000</td>\n",
              "      <td>0.000000</td>\n",
              "      <td>0.000000</td>\n",
              "      <td>16.000000</td>\n",
              "      <td>0.000000</td>\n",
              "      <td>128.000000</td>\n",
              "    </tr>\n",
              "    <tr>\n",
              "      <th>75%</th>\n",
              "      <td>206.000000</td>\n",
              "      <td>8.000000</td>\n",
              "      <td>5000.000000</td>\n",
              "      <td>6.740000</td>\n",
              "      <td>179999.000000</td>\n",
              "      <td>74949.500000</td>\n",
              "      <td>5649.000000</td>\n",
              "      <td>849.000000</td>\n",
              "      <td>3199.000000</td>\n",
              "      <td>2024.000000</td>\n",
              "      <td>50.000000</td>\n",
              "      <td>8.000000</td>\n",
              "      <td>0.000000</td>\n",
              "      <td>0.000000</td>\n",
              "      <td>32.000000</td>\n",
              "      <td>0.000000</td>\n",
              "      <td>256.000000</td>\n",
              "    </tr>\n",
              "    <tr>\n",
              "      <th>max</th>\n",
              "      <td>732.000000</td>\n",
              "      <td>16.000000</td>\n",
              "      <td>11200.000000</td>\n",
              "      <td>14.600000</td>\n",
              "      <td>630508.080000</td>\n",
              "      <td>274999.000000</td>\n",
              "      <td>17999.000000</td>\n",
              "      <td>2799.000000</td>\n",
              "      <td>11099.000000</td>\n",
              "      <td>2025.000000</td>\n",
              "      <td>200.000000</td>\n",
              "      <td>64.000000</td>\n",
              "      <td>64.000000</td>\n",
              "      <td>2.000000</td>\n",
              "      <td>60.000000</td>\n",
              "      <td>12.000000</td>\n",
              "      <td>2048.000000</td>\n",
              "    </tr>\n",
              "  </tbody>\n",
              "</table>\n",
              "</div>\n",
              "    <div class=\"colab-df-buttons\">\n",
              "\n",
              "  <div class=\"colab-df-container\">\n",
              "    <button class=\"colab-df-convert\" onclick=\"convertToInteractive('df-18528db1-accd-49fb-bb87-0a12451cae35')\"\n",
              "            title=\"Convert this dataframe to an interactive table.\"\n",
              "            style=\"display:none;\">\n",
              "\n",
              "  <svg xmlns=\"http://www.w3.org/2000/svg\" height=\"24px\" viewBox=\"0 -960 960 960\">\n",
              "    <path d=\"M120-120v-720h720v720H120Zm60-500h600v-160H180v160Zm220 220h160v-160H400v160Zm0 220h160v-160H400v160ZM180-400h160v-160H180v160Zm440 0h160v-160H620v160ZM180-180h160v-160H180v160Zm440 0h160v-160H620v160Z\"/>\n",
              "  </svg>\n",
              "    </button>\n",
              "\n",
              "  <style>\n",
              "    .colab-df-container {\n",
              "      display:flex;\n",
              "      gap: 12px;\n",
              "    }\n",
              "\n",
              "    .colab-df-convert {\n",
              "      background-color: #E8F0FE;\n",
              "      border: none;\n",
              "      border-radius: 50%;\n",
              "      cursor: pointer;\n",
              "      display: none;\n",
              "      fill: #1967D2;\n",
              "      height: 32px;\n",
              "      padding: 0 0 0 0;\n",
              "      width: 32px;\n",
              "    }\n",
              "\n",
              "    .colab-df-convert:hover {\n",
              "      background-color: #E2EBFA;\n",
              "      box-shadow: 0px 1px 2px rgba(60, 64, 67, 0.3), 0px 1px 3px 1px rgba(60, 64, 67, 0.15);\n",
              "      fill: #174EA6;\n",
              "    }\n",
              "\n",
              "    .colab-df-buttons div {\n",
              "      margin-bottom: 4px;\n",
              "    }\n",
              "\n",
              "    [theme=dark] .colab-df-convert {\n",
              "      background-color: #3B4455;\n",
              "      fill: #D2E3FC;\n",
              "    }\n",
              "\n",
              "    [theme=dark] .colab-df-convert:hover {\n",
              "      background-color: #434B5C;\n",
              "      box-shadow: 0px 1px 3px 1px rgba(0, 0, 0, 0.15);\n",
              "      filter: drop-shadow(0px 1px 2px rgba(0, 0, 0, 0.3));\n",
              "      fill: #FFFFFF;\n",
              "    }\n",
              "  </style>\n",
              "\n",
              "    <script>\n",
              "      const buttonEl =\n",
              "        document.querySelector('#df-18528db1-accd-49fb-bb87-0a12451cae35 button.colab-df-convert');\n",
              "      buttonEl.style.display =\n",
              "        google.colab.kernel.accessAllowed ? 'block' : 'none';\n",
              "\n",
              "      async function convertToInteractive(key) {\n",
              "        const element = document.querySelector('#df-18528db1-accd-49fb-bb87-0a12451cae35');\n",
              "        const dataTable =\n",
              "          await google.colab.kernel.invokeFunction('convertToInteractive',\n",
              "                                                    [key], {});\n",
              "        if (!dataTable) return;\n",
              "\n",
              "        const docLinkHtml = 'Like what you see? Visit the ' +\n",
              "          '<a target=\"_blank\" href=https://colab.research.google.com/notebooks/data_table.ipynb>data table notebook</a>'\n",
              "          + ' to learn more about interactive tables.';\n",
              "        element.innerHTML = '';\n",
              "        dataTable['output_type'] = 'display_data';\n",
              "        await google.colab.output.renderOutput(dataTable, element);\n",
              "        const docLink = document.createElement('div');\n",
              "        docLink.innerHTML = docLinkHtml;\n",
              "        element.appendChild(docLink);\n",
              "      }\n",
              "    </script>\n",
              "  </div>\n",
              "\n",
              "\n",
              "    <div id=\"df-8d57f8ab-529a-4ea1-9361-cd5c69d1457c\">\n",
              "      <button class=\"colab-df-quickchart\" onclick=\"quickchart('df-8d57f8ab-529a-4ea1-9361-cd5c69d1457c')\"\n",
              "                title=\"Suggest charts\"\n",
              "                style=\"display:none;\">\n",
              "\n",
              "<svg xmlns=\"http://www.w3.org/2000/svg\" height=\"24px\"viewBox=\"0 0 24 24\"\n",
              "     width=\"24px\">\n",
              "    <g>\n",
              "        <path d=\"M19 3H5c-1.1 0-2 .9-2 2v14c0 1.1.9 2 2 2h14c1.1 0 2-.9 2-2V5c0-1.1-.9-2-2-2zM9 17H7v-7h2v7zm4 0h-2V7h2v10zm4 0h-2v-4h2v4z\"/>\n",
              "    </g>\n",
              "</svg>\n",
              "      </button>\n",
              "\n",
              "<style>\n",
              "  .colab-df-quickchart {\n",
              "      --bg-color: #E8F0FE;\n",
              "      --fill-color: #1967D2;\n",
              "      --hover-bg-color: #E2EBFA;\n",
              "      --hover-fill-color: #174EA6;\n",
              "      --disabled-fill-color: #AAA;\n",
              "      --disabled-bg-color: #DDD;\n",
              "  }\n",
              "\n",
              "  [theme=dark] .colab-df-quickchart {\n",
              "      --bg-color: #3B4455;\n",
              "      --fill-color: #D2E3FC;\n",
              "      --hover-bg-color: #434B5C;\n",
              "      --hover-fill-color: #FFFFFF;\n",
              "      --disabled-bg-color: #3B4455;\n",
              "      --disabled-fill-color: #666;\n",
              "  }\n",
              "\n",
              "  .colab-df-quickchart {\n",
              "    background-color: var(--bg-color);\n",
              "    border: none;\n",
              "    border-radius: 50%;\n",
              "    cursor: pointer;\n",
              "    display: none;\n",
              "    fill: var(--fill-color);\n",
              "    height: 32px;\n",
              "    padding: 0;\n",
              "    width: 32px;\n",
              "  }\n",
              "\n",
              "  .colab-df-quickchart:hover {\n",
              "    background-color: var(--hover-bg-color);\n",
              "    box-shadow: 0 1px 2px rgba(60, 64, 67, 0.3), 0 1px 3px 1px rgba(60, 64, 67, 0.15);\n",
              "    fill: var(--button-hover-fill-color);\n",
              "  }\n",
              "\n",
              "  .colab-df-quickchart-complete:disabled,\n",
              "  .colab-df-quickchart-complete:disabled:hover {\n",
              "    background-color: var(--disabled-bg-color);\n",
              "    fill: var(--disabled-fill-color);\n",
              "    box-shadow: none;\n",
              "  }\n",
              "\n",
              "  .colab-df-spinner {\n",
              "    border: 2px solid var(--fill-color);\n",
              "    border-color: transparent;\n",
              "    border-bottom-color: var(--fill-color);\n",
              "    animation:\n",
              "      spin 1s steps(1) infinite;\n",
              "  }\n",
              "\n",
              "  @keyframes spin {\n",
              "    0% {\n",
              "      border-color: transparent;\n",
              "      border-bottom-color: var(--fill-color);\n",
              "      border-left-color: var(--fill-color);\n",
              "    }\n",
              "    20% {\n",
              "      border-color: transparent;\n",
              "      border-left-color: var(--fill-color);\n",
              "      border-top-color: var(--fill-color);\n",
              "    }\n",
              "    30% {\n",
              "      border-color: transparent;\n",
              "      border-left-color: var(--fill-color);\n",
              "      border-top-color: var(--fill-color);\n",
              "      border-right-color: var(--fill-color);\n",
              "    }\n",
              "    40% {\n",
              "      border-color: transparent;\n",
              "      border-right-color: var(--fill-color);\n",
              "      border-top-color: var(--fill-color);\n",
              "    }\n",
              "    60% {\n",
              "      border-color: transparent;\n",
              "      border-right-color: var(--fill-color);\n",
              "    }\n",
              "    80% {\n",
              "      border-color: transparent;\n",
              "      border-right-color: var(--fill-color);\n",
              "      border-bottom-color: var(--fill-color);\n",
              "    }\n",
              "    90% {\n",
              "      border-color: transparent;\n",
              "      border-bottom-color: var(--fill-color);\n",
              "    }\n",
              "  }\n",
              "</style>\n",
              "\n",
              "      <script>\n",
              "        async function quickchart(key) {\n",
              "          const quickchartButtonEl =\n",
              "            document.querySelector('#' + key + ' button');\n",
              "          quickchartButtonEl.disabled = true;  // To prevent multiple clicks.\n",
              "          quickchartButtonEl.classList.add('colab-df-spinner');\n",
              "          try {\n",
              "            const charts = await google.colab.kernel.invokeFunction(\n",
              "                'suggestCharts', [key], {});\n",
              "          } catch (error) {\n",
              "            console.error('Error during call to suggestCharts:', error);\n",
              "          }\n",
              "          quickchartButtonEl.classList.remove('colab-df-spinner');\n",
              "          quickchartButtonEl.classList.add('colab-df-quickchart-complete');\n",
              "        }\n",
              "        (() => {\n",
              "          let quickchartButtonEl =\n",
              "            document.querySelector('#df-8d57f8ab-529a-4ea1-9361-cd5c69d1457c button');\n",
              "          quickchartButtonEl.style.display =\n",
              "            google.colab.kernel.accessAllowed ? 'block' : 'none';\n",
              "        })();\n",
              "      </script>\n",
              "    </div>\n",
              "\n",
              "    </div>\n",
              "  </div>\n"
            ],
            "application/vnd.google.colaboratory.intrinsic+json": {
              "type": "dataframe",
              "summary": "{\n  \"name\": \"cleaned\",\n  \"rows\": 8,\n  \"fields\": [\n    {\n      \"column\": \"Mobile Weight\",\n      \"properties\": {\n        \"dtype\": \"number\",\n        \"std\": 268.92982887813315,\n        \"min\": 99.15610175274308,\n        \"max\": 763.0,\n        \"num_unique_values\": 8,\n        \"samples\": [\n          221.30982961992135,\n          193.0,\n          763.0\n        ],\n        \"semantic_type\": \"\",\n        \"description\": \"\"\n      }\n    },\n    {\n      \"column\": \"RAM\",\n      \"properties\": {\n        \"dtype\": \"number\",\n        \"std\": 267.27821914689355,\n        \"min\": 1.0,\n        \"max\": 763.0,\n        \"num_unique_values\": 7,\n        \"samples\": [\n          763.0,\n          7.651376146788991,\n          8.0\n        ],\n        \"semantic_type\": \"\",\n        \"description\": \"\"\n      }\n    },\n    {\n      \"column\": \"Battery Capacity\",\n      \"properties\": {\n        \"dtype\": \"number\",\n        \"std\": 3289.69042177082,\n        \"min\": 763.0,\n        \"max\": 11200.0,\n        \"num_unique_values\": 7,\n        \"samples\": [\n          763.0,\n          4955.618610747051,\n          5000.0\n        ],\n        \"semantic_type\": \"\",\n        \"description\": \"\"\n      }\n    },\n    {\n      \"column\": \"Screen Size\",\n      \"properties\": {\n        \"dtype\": \"number\",\n        \"std\": 267.3714537263781,\n        \"min\": 1.4123664219126622,\n        \"max\": 763.0,\n        \"num_unique_values\": 8,\n        \"samples\": [\n          6.956225425950197,\n          6.6,\n          763.0\n        ],\n        \"semantic_type\": \"\",\n        \"description\": \"\"\n      }\n    },\n    {\n      \"column\": \"Launched Price (Pakistan)\",\n      \"properties\": {\n        \"dtype\": \"number\",\n        \"std\": 202962.0444261627,\n        \"min\": 763.0,\n        \"max\": 630508.08,\n        \"num_unique_values\": 8,\n        \"samples\": [\n          127703.50862385321,\n          84999.0,\n          763.0\n        ],\n        \"semantic_type\": \"\",\n        \"description\": \"\"\n      }\n    },\n    {\n      \"column\": \"Launched Price (India)\",\n      \"properties\": {\n        \"dtype\": \"number\",\n        \"std\": 89090.33935481678,\n        \"min\": 763.0,\n        \"max\": 274999.0,\n        \"num_unique_values\": 8,\n        \"samples\": [\n          50001.473132372215,\n          34999.0,\n          763.0\n        ],\n        \"semantic_type\": \"\",\n        \"description\": \"\"\n      }\n    },\n    {\n      \"column\": \"Launched Price (China)\",\n      \"properties\": {\n        \"dtype\": \"number\",\n        \"std\": 5701.354672761919,\n        \"min\": 499.0,\n        \"max\": 17999.0,\n        \"num_unique_values\": 8,\n        \"samples\": [\n          3829.7077326343383,\n          2900.0,\n          763.0\n        ],\n        \"semantic_type\": \"\",\n        \"description\": \"\"\n      }\n    },\n    {\n      \"column\": \"Launched Price (USA)\",\n      \"properties\": {\n        \"dtype\": \"number\",\n        \"std\": 857.7968820205149,\n        \"min\": 79.0,\n        \"max\": 2799.0,\n        \"num_unique_values\": 8,\n        \"samples\": [\n          572.4294364351246,\n          449.0,\n          763.0\n        ],\n        \"semantic_type\": \"\",\n        \"description\": \"\"\n      }\n    },\n    {\n      \"column\": \"Launched Price (Dubai)\",\n      \"properties\": {\n        \"dtype\": \"number\",\n        \"std\": 3508.109541482088,\n        \"min\": 299.0,\n        \"max\": 11099.0,\n        \"num_unique_values\": 8,\n        \"samples\": [\n          2141.9934469200525,\n          1620.0,\n          763.0\n        ],\n        \"semantic_type\": \"\",\n        \"description\": \"\"\n      }\n    },\n    {\n      \"column\": \"Launched Year\",\n      \"properties\": {\n        \"dtype\": \"number\",\n        \"std\": 785.5280579472003,\n        \"min\": 1.952732255801855,\n        \"max\": 2025.0,\n        \"num_unique_values\": 8,\n        \"samples\": [\n          2022.132372214941,\n          2023.0,\n          763.0\n        ],\n        \"semantic_type\": \"\",\n        \"description\": \"\"\n      }\n    },\n    {\n      \"column\": \"Back Camera 1\",\n      \"properties\": {\n        \"dtype\": \"number\",\n        \"std\": 257.247461154452,\n        \"min\": 5.0,\n        \"max\": 763.0,\n        \"num_unique_values\": 7,\n        \"samples\": [\n          763.0,\n          45.28309305373526,\n          50.0\n        ],\n        \"semantic_type\": \"\",\n        \"description\": \"\"\n      }\n    },\n    {\n      \"column\": \"Back Camera 2\",\n      \"properties\": {\n        \"dtype\": \"number\",\n        \"std\": 265.9192419961669,\n        \"min\": 0.0,\n        \"max\": 763.0,\n        \"num_unique_values\": 7,\n        \"samples\": [\n          763.0,\n          6.6435124508519,\n          8.0\n        ],\n        \"semantic_type\": \"\",\n        \"description\": \"\"\n      }\n    },\n    {\n      \"column\": \"Back Camera 3\",\n      \"properties\": {\n        \"dtype\": \"number\",\n        \"std\": 266.78530614947147,\n        \"min\": 0.0,\n        \"max\": 763.0,\n        \"num_unique_values\": 5,\n        \"samples\": [\n          2.6946264744429884,\n          64.0,\n          10.082067964803201\n        ],\n        \"semantic_type\": \"\",\n        \"description\": \"\"\n      }\n    },\n    {\n      \"column\": \"Back Camera 4\",\n      \"properties\": {\n        \"dtype\": \"number\",\n        \"std\": 269.64337290800046,\n        \"min\": 0.0,\n        \"max\": 763.0,\n        \"num_unique_values\": 5,\n        \"samples\": [\n          0.047182175622542594,\n          2.0,\n          0.3037418473195704\n        ],\n        \"semantic_type\": \"\",\n        \"description\": \"\"\n      }\n    },\n    {\n      \"column\": \"Front Camera 1\",\n      \"properties\": {\n        \"dtype\": \"number\",\n        \"std\": 262.94083410902476,\n        \"min\": 2.0,\n        \"max\": 763.0,\n        \"num_unique_values\": 8,\n        \"samples\": [\n          18.07732634338139,\n          16.0,\n          763.0\n        ],\n        \"semantic_type\": \"\",\n        \"description\": \"\"\n      }\n    },\n    {\n      \"column\": \"Front Camera 2\",\n      \"properties\": {\n        \"dtype\": \"number\",\n        \"std\": 269.13840542650837,\n        \"min\": 0.0,\n        \"max\": 763.0,\n        \"num_unique_values\": 5,\n        \"samples\": [\n          0.0891218872870249,\n          12.0,\n          0.876897800681771\n        ],\n        \"semantic_type\": \"\",\n        \"description\": \"\"\n      }\n    },\n    {\n      \"column\": \"Storage\",\n      \"properties\": {\n        \"dtype\": \"number\",\n        \"std\": 678.8173924099374,\n        \"min\": 16.0,\n        \"max\": 2048.0,\n        \"num_unique_values\": 7,\n        \"samples\": [\n          763.0,\n          213.61992136304062,\n          256.0\n        ],\n        \"semantic_type\": \"\",\n        \"description\": \"\"\n      }\n    }\n  ]\n}"
            }
          },
          "metadata": {},
          "execution_count": 53
        }
      ]
    },
    {
      "cell_type": "code",
      "source": [
        "cleaned.head()"
      ],
      "metadata": {
        "colab": {
          "base_uri": "https://localhost:8080/",
          "height": 328
        },
        "id": "BzZ1UeIe2vU8",
        "outputId": "05ca7097-bd10-4b11-f145-3c06e6b0045a"
      },
      "execution_count": null,
      "outputs": [
        {
          "output_type": "execute_result",
          "data": {
            "text/plain": [
              "  Company Name      Model Name  Mobile Weight  RAM   Processor  \\\n",
              "0        Apple       iPhone 16          174.0  6.0  A17 Bionic   \n",
              "1        Apple       iPhone 16          174.0  6.0  A17 Bionic   \n",
              "2        Apple       iPhone 16          174.0  6.0  A17 Bionic   \n",
              "3        Apple  iPhone 16 Plus          203.0  6.0  A17 Bionic   \n",
              "4        Apple  iPhone 16 Plus          203.0  6.0  A17 Bionic   \n",
              "\n",
              "   Battery Capacity  Screen Size  Launched Price (Pakistan)  \\\n",
              "0              3600          6.1                   224999.0   \n",
              "1              3600          6.1                   234999.0   \n",
              "2              3600          6.1                   244999.0   \n",
              "3              4200          6.7                   249999.0   \n",
              "4              4200          6.7                   259999.0   \n",
              "\n",
              "   Launched Price (India)  Launched Price (China)  Launched Price (USA)  \\\n",
              "0                   79999                    5799                 799.0   \n",
              "1                   84999                    6099                 849.0   \n",
              "2                   89999                    6499                 899.0   \n",
              "3                   89999                    6199                 899.0   \n",
              "4                   94999                    6499                 949.0   \n",
              "\n",
              "   Launched Price (Dubai)  Launched Year  Back Camera 1  Back Camera 2  \\\n",
              "0                    2799           2024             48              0   \n",
              "1                    2999           2024             48              0   \n",
              "2                    3199           2024             48              0   \n",
              "3                    3199           2024             48              0   \n",
              "4                    3399           2024             48              0   \n",
              "\n",
              "   Back Camera 3  Back Camera 4  Front Camera 1  Front Camera 2  Storage  \n",
              "0              0              0              12               0      128  \n",
              "1              0              0              12               0      256  \n",
              "2              0              0              12               0      512  \n",
              "3              0              0              12               0      128  \n",
              "4              0              0              12               0      256  "
            ],
            "text/html": [
              "\n",
              "  <div id=\"df-0f272e49-528f-4d10-8063-0fb2bf410cba\" class=\"colab-df-container\">\n",
              "    <div>\n",
              "<style scoped>\n",
              "    .dataframe tbody tr th:only-of-type {\n",
              "        vertical-align: middle;\n",
              "    }\n",
              "\n",
              "    .dataframe tbody tr th {\n",
              "        vertical-align: top;\n",
              "    }\n",
              "\n",
              "    .dataframe thead th {\n",
              "        text-align: right;\n",
              "    }\n",
              "</style>\n",
              "<table border=\"1\" class=\"dataframe\">\n",
              "  <thead>\n",
              "    <tr style=\"text-align: right;\">\n",
              "      <th></th>\n",
              "      <th>Company Name</th>\n",
              "      <th>Model Name</th>\n",
              "      <th>Mobile Weight</th>\n",
              "      <th>RAM</th>\n",
              "      <th>Processor</th>\n",
              "      <th>Battery Capacity</th>\n",
              "      <th>Screen Size</th>\n",
              "      <th>Launched Price (Pakistan)</th>\n",
              "      <th>Launched Price (India)</th>\n",
              "      <th>Launched Price (China)</th>\n",
              "      <th>Launched Price (USA)</th>\n",
              "      <th>Launched Price (Dubai)</th>\n",
              "      <th>Launched Year</th>\n",
              "      <th>Back Camera 1</th>\n",
              "      <th>Back Camera 2</th>\n",
              "      <th>Back Camera 3</th>\n",
              "      <th>Back Camera 4</th>\n",
              "      <th>Front Camera 1</th>\n",
              "      <th>Front Camera 2</th>\n",
              "      <th>Storage</th>\n",
              "    </tr>\n",
              "  </thead>\n",
              "  <tbody>\n",
              "    <tr>\n",
              "      <th>0</th>\n",
              "      <td>Apple</td>\n",
              "      <td>iPhone 16</td>\n",
              "      <td>174.0</td>\n",
              "      <td>6.0</td>\n",
              "      <td>A17 Bionic</td>\n",
              "      <td>3600</td>\n",
              "      <td>6.1</td>\n",
              "      <td>224999.0</td>\n",
              "      <td>79999</td>\n",
              "      <td>5799</td>\n",
              "      <td>799.0</td>\n",
              "      <td>2799</td>\n",
              "      <td>2024</td>\n",
              "      <td>48</td>\n",
              "      <td>0</td>\n",
              "      <td>0</td>\n",
              "      <td>0</td>\n",
              "      <td>12</td>\n",
              "      <td>0</td>\n",
              "      <td>128</td>\n",
              "    </tr>\n",
              "    <tr>\n",
              "      <th>1</th>\n",
              "      <td>Apple</td>\n",
              "      <td>iPhone 16</td>\n",
              "      <td>174.0</td>\n",
              "      <td>6.0</td>\n",
              "      <td>A17 Bionic</td>\n",
              "      <td>3600</td>\n",
              "      <td>6.1</td>\n",
              "      <td>234999.0</td>\n",
              "      <td>84999</td>\n",
              "      <td>6099</td>\n",
              "      <td>849.0</td>\n",
              "      <td>2999</td>\n",
              "      <td>2024</td>\n",
              "      <td>48</td>\n",
              "      <td>0</td>\n",
              "      <td>0</td>\n",
              "      <td>0</td>\n",
              "      <td>12</td>\n",
              "      <td>0</td>\n",
              "      <td>256</td>\n",
              "    </tr>\n",
              "    <tr>\n",
              "      <th>2</th>\n",
              "      <td>Apple</td>\n",
              "      <td>iPhone 16</td>\n",
              "      <td>174.0</td>\n",
              "      <td>6.0</td>\n",
              "      <td>A17 Bionic</td>\n",
              "      <td>3600</td>\n",
              "      <td>6.1</td>\n",
              "      <td>244999.0</td>\n",
              "      <td>89999</td>\n",
              "      <td>6499</td>\n",
              "      <td>899.0</td>\n",
              "      <td>3199</td>\n",
              "      <td>2024</td>\n",
              "      <td>48</td>\n",
              "      <td>0</td>\n",
              "      <td>0</td>\n",
              "      <td>0</td>\n",
              "      <td>12</td>\n",
              "      <td>0</td>\n",
              "      <td>512</td>\n",
              "    </tr>\n",
              "    <tr>\n",
              "      <th>3</th>\n",
              "      <td>Apple</td>\n",
              "      <td>iPhone 16 Plus</td>\n",
              "      <td>203.0</td>\n",
              "      <td>6.0</td>\n",
              "      <td>A17 Bionic</td>\n",
              "      <td>4200</td>\n",
              "      <td>6.7</td>\n",
              "      <td>249999.0</td>\n",
              "      <td>89999</td>\n",
              "      <td>6199</td>\n",
              "      <td>899.0</td>\n",
              "      <td>3199</td>\n",
              "      <td>2024</td>\n",
              "      <td>48</td>\n",
              "      <td>0</td>\n",
              "      <td>0</td>\n",
              "      <td>0</td>\n",
              "      <td>12</td>\n",
              "      <td>0</td>\n",
              "      <td>128</td>\n",
              "    </tr>\n",
              "    <tr>\n",
              "      <th>4</th>\n",
              "      <td>Apple</td>\n",
              "      <td>iPhone 16 Plus</td>\n",
              "      <td>203.0</td>\n",
              "      <td>6.0</td>\n",
              "      <td>A17 Bionic</td>\n",
              "      <td>4200</td>\n",
              "      <td>6.7</td>\n",
              "      <td>259999.0</td>\n",
              "      <td>94999</td>\n",
              "      <td>6499</td>\n",
              "      <td>949.0</td>\n",
              "      <td>3399</td>\n",
              "      <td>2024</td>\n",
              "      <td>48</td>\n",
              "      <td>0</td>\n",
              "      <td>0</td>\n",
              "      <td>0</td>\n",
              "      <td>12</td>\n",
              "      <td>0</td>\n",
              "      <td>256</td>\n",
              "    </tr>\n",
              "  </tbody>\n",
              "</table>\n",
              "</div>\n",
              "    <div class=\"colab-df-buttons\">\n",
              "\n",
              "  <div class=\"colab-df-container\">\n",
              "    <button class=\"colab-df-convert\" onclick=\"convertToInteractive('df-0f272e49-528f-4d10-8063-0fb2bf410cba')\"\n",
              "            title=\"Convert this dataframe to an interactive table.\"\n",
              "            style=\"display:none;\">\n",
              "\n",
              "  <svg xmlns=\"http://www.w3.org/2000/svg\" height=\"24px\" viewBox=\"0 -960 960 960\">\n",
              "    <path d=\"M120-120v-720h720v720H120Zm60-500h600v-160H180v160Zm220 220h160v-160H400v160Zm0 220h160v-160H400v160ZM180-400h160v-160H180v160Zm440 0h160v-160H620v160ZM180-180h160v-160H180v160Zm440 0h160v-160H620v160Z\"/>\n",
              "  </svg>\n",
              "    </button>\n",
              "\n",
              "  <style>\n",
              "    .colab-df-container {\n",
              "      display:flex;\n",
              "      gap: 12px;\n",
              "    }\n",
              "\n",
              "    .colab-df-convert {\n",
              "      background-color: #E8F0FE;\n",
              "      border: none;\n",
              "      border-radius: 50%;\n",
              "      cursor: pointer;\n",
              "      display: none;\n",
              "      fill: #1967D2;\n",
              "      height: 32px;\n",
              "      padding: 0 0 0 0;\n",
              "      width: 32px;\n",
              "    }\n",
              "\n",
              "    .colab-df-convert:hover {\n",
              "      background-color: #E2EBFA;\n",
              "      box-shadow: 0px 1px 2px rgba(60, 64, 67, 0.3), 0px 1px 3px 1px rgba(60, 64, 67, 0.15);\n",
              "      fill: #174EA6;\n",
              "    }\n",
              "\n",
              "    .colab-df-buttons div {\n",
              "      margin-bottom: 4px;\n",
              "    }\n",
              "\n",
              "    [theme=dark] .colab-df-convert {\n",
              "      background-color: #3B4455;\n",
              "      fill: #D2E3FC;\n",
              "    }\n",
              "\n",
              "    [theme=dark] .colab-df-convert:hover {\n",
              "      background-color: #434B5C;\n",
              "      box-shadow: 0px 1px 3px 1px rgba(0, 0, 0, 0.15);\n",
              "      filter: drop-shadow(0px 1px 2px rgba(0, 0, 0, 0.3));\n",
              "      fill: #FFFFFF;\n",
              "    }\n",
              "  </style>\n",
              "\n",
              "    <script>\n",
              "      const buttonEl =\n",
              "        document.querySelector('#df-0f272e49-528f-4d10-8063-0fb2bf410cba button.colab-df-convert');\n",
              "      buttonEl.style.display =\n",
              "        google.colab.kernel.accessAllowed ? 'block' : 'none';\n",
              "\n",
              "      async function convertToInteractive(key) {\n",
              "        const element = document.querySelector('#df-0f272e49-528f-4d10-8063-0fb2bf410cba');\n",
              "        const dataTable =\n",
              "          await google.colab.kernel.invokeFunction('convertToInteractive',\n",
              "                                                    [key], {});\n",
              "        if (!dataTable) return;\n",
              "\n",
              "        const docLinkHtml = 'Like what you see? Visit the ' +\n",
              "          '<a target=\"_blank\" href=https://colab.research.google.com/notebooks/data_table.ipynb>data table notebook</a>'\n",
              "          + ' to learn more about interactive tables.';\n",
              "        element.innerHTML = '';\n",
              "        dataTable['output_type'] = 'display_data';\n",
              "        await google.colab.output.renderOutput(dataTable, element);\n",
              "        const docLink = document.createElement('div');\n",
              "        docLink.innerHTML = docLinkHtml;\n",
              "        element.appendChild(docLink);\n",
              "      }\n",
              "    </script>\n",
              "  </div>\n",
              "\n",
              "\n",
              "    <div id=\"df-c970e723-643e-47a1-a94f-6d6fe6b824c7\">\n",
              "      <button class=\"colab-df-quickchart\" onclick=\"quickchart('df-c970e723-643e-47a1-a94f-6d6fe6b824c7')\"\n",
              "                title=\"Suggest charts\"\n",
              "                style=\"display:none;\">\n",
              "\n",
              "<svg xmlns=\"http://www.w3.org/2000/svg\" height=\"24px\"viewBox=\"0 0 24 24\"\n",
              "     width=\"24px\">\n",
              "    <g>\n",
              "        <path d=\"M19 3H5c-1.1 0-2 .9-2 2v14c0 1.1.9 2 2 2h14c1.1 0 2-.9 2-2V5c0-1.1-.9-2-2-2zM9 17H7v-7h2v7zm4 0h-2V7h2v10zm4 0h-2v-4h2v4z\"/>\n",
              "    </g>\n",
              "</svg>\n",
              "      </button>\n",
              "\n",
              "<style>\n",
              "  .colab-df-quickchart {\n",
              "      --bg-color: #E8F0FE;\n",
              "      --fill-color: #1967D2;\n",
              "      --hover-bg-color: #E2EBFA;\n",
              "      --hover-fill-color: #174EA6;\n",
              "      --disabled-fill-color: #AAA;\n",
              "      --disabled-bg-color: #DDD;\n",
              "  }\n",
              "\n",
              "  [theme=dark] .colab-df-quickchart {\n",
              "      --bg-color: #3B4455;\n",
              "      --fill-color: #D2E3FC;\n",
              "      --hover-bg-color: #434B5C;\n",
              "      --hover-fill-color: #FFFFFF;\n",
              "      --disabled-bg-color: #3B4455;\n",
              "      --disabled-fill-color: #666;\n",
              "  }\n",
              "\n",
              "  .colab-df-quickchart {\n",
              "    background-color: var(--bg-color);\n",
              "    border: none;\n",
              "    border-radius: 50%;\n",
              "    cursor: pointer;\n",
              "    display: none;\n",
              "    fill: var(--fill-color);\n",
              "    height: 32px;\n",
              "    padding: 0;\n",
              "    width: 32px;\n",
              "  }\n",
              "\n",
              "  .colab-df-quickchart:hover {\n",
              "    background-color: var(--hover-bg-color);\n",
              "    box-shadow: 0 1px 2px rgba(60, 64, 67, 0.3), 0 1px 3px 1px rgba(60, 64, 67, 0.15);\n",
              "    fill: var(--button-hover-fill-color);\n",
              "  }\n",
              "\n",
              "  .colab-df-quickchart-complete:disabled,\n",
              "  .colab-df-quickchart-complete:disabled:hover {\n",
              "    background-color: var(--disabled-bg-color);\n",
              "    fill: var(--disabled-fill-color);\n",
              "    box-shadow: none;\n",
              "  }\n",
              "\n",
              "  .colab-df-spinner {\n",
              "    border: 2px solid var(--fill-color);\n",
              "    border-color: transparent;\n",
              "    border-bottom-color: var(--fill-color);\n",
              "    animation:\n",
              "      spin 1s steps(1) infinite;\n",
              "  }\n",
              "\n",
              "  @keyframes spin {\n",
              "    0% {\n",
              "      border-color: transparent;\n",
              "      border-bottom-color: var(--fill-color);\n",
              "      border-left-color: var(--fill-color);\n",
              "    }\n",
              "    20% {\n",
              "      border-color: transparent;\n",
              "      border-left-color: var(--fill-color);\n",
              "      border-top-color: var(--fill-color);\n",
              "    }\n",
              "    30% {\n",
              "      border-color: transparent;\n",
              "      border-left-color: var(--fill-color);\n",
              "      border-top-color: var(--fill-color);\n",
              "      border-right-color: var(--fill-color);\n",
              "    }\n",
              "    40% {\n",
              "      border-color: transparent;\n",
              "      border-right-color: var(--fill-color);\n",
              "      border-top-color: var(--fill-color);\n",
              "    }\n",
              "    60% {\n",
              "      border-color: transparent;\n",
              "      border-right-color: var(--fill-color);\n",
              "    }\n",
              "    80% {\n",
              "      border-color: transparent;\n",
              "      border-right-color: var(--fill-color);\n",
              "      border-bottom-color: var(--fill-color);\n",
              "    }\n",
              "    90% {\n",
              "      border-color: transparent;\n",
              "      border-bottom-color: var(--fill-color);\n",
              "    }\n",
              "  }\n",
              "</style>\n",
              "\n",
              "      <script>\n",
              "        async function quickchart(key) {\n",
              "          const quickchartButtonEl =\n",
              "            document.querySelector('#' + key + ' button');\n",
              "          quickchartButtonEl.disabled = true;  // To prevent multiple clicks.\n",
              "          quickchartButtonEl.classList.add('colab-df-spinner');\n",
              "          try {\n",
              "            const charts = await google.colab.kernel.invokeFunction(\n",
              "                'suggestCharts', [key], {});\n",
              "          } catch (error) {\n",
              "            console.error('Error during call to suggestCharts:', error);\n",
              "          }\n",
              "          quickchartButtonEl.classList.remove('colab-df-spinner');\n",
              "          quickchartButtonEl.classList.add('colab-df-quickchart-complete');\n",
              "        }\n",
              "        (() => {\n",
              "          let quickchartButtonEl =\n",
              "            document.querySelector('#df-c970e723-643e-47a1-a94f-6d6fe6b824c7 button');\n",
              "          quickchartButtonEl.style.display =\n",
              "            google.colab.kernel.accessAllowed ? 'block' : 'none';\n",
              "        })();\n",
              "      </script>\n",
              "    </div>\n",
              "\n",
              "    </div>\n",
              "  </div>\n"
            ],
            "application/vnd.google.colaboratory.intrinsic+json": {
              "type": "dataframe",
              "variable_name": "cleaned",
              "summary": "{\n  \"name\": \"cleaned\",\n  \"rows\": 763,\n  \"fields\": [\n    {\n      \"column\": \"Company Name\",\n      \"properties\": {\n        \"dtype\": \"category\",\n        \"num_unique_values\": 18,\n        \"samples\": [\n          \"Apple\",\n          \"Samsung\",\n          \"Lenovo\"\n        ],\n        \"semantic_type\": \"\",\n        \"description\": \"\"\n      }\n    },\n    {\n      \"column\": \"Model Name\",\n      \"properties\": {\n        \"dtype\": \"string\",\n        \"num_unique_values\": 507,\n        \"samples\": [\n          \"Y75 5G\",\n          \"14 Pro+ 5G\",\n          \"F5\"\n        ],\n        \"semantic_type\": \"\",\n        \"description\": \"\"\n      }\n    },\n    {\n      \"column\": \"Mobile Weight\",\n      \"properties\": {\n        \"dtype\": \"number\",\n        \"std\": 99.15610175274308,\n        \"min\": 135.0,\n        \"max\": 732.0,\n        \"num_unique_values\": 129,\n        \"samples\": [\n          433.0,\n          178.0,\n          490.0\n        ],\n        \"semantic_type\": \"\",\n        \"description\": \"\"\n      }\n    },\n    {\n      \"column\": \"RAM\",\n      \"properties\": {\n        \"dtype\": \"number\",\n        \"std\": 3.222046360529898,\n        \"min\": 1.0,\n        \"max\": 16.0,\n        \"num_unique_values\": 10,\n        \"samples\": [\n          10.0,\n          8.0,\n          2.0\n        ],\n        \"semantic_type\": \"\",\n        \"description\": \"\"\n      }\n    },\n    {\n      \"column\": \"Processor\",\n      \"properties\": {\n        \"dtype\": \"category\",\n        \"num_unique_values\": 187,\n        \"samples\": [\n          \"Snapdragon 8+ Gen 2\",\n          \"Qualcomm Snapdragon 765G\",\n          \"MediaTek Dimensity 8100\"\n        ],\n        \"semantic_type\": \"\",\n        \"description\": \"\"\n      }\n    },\n    {\n      \"column\": \"Battery Capacity\",\n      \"properties\": {\n        \"dtype\": \"number\",\n        \"std\": 1311,\n        \"min\": 2000,\n        \"max\": 11200,\n        \"num_unique_values\": 104,\n        \"samples\": [\n          4700,\n          5800,\n          4805\n        ],\n        \"semantic_type\": \"\",\n        \"description\": \"\"\n      }\n    },\n    {\n      \"column\": \"Screen Size\",\n      \"properties\": {\n        \"dtype\": \"number\",\n        \"std\": 1.4123664219126622,\n        \"min\": 5.0,\n        \"max\": 14.6,\n        \"num_unique_values\": 77,\n        \"samples\": [\n          6.5,\n          6.78,\n          13.0\n        ],\n        \"semantic_type\": \"\",\n        \"description\": \"\"\n      }\n    },\n    {\n      \"column\": \"Launched Price (Pakistan)\",\n      \"properties\": {\n        \"dtype\": \"number\",\n        \"std\": 106236.0841514866,\n        \"min\": 15999.0,\n        \"max\": 630508.08,\n        \"num_unique_values\": 152,\n        \"samples\": [\n          170000.0,\n          66220.0,\n          229999.0\n        ],\n        \"semantic_type\": \"\",\n        \"description\": \"\"\n      }\n    },\n    {\n      \"column\": \"Launched Price (India)\",\n      \"properties\": {\n        \"dtype\": \"number\",\n        \"std\": 39558,\n        \"min\": 5999,\n        \"max\": 274999,\n        \"num_unique_values\": 141,\n        \"samples\": [\n          11999,\n          46999,\n          159900\n        ],\n        \"semantic_type\": \"\",\n        \"description\": \"\"\n      }\n    },\n    {\n      \"column\": \"Launched Price (China)\",\n      \"properties\": {\n        \"dtype\": \"number\",\n        \"std\": 2719,\n        \"min\": 499,\n        \"max\": 17999,\n        \"num_unique_values\": 126,\n        \"samples\": [\n          899,\n          5899,\n          13499\n        ],\n        \"semantic_type\": \"\",\n        \"description\": \"\"\n      }\n    },\n    {\n      \"column\": \"Launched Price (USA)\",\n      \"properties\": {\n        \"dtype\": \"number\",\n        \"std\": 400.43214313012095,\n        \"min\": 79.0,\n        \"max\": 2799.0,\n        \"num_unique_values\": 93,\n        \"samples\": [\n          239.0,\n          349.0,\n          220.0\n        ],\n        \"semantic_type\": \"\",\n        \"description\": \"\"\n      }\n    },\n    {\n      \"column\": \"Launched Price (Dubai)\",\n      \"properties\": {\n        \"dtype\": \"number\",\n        \"std\": 1488,\n        \"min\": 299,\n        \"max\": 11099,\n        \"num_unique_values\": 134,\n        \"samples\": [\n          6199,\n          900,\n          1620\n        ],\n        \"semantic_type\": \"\",\n        \"description\": \"\"\n      }\n    },\n    {\n      \"column\": \"Launched Year\",\n      \"properties\": {\n        \"dtype\": \"number\",\n        \"std\": 1,\n        \"min\": 2014,\n        \"max\": 2025,\n        \"num_unique_values\": 11,\n        \"samples\": [\n          2019,\n          2024,\n          2014\n        ],\n        \"semantic_type\": \"\",\n        \"description\": \"\"\n      }\n    },\n    {\n      \"column\": \"Back Camera 1\",\n      \"properties\": {\n        \"dtype\": \"number\",\n        \"std\": 29,\n        \"min\": 5,\n        \"max\": 200,\n        \"num_unique_values\": 11,\n        \"samples\": [\n          108,\n          48,\n          64\n        ],\n        \"semantic_type\": \"\",\n        \"description\": \"\"\n      }\n    },\n    {\n      \"column\": \"Back Camera 2\",\n      \"properties\": {\n        \"dtype\": \"number\",\n        \"std\": 12,\n        \"min\": 0,\n        \"max\": 64,\n        \"num_unique_values\": 14,\n        \"samples\": [\n          50,\n          64,\n          0\n        ],\n        \"semantic_type\": \"\",\n        \"description\": \"\"\n      }\n    },\n    {\n      \"column\": \"Back Camera 3\",\n      \"properties\": {\n        \"dtype\": \"number\",\n        \"std\": 10,\n        \"min\": 0,\n        \"max\": 64,\n        \"num_unique_values\": 10,\n        \"samples\": [\n          32,\n          12,\n          8\n        ],\n        \"semantic_type\": \"\",\n        \"description\": \"\"\n      }\n    },\n    {\n      \"column\": \"Back Camera 4\",\n      \"properties\": {\n        \"dtype\": \"number\",\n        \"std\": 0,\n        \"min\": 0,\n        \"max\": 2,\n        \"num_unique_values\": 2,\n        \"samples\": [\n          2,\n          0\n        ],\n        \"semantic_type\": \"\",\n        \"description\": \"\"\n      }\n    },\n    {\n      \"column\": \"Front Camera 1\",\n      \"properties\": {\n        \"dtype\": \"number\",\n        \"std\": 11,\n        \"min\": 2,\n        \"max\": 60,\n        \"num_unique_values\": 17,\n        \"samples\": [\n          12,\n          7\n        ],\n        \"semantic_type\": \"\",\n        \"description\": \"\"\n      }\n    },\n    {\n      \"column\": \"Front Camera 2\",\n      \"properties\": {\n        \"dtype\": \"number\",\n        \"std\": 0,\n        \"min\": 0,\n        \"max\": 12,\n        \"num_unique_values\": 4,\n        \"samples\": [\n          12,\n          4\n        ],\n        \"semantic_type\": \"\",\n        \"description\": \"\"\n      }\n    },\n    {\n      \"column\": \"Storage\",\n      \"properties\": {\n        \"dtype\": \"number\",\n        \"std\": 156,\n        \"min\": 16,\n        \"max\": 2048,\n        \"num_unique_values\": 8,\n        \"samples\": [\n          256,\n          1024\n        ],\n        \"semantic_type\": \"\",\n        \"description\": \"\"\n      }\n    }\n  ]\n}"
            }
          },
          "metadata": {},
          "execution_count": 54
        }
      ]
    },
    {
      "cell_type": "code",
      "source": [
        "cleaned.isnull().sum()"
      ],
      "metadata": {
        "colab": {
          "base_uri": "https://localhost:8080/",
          "height": 711
        },
        "id": "NrIgi2Vg5RL6",
        "outputId": "0a988709-ed9d-423f-81dd-89546409d70b"
      },
      "execution_count": null,
      "outputs": [
        {
          "output_type": "execute_result",
          "data": {
            "text/plain": [
              "Company Name                 0\n",
              "Model Name                   0\n",
              "Mobile Weight                0\n",
              "RAM                          0\n",
              "Processor                    0\n",
              "Battery Capacity             0\n",
              "Screen Size                  0\n",
              "Launched Price (Pakistan)    0\n",
              "Launched Price (India)       0\n",
              "Launched Price (China)       0\n",
              "Launched Price (USA)         0\n",
              "Launched Price (Dubai)       0\n",
              "Launched Year                0\n",
              "Back Camera 1                0\n",
              "Back Camera 2                0\n",
              "Back Camera 3                0\n",
              "Back Camera 4                0\n",
              "Front Camera 1               0\n",
              "Front Camera 2               0\n",
              "Storage                      0\n",
              "dtype: int64"
            ],
            "text/html": [
              "<div>\n",
              "<style scoped>\n",
              "    .dataframe tbody tr th:only-of-type {\n",
              "        vertical-align: middle;\n",
              "    }\n",
              "\n",
              "    .dataframe tbody tr th {\n",
              "        vertical-align: top;\n",
              "    }\n",
              "\n",
              "    .dataframe thead th {\n",
              "        text-align: right;\n",
              "    }\n",
              "</style>\n",
              "<table border=\"1\" class=\"dataframe\">\n",
              "  <thead>\n",
              "    <tr style=\"text-align: right;\">\n",
              "      <th></th>\n",
              "      <th>0</th>\n",
              "    </tr>\n",
              "  </thead>\n",
              "  <tbody>\n",
              "    <tr>\n",
              "      <th>Company Name</th>\n",
              "      <td>0</td>\n",
              "    </tr>\n",
              "    <tr>\n",
              "      <th>Model Name</th>\n",
              "      <td>0</td>\n",
              "    </tr>\n",
              "    <tr>\n",
              "      <th>Mobile Weight</th>\n",
              "      <td>0</td>\n",
              "    </tr>\n",
              "    <tr>\n",
              "      <th>RAM</th>\n",
              "      <td>0</td>\n",
              "    </tr>\n",
              "    <tr>\n",
              "      <th>Processor</th>\n",
              "      <td>0</td>\n",
              "    </tr>\n",
              "    <tr>\n",
              "      <th>Battery Capacity</th>\n",
              "      <td>0</td>\n",
              "    </tr>\n",
              "    <tr>\n",
              "      <th>Screen Size</th>\n",
              "      <td>0</td>\n",
              "    </tr>\n",
              "    <tr>\n",
              "      <th>Launched Price (Pakistan)</th>\n",
              "      <td>0</td>\n",
              "    </tr>\n",
              "    <tr>\n",
              "      <th>Launched Price (India)</th>\n",
              "      <td>0</td>\n",
              "    </tr>\n",
              "    <tr>\n",
              "      <th>Launched Price (China)</th>\n",
              "      <td>0</td>\n",
              "    </tr>\n",
              "    <tr>\n",
              "      <th>Launched Price (USA)</th>\n",
              "      <td>0</td>\n",
              "    </tr>\n",
              "    <tr>\n",
              "      <th>Launched Price (Dubai)</th>\n",
              "      <td>0</td>\n",
              "    </tr>\n",
              "    <tr>\n",
              "      <th>Launched Year</th>\n",
              "      <td>0</td>\n",
              "    </tr>\n",
              "    <tr>\n",
              "      <th>Back Camera 1</th>\n",
              "      <td>0</td>\n",
              "    </tr>\n",
              "    <tr>\n",
              "      <th>Back Camera 2</th>\n",
              "      <td>0</td>\n",
              "    </tr>\n",
              "    <tr>\n",
              "      <th>Back Camera 3</th>\n",
              "      <td>0</td>\n",
              "    </tr>\n",
              "    <tr>\n",
              "      <th>Back Camera 4</th>\n",
              "      <td>0</td>\n",
              "    </tr>\n",
              "    <tr>\n",
              "      <th>Front Camera 1</th>\n",
              "      <td>0</td>\n",
              "    </tr>\n",
              "    <tr>\n",
              "      <th>Front Camera 2</th>\n",
              "      <td>0</td>\n",
              "    </tr>\n",
              "    <tr>\n",
              "      <th>Storage</th>\n",
              "      <td>0</td>\n",
              "    </tr>\n",
              "  </tbody>\n",
              "</table>\n",
              "</div><br><label><b>dtype:</b> int64</label>"
            ]
          },
          "metadata": {},
          "execution_count": 55
        }
      ]
    },
    {
      "cell_type": "code",
      "source": [
        "cleaned.duplicated().sum()"
      ],
      "metadata": {
        "colab": {
          "base_uri": "https://localhost:8080/"
        },
        "id": "_MFEhA7S5Tel",
        "outputId": "498b3854-6fd3-4f7a-ed79-181dcb74a961"
      },
      "execution_count": null,
      "outputs": [
        {
          "output_type": "execute_result",
          "data": {
            "text/plain": [
              "np.int64(0)"
            ]
          },
          "metadata": {},
          "execution_count": 56
        }
      ]
    },
    {
      "cell_type": "markdown",
      "source": [
        "###Anomally handling"
      ],
      "metadata": {
        "id": "_L6B2UhwHpTf"
      }
    },
    {
      "cell_type": "markdown",
      "source": [
        "Helper function to polt the box plots"
      ],
      "metadata": {
        "id": "wOFcurUvJ4NZ"
      }
    },
    {
      "cell_type": "code",
      "source": [
        "cleaned['price'] = cleaned['Launched Price (USA)']"
      ],
      "metadata": {
        "id": "8mn7qJQr3Pav"
      },
      "execution_count": null,
      "outputs": []
    },
    {
      "cell_type": "code",
      "source": [
        "Q3 = cleaned['price'].quantile(0.75)\n",
        "Q1 = cleaned['price'].quantile(0.25)\n",
        "IQR = Q3 - Q1\n",
        "print(\"Q1:\", Q1)\n",
        "print(\"Q3:\", Q3)\n",
        "print(\"IQR:\", IQR)"
      ],
      "metadata": {
        "id": "-7ydYBoDR5U6",
        "colab": {
          "base_uri": "https://localhost:8080/"
        },
        "outputId": "7948fdba-11d2-42a4-f4ff-7376ccbf0b29"
      },
      "execution_count": null,
      "outputs": [
        {
          "output_type": "stream",
          "name": "stdout",
          "text": [
            "Q1: 249.0\n",
            "Q3: 849.0\n",
            "IQR: 600.0\n"
          ]
        }
      ]
    },
    {
      "cell_type": "code",
      "source": [
        "print(Q3 + 1.5 * IQR)\n",
        "cleaned[cleaned['price'] > (Q3 + 1.5 * IQR)].shape #Number of outliers above"
      ],
      "metadata": {
        "id": "EgZ62GwUSAqm",
        "colab": {
          "base_uri": "https://localhost:8080/"
        },
        "outputId": "da8fc603-86b6-4e64-fab4-ef28e6488f0d"
      },
      "execution_count": null,
      "outputs": [
        {
          "output_type": "stream",
          "name": "stdout",
          "text": [
            "1749.0\n"
          ]
        },
        {
          "output_type": "execute_result",
          "data": {
            "text/plain": [
              "(12, 21)"
            ]
          },
          "metadata": {},
          "execution_count": 59
        }
      ]
    },
    {
      "cell_type": "code",
      "source": [
        "print(Q1 - 1.5 * IQR)\n",
        "cleaned[cleaned['price'] < (Q1 - 1.5 * IQR)].shape #Number of outliers below"
      ],
      "metadata": {
        "id": "6ZWrTqXUSKDi",
        "colab": {
          "base_uri": "https://localhost:8080/"
        },
        "outputId": "a13d11f4-0da9-4dd9-ac93-dd59cfd54691"
      },
      "execution_count": null,
      "outputs": [
        {
          "output_type": "stream",
          "name": "stdout",
          "text": [
            "-651.0\n"
          ]
        },
        {
          "output_type": "execute_result",
          "data": {
            "text/plain": [
              "(0, 21)"
            ]
          },
          "metadata": {},
          "execution_count": 60
        }
      ]
    },
    {
      "cell_type": "code",
      "source": [
        "def box_plot(df, x, y):\n",
        "  plt.figure(figsize=(14,6))\n",
        "  sns.boxplot(x=df[x], y=df[y])\n",
        "  plt.xticks(rotation='vertical')\n",
        "  plt.show()"
      ],
      "metadata": {
        "id": "0oJ-i7kTHu_S"
      },
      "execution_count": null,
      "outputs": []
    },
    {
      "cell_type": "code",
      "source": [
        "box_plot(cleaned, 'Company Name', 'price')"
      ],
      "metadata": {
        "id": "8Sw5kvFEKD9K",
        "colab": {
          "base_uri": "https://localhost:8080/",
          "height": 592
        },
        "outputId": "76700b58-3d1c-46e3-df27-2b01edc1c6d0"
      },
      "execution_count": null,
      "outputs": [
        {
          "output_type": "display_data",
          "data": {
            "text/plain": [
              "<Figure size 1400x600 with 1 Axes>"
            ],
            "image/png": "[encoded data removed]"
          },
          "metadata": {}
        }
      ]
    },
    {
      "cell_type": "code",
      "source": [
        "# cleaned.drop(cleaned[cleaned['price'] > 1400].index, inplace=True)"
      ],
      "metadata": {
        "id": "ZKKhCMxkJAMT"
      },
      "execution_count": null,
      "outputs": []
    },
    {
      "cell_type": "code",
      "source": [
        "cleaned.drop(cleaned[cleaned['price'] > (Q3 + 1.5 * IQR)].index, inplace=True)\n",
        "cleaned.drop(cleaned[cleaned['price'] < (Q1 - 1.5 * IQR)].index, inplace=True)"
      ],
      "metadata": {
        "id": "IGpA3RRlSQ7S"
      },
      "execution_count": null,
      "outputs": []
    },
    {
      "cell_type": "code",
      "source": [
        "box_plot(cleaned, 'Company Name', 'price')"
      ],
      "metadata": {
        "id": "-pwZPl7CKSLx",
        "colab": {
          "base_uri": "https://localhost:8080/",
          "height": 592
        },
        "outputId": "7a8efb8d-8cec-4a64-f197-53593ba91223"
      },
      "execution_count": null,
      "outputs": [
        {
          "output_type": "display_data",
          "data": {
            "text/plain": [
              "<Figure size 1400x600 with 1 Axes>"
            ],
            "image/png": "[encoded data removed]"
          },
          "metadata": {}
        }
      ]
    },
    {
      "cell_type": "markdown",
      "source": [
        "##Preparing data for modelling"
      ],
      "metadata": {
        "id": "HoJGsFsaWF7z"
      }
    },
    {
      "cell_type": "markdown",
      "source": [
        "###Dropping columns"
      ],
      "metadata": {
        "id": "T_W-_mVGw2jC"
      }
    },
    {
      "cell_type": "code",
      "source": [
        "cleaned.drop(['Model Name', 'Launched Price (Pakistan)', 'Launched Price (India)', 'Launched Price (China)', 'Launched Price (Dubai)', 'Launched Price (USA)'], axis=1, inplace=True)"
      ],
      "metadata": {
        "id": "JJnypDKn4gu7"
      },
      "execution_count": null,
      "outputs": []
    },
    {
      "cell_type": "code",
      "source": [
        "cleaned.columns"
      ],
      "metadata": {
        "colab": {
          "base_uri": "https://localhost:8080/"
        },
        "id": "zRB_VyqR4uMp",
        "outputId": "32ef0f15-e6ad-44f6-d9fa-2f1b97dc0df1"
      },
      "execution_count": null,
      "outputs": [
        {
          "output_type": "execute_result",
          "data": {
            "text/plain": [
              "Index(['Company Name', 'Mobile Weight', 'RAM', 'Processor', 'Battery Capacity',\n",
              "       'Screen Size', 'Launched Year', 'Back Camera 1', 'Back Camera 2',\n",
              "       'Back Camera 3', 'Back Camera 4', 'Front Camera 1', 'Front Camera 2',\n",
              "       'Storage', 'price'],\n",
              "      dtype='object')"
            ]
          },
          "metadata": {},
          "execution_count": 67
        }
      ]
    },
    {
      "cell_type": "markdown",
      "source": [
        "###Scaling Numerical Data"
      ],
      "metadata": {
        "id": "cxmq_zj_XkXc"
      }
    },
    {
      "cell_type": "code",
      "source": [
        "for col in cleaned.columns:\n",
        "  if cleaned.dtypes[col] == 'object':\n",
        "    continue\n",
        "  if col == 'price':\n",
        "    price_scaler = StandardScaler()\n",
        "    cleaned[col] = price_scaler.fit_transform(cleaned[col].values.reshape(-1,1))\n",
        "    continue\n",
        "  scaler = StandardScaler()\n",
        "  cleaned[col] = scaler.fit_transform(cleaned[col].values.reshape(-1,1))"
      ],
      "metadata": {
        "id": "Ckw4A5QKXLJ0"
      },
      "execution_count": null,
      "outputs": []
    },
    {
      "cell_type": "code",
      "source": [
        "cleaned.head()"
      ],
      "metadata": {
        "id": "j448nWU9Y5K0",
        "colab": {
          "base_uri": "https://localhost:8080/",
          "height": 206
        },
        "outputId": "ba6c43b9-ea96-4f36-bd4c-f849450b705c"
      },
      "execution_count": null,
      "outputs": [
        {
          "output_type": "execute_result",
          "data": {
            "text/plain": [
              "  Company Name  Mobile Weight       RAM   Processor  Battery Capacity  \\\n",
              "0        Apple      -0.471285 -0.496607  A17 Bionic         -1.035207   \n",
              "1        Apple      -0.471285 -0.496607  A17 Bionic         -1.035207   \n",
              "2        Apple      -0.471285 -0.496607  A17 Bionic         -1.035207   \n",
              "3        Apple      -0.175961 -0.496607  A17 Bionic         -0.575559   \n",
              "4        Apple      -0.175961 -0.496607  A17 Bionic         -0.575559   \n",
              "\n",
              "   Screen Size  Launched Year  Back Camera 1  Back Camera 2  Back Camera 3  \\\n",
              "0    -0.598180       0.962994       0.091958       -0.54698       -0.26422   \n",
              "1    -0.598180       0.962994       0.091958       -0.54698       -0.26422   \n",
              "2    -0.598180       0.962994       0.091958       -0.54698       -0.26422   \n",
              "3    -0.170413       0.962994       0.091958       -0.54698       -0.26422   \n",
              "4    -0.170413       0.962994       0.091958       -0.54698       -0.26422   \n",
              "\n",
              "   Back Camera 4  Front Camera 1  Front Camera 2   Storage     price  \n",
              "0      -0.156706       -0.542658       -0.092919 -0.582036  0.699624  \n",
              "1      -0.156706       -0.542658       -0.092919  0.351210  0.839785  \n",
              "2      -0.156706       -0.542658       -0.092919  2.217700  0.979946  \n",
              "3      -0.156706       -0.542658       -0.092919 -0.582036  0.979946  \n",
              "4      -0.156706       -0.542658       -0.092919  0.351210  1.120107  "
            ],
            "text/html": [
              "\n",
              "  <div id=\"df-c3fcd995-303c-44d4-8f17-cce798c9fdee\" class=\"colab-df-container\">\n",
              "    <div>\n",
              "<style scoped>\n",
              "    .dataframe tbody tr th:only-of-type {\n",
              "        vertical-align: middle;\n",
              "    }\n",
              "\n",
              "    .dataframe tbody tr th {\n",
              "        vertical-align: top;\n",
              "    }\n",
              "\n",
              "    .dataframe thead th {\n",
              "        text-align: right;\n",
              "    }\n",
              "</style>\n",
              "<table border=\"1\" class=\"dataframe\">\n",
              "  <thead>\n",
              "    <tr style=\"text-align: right;\">\n",
              "      <th></th>\n",
              "      <th>Company Name</th>\n",
              "      <th>Mobile Weight</th>\n",
              "      <th>RAM</th>\n",
              "      <th>Processor</th>\n",
              "      <th>Battery Capacity</th>\n",
              "      <th>Screen Size</th>\n",
              "      <th>Launched Year</th>\n",
              "      <th>Back Camera 1</th>\n",
              "      <th>Back Camera 2</th>\n",
              "      <th>Back Camera 3</th>\n",
              "      <th>Back Camera 4</th>\n",
              "      <th>Front Camera 1</th>\n",
              "      <th>Front Camera 2</th>\n",
              "      <th>Storage</th>\n",
              "      <th>price</th>\n",
              "    </tr>\n",
              "  </thead>\n",
              "  <tbody>\n",
              "    <tr>\n",
              "      <th>0</th>\n",
              "      <td>Apple</td>\n",
              "      <td>-0.471285</td>\n",
              "      <td>-0.496607</td>\n",
              "      <td>A17 Bionic</td>\n",
              "      <td>-1.035207</td>\n",
              "      <td>-0.598180</td>\n",
              "      <td>0.962994</td>\n",
              "      <td>0.091958</td>\n",
              "      <td>-0.54698</td>\n",
              "      <td>-0.26422</td>\n",
              "      <td>-0.156706</td>\n",
              "      <td>-0.542658</td>\n",
              "      <td>-0.092919</td>\n",
              "      <td>-0.582036</td>\n",
              "      <td>0.699624</td>\n",
              "    </tr>\n",
              "    <tr>\n",
              "      <th>1</th>\n",
              "      <td>Apple</td>\n",
              "      <td>-0.471285</td>\n",
              "      <td>-0.496607</td>\n",
              "      <td>A17 Bionic</td>\n",
              "      <td>-1.035207</td>\n",
              "      <td>-0.598180</td>\n",
              "      <td>0.962994</td>\n",
              "      <td>0.091958</td>\n",
              "      <td>-0.54698</td>\n",
              "      <td>-0.26422</td>\n",
              "      <td>-0.156706</td>\n",
              "      <td>-0.542658</td>\n",
              "      <td>-0.092919</td>\n",
              "      <td>0.351210</td>\n",
              "      <td>0.839785</td>\n",
              "    </tr>\n",
              "    <tr>\n",
              "      <th>2</th>\n",
              "      <td>Apple</td>\n",
              "      <td>-0.471285</td>\n",
              "      <td>-0.496607</td>\n",
              "      <td>A17 Bionic</td>\n",
              "      <td>-1.035207</td>\n",
              "      <td>-0.598180</td>\n",
              "      <td>0.962994</td>\n",
              "      <td>0.091958</td>\n",
              "      <td>-0.54698</td>\n",
              "      <td>-0.26422</td>\n",
              "      <td>-0.156706</td>\n",
              "      <td>-0.542658</td>\n",
              "      <td>-0.092919</td>\n",
              "      <td>2.217700</td>\n",
              "      <td>0.979946</td>\n",
              "    </tr>\n",
              "    <tr>\n",
              "      <th>3</th>\n",
              "      <td>Apple</td>\n",
              "      <td>-0.175961</td>\n",
              "      <td>-0.496607</td>\n",
              "      <td>A17 Bionic</td>\n",
              "      <td>-0.575559</td>\n",
              "      <td>-0.170413</td>\n",
              "      <td>0.962994</td>\n",
              "      <td>0.091958</td>\n",
              "      <td>-0.54698</td>\n",
              "      <td>-0.26422</td>\n",
              "      <td>-0.156706</td>\n",
              "      <td>-0.542658</td>\n",
              "      <td>-0.092919</td>\n",
              "      <td>-0.582036</td>\n",
              "      <td>0.979946</td>\n",
              "    </tr>\n",
              "    <tr>\n",
              "      <th>4</th>\n",
              "      <td>Apple</td>\n",
              "      <td>-0.175961</td>\n",
              "      <td>-0.496607</td>\n",
              "      <td>A17 Bionic</td>\n",
              "      <td>-0.575559</td>\n",
              "      <td>-0.170413</td>\n",
              "      <td>0.962994</td>\n",
              "      <td>0.091958</td>\n",
              "      <td>-0.54698</td>\n",
              "      <td>-0.26422</td>\n",
              "      <td>-0.156706</td>\n",
              "      <td>-0.542658</td>\n",
              "      <td>-0.092919</td>\n",
              "      <td>0.351210</td>\n",
              "      <td>1.120107</td>\n",
              "    </tr>\n",
              "  </tbody>\n",
              "</table>\n",
              "</div>\n",
              "    <div class=\"colab-df-buttons\">\n",
              "\n",
              "  <div class=\"colab-df-container\">\n",
              "    <button class=\"colab-df-convert\" onclick=\"convertToInteractive('df-c3fcd995-303c-44d4-8f17-cce798c9fdee')\"\n",
              "            title=\"Convert this dataframe to an interactive table.\"\n",
              "            style=\"display:none;\">\n",
              "\n",
              "  <svg xmlns=\"http://www.w3.org/2000/svg\" height=\"24px\" viewBox=\"0 -960 960 960\">\n",
              "    <path d=\"M120-120v-720h720v720H120Zm60-500h600v-160H180v160Zm220 220h160v-160H400v160Zm0 220h160v-160H400v160ZM180-400h160v-160H180v160Zm440 0h160v-160H620v160ZM180-180h160v-160H180v160Zm440 0h160v-160H620v160Z\"/>\n",
              "  </svg>\n",
              "    </button>\n",
              "\n",
              "  <style>\n",
              "    .colab-df-container {\n",
              "      display:flex;\n",
              "      gap: 12px;\n",
              "    }\n",
              "\n",
              "    .colab-df-convert {\n",
              "      background-color: #E8F0FE;\n",
              "      border: none;\n",
              "      border-radius: 50%;\n",
              "      cursor: pointer;\n",
              "      display: none;\n",
              "      fill: #1967D2;\n",
              "      height: 32px;\n",
              "      padding: 0 0 0 0;\n",
              "      width: 32px;\n",
              "    }\n",
              "\n",
              "    .colab-df-convert:hover {\n",
              "      background-color: #E2EBFA;\n",
              "      box-shadow: 0px 1px 2px rgba(60, 64, 67, 0.3), 0px 1px 3px 1px rgba(60, 64, 67, 0.15);\n",
              "      fill: #174EA6;\n",
              "    }\n",
              "\n",
              "    .colab-df-buttons div {\n",
              "      margin-bottom: 4px;\n",
              "    }\n",
              "\n",
              "    [theme=dark] .colab-df-convert {\n",
              "      background-color: #3B4455;\n",
              "      fill: #D2E3FC;\n",
              "    }\n",
              "\n",
              "    [theme=dark] .colab-df-convert:hover {\n",
              "      background-color: #434B5C;\n",
              "      box-shadow: 0px 1px 3px 1px rgba(0, 0, 0, 0.15);\n",
              "      filter: drop-shadow(0px 1px 2px rgba(0, 0, 0, 0.3));\n",
              "      fill: #FFFFFF;\n",
              "    }\n",
              "  </style>\n",
              "\n",
              "    <script>\n",
              "      const buttonEl =\n",
              "        document.querySelector('#df-c3fcd995-303c-44d4-8f17-cce798c9fdee button.colab-df-convert');\n",
              "      buttonEl.style.display =\n",
              "        google.colab.kernel.accessAllowed ? 'block' : 'none';\n",
              "\n",
              "      async function convertToInteractive(key) {\n",
              "        const element = document.querySelector('#df-c3fcd995-303c-44d4-8f17-cce798c9fdee');\n",
              "        const dataTable =\n",
              "          await google.colab.kernel.invokeFunction('convertToInteractive',\n",
              "                                                    [key], {});\n",
              "        if (!dataTable) return;\n",
              "\n",
              "        const docLinkHtml = 'Like what you see? Visit the ' +\n",
              "          '<a target=\"_blank\" href=https://colab.research.google.com/notebooks/data_table.ipynb>data table notebook</a>'\n",
              "          + ' to learn more about interactive tables.';\n",
              "        element.innerHTML = '';\n",
              "        dataTable['output_type'] = 'display_data';\n",
              "        await google.colab.output.renderOutput(dataTable, element);\n",
              "        const docLink = document.createElement('div');\n",
              "        docLink.innerHTML = docLinkHtml;\n",
              "        element.appendChild(docLink);\n",
              "      }\n",
              "    </script>\n",
              "  </div>\n",
              "\n",
              "\n",
              "    <div id=\"df-4fde3577-05cb-4450-8269-5910d64181c9\">\n",
              "      <button class=\"colab-df-quickchart\" onclick=\"quickchart('df-4fde3577-05cb-4450-8269-5910d64181c9')\"\n",
              "                title=\"Suggest charts\"\n",
              "                style=\"display:none;\">\n",
              "\n",
              "<svg xmlns=\"http://www.w3.org/2000/svg\" height=\"24px\"viewBox=\"0 0 24 24\"\n",
              "     width=\"24px\">\n",
              "    <g>\n",
              "        <path d=\"M19 3H5c-1.1 0-2 .9-2 2v14c0 1.1.9 2 2 2h14c1.1 0 2-.9 2-2V5c0-1.1-.9-2-2-2zM9 17H7v-7h2v7zm4 0h-2V7h2v10zm4 0h-2v-4h2v4z\"/>\n",
              "    </g>\n",
              "</svg>\n",
              "      </button>\n",
              "\n",
              "<style>\n",
              "  .colab-df-quickchart {\n",
              "      --bg-color: #E8F0FE;\n",
              "      --fill-color: #1967D2;\n",
              "      --hover-bg-color: #E2EBFA;\n",
              "      --hover-fill-color: #174EA6;\n",
              "      --disabled-fill-color: #AAA;\n",
              "      --disabled-bg-color: #DDD;\n",
              "  }\n",
              "\n",
              "  [theme=dark] .colab-df-quickchart {\n",
              "      --bg-color: #3B4455;\n",
              "      --fill-color: #D2E3FC;\n",
              "      --hover-bg-color: #434B5C;\n",
              "      --hover-fill-color: #FFFFFF;\n",
              "      --disabled-bg-color: #3B4455;\n",
              "      --disabled-fill-color: #666;\n",
              "  }\n",
              "\n",
              "  .colab-df-quickchart {\n",
              "    background-color: var(--bg-color);\n",
              "    border: none;\n",
              "    border-radius: 50%;\n",
              "    cursor: pointer;\n",
              "    display: none;\n",
              "    fill: var(--fill-color);\n",
              "    height: 32px;\n",
              "    padding: 0;\n",
              "    width: 32px;\n",
              "  }\n",
              "\n",
              "  .colab-df-quickchart:hover {\n",
              "    background-color: var(--hover-bg-color);\n",
              "    box-shadow: 0 1px 2px rgba(60, 64, 67, 0.3), 0 1px 3px 1px rgba(60, 64, 67, 0.15);\n",
              "    fill: var(--button-hover-fill-color);\n",
              "  }\n",
              "\n",
              "  .colab-df-quickchart-complete:disabled,\n",
              "  .colab-df-quickchart-complete:disabled:hover {\n",
              "    background-color: var(--disabled-bg-color);\n",
              "    fill: var(--disabled-fill-color);\n",
              "    box-shadow: none;\n",
              "  }\n",
              "\n",
              "  .colab-df-spinner {\n",
              "    border: 2px solid var(--fill-color);\n",
              "    border-color: transparent;\n",
              "    border-bottom-color: var(--fill-color);\n",
              "    animation:\n",
              "      spin 1s steps(1) infinite;\n",
              "  }\n",
              "\n",
              "  @keyframes spin {\n",
              "    0% {\n",
              "      border-color: transparent;\n",
              "      border-bottom-color: var(--fill-color);\n",
              "      border-left-color: var(--fill-color);\n",
              "    }\n",
              "    20% {\n",
              "      border-color: transparent;\n",
              "      border-left-color: var(--fill-color);\n",
              "      border-top-color: var(--fill-color);\n",
              "    }\n",
              "    30% {\n",
              "      border-color: transparent;\n",
              "      border-left-color: var(--fill-color);\n",
              "      border-top-color: var(--fill-color);\n",
              "      border-right-color: var(--fill-color);\n",
              "    }\n",
              "    40% {\n",
              "      border-color: transparent;\n",
              "      border-right-color: var(--fill-color);\n",
              "      border-top-color: var(--fill-color);\n",
              "    }\n",
              "    60% {\n",
              "      border-color: transparent;\n",
              "      border-right-color: var(--fill-color);\n",
              "    }\n",
              "    80% {\n",
              "      border-color: transparent;\n",
              "      border-right-color: var(--fill-color);\n",
              "      border-bottom-color: var(--fill-color);\n",
              "    }\n",
              "    90% {\n",
              "      border-color: transparent;\n",
              "      border-bottom-color: var(--fill-color);\n",
              "    }\n",
              "  }\n",
              "</style>\n",
              "\n",
              "      <script>\n",
              "        async function quickchart(key) {\n",
              "          const quickchartButtonEl =\n",
              "            document.querySelector('#' + key + ' button');\n",
              "          quickchartButtonEl.disabled = true;  // To prevent multiple clicks.\n",
              "          quickchartButtonEl.classList.add('colab-df-spinner');\n",
              "          try {\n",
              "            const charts = await google.colab.kernel.invokeFunction(\n",
              "                'suggestCharts', [key], {});\n",
              "          } catch (error) {\n",
              "            console.error('Error during call to suggestCharts:', error);\n",
              "          }\n",
              "          quickchartButtonEl.classList.remove('colab-df-spinner');\n",
              "          quickchartButtonEl.classList.add('colab-df-quickchart-complete');\n",
              "        }\n",
              "        (() => {\n",
              "          let quickchartButtonEl =\n",
              "            document.querySelector('#df-4fde3577-05cb-4450-8269-5910d64181c9 button');\n",
              "          quickchartButtonEl.style.display =\n",
              "            google.colab.kernel.accessAllowed ? 'block' : 'none';\n",
              "        })();\n",
              "      </script>\n",
              "    </div>\n",
              "\n",
              "    </div>\n",
              "  </div>\n"
            ],
            "application/vnd.google.colaboratory.intrinsic+json": {
              "type": "dataframe",
              "variable_name": "cleaned",
              "summary": "{\n  \"name\": \"cleaned\",\n  \"rows\": 751,\n  \"fields\": [\n    {\n      \"column\": \"Company Name\",\n      \"properties\": {\n        \"dtype\": \"category\",\n        \"num_unique_values\": 18,\n        \"samples\": [\n          \"Apple\",\n          \"Samsung\",\n          \"Lenovo\"\n        ],\n        \"semantic_type\": \"\",\n        \"description\": \"\"\n      }\n    },\n    {\n      \"column\": \"Mobile Weight\",\n      \"properties\": {\n        \"dtype\": \"number\",\n        \"std\": 1.0006664445924696,\n        \"min\": -0.8684447828075837,\n        \"max\": 5.211159570382262,\n        \"num_unique_values\": 124,\n        \"samples\": [\n          2.4208553948813947,\n          0.08881285404307869,\n          -0.2981636374497423\n        ],\n        \"semantic_type\": \"\",\n        \"description\": \"\"\n      }\n    },\n    {\n      \"column\": \"RAM\",\n      \"properties\": {\n        \"dtype\": \"number\",\n        \"std\": 1.000666444592468,\n        \"min\": -2.063633480061335,\n        \"max\": 2.6374446095020505,\n        \"num_unique_values\": 10,\n        \"samples\": [\n          0.7570133736766962,\n          0.13020296173491144,\n          -1.7502282740904427\n        ],\n        \"semantic_type\": \"\",\n        \"description\": \"\"\n      }\n    },\n    {\n      \"column\": \"Processor\",\n      \"properties\": {\n        \"dtype\": \"category\",\n        \"num_unique_values\": 185,\n        \"samples\": [\n          \"Exynos 990\",\n          \"MediaTek Dimensity 1200-AI\",\n          \"Snapdragon 480+\"\n        ],\n        \"semantic_type\": \"\",\n        \"description\": \"\"\n      }\n    },\n    {\n      \"column\": \"Battery Capacity\",\n      \"properties\": {\n        \"dtype\": \"number\",\n        \"std\": 1.0006664445924711,\n        \"min\": -2.2609334877740133,\n        \"max\": 4.786995683789361,\n        \"num_unique_values\": 104,\n        \"samples\": [\n          -0.1925194917717185,\n          0.650167691784772,\n          -0.1120811697049626\n        ],\n        \"semantic_type\": \"\",\n        \"description\": \"\"\n      }\n    },\n    {\n      \"column\": \"Screen Size\",\n      \"properties\": {\n        \"dtype\": \"number\",\n        \"std\": 1.0006664445924702,\n        \"min\": -1.3824179256475253,\n        \"max\": 5.461842364247744,\n        \"num_unique_values\": 75,\n        \"samples\": [\n          -0.3130022553513895,\n          -0.14902518590598168,\n          4.321132315931866\n        ],\n        \"semantic_type\": \"\",\n        \"description\": \"\"\n      }\n    },\n    {\n      \"column\": \"Launched Year\",\n      \"properties\": {\n        \"dtype\": \"number\",\n        \"std\": 1.0006664445924696,\n        \"min\": -4.148019131363247,\n        \"max\": 1.4740950678478082,\n        \"num_unique_values\": 11,\n        \"samples\": [\n          -1.5925126771764038,\n          0.9629937770104396,\n          -4.148019131363247\n        ],\n        \"semantic_type\": \"\",\n        \"description\": \"\"\n      }\n    },\n    {\n      \"column\": \"Back Camera 1\",\n      \"properties\": {\n        \"dtype\": \"number\",\n        \"std\": 1.0006664445924711,\n        \"min\": -1.3419338197778283,\n        \"max\": 5.1605973905115,\n        \"num_unique_values\": 11,\n        \"samples\": [\n          2.0927365118108936,\n          0.09195767787571582,\n          0.6254987002584299\n        ],\n        \"semantic_type\": \"\",\n        \"description\": \"\"\n      }\n    },\n    {\n      \"column\": \"Back Camera 2\",\n      \"properties\": {\n        \"dtype\": \"number\",\n        \"std\": 1.0006664445924633,\n        \"min\": -0.5469797265707371,\n        \"max\": 4.724733443249979,\n        \"num_unique_values\": 14,\n        \"samples\": [\n          3.571546187351697,\n          4.724733443249979,\n          -0.5469797265707371\n        ],\n        \"semantic_type\": \"\",\n        \"description\": \"\"\n      }\n    },\n    {\n      \"column\": \"Back Camera 3\",\n      \"properties\": {\n        \"dtype\": \"number\",\n        \"std\": 1.0006664445924756,\n        \"min\": -0.26421960783724135,\n        \"max\": 6.215092244759273,\n        \"num_unique_values\": 10,\n        \"samples\": [\n          2.975436318461016,\n          0.9506513645246052,\n          0.545694373737323\n        ],\n        \"semantic_type\": \"\",\n        \"description\": \"\"\n      }\n    },\n    {\n      \"column\": \"Back Camera 4\",\n      \"properties\": {\n        \"dtype\": \"number\",\n        \"std\": 1.000666444592477,\n        \"min\": -0.15670550929667104,\n        \"max\": 6.381396573025548,\n        \"num_unique_values\": 2,\n        \"samples\": [\n          6.381396573025548,\n          -0.15670550929667104\n        ],\n        \"semantic_type\": \"\",\n        \"description\": \"\"\n      }\n    },\n    {\n      \"column\": \"Front Camera 1\",\n      \"properties\": {\n        \"dtype\": \"number\",\n        \"std\": 1.0006664445924665,\n        \"min\": -1.4221053300447843,\n        \"max\": 3.678690451089168,\n        \"num_unique_values\": 17,\n        \"samples\": [\n          -0.5426577815734133,\n          -0.9823815558090988\n        ],\n        \"semantic_type\": \"\",\n        \"description\": \"\"\n      }\n    },\n    {\n      \"column\": \"Front Camera 2\",\n      \"properties\": {\n        \"dtype\": \"number\",\n        \"std\": 1.0006664445924804,\n        \"min\": -0.0929188986111531,\n        \"max\": 13.863499672784043,\n        \"num_unique_values\": 4,\n        \"samples\": [\n          13.863499672784043,\n          4.559220625187245\n        ],\n        \"semantic_type\": \"\",\n        \"description\": \"\"\n      }\n    },\n    {\n      \"column\": \"Storage\",\n      \"properties\": {\n        \"dtype\": \"number\",\n        \"std\": 1.0006664445924738,\n        \"min\": -1.3986253477798634,\n        \"max\": 5.950681746790181,\n        \"num_unique_values\": 7,\n        \"samples\": [\n          -0.5820356706054141,\n          0.3512096747368139\n        ],\n        \"semantic_type\": \"\",\n        \"description\": \"\"\n      }\n    },\n    {\n      \"column\": \"price\",\n      \"properties\": {\n        \"dtype\": \"number\",\n        \"std\": 1.0006664445924687,\n        \"min\": -1.3186967166405668,\n        \"max\": 3.2785887401134115,\n        \"num_unique_values\": 88,\n        \"samples\": [\n          -0.1974075808469136,\n          0.699623727788009\n        ],\n        \"semantic_type\": \"\",\n        \"description\": \"\"\n      }\n    }\n  ]\n}"
            }
          },
          "metadata": {},
          "execution_count": 69
        }
      ]
    },
    {
      "cell_type": "markdown",
      "source": [
        "###Encoding Strings"
      ],
      "metadata": {
        "id": "BrVhfGrZY7ZT"
      }
    },
    {
      "cell_type": "code",
      "source": [
        "string_cols = []\n",
        "for col in cleaned.columns:\n",
        "  if cleaned.dtypes[col] == 'object':\n",
        "    string_cols.append(col)\n",
        "    print(col)"
      ],
      "metadata": {
        "id": "SkEKIDV3mYSx",
        "colab": {
          "base_uri": "https://localhost:8080/"
        },
        "outputId": "811954e8-495b-4316-a548-8e2d285a857e"
      },
      "execution_count": null,
      "outputs": [
        {
          "output_type": "stream",
          "name": "stdout",
          "text": [
            "Company Name\n",
            "Processor\n"
          ]
        }
      ]
    },
    {
      "cell_type": "code",
      "source": [
        "for col in string_cols:\n",
        "    encoder = TargetEncoder(target_type=\"continuous\", random_state=42, smooth = 5)\n",
        "    X = cleaned[col].values.reshape(-1, 1)\n",
        "    encoder.fit(X, cleaned['price'])\n",
        "    cleaned[col] = encoder.transform(X)"
      ],
      "metadata": {
        "id": "2wHbx0TCZ1Fs"
      },
      "execution_count": null,
      "outputs": []
    },
    {
      "cell_type": "code",
      "source": [
        "cleaned.columns"
      ],
      "metadata": {
        "id": "8cB7-mmOaX7E",
        "colab": {
          "base_uri": "https://localhost:8080/"
        },
        "outputId": "8c7b0f37-0922-4d62-fb47-99919deb4443"
      },
      "execution_count": null,
      "outputs": [
        {
          "output_type": "execute_result",
          "data": {
            "text/plain": [
              "Index(['Company Name', 'Mobile Weight', 'RAM', 'Processor', 'Battery Capacity',\n",
              "       'Screen Size', 'Launched Year', 'Back Camera 1', 'Back Camera 2',\n",
              "       'Back Camera 3', 'Back Camera 4', 'Front Camera 1', 'Front Camera 2',\n",
              "       'Storage', 'price'],\n",
              "      dtype='object')"
            ]
          },
          "metadata": {},
          "execution_count": 72
        }
      ]
    },
    {
      "cell_type": "markdown",
      "source": [
        "##Building Model"
      ],
      "metadata": {
        "id": "VxQ-4AWHaaw7"
      }
    },
    {
      "cell_type": "markdown",
      "source": [
        "###Loading X and y"
      ],
      "metadata": {
        "id": "1Q2vHprMpOGh"
      }
    },
    {
      "cell_type": "code",
      "source": [
        "X = cleaned.drop('price', axis=1)\n",
        "y = cleaned['price']"
      ],
      "metadata": {
        "id": "O42vOE7GpQ7Y"
      },
      "execution_count": null,
      "outputs": []
    },
    {
      "cell_type": "code",
      "source": [
        "print(X.shape)\n",
        "print(y.shape)"
      ],
      "metadata": {
        "id": "cC3Z6NeRpTlw",
        "colab": {
          "base_uri": "https://localhost:8080/"
        },
        "outputId": "2ab6f41b-2354-40d1-b9a3-0c59cd1d577a"
      },
      "execution_count": null,
      "outputs": [
        {
          "output_type": "stream",
          "name": "stdout",
          "text": [
            "(751, 14)\n",
            "(751,)\n"
          ]
        }
      ]
    },
    {
      "cell_type": "markdown",
      "source": [
        "###Feature Selection"
      ],
      "metadata": {
        "id": "Jm3T7pBHpXjJ"
      }
    },
    {
      "cell_type": "code",
      "source": [
        "sfm = SelectFromModel(RandomForestRegressor())\n",
        "sfm.fit(X, y)\n",
        "\n",
        "X_new = sfm.transform(X)"
      ],
      "metadata": {
        "id": "tqAPk4ajrMgd"
      },
      "execution_count": null,
      "outputs": []
    },
    {
      "cell_type": "markdown",
      "metadata": {
        "id": "On_JWHk5FOm3"
      },
      "source": [
        "Looking at features ranked and the ones selected."
      ]
    },
    {
      "cell_type": "code",
      "execution_count": null,
      "metadata": {
        "id": "U7Qt_EnAFNVZ",
        "colab": {
          "base_uri": "https://localhost:8080/"
        },
        "outputId": "6229670e-7623-4b51-ee70-49f24c349c25"
      },
      "outputs": [
        {
          "output_type": "stream",
          "name": "stdout",
          "text": [
            "(             Feature  Importance\n",
            "3          Processor    0.776533\n",
            "1      Mobile Weight    0.036753\n",
            "0       Company Name    0.034481\n",
            "13           Storage    0.030809\n",
            "2                RAM    0.025092\n",
            "11    Front Camera 1    0.021753\n",
            "7      Back Camera 1    0.020077\n",
            "5        Screen Size    0.018446\n",
            "4   Battery Capacity    0.014889\n",
            "8      Back Camera 2    0.013729\n",
            "6      Launched Year    0.004186\n",
            "9      Back Camera 3    0.002016\n",
            "12    Front Camera 2    0.001102\n",
            "10     Back Camera 4    0.000135,)\n",
            "Unselected Features: Company Name\n",
            "Unselected Features: Mobile Weight\n",
            "Unselected Features: RAM\n",
            "Unselected Features: Battery Capacity\n",
            "Unselected Features: Screen Size\n",
            "Unselected Features: Launched Year\n",
            "Unselected Features: Back Camera 1\n",
            "Unselected Features: Back Camera 2\n",
            "Unselected Features: Back Camera 3\n",
            "Unselected Features: Back Camera 4\n",
            "Unselected Features: Front Camera 1\n",
            "Unselected Features: Front Camera 2\n",
            "Unselected Features: Storage\n"
          ]
        }
      ],
      "source": [
        "importances = sfm.estimator_.feature_importances_\n",
        "feature_scores = pd.DataFrame({\n",
        "    'Feature': X.columns,\n",
        "      'Importance': importances\n",
        "}).sort_values(by='Importance', ascending = False),\n",
        "\n",
        "print(feature_scores)\n",
        "\n",
        "# Get the indices of the selected features\n",
        "selected_feature_indices = sfm.get_support(indices=True)\n",
        "\n",
        "# Get the names of the selected features\n",
        "selected_feature_names = X.columns[selected_feature_indices]\n",
        "\n",
        "for col in X.columns:\n",
        "  if col not in selected_feature_names:\n",
        "    print(\"Unselected Features:\", col)"
      ]
    },
    {
      "cell_type": "code",
      "source": [
        "if use_feature_selection:\n",
        "  X = X_new"
      ],
      "metadata": {
        "id": "PfoD6CmWri6D"
      },
      "execution_count": null,
      "outputs": []
    },
    {
      "cell_type": "markdown",
      "source": [
        "###Splitting up training and testing data"
      ],
      "metadata": {
        "id": "IpylFmO0p2iQ"
      }
    },
    {
      "cell_type": "code",
      "source": [
        "X_train, X_test, y_train, y_test = train_test_split(X, y, test_size=0.2, random_state=42, shuffle=True)"
      ],
      "metadata": {
        "id": "wilFaDjDp6GY"
      },
      "execution_count": null,
      "outputs": []
    },
    {
      "cell_type": "code",
      "source": [
        "print(X_train.shape)\n",
        "print(X_test.shape)\n",
        "print(y_train.shape)\n",
        "print(y_test.shape)"
      ],
      "metadata": {
        "id": "IRZ3EW6pqBUo",
        "colab": {
          "base_uri": "https://localhost:8080/"
        },
        "outputId": "ec3815fb-aef0-4ddb-ed3e-6d453cb6ab1f"
      },
      "execution_count": null,
      "outputs": [
        {
          "output_type": "stream",
          "name": "stdout",
          "text": [
            "(600, 14)\n",
            "(151, 14)\n",
            "(600,)\n",
            "(151,)\n"
          ]
        }
      ]
    },
    {
      "cell_type": "markdown",
      "source": [
        "###Finding best parameters"
      ],
      "metadata": {
        "id": "-EcABmu6w79-"
      }
    },
    {
      "cell_type": "code",
      "source": [
        "if use_grid_search:\n",
        "  param_grid = {\n",
        "      'max_depth': [50, 100, 150, 200],\n",
        "      'max_features': ['sqrt', 'log2'],\n",
        "      'min_samples_split': [2, 5, 10],\n",
        "      'min_samples_leaf': [1, 2, 4],\n",
        "      'bootstrap': [False],\n",
        "      'max_leaf_nodes': [50, 100, 150, 200],\n",
        "      'n_estimators': [100, 150, 200, 250],\n",
        "      'random_state': [42]\n",
        "  }"
      ],
      "metadata": {
        "id": "ZqnI2k1qxA-K"
      },
      "execution_count": null,
      "outputs": []
    },
    {
      "cell_type": "code",
      "source": [
        "if use_grid_search:\n",
        "  grid_search = GridSearchCV(estimator = RandomForestRegressor(), param_grid = param_grid, scoring='neg_mean_absolute_error', n_jobs=3, cv = 3, error_score='raise')\n"
      ],
      "metadata": {
        "id": "S4Nz11fzxnAq"
      },
      "execution_count": null,
      "outputs": []
    },
    {
      "cell_type": "code",
      "source": [
        "if use_grid_search:\n",
        "  grid_search.fit(X_train, y_train)"
      ],
      "metadata": {
        "id": "4drazdwR0Btm"
      },
      "execution_count": null,
      "outputs": []
    },
    {
      "cell_type": "code",
      "source": [
        "if use_grid_search:\n",
        "  print(grid_search.best_params_)"
      ],
      "metadata": {
        "id": "_dhVkJaFz09c"
      },
      "execution_count": null,
      "outputs": []
    },
    {
      "cell_type": "markdown",
      "source": [
        "###Building Random Forest Model"
      ],
      "metadata": {
        "id": "groNkof_qDKa"
      }
    },
    {
      "cell_type": "code",
      "source": [
        "if use_grid_search:\n",
        "  model = RandomForestRegressor(**grid_search.best_params_)\n",
        "else:\n",
        "  # model = RandomForestRegressor(max_depth = 50, max_features =  'sqrt', min_samples_leaf = 1, min_samples_split = 2, bootstrap= False, max_leaf_nodes=200, n_estimators = 150, random_state = 42)\n",
        "  # model = RandomForestRegressor(max_depth = 100, max_features =  'sqrt', min_samples_leaf = 4, min_samples_split = 2, bootstrap= True, max_leaf_nodes=150, n_estimators = 250, random_state = 42)\n",
        "  # model = RandomForestRegressor(max_depth = 50, max_features =  'sqrt', min_samples_leaf = 1, min_samples_split = 2, bootstrap= False, max_leaf_nodes=200, n_estimators = 150, random_state = 42)\n",
        "  params = {'bootstrap': False, 'max_depth': 50, 'max_features': 'sqrt', 'max_leaf_nodes': 200, 'min_samples_leaf': 1, 'min_samples_split': 2, 'n_estimators': 150, 'random_state': 42}\n",
        "  model = RandomForestRegressor(**params)\n",
        "\n",
        "model.fit(X_train, y_train)"
      ],
      "metadata": {
        "id": "300VLU_cqMOq",
        "colab": {
          "base_uri": "https://localhost:8080/",
          "height": 98
        },
        "outputId": "4bf05f26-7c3f-4476-95f0-dd2bcde01203"
      },
      "execution_count": null,
      "outputs": [
        {
          "output_type": "execute_result",
          "data": {
            "text/plain": [
              "RandomForestRegressor(bootstrap=False, max_depth=50, max_features='sqrt',\n",
              "                      max_leaf_nodes=200, n_estimators=150, random_state=42)"
            ],
            "text/html": [
              "<style>#sk-container-id-1 {\n",
              "  /* Definition of color scheme common for light and dark mode */\n",
              "  --sklearn-color-text: #000;\n",
              "  --sklearn-color-text-muted: #666;\n",
              "  --sklearn-color-line: gray;\n",
              "  /* Definition of color scheme for unfitted estimators */\n",
              "  --sklearn-color-unfitted-level-0: #fff5e6;\n",
              "  --sklearn-color-unfitted-level-1: #f6e4d2;\n",
              "  --sklearn-color-unfitted-level-2: #ffe0b3;\n",
              "  --sklearn-color-unfitted-level-3: chocolate;\n",
              "  /* Definition of color scheme for fitted estimators */\n",
              "  --sklearn-color-fitted-level-0: #f0f8ff;\n",
              "  --sklearn-color-fitted-level-1: #d4ebff;\n",
              "  --sklearn-color-fitted-level-2: #b3dbfd;\n",
              "  --sklearn-color-fitted-level-3: cornflowerblue;\n",
              "\n",
              "  /* Specific color for light theme */\n",
              "  --sklearn-color-text-on-default-background: var(--sg-text-color, var(--theme-code-foreground, var(--jp-content-font-color1, black)));\n",
              "  --sklearn-color-background: var(--sg-background-color, var(--theme-background, var(--jp-layout-color0, white)));\n",
              "  --sklearn-color-border-box: var(--sg-text-color, var(--theme-code-foreground, var(--jp-content-font-color1, black)));\n",
              "  --sklearn-color-icon: #696969;\n",
              "\n",
              "  @media (prefers-color-scheme: dark) {\n",
              "    /* Redefinition of color scheme for dark theme */\n",
              "    --sklearn-color-text-on-default-background: var(--sg-text-color, var(--theme-code-foreground, var(--jp-content-font-color1, white)));\n",
              "    --sklearn-color-background: var(--sg-background-color, var(--theme-background, var(--jp-layout-color0, #111)));\n",
              "    --sklearn-color-border-box: var(--sg-text-color, var(--theme-code-foreground, var(--jp-content-font-color1, white)));\n",
              "    --sklearn-color-icon: #878787;\n",
              "  }\n",
              "}\n",
              "\n",
              "#sk-container-id-1 {\n",
              "  color: var(--sklearn-color-text);\n",
              "}\n",
              "\n",
              "#sk-container-id-1 pre {\n",
              "  padding: 0;\n",
              "}\n",
              "\n",
              "#sk-container-id-1 input.sk-hidden--visually {\n",
              "  border: 0;\n",
              "  clip: rect(1px 1px 1px 1px);\n",
              "  clip: rect(1px, 1px, 1px, 1px);\n",
              "  height: 1px;\n",
              "  margin: -1px;\n",
              "  overflow: hidden;\n",
              "  padding: 0;\n",
              "  position: absolute;\n",
              "  width: 1px;\n",
              "}\n",
              "\n",
              "#sk-container-id-1 div.sk-dashed-wrapped {\n",
              "  border: 1px dashed var(--sklearn-color-line);\n",
              "  margin: 0 0.4em 0.5em 0.4em;\n",
              "  box-sizing: border-box;\n",
              "  padding-bottom: 0.4em;\n",
              "  background-color: var(--sklearn-color-background);\n",
              "}\n",
              "\n",
              "#sk-container-id-1 div.sk-container {\n",
              "  /* jupyter's `normalize.less` sets `[hidden] { display: none; }`\n",
              "     but bootstrap.min.css set `[hidden] { display: none !important; }`\n",
              "     so we also need the `!important` here to be able to override the\n",
              "     default hidden behavior on the sphinx rendered scikit-learn.org.\n",
              "     See: https://github.com/scikit-learn/scikit-learn/issues/21755 */\n",
              "  display: inline-block !important;\n",
              "  position: relative;\n",
              "}\n",
              "\n",
              "#sk-container-id-1 div.sk-text-repr-fallback {\n",
              "  display: none;\n",
              "}\n",
              "\n",
              "div.sk-parallel-item,\n",
              "div.sk-serial,\n",
              "div.sk-item {\n",
              "  /* draw centered vertical line to link estimators */\n",
              "  background-image: linear-gradient(var(--sklearn-color-text-on-default-background), var(--sklearn-color-text-on-default-background));\n",
              "  background-size: 2px 100%;\n",
              "  background-repeat: no-repeat;\n",
              "  background-position: center center;\n",
              "}\n",
              "\n",
              "/* Parallel-specific style estimator block */\n",
              "\n",
              "#sk-container-id-1 div.sk-parallel-item::after {\n",
              "  content: \"\";\n",
              "  width: 100%;\n",
              "  border-bottom: 2px solid var(--sklearn-color-text-on-default-background);\n",
              "  flex-grow: 1;\n",
              "}\n",
              "\n",
              "#sk-container-id-1 div.sk-parallel {\n",
              "  display: flex;\n",
              "  align-items: stretch;\n",
              "  justify-content: center;\n",
              "  background-color: var(--sklearn-color-background);\n",
              "  position: relative;\n",
              "}\n",
              "\n",
              "#sk-container-id-1 div.sk-parallel-item {\n",
              "  display: flex;\n",
              "  flex-direction: column;\n",
              "}\n",
              "\n",
              "#sk-container-id-1 div.sk-parallel-item:first-child::after {\n",
              "  align-self: flex-end;\n",
              "  width: 50%;\n",
              "}\n",
              "\n",
              "#sk-container-id-1 div.sk-parallel-item:last-child::after {\n",
              "  align-self: flex-start;\n",
              "  width: 50%;\n",
              "}\n",
              "\n",
              "#sk-container-id-1 div.sk-parallel-item:only-child::after {\n",
              "  width: 0;\n",
              "}\n",
              "\n",
              "/* Serial-specific style estimator block */\n",
              "\n",
              "#sk-container-id-1 div.sk-serial {\n",
              "  display: flex;\n",
              "  flex-direction: column;\n",
              "  align-items: center;\n",
              "  background-color: var(--sklearn-color-background);\n",
              "  padding-right: 1em;\n",
              "  padding-left: 1em;\n",
              "}\n",
              "\n",
              "\n",
              "/* Toggleable style: style used for estimator/Pipeline/ColumnTransformer box that is\n",
              "clickable and can be expanded/collapsed.\n",
              "- Pipeline and ColumnTransformer use this feature and define the default style\n",
              "- Estimators will overwrite some part of the style using the `sk-estimator` class\n",
              "*/\n",
              "\n",
              "/* Pipeline and ColumnTransformer style (default) */\n",
              "\n",
              "#sk-container-id-1 div.sk-toggleable {\n",
              "  /* Default theme specific background. It is overwritten whether we have a\n",
              "  specific estimator or a Pipeline/ColumnTransformer */\n",
              "  background-color: var(--sklearn-color-background);\n",
              "}\n",
              "\n",
              "/* Toggleable label */\n",
              "#sk-container-id-1 label.sk-toggleable__label {\n",
              "  cursor: pointer;\n",
              "  display: flex;\n",
              "  width: 100%;\n",
              "  margin-bottom: 0;\n",
              "  padding: 0.5em;\n",
              "  box-sizing: border-box;\n",
              "  text-align: center;\n",
              "  align-items: start;\n",
              "  justify-content: space-between;\n",
              "  gap: 0.5em;\n",
              "}\n",
              "\n",
              "#sk-container-id-1 label.sk-toggleable__label .caption {\n",
              "  font-size: 0.6rem;\n",
              "  font-weight: lighter;\n",
              "  color: var(--sklearn-color-text-muted);\n",
              "}\n",
              "\n",
              "#sk-container-id-1 label.sk-toggleable__label-arrow:before {\n",
              "  /* Arrow on the left of the label */\n",
              "  content: \"▸\";\n",
              "  float: left;\n",
              "  margin-right: 0.25em;\n",
              "  color: var(--sklearn-color-icon);\n",
              "}\n",
              "\n",
              "#sk-container-id-1 label.sk-toggleable__label-arrow:hover:before {\n",
              "  color: var(--sklearn-color-text);\n",
              "}\n",
              "\n",
              "/* Toggleable content - dropdown */\n",
              "\n",
              "#sk-container-id-1 div.sk-toggleable__content {\n",
              "  max-height: 0;\n",
              "  max-width: 0;\n",
              "  overflow: hidden;\n",
              "  text-align: left;\n",
              "  /* unfitted */\n",
              "  background-color: var(--sklearn-color-unfitted-level-0);\n",
              "}\n",
              "\n",
              "#sk-container-id-1 div.sk-toggleable__content.fitted {\n",
              "  /* fitted */\n",
              "  background-color: var(--sklearn-color-fitted-level-0);\n",
              "}\n",
              "\n",
              "#sk-container-id-1 div.sk-toggleable__content pre {\n",
              "  margin: 0.2em;\n",
              "  border-radius: 0.25em;\n",
              "  color: var(--sklearn-color-text);\n",
              "  /* unfitted */\n",
              "  background-color: var(--sklearn-color-unfitted-level-0);\n",
              "}\n",
              "\n",
              "#sk-container-id-1 div.sk-toggleable__content.fitted pre {\n",
              "  /* unfitted */\n",
              "  background-color: var(--sklearn-color-fitted-level-0);\n",
              "}\n",
              "\n",
              "#sk-container-id-1 input.sk-toggleable__control:checked~div.sk-toggleable__content {\n",
              "  /* Expand drop-down */\n",
              "  max-height: 200px;\n",
              "  max-width: 100%;\n",
              "  overflow: auto;\n",
              "}\n",
              "\n",
              "#sk-container-id-1 input.sk-toggleable__control:checked~label.sk-toggleable__label-arrow:before {\n",
              "  content: \"▾\";\n",
              "}\n",
              "\n",
              "/* Pipeline/ColumnTransformer-specific style */\n",
              "\n",
              "#sk-container-id-1 div.sk-label input.sk-toggleable__control:checked~label.sk-toggleable__label {\n",
              "  color: var(--sklearn-color-text);\n",
              "  background-color: var(--sklearn-color-unfitted-level-2);\n",
              "}\n",
              "\n",
              "#sk-container-id-1 div.sk-label.fitted input.sk-toggleable__control:checked~label.sk-toggleable__label {\n",
              "  background-color: var(--sklearn-color-fitted-level-2);\n",
              "}\n",
              "\n",
              "/* Estimator-specific style */\n",
              "\n",
              "/* Colorize estimator box */\n",
              "#sk-container-id-1 div.sk-estimator input.sk-toggleable__control:checked~label.sk-toggleable__label {\n",
              "  /* unfitted */\n",
              "  background-color: var(--sklearn-color-unfitted-level-2);\n",
              "}\n",
              "\n",
              "#sk-container-id-1 div.sk-estimator.fitted input.sk-toggleable__control:checked~label.sk-toggleable__label {\n",
              "  /* fitted */\n",
              "  background-color: var(--sklearn-color-fitted-level-2);\n",
              "}\n",
              "\n",
              "#sk-container-id-1 div.sk-label label.sk-toggleable__label,\n",
              "#sk-container-id-1 div.sk-label label {\n",
              "  /* The background is the default theme color */\n",
              "  color: var(--sklearn-color-text-on-default-background);\n",
              "}\n",
              "\n",
              "/* On hover, darken the color of the background */\n",
              "#sk-container-id-1 div.sk-label:hover label.sk-toggleable__label {\n",
              "  color: var(--sklearn-color-text);\n",
              "  background-color: var(--sklearn-color-unfitted-level-2);\n",
              "}\n",
              "\n",
              "/* Label box, darken color on hover, fitted */\n",
              "#sk-container-id-1 div.sk-label.fitted:hover label.sk-toggleable__label.fitted {\n",
              "  color: var(--sklearn-color-text);\n",
              "  background-color: var(--sklearn-color-fitted-level-2);\n",
              "}\n",
              "\n",
              "/* Estimator label */\n",
              "\n",
              "#sk-container-id-1 div.sk-label label {\n",
              "  font-family: monospace;\n",
              "  font-weight: bold;\n",
              "  display: inline-block;\n",
              "  line-height: 1.2em;\n",
              "}\n",
              "\n",
              "#sk-container-id-1 div.sk-label-container {\n",
              "  text-align: center;\n",
              "}\n",
              "\n",
              "/* Estimator-specific */\n",
              "#sk-container-id-1 div.sk-estimator {\n",
              "  font-family: monospace;\n",
              "  border: 1px dotted var(--sklearn-color-border-box);\n",
              "  border-radius: 0.25em;\n",
              "  box-sizing: border-box;\n",
              "  margin-bottom: 0.5em;\n",
              "  /* unfitted */\n",
              "  background-color: var(--sklearn-color-unfitted-level-0);\n",
              "}\n",
              "\n",
              "#sk-container-id-1 div.sk-estimator.fitted {\n",
              "  /* fitted */\n",
              "  background-color: var(--sklearn-color-fitted-level-0);\n",
              "}\n",
              "\n",
              "/* on hover */\n",
              "#sk-container-id-1 div.sk-estimator:hover {\n",
              "  /* unfitted */\n",
              "  background-color: var(--sklearn-color-unfitted-level-2);\n",
              "}\n",
              "\n",
              "#sk-container-id-1 div.sk-estimator.fitted:hover {\n",
              "  /* fitted */\n",
              "  background-color: var(--sklearn-color-fitted-level-2);\n",
              "}\n",
              "\n",
              "/* Specification for estimator info (e.g. \"i\" and \"?\") */\n",
              "\n",
              "/* Common style for \"i\" and \"?\" */\n",
              "\n",
              ".sk-estimator-doc-link,\n",
              "a:link.sk-estimator-doc-link,\n",
              "a:visited.sk-estimator-doc-link {\n",
              "  float: right;\n",
              "  font-size: smaller;\n",
              "  line-height: 1em;\n",
              "  font-family: monospace;\n",
              "  background-color: var(--sklearn-color-background);\n",
              "  border-radius: 1em;\n",
              "  height: 1em;\n",
              "  width: 1em;\n",
              "  text-decoration: none !important;\n",
              "  margin-left: 0.5em;\n",
              "  text-align: center;\n",
              "  /* unfitted */\n",
              "  border: var(--sklearn-color-unfitted-level-1) 1pt solid;\n",
              "  color: var(--sklearn-color-unfitted-level-1);\n",
              "}\n",
              "\n",
              ".sk-estimator-doc-link.fitted,\n",
              "a:link.sk-estimator-doc-link.fitted,\n",
              "a:visited.sk-estimator-doc-link.fitted {\n",
              "  /* fitted */\n",
              "  border: var(--sklearn-color-fitted-level-1) 1pt solid;\n",
              "  color: var(--sklearn-color-fitted-level-1);\n",
              "}\n",
              "\n",
              "/* On hover */\n",
              "div.sk-estimator:hover .sk-estimator-doc-link:hover,\n",
              ".sk-estimator-doc-link:hover,\n",
              "div.sk-label-container:hover .sk-estimator-doc-link:hover,\n",
              ".sk-estimator-doc-link:hover {\n",
              "  /* unfitted */\n",
              "  background-color: var(--sklearn-color-unfitted-level-3);\n",
              "  color: var(--sklearn-color-background);\n",
              "  text-decoration: none;\n",
              "}\n",
              "\n",
              "div.sk-estimator.fitted:hover .sk-estimator-doc-link.fitted:hover,\n",
              ".sk-estimator-doc-link.fitted:hover,\n",
              "div.sk-label-container:hover .sk-estimator-doc-link.fitted:hover,\n",
              ".sk-estimator-doc-link.fitted:hover {\n",
              "  /* fitted */\n",
              "  background-color: var(--sklearn-color-fitted-level-3);\n",
              "  color: var(--sklearn-color-background);\n",
              "  text-decoration: none;\n",
              "}\n",
              "\n",
              "/* Span, style for the box shown on hovering the info icon */\n",
              ".sk-estimator-doc-link span {\n",
              "  display: none;\n",
              "  z-index: 9999;\n",
              "  position: relative;\n",
              "  font-weight: normal;\n",
              "  right: .2ex;\n",
              "  padding: .5ex;\n",
              "  margin: .5ex;\n",
              "  width: min-content;\n",
              "  min-width: 20ex;\n",
              "  max-width: 50ex;\n",
              "  color: var(--sklearn-color-text);\n",
              "  box-shadow: 2pt 2pt 4pt #999;\n",
              "  /* unfitted */\n",
              "  background: var(--sklearn-color-unfitted-level-0);\n",
              "  border: .5pt solid var(--sklearn-color-unfitted-level-3);\n",
              "}\n",
              "\n",
              ".sk-estimator-doc-link.fitted span {\n",
              "  /* fitted */\n",
              "  background: var(--sklearn-color-fitted-level-0);\n",
              "  border: var(--sklearn-color-fitted-level-3);\n",
              "}\n",
              "\n",
              ".sk-estimator-doc-link:hover span {\n",
              "  display: block;\n",
              "}\n",
              "\n",
              "/* \"?\"-specific style due to the `<a>` HTML tag */\n",
              "\n",
              "#sk-container-id-1 a.estimator_doc_link {\n",
              "  float: right;\n",
              "  font-size: 1rem;\n",
              "  line-height: 1em;\n",
              "  font-family: monospace;\n",
              "  background-color: var(--sklearn-color-background);\n",
              "  border-radius: 1rem;\n",
              "  height: 1rem;\n",
              "  width: 1rem;\n",
              "  text-decoration: none;\n",
              "  /* unfitted */\n",
              "  color: var(--sklearn-color-unfitted-level-1);\n",
              "  border: var(--sklearn-color-unfitted-level-1) 1pt solid;\n",
              "}\n",
              "\n",
              "#sk-container-id-1 a.estimator_doc_link.fitted {\n",
              "  /* fitted */\n",
              "  border: var(--sklearn-color-fitted-level-1) 1pt solid;\n",
              "  color: var(--sklearn-color-fitted-level-1);\n",
              "}\n",
              "\n",
              "/* On hover */\n",
              "#sk-container-id-1 a.estimator_doc_link:hover {\n",
              "  /* unfitted */\n",
              "  background-color: var(--sklearn-color-unfitted-level-3);\n",
              "  color: var(--sklearn-color-background);\n",
              "  text-decoration: none;\n",
              "}\n",
              "\n",
              "#sk-container-id-1 a.estimator_doc_link.fitted:hover {\n",
              "  /* fitted */\n",
              "  background-color: var(--sklearn-color-fitted-level-3);\n",
              "}\n",
              "</style><div id=\"sk-container-id-1\" class=\"sk-top-container\"><div class=\"sk-text-repr-fallback\"><pre>RandomForestRegressor(bootstrap=False, max_depth=50, max_features=&#x27;sqrt&#x27;,\n",
              "                      max_leaf_nodes=200, n_estimators=150, random_state=42)</pre><b>In a Jupyter environment, please rerun this cell to show the HTML representation or trust the notebook. <br />On GitHub, the HTML representation is unable to render, please try loading this page with nbviewer.org.</b></div><div class=\"sk-container\" hidden><div class=\"sk-item\"><div class=\"sk-estimator fitted sk-toggleable\"><input class=\"sk-toggleable__control sk-hidden--visually\" id=\"sk-estimator-id-1\" type=\"checkbox\" checked><label for=\"sk-estimator-id-1\" class=\"sk-toggleable__label fitted sk-toggleable__label-arrow\"><div><div>RandomForestRegressor</div></div><div><a class=\"sk-estimator-doc-link fitted\" rel=\"noreferrer\" target=\"_blank\" href=\"https://scikit-learn.org/1.6/modules/generated/sklearn.ensemble.RandomForestRegressor.html\">?<span>Documentation for RandomForestRegressor</span></a><span class=\"sk-estimator-doc-link fitted\">i<span>Fitted</span></span></div></label><div class=\"sk-toggleable__content fitted\"><pre>RandomForestRegressor(bootstrap=False, max_depth=50, max_features=&#x27;sqrt&#x27;,\n",
              "                      max_leaf_nodes=200, n_estimators=150, random_state=42)</pre></div> </div></div></div></div>"
            ]
          },
          "metadata": {},
          "execution_count": 84
        }
      ]
    },
    {
      "cell_type": "markdown",
      "source": [
        "##Testing Model"
      ],
      "metadata": {
        "id": "bMpj7DOXq6BP"
      }
    },
    {
      "cell_type": "code",
      "source": [
        "print(f'Train Accuracy: {model.score(X_train, y_train):.3f}')\n",
        "print(f'Test Accuracy:  {model.score(X_test, y_test):.3f}')"
      ],
      "metadata": {
        "id": "_sL88W59q_WI",
        "colab": {
          "base_uri": "https://localhost:8080/"
        },
        "outputId": "bf6e7443-d900-4e45-dfc2-e9d40223e56e"
      },
      "execution_count": null,
      "outputs": [
        {
          "output_type": "stream",
          "name": "stdout",
          "text": [
            "Train Accuracy: 0.996\n",
            "Test Accuracy:  0.955\n"
          ]
        }
      ]
    },
    {
      "cell_type": "code",
      "source": [
        "# Making predictions on the test set\n",
        "y_pred = model.predict(X_test)\n",
        "\n",
        "y_pred = price_scaler.inverse_transform(y_pred.reshape(-1,1))\n",
        "y_test = price_scaler.inverse_transform(y_test.values.reshape(-1,1))\n",
        "\n",
        "# Evaluating the model\n",
        "mae = mean_absolute_error(y_test, y_pred)\n",
        "\n",
        "print(f'Mean Absolute Error: {mae:.2f}')\n",
        "print(f'Mean Absolute Percentage Error: {mean_absolute_percentage_error(y_test, y_pred):.2f}')"
      ],
      "metadata": {
        "id": "4Fr-ZlTRrBLw",
        "colab": {
          "base_uri": "https://localhost:8080/"
        },
        "outputId": "17642a80-c2f0-4678-f81a-0b2da0cbfb40"
      },
      "execution_count": null,
      "outputs": [
        {
          "output_type": "stream",
          "name": "stdout",
          "text": [
            "Mean Absolute Error: 52.44\n",
            "Mean Absolute Percentage Error: 0.12\n"
          ]
        }
      ]
    },
    {
      "cell_type": "code",
      "source": [
        "plt.scatter(y_test, y_pred, alpha=0.5)\n",
        "plt.plot([min(y_test), max(y_test)], [min(y_test), max(y_test)], 'r--')\n",
        "plt.xlabel(\"True Prices\")\n",
        "plt.ylabel(\"Predicted Prices\")\n",
        "plt.title(\"Model Predictions vs True Values\")\n",
        "plt.show()"
      ],
      "metadata": {
        "colab": {
          "base_uri": "https://localhost:8080/",
          "height": 472
        },
        "id": "xvrJ518NmWs3",
        "outputId": "bf22c584-d9ac-4bd8-c553-ad0758349163"
      },
      "execution_count": null,
      "outputs": [
        {
          "output_type": "display_data",
          "data": {
            "text/plain": [
              "<Figure size 640x480 with 1 Axes>"
            ],
            "image/png": "[encoded data removed]"
          },
          "metadata": {}
        }
      ]
    }
  ]
}