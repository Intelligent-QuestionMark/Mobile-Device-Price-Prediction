{
 "cells": [
  {
   "cell_type": "markdown",
   "metadata": {
    "id": "BMIyna4JF63K"
   },
   "source": [
    "#Mobiles Dataset (2025) Random Forest"
   ]
  },
  {
   "cell_type": "markdown",
   "metadata": {
    "id": "vWcwGAYFtyrl"
   },
   "source": [
    "##Set up"
   ]
  },
  {
   "cell_type": "code",
   "execution_count": 770,
   "metadata": {
    "executionInfo": {
     "elapsed": 18,
     "status": "ok",
     "timestamp": 1747001863803,
     "user": {
      "displayName": "Zane Edwards",
      "userId": "04617914265969064911"
     },
     "user_tz": 240
    },
    "id": "olkBfoMSttdL"
   },
   "outputs": [],
   "source": [
    "use_grid_search = False\n",
    "use_feature_selection = False"
   ]
  },
  {
   "cell_type": "code",
   "execution_count": 771,
   "metadata": {
    "executionInfo": {
     "elapsed": 2,
     "status": "ok",
     "timestamp": 1747001863815,
     "user": {
      "displayName": "Zane Edwards",
      "userId": "04617914265969064911"
     },
     "user_tz": 240
    },
    "id": "5MRKa2_br7f1"
   },
   "outputs": [],
   "source": [
    "# choice = ''\n",
    "# while choice not in ['1', '2']:\n",
    "#   print('1. Use Grid Search')\n",
    "#   print('2. Use Default Parameters')\n",
    "#   choice = input('Enter your choice:')\n",
    "\n",
    "# if choice == '1':\n",
    "#   use_grid_search = True\n",
    "# else:\n",
    "#   use_grid_search = False\n",
    "\n",
    "\n",
    "# choice = ''\n",
    "# while choice not in ['1', '2']:\n",
    "#   print('1. Use Feature Selection')\n",
    "#   print('2. Do not use Feature Selection')\n",
    "#   choice = input('Enter your choice:')\n",
    "\n",
    "# if choice == '1':\n",
    "#   use_feature_selection = True\n",
    "# else:\n",
    "#   use_feature_selection = False"
   ]
  },
  {
   "cell_type": "markdown",
   "metadata": {
    "id": "I77pLlGiPXkb"
   },
   "source": [
    "##Libraries"
   ]
  },
  {
   "cell_type": "code",
   "execution_count": 772,
   "metadata": {
    "executionInfo": {
     "elapsed": 1,
     "status": "ok",
     "timestamp": 1747001863818,
     "user": {
      "displayName": "Zane Edwards",
      "userId": "04617914265969064911"
     },
     "user_tz": 240
    },
    "id": "plSZU5ghOvfw"
   },
   "outputs": [],
   "source": [
    "import pandas as pd\n",
    "from sklearn.model_selection import train_test_split\n",
    "from sklearn.preprocessing import StandardScaler, OneHotEncoder, TargetEncoder, LabelEncoder\n",
    "import numpy as np\n",
    "from sklearn.ensemble import RandomForestRegressor\n",
    "from sklearn.metrics import mean_absolute_error, mean_absolute_percentage_error\n",
    "from sklearn.feature_selection import SelectFromModel\n",
    "from sklearn.model_selection import GridSearchCV\n",
    "import matplotlib.pyplot as plt\n",
    "import seaborn as sns"
   ]
  },
  {
   "cell_type": "markdown",
   "metadata": {
    "id": "O4jQNI-OtDxN"
   },
   "source": [
    "##Importing Cleaned Dataset"
   ]
  },
  {
   "cell_type": "code",
   "execution_count": 773,
   "metadata": {
    "colab": {
     "base_uri": "https://localhost:8080/",
     "height": 223
    },
    "executionInfo": {
     "elapsed": 82,
     "status": "ok",
     "timestamp": 1747001863900,
     "user": {
      "displayName": "Zane Edwards",
      "userId": "04617914265969064911"
     },
     "user_tz": 240
    },
    "id": "hofvU9QJtH0k",
    "outputId": "09cf90a8-0c1d-4b9c-b01d-77a97f89c737"
   },
   "outputs": [
    {
     "data": {
      "application/vnd.google.colaboratory.intrinsic+json": {
       "summary": "{\n  \"name\": \"cleaned\",\n  \"rows\": 751,\n  \"fields\": [\n    {\n      \"column\": \"Company Name\",\n      \"properties\": {\n        \"dtype\": \"category\",\n        \"num_unique_values\": 18,\n        \"samples\": [\n          \"Apple\",\n          \"Samsung\",\n          \"Lenovo\"\n        ],\n        \"semantic_type\": \"\",\n        \"description\": \"\"\n      }\n    },\n    {\n      \"column\": \"Mobile Weight\",\n      \"properties\": {\n        \"dtype\": \"number\",\n        \"std\": 98.2626224859948,\n        \"min\": 135.0,\n        \"max\": 732.0,\n        \"num_unique_values\": 124,\n        \"samples\": [\n          458.0,\n          229.0,\n          191.0\n        ],\n        \"semantic_type\": \"\",\n        \"description\": \"\"\n      }\n    },\n    {\n      \"column\": \"RAM\",\n      \"properties\": {\n        \"dtype\": \"number\",\n        \"std\": 3.192883926393385,\n        \"min\": 1.0,\n        \"max\": 16.0,\n        \"num_unique_values\": 10,\n        \"samples\": [\n          10.0,\n          8.0,\n          2.0\n        ],\n        \"semantic_type\": \"\",\n        \"description\": \"\"\n      }\n    },\n    {\n      \"column\": \"Processor\",\n      \"properties\": {\n        \"dtype\": \"category\",\n        \"num_unique_values\": 185,\n        \"samples\": [\n          \"Exynos 990\",\n          \"MediaTek Dimensity 1200-AI\",\n          \"Snapdragon 480+\"\n        ],\n        \"semantic_type\": \"\",\n        \"description\": \"\"\n      }\n    },\n    {\n      \"column\": \"Battery Capacity\",\n      \"properties\": {\n        \"dtype\": \"number\",\n        \"std\": 1306,\n        \"min\": 2000,\n        \"max\": 11200,\n        \"num_unique_values\": 104,\n        \"samples\": [\n          4700,\n          5800,\n          4805\n        ],\n        \"semantic_type\": \"\",\n        \"description\": \"\"\n      }\n    },\n    {\n      \"column\": \"Screen Size\",\n      \"properties\": {\n        \"dtype\": \"number\",\n        \"std\": 1.4035699200789304,\n        \"min\": 5.0,\n        \"max\": 14.6,\n        \"num_unique_values\": 75,\n        \"samples\": [\n          6.5,\n          6.73,\n          13.0\n        ],\n        \"semantic_type\": \"\",\n        \"description\": \"\"\n      }\n    },\n    {\n      \"column\": \"Launched Year\",\n      \"properties\": {\n        \"dtype\": \"number\",\n        \"std\": 1,\n        \"min\": 2014,\n        \"max\": 2025,\n        \"num_unique_values\": 11,\n        \"samples\": [\n          2019,\n          2024,\n          2014\n        ],\n        \"semantic_type\": \"\",\n        \"description\": \"\"\n      }\n    },\n    {\n      \"column\": \"Back Camera 1\",\n      \"properties\": {\n        \"dtype\": \"number\",\n        \"std\": 30,\n        \"min\": 5,\n        \"max\": 200,\n        \"num_unique_values\": 11,\n        \"samples\": [\n          108,\n          48,\n          64\n        ],\n        \"semantic_type\": \"\",\n        \"description\": \"\"\n      }\n    },\n    {\n      \"column\": \"Back Camera 2\",\n      \"properties\": {\n        \"dtype\": \"number\",\n        \"std\": 12,\n        \"min\": 0,\n        \"max\": 64,\n        \"num_unique_values\": 14,\n        \"samples\": [\n          50,\n          64,\n          0\n        ],\n        \"semantic_type\": \"\",\n        \"description\": \"\"\n      }\n    },\n    {\n      \"column\": \"Back Camera 3\",\n      \"properties\": {\n        \"dtype\": \"number\",\n        \"std\": 9,\n        \"min\": 0,\n        \"max\": 64,\n        \"num_unique_values\": 10,\n        \"samples\": [\n          32,\n          12,\n          8\n        ],\n        \"semantic_type\": \"\",\n        \"description\": \"\"\n      }\n    },\n    {\n      \"column\": \"Back Camera 4\",\n      \"properties\": {\n        \"dtype\": \"number\",\n        \"std\": 0,\n        \"min\": 0,\n        \"max\": 2,\n        \"num_unique_values\": 2,\n        \"samples\": [\n          2,\n          0\n        ],\n        \"semantic_type\": \"\",\n        \"description\": \"\"\n      }\n    },\n    {\n      \"column\": \"Front Camera 1\",\n      \"properties\": {\n        \"dtype\": \"number\",\n        \"std\": 11,\n        \"min\": 2,\n        \"max\": 60,\n        \"num_unique_values\": 17,\n        \"samples\": [\n          12,\n          7\n        ],\n        \"semantic_type\": \"\",\n        \"description\": \"\"\n      }\n    },\n    {\n      \"column\": \"Front Camera 2\",\n      \"properties\": {\n        \"dtype\": \"number\",\n        \"std\": 0,\n        \"min\": 0,\n        \"max\": 12,\n        \"num_unique_values\": 4,\n        \"samples\": [\n          12,\n          4\n        ],\n        \"semantic_type\": \"\",\n        \"description\": \"\"\n      }\n    },\n    {\n      \"column\": \"Storage\",\n      \"properties\": {\n        \"dtype\": \"number\",\n        \"std\": 137,\n        \"min\": 16,\n        \"max\": 1024,\n        \"num_unique_values\": 7,\n        \"samples\": [\n          128,\n          256\n        ],\n        \"semantic_type\": \"\",\n        \"description\": \"\"\n      }\n    },\n    {\n      \"column\": \"price\",\n      \"properties\": {\n        \"dtype\": \"number\",\n        \"std\": 356.9699955700341,\n        \"min\": 79.0,\n        \"max\": 1719.0,\n        \"num_unique_values\": 88,\n        \"samples\": [\n          479.0,\n          799.0\n        ],\n        \"semantic_type\": \"\",\n        \"description\": \"\"\n      }\n    }\n  ]\n}",
       "type": "dataframe",
       "variable_name": "cleaned"
      },
      "text/html": [
       "\n",
       "  <div id=\"df-ebbec321-0a17-4308-acaa-c57dd841f7a5\" class=\"colab-df-container\">\n",
       "    <div>\n",
       "<style scoped>\n",
       "    .dataframe tbody tr th:only-of-type {\n",
       "        vertical-align: middle;\n",
       "    }\n",
       "\n",
       "    .dataframe tbody tr th {\n",
       "        vertical-align: top;\n",
       "    }\n",
       "\n",
       "    .dataframe thead th {\n",
       "        text-align: right;\n",
       "    }\n",
       "</style>\n",
       "<table border=\"1\" class=\"dataframe\">\n",
       "  <thead>\n",
       "    <tr style=\"text-align: right;\">\n",
       "      <th></th>\n",
       "      <th>Company Name</th>\n",
       "      <th>Mobile Weight</th>\n",
       "      <th>RAM</th>\n",
       "      <th>Processor</th>\n",
       "      <th>Battery Capacity</th>\n",
       "      <th>Screen Size</th>\n",
       "      <th>Launched Year</th>\n",
       "      <th>Back Camera 1</th>\n",
       "      <th>Back Camera 2</th>\n",
       "      <th>Back Camera 3</th>\n",
       "      <th>Back Camera 4</th>\n",
       "      <th>Front Camera 1</th>\n",
       "      <th>Front Camera 2</th>\n",
       "      <th>Storage</th>\n",
       "      <th>price</th>\n",
       "    </tr>\n",
       "  </thead>\n",
       "  <tbody>\n",
       "    <tr>\n",
       "      <th>0</th>\n",
       "      <td>Apple</td>\n",
       "      <td>174.0</td>\n",
       "      <td>6.0</td>\n",
       "      <td>A17 Bionic</td>\n",
       "      <td>3600</td>\n",
       "      <td>6.1</td>\n",
       "      <td>2024</td>\n",
       "      <td>48</td>\n",
       "      <td>0</td>\n",
       "      <td>0</td>\n",
       "      <td>0</td>\n",
       "      <td>12</td>\n",
       "      <td>0</td>\n",
       "      <td>128</td>\n",
       "      <td>799.0</td>\n",
       "    </tr>\n",
       "    <tr>\n",
       "      <th>1</th>\n",
       "      <td>Apple</td>\n",
       "      <td>174.0</td>\n",
       "      <td>6.0</td>\n",
       "      <td>A17 Bionic</td>\n",
       "      <td>3600</td>\n",
       "      <td>6.1</td>\n",
       "      <td>2024</td>\n",
       "      <td>48</td>\n",
       "      <td>0</td>\n",
       "      <td>0</td>\n",
       "      <td>0</td>\n",
       "      <td>12</td>\n",
       "      <td>0</td>\n",
       "      <td>256</td>\n",
       "      <td>849.0</td>\n",
       "    </tr>\n",
       "    <tr>\n",
       "      <th>2</th>\n",
       "      <td>Apple</td>\n",
       "      <td>174.0</td>\n",
       "      <td>6.0</td>\n",
       "      <td>A17 Bionic</td>\n",
       "      <td>3600</td>\n",
       "      <td>6.1</td>\n",
       "      <td>2024</td>\n",
       "      <td>48</td>\n",
       "      <td>0</td>\n",
       "      <td>0</td>\n",
       "      <td>0</td>\n",
       "      <td>12</td>\n",
       "      <td>0</td>\n",
       "      <td>512</td>\n",
       "      <td>899.0</td>\n",
       "    </tr>\n",
       "    <tr>\n",
       "      <th>3</th>\n",
       "      <td>Apple</td>\n",
       "      <td>203.0</td>\n",
       "      <td>6.0</td>\n",
       "      <td>A17 Bionic</td>\n",
       "      <td>4200</td>\n",
       "      <td>6.7</td>\n",
       "      <td>2024</td>\n",
       "      <td>48</td>\n",
       "      <td>0</td>\n",
       "      <td>0</td>\n",
       "      <td>0</td>\n",
       "      <td>12</td>\n",
       "      <td>0</td>\n",
       "      <td>128</td>\n",
       "      <td>899.0</td>\n",
       "    </tr>\n",
       "    <tr>\n",
       "      <th>4</th>\n",
       "      <td>Apple</td>\n",
       "      <td>203.0</td>\n",
       "      <td>6.0</td>\n",
       "      <td>A17 Bionic</td>\n",
       "      <td>4200</td>\n",
       "      <td>6.7</td>\n",
       "      <td>2024</td>\n",
       "      <td>48</td>\n",
       "      <td>0</td>\n",
       "      <td>0</td>\n",
       "      <td>0</td>\n",
       "      <td>12</td>\n",
       "      <td>0</td>\n",
       "      <td>256</td>\n",
       "      <td>949.0</td>\n",
       "    </tr>\n",
       "  </tbody>\n",
       "</table>\n",
       "</div>\n",
       "    <div class=\"colab-df-buttons\">\n",
       "\n",
       "  <div class=\"colab-df-container\">\n",
       "    <button class=\"colab-df-convert\" onclick=\"convertToInteractive('df-ebbec321-0a17-4308-acaa-c57dd841f7a5')\"\n",
       "            title=\"Convert this dataframe to an interactive table.\"\n",
       "            style=\"display:none;\">\n",
       "\n",
       "  <svg xmlns=\"http://www.w3.org/2000/svg\" height=\"24px\" viewBox=\"0 -960 960 960\">\n",
       "    <path d=\"M120-120v-720h720v720H120Zm60-500h600v-160H180v160Zm220 220h160v-160H400v160Zm0 220h160v-160H400v160ZM180-400h160v-160H180v160Zm440 0h160v-160H620v160ZM180-180h160v-160H180v160Zm440 0h160v-160H620v160Z\"/>\n",
       "  </svg>\n",
       "    </button>\n",
       "\n",
       "  <style>\n",
       "    .colab-df-container {\n",
       "      display:flex;\n",
       "      gap: 12px;\n",
       "    }\n",
       "\n",
       "    .colab-df-convert {\n",
       "      background-color: #E8F0FE;\n",
       "      border: none;\n",
       "      border-radius: 50%;\n",
       "      cursor: pointer;\n",
       "      display: none;\n",
       "      fill: #1967D2;\n",
       "      height: 32px;\n",
       "      padding: 0 0 0 0;\n",
       "      width: 32px;\n",
       "    }\n",
       "\n",
       "    .colab-df-convert:hover {\n",
       "      background-color: #E2EBFA;\n",
       "      box-shadow: 0px 1px 2px rgba(60, 64, 67, 0.3), 0px 1px 3px 1px rgba(60, 64, 67, 0.15);\n",
       "      fill: #174EA6;\n",
       "    }\n",
       "\n",
       "    .colab-df-buttons div {\n",
       "      margin-bottom: 4px;\n",
       "    }\n",
       "\n",
       "    [theme=dark] .colab-df-convert {\n",
       "      background-color: #3B4455;\n",
       "      fill: #D2E3FC;\n",
       "    }\n",
       "\n",
       "    [theme=dark] .colab-df-convert:hover {\n",
       "      background-color: #434B5C;\n",
       "      box-shadow: 0px 1px 3px 1px rgba(0, 0, 0, 0.15);\n",
       "      filter: drop-shadow(0px 1px 2px rgba(0, 0, 0, 0.3));\n",
       "      fill: #FFFFFF;\n",
       "    }\n",
       "  </style>\n",
       "\n",
       "    <script>\n",
       "      const buttonEl =\n",
       "        document.querySelector('#df-ebbec321-0a17-4308-acaa-c57dd841f7a5 button.colab-df-convert');\n",
       "      buttonEl.style.display =\n",
       "        google.colab.kernel.accessAllowed ? 'block' : 'none';\n",
       "\n",
       "      async function convertToInteractive(key) {\n",
       "        const element = document.querySelector('#df-ebbec321-0a17-4308-acaa-c57dd841f7a5');\n",
       "        const dataTable =\n",
       "          await google.colab.kernel.invokeFunction('convertToInteractive',\n",
       "                                                    [key], {});\n",
       "        if (!dataTable) return;\n",
       "\n",
       "        const docLinkHtml = 'Like what you see? Visit the ' +\n",
       "          '<a target=\"_blank\" href=https://colab.research.google.com/notebooks/data_table.ipynb>data table notebook</a>'\n",
       "          + ' to learn more about interactive tables.';\n",
       "        element.innerHTML = '';\n",
       "        dataTable['output_type'] = 'display_data';\n",
       "        await google.colab.output.renderOutput(dataTable, element);\n",
       "        const docLink = document.createElement('div');\n",
       "        docLink.innerHTML = docLinkHtml;\n",
       "        element.appendChild(docLink);\n",
       "      }\n",
       "    </script>\n",
       "  </div>\n",
       "\n",
       "\n",
       "    <div id=\"df-bf7a33a8-dff6-4681-aaaa-b3b26abd47b9\">\n",
       "      <button class=\"colab-df-quickchart\" onclick=\"quickchart('df-bf7a33a8-dff6-4681-aaaa-b3b26abd47b9')\"\n",
       "                title=\"Suggest charts\"\n",
       "                style=\"display:none;\">\n",
       "\n",
       "<svg xmlns=\"http://www.w3.org/2000/svg\" height=\"24px\"viewBox=\"0 0 24 24\"\n",
       "     width=\"24px\">\n",
       "    <g>\n",
       "        <path d=\"M19 3H5c-1.1 0-2 .9-2 2v14c0 1.1.9 2 2 2h14c1.1 0 2-.9 2-2V5c0-1.1-.9-2-2-2zM9 17H7v-7h2v7zm4 0h-2V7h2v10zm4 0h-2v-4h2v4z\"/>\n",
       "    </g>\n",
       "</svg>\n",
       "      </button>\n",
       "\n",
       "<style>\n",
       "  .colab-df-quickchart {\n",
       "      --bg-color: #E8F0FE;\n",
       "      --fill-color: #1967D2;\n",
       "      --hover-bg-color: #E2EBFA;\n",
       "      --hover-fill-color: #174EA6;\n",
       "      --disabled-fill-color: #AAA;\n",
       "      --disabled-bg-color: #DDD;\n",
       "  }\n",
       "\n",
       "  [theme=dark] .colab-df-quickchart {\n",
       "      --bg-color: #3B4455;\n",
       "      --fill-color: #D2E3FC;\n",
       "      --hover-bg-color: #434B5C;\n",
       "      --hover-fill-color: #FFFFFF;\n",
       "      --disabled-bg-color: #3B4455;\n",
       "      --disabled-fill-color: #666;\n",
       "  }\n",
       "\n",
       "  .colab-df-quickchart {\n",
       "    background-color: var(--bg-color);\n",
       "    border: none;\n",
       "    border-radius: 50%;\n",
       "    cursor: pointer;\n",
       "    display: none;\n",
       "    fill: var(--fill-color);\n",
       "    height: 32px;\n",
       "    padding: 0;\n",
       "    width: 32px;\n",
       "  }\n",
       "\n",
       "  .colab-df-quickchart:hover {\n",
       "    background-color: var(--hover-bg-color);\n",
       "    box-shadow: 0 1px 2px rgba(60, 64, 67, 0.3), 0 1px 3px 1px rgba(60, 64, 67, 0.15);\n",
       "    fill: var(--button-hover-fill-color);\n",
       "  }\n",
       "\n",
       "  .colab-df-quickchart-complete:disabled,\n",
       "  .colab-df-quickchart-complete:disabled:hover {\n",
       "    background-color: var(--disabled-bg-color);\n",
       "    fill: var(--disabled-fill-color);\n",
       "    box-shadow: none;\n",
       "  }\n",
       "\n",
       "  .colab-df-spinner {\n",
       "    border: 2px solid var(--fill-color);\n",
       "    border-color: transparent;\n",
       "    border-bottom-color: var(--fill-color);\n",
       "    animation:\n",
       "      spin 1s steps(1) infinite;\n",
       "  }\n",
       "\n",
       "  @keyframes spin {\n",
       "    0% {\n",
       "      border-color: transparent;\n",
       "      border-bottom-color: var(--fill-color);\n",
       "      border-left-color: var(--fill-color);\n",
       "    }\n",
       "    20% {\n",
       "      border-color: transparent;\n",
       "      border-left-color: var(--fill-color);\n",
       "      border-top-color: var(--fill-color);\n",
       "    }\n",
       "    30% {\n",
       "      border-color: transparent;\n",
       "      border-left-color: var(--fill-color);\n",
       "      border-top-color: var(--fill-color);\n",
       "      border-right-color: var(--fill-color);\n",
       "    }\n",
       "    40% {\n",
       "      border-color: transparent;\n",
       "      border-right-color: var(--fill-color);\n",
       "      border-top-color: var(--fill-color);\n",
       "    }\n",
       "    60% {\n",
       "      border-color: transparent;\n",
       "      border-right-color: var(--fill-color);\n",
       "    }\n",
       "    80% {\n",
       "      border-color: transparent;\n",
       "      border-right-color: var(--fill-color);\n",
       "      border-bottom-color: var(--fill-color);\n",
       "    }\n",
       "    90% {\n",
       "      border-color: transparent;\n",
       "      border-bottom-color: var(--fill-color);\n",
       "    }\n",
       "  }\n",
       "</style>\n",
       "\n",
       "      <script>\n",
       "        async function quickchart(key) {\n",
       "          const quickchartButtonEl =\n",
       "            document.querySelector('#' + key + ' button');\n",
       "          quickchartButtonEl.disabled = true;  // To prevent multiple clicks.\n",
       "          quickchartButtonEl.classList.add('colab-df-spinner');\n",
       "          try {\n",
       "            const charts = await google.colab.kernel.invokeFunction(\n",
       "                'suggestCharts', [key], {});\n",
       "          } catch (error) {\n",
       "            console.error('Error during call to suggestCharts:', error);\n",
       "          }\n",
       "          quickchartButtonEl.classList.remove('colab-df-spinner');\n",
       "          quickchartButtonEl.classList.add('colab-df-quickchart-complete');\n",
       "        }\n",
       "        (() => {\n",
       "          let quickchartButtonEl =\n",
       "            document.querySelector('#df-bf7a33a8-dff6-4681-aaaa-b3b26abd47b9 button');\n",
       "          quickchartButtonEl.style.display =\n",
       "            google.colab.kernel.accessAllowed ? 'block' : 'none';\n",
       "        })();\n",
       "      </script>\n",
       "    </div>\n",
       "\n",
       "    </div>\n",
       "  </div>\n"
      ],
      "text/plain": [
       "  Company Name  Mobile Weight  RAM   Processor  Battery Capacity  Screen Size  \\\n",
       "0        Apple          174.0  6.0  A17 Bionic              3600          6.1   \n",
       "1        Apple          174.0  6.0  A17 Bionic              3600          6.1   \n",
       "2        Apple          174.0  6.0  A17 Bionic              3600          6.1   \n",
       "3        Apple          203.0  6.0  A17 Bionic              4200          6.7   \n",
       "4        Apple          203.0  6.0  A17 Bionic              4200          6.7   \n",
       "\n",
       "   Launched Year  Back Camera 1  Back Camera 2  Back Camera 3  Back Camera 4  \\\n",
       "0           2024             48              0              0              0   \n",
       "1           2024             48              0              0              0   \n",
       "2           2024             48              0              0              0   \n",
       "3           2024             48              0              0              0   \n",
       "4           2024             48              0              0              0   \n",
       "\n",
       "   Front Camera 1  Front Camera 2  Storage  price  \n",
       "0              12               0      128  799.0  \n",
       "1              12               0      256  849.0  \n",
       "2              12               0      512  899.0  \n",
       "3              12               0      128  899.0  \n",
       "4              12               0      256  949.0  "
      ]
     },
     "execution_count": 773,
     "metadata": {},
     "output_type": "execute_result"
    }
   ],
   "source": [
    "cleaned = pd.read_csv(\"Cleaned Mobiles Dataset (2025).csv\", encoding = \"latin-1\")\n",
    "\n",
    "cleaned.head()"
   ]
  },
  {
   "cell_type": "markdown",
   "metadata": {
    "id": "HoJGsFsaWF7z"
   },
   "source": [
    "##Preparing data for modelling"
   ]
  },
  {
   "cell_type": "markdown",
   "metadata": {
    "id": "cxmq_zj_XkXc"
   },
   "source": [
    "###Scaling Numerical Data"
   ]
  },
  {
   "cell_type": "code",
   "execution_count": 774,
   "metadata": {
    "executionInfo": {
     "elapsed": 2,
     "status": "ok",
     "timestamp": 1747001863903,
     "user": {
      "displayName": "Zane Edwards",
      "userId": "04617914265969064911"
     },
     "user_tz": 240
    },
    "id": "Ckw4A5QKXLJ0"
   },
   "outputs": [],
   "source": [
    "for col in cleaned.columns:\n",
    "  if cleaned.dtypes[col] == 'object':\n",
    "    continue\n",
    "  if col == 'price':\n",
    "    price_scaler = StandardScaler()\n",
    "    cleaned[col] = price_scaler.fit_transform(cleaned[col].values.reshape(-1,1))\n",
    "    continue\n",
    "  scaler = StandardScaler()\n",
    "  cleaned[col] = scaler.fit_transform(cleaned[col].values.reshape(-1,1))"
   ]
  },
  {
   "cell_type": "code",
   "execution_count": 775,
   "metadata": {
    "colab": {
     "base_uri": "https://localhost:8080/",
     "height": 223
    },
    "executionInfo": {
     "elapsed": 94,
     "status": "ok",
     "timestamp": 1747001863999,
     "user": {
      "displayName": "Zane Edwards",
      "userId": "04617914265969064911"
     },
     "user_tz": 240
    },
    "id": "j448nWU9Y5K0",
    "outputId": "1fb63f6f-ee4f-4c4d-e5e6-218dde81e192"
   },
   "outputs": [
    {
     "data": {
      "application/vnd.google.colaboratory.intrinsic+json": {
       "summary": "{\n  \"name\": \"cleaned\",\n  \"rows\": 751,\n  \"fields\": [\n    {\n      \"column\": \"Company Name\",\n      \"properties\": {\n        \"dtype\": \"category\",\n        \"num_unique_values\": 18,\n        \"samples\": [\n          \"Apple\",\n          \"Samsung\",\n          \"Lenovo\"\n        ],\n        \"semantic_type\": \"\",\n        \"description\": \"\"\n      }\n    },\n    {\n      \"column\": \"Mobile Weight\",\n      \"properties\": {\n        \"dtype\": \"number\",\n        \"std\": 1.0006664445924696,\n        \"min\": -0.8684447828075837,\n        \"max\": 5.211159570382262,\n        \"num_unique_values\": 124,\n        \"samples\": [\n          2.4208553948813947,\n          0.08881285404307869,\n          -0.2981636374497423\n        ],\n        \"semantic_type\": \"\",\n        \"description\": \"\"\n      }\n    },\n    {\n      \"column\": \"RAM\",\n      \"properties\": {\n        \"dtype\": \"number\",\n        \"std\": 1.000666444592468,\n        \"min\": -2.063633480061335,\n        \"max\": 2.6374446095020505,\n        \"num_unique_values\": 10,\n        \"samples\": [\n          0.7570133736766962,\n          0.13020296173491144,\n          -1.7502282740904427\n        ],\n        \"semantic_type\": \"\",\n        \"description\": \"\"\n      }\n    },\n    {\n      \"column\": \"Processor\",\n      \"properties\": {\n        \"dtype\": \"category\",\n        \"num_unique_values\": 185,\n        \"samples\": [\n          \"Exynos 990\",\n          \"MediaTek Dimensity 1200-AI\",\n          \"Snapdragon 480+\"\n        ],\n        \"semantic_type\": \"\",\n        \"description\": \"\"\n      }\n    },\n    {\n      \"column\": \"Battery Capacity\",\n      \"properties\": {\n        \"dtype\": \"number\",\n        \"std\": 1.0006664445924711,\n        \"min\": -2.2609334877740133,\n        \"max\": 4.786995683789361,\n        \"num_unique_values\": 104,\n        \"samples\": [\n          -0.1925194917717185,\n          0.650167691784772,\n          -0.1120811697049626\n        ],\n        \"semantic_type\": \"\",\n        \"description\": \"\"\n      }\n    },\n    {\n      \"column\": \"Screen Size\",\n      \"properties\": {\n        \"dtype\": \"number\",\n        \"std\": 1.0006664445924702,\n        \"min\": -1.3824179256475253,\n        \"max\": 5.461842364247744,\n        \"num_unique_values\": 75,\n        \"samples\": [\n          -0.3130022553513895,\n          -0.14902518590598168,\n          4.321132315931866\n        ],\n        \"semantic_type\": \"\",\n        \"description\": \"\"\n      }\n    },\n    {\n      \"column\": \"Launched Year\",\n      \"properties\": {\n        \"dtype\": \"number\",\n        \"std\": 1.0006664445924696,\n        \"min\": -4.148019131363247,\n        \"max\": 1.4740950678478082,\n        \"num_unique_values\": 11,\n        \"samples\": [\n          -1.5925126771764038,\n          0.9629937770104396,\n          -4.148019131363247\n        ],\n        \"semantic_type\": \"\",\n        \"description\": \"\"\n      }\n    },\n    {\n      \"column\": \"Back Camera 1\",\n      \"properties\": {\n        \"dtype\": \"number\",\n        \"std\": 1.0006664445924711,\n        \"min\": -1.3419338197778283,\n        \"max\": 5.1605973905115,\n        \"num_unique_values\": 11,\n        \"samples\": [\n          2.0927365118108936,\n          0.09195767787571582,\n          0.6254987002584299\n        ],\n        \"semantic_type\": \"\",\n        \"description\": \"\"\n      }\n    },\n    {\n      \"column\": \"Back Camera 2\",\n      \"properties\": {\n        \"dtype\": \"number\",\n        \"std\": 1.0006664445924633,\n        \"min\": -0.5469797265707371,\n        \"max\": 4.724733443249979,\n        \"num_unique_values\": 14,\n        \"samples\": [\n          3.571546187351697,\n          4.724733443249979,\n          -0.5469797265707371\n        ],\n        \"semantic_type\": \"\",\n        \"description\": \"\"\n      }\n    },\n    {\n      \"column\": \"Back Camera 3\",\n      \"properties\": {\n        \"dtype\": \"number\",\n        \"std\": 1.0006664445924756,\n        \"min\": -0.26421960783724135,\n        \"max\": 6.215092244759273,\n        \"num_unique_values\": 10,\n        \"samples\": [\n          2.975436318461016,\n          0.9506513645246052,\n          0.545694373737323\n        ],\n        \"semantic_type\": \"\",\n        \"description\": \"\"\n      }\n    },\n    {\n      \"column\": \"Back Camera 4\",\n      \"properties\": {\n        \"dtype\": \"number\",\n        \"std\": 1.000666444592477,\n        \"min\": -0.15670550929667104,\n        \"max\": 6.381396573025548,\n        \"num_unique_values\": 2,\n        \"samples\": [\n          6.381396573025548,\n          -0.15670550929667104\n        ],\n        \"semantic_type\": \"\",\n        \"description\": \"\"\n      }\n    },\n    {\n      \"column\": \"Front Camera 1\",\n      \"properties\": {\n        \"dtype\": \"number\",\n        \"std\": 1.0006664445924665,\n        \"min\": -1.4221053300447843,\n        \"max\": 3.678690451089168,\n        \"num_unique_values\": 17,\n        \"samples\": [\n          -0.5426577815734133,\n          -0.9823815558090988\n        ],\n        \"semantic_type\": \"\",\n        \"description\": \"\"\n      }\n    },\n    {\n      \"column\": \"Front Camera 2\",\n      \"properties\": {\n        \"dtype\": \"number\",\n        \"std\": 1.0006664445924804,\n        \"min\": -0.0929188986111531,\n        \"max\": 13.863499672784043,\n        \"num_unique_values\": 4,\n        \"samples\": [\n          13.863499672784043,\n          4.559220625187245\n        ],\n        \"semantic_type\": \"\",\n        \"description\": \"\"\n      }\n    },\n    {\n      \"column\": \"Storage\",\n      \"properties\": {\n        \"dtype\": \"number\",\n        \"std\": 1.0006664445924738,\n        \"min\": -1.3986253477798634,\n        \"max\": 5.950681746790181,\n        \"num_unique_values\": 7,\n        \"samples\": [\n          -0.5820356706054141,\n          0.3512096747368139\n        ],\n        \"semantic_type\": \"\",\n        \"description\": \"\"\n      }\n    },\n    {\n      \"column\": \"price\",\n      \"properties\": {\n        \"dtype\": \"number\",\n        \"std\": 1.0006664445924687,\n        \"min\": -1.3186967166405668,\n        \"max\": 3.2785887401134115,\n        \"num_unique_values\": 88,\n        \"samples\": [\n          -0.1974075808469136,\n          0.699623727788009\n        ],\n        \"semantic_type\": \"\",\n        \"description\": \"\"\n      }\n    }\n  ]\n}",
       "type": "dataframe",
       "variable_name": "cleaned"
      },
      "text/html": [
       "\n",
       "  <div id=\"df-7b5f3d5d-2874-40ef-9abe-94272682be47\" class=\"colab-df-container\">\n",
       "    <div>\n",
       "<style scoped>\n",
       "    .dataframe tbody tr th:only-of-type {\n",
       "        vertical-align: middle;\n",
       "    }\n",
       "\n",
       "    .dataframe tbody tr th {\n",
       "        vertical-align: top;\n",
       "    }\n",
       "\n",
       "    .dataframe thead th {\n",
       "        text-align: right;\n",
       "    }\n",
       "</style>\n",
       "<table border=\"1\" class=\"dataframe\">\n",
       "  <thead>\n",
       "    <tr style=\"text-align: right;\">\n",
       "      <th></th>\n",
       "      <th>Company Name</th>\n",
       "      <th>Mobile Weight</th>\n",
       "      <th>RAM</th>\n",
       "      <th>Processor</th>\n",
       "      <th>Battery Capacity</th>\n",
       "      <th>Screen Size</th>\n",
       "      <th>Launched Year</th>\n",
       "      <th>Back Camera 1</th>\n",
       "      <th>Back Camera 2</th>\n",
       "      <th>Back Camera 3</th>\n",
       "      <th>Back Camera 4</th>\n",
       "      <th>Front Camera 1</th>\n",
       "      <th>Front Camera 2</th>\n",
       "      <th>Storage</th>\n",
       "      <th>price</th>\n",
       "    </tr>\n",
       "  </thead>\n",
       "  <tbody>\n",
       "    <tr>\n",
       "      <th>0</th>\n",
       "      <td>Apple</td>\n",
       "      <td>-0.471285</td>\n",
       "      <td>-0.496607</td>\n",
       "      <td>A17 Bionic</td>\n",
       "      <td>-1.035207</td>\n",
       "      <td>-0.598180</td>\n",
       "      <td>0.962994</td>\n",
       "      <td>0.091958</td>\n",
       "      <td>-0.54698</td>\n",
       "      <td>-0.26422</td>\n",
       "      <td>-0.156706</td>\n",
       "      <td>-0.542658</td>\n",
       "      <td>-0.092919</td>\n",
       "      <td>-0.582036</td>\n",
       "      <td>0.699624</td>\n",
       "    </tr>\n",
       "    <tr>\n",
       "      <th>1</th>\n",
       "      <td>Apple</td>\n",
       "      <td>-0.471285</td>\n",
       "      <td>-0.496607</td>\n",
       "      <td>A17 Bionic</td>\n",
       "      <td>-1.035207</td>\n",
       "      <td>-0.598180</td>\n",
       "      <td>0.962994</td>\n",
       "      <td>0.091958</td>\n",
       "      <td>-0.54698</td>\n",
       "      <td>-0.26422</td>\n",
       "      <td>-0.156706</td>\n",
       "      <td>-0.542658</td>\n",
       "      <td>-0.092919</td>\n",
       "      <td>0.351210</td>\n",
       "      <td>0.839785</td>\n",
       "    </tr>\n",
       "    <tr>\n",
       "      <th>2</th>\n",
       "      <td>Apple</td>\n",
       "      <td>-0.471285</td>\n",
       "      <td>-0.496607</td>\n",
       "      <td>A17 Bionic</td>\n",
       "      <td>-1.035207</td>\n",
       "      <td>-0.598180</td>\n",
       "      <td>0.962994</td>\n",
       "      <td>0.091958</td>\n",
       "      <td>-0.54698</td>\n",
       "      <td>-0.26422</td>\n",
       "      <td>-0.156706</td>\n",
       "      <td>-0.542658</td>\n",
       "      <td>-0.092919</td>\n",
       "      <td>2.217700</td>\n",
       "      <td>0.979946</td>\n",
       "    </tr>\n",
       "    <tr>\n",
       "      <th>3</th>\n",
       "      <td>Apple</td>\n",
       "      <td>-0.175961</td>\n",
       "      <td>-0.496607</td>\n",
       "      <td>A17 Bionic</td>\n",
       "      <td>-0.575559</td>\n",
       "      <td>-0.170413</td>\n",
       "      <td>0.962994</td>\n",
       "      <td>0.091958</td>\n",
       "      <td>-0.54698</td>\n",
       "      <td>-0.26422</td>\n",
       "      <td>-0.156706</td>\n",
       "      <td>-0.542658</td>\n",
       "      <td>-0.092919</td>\n",
       "      <td>-0.582036</td>\n",
       "      <td>0.979946</td>\n",
       "    </tr>\n",
       "    <tr>\n",
       "      <th>4</th>\n",
       "      <td>Apple</td>\n",
       "      <td>-0.175961</td>\n",
       "      <td>-0.496607</td>\n",
       "      <td>A17 Bionic</td>\n",
       "      <td>-0.575559</td>\n",
       "      <td>-0.170413</td>\n",
       "      <td>0.962994</td>\n",
       "      <td>0.091958</td>\n",
       "      <td>-0.54698</td>\n",
       "      <td>-0.26422</td>\n",
       "      <td>-0.156706</td>\n",
       "      <td>-0.542658</td>\n",
       "      <td>-0.092919</td>\n",
       "      <td>0.351210</td>\n",
       "      <td>1.120107</td>\n",
       "    </tr>\n",
       "  </tbody>\n",
       "</table>\n",
       "</div>\n",
       "    <div class=\"colab-df-buttons\">\n",
       "\n",
       "  <div class=\"colab-df-container\">\n",
       "    <button class=\"colab-df-convert\" onclick=\"convertToInteractive('df-7b5f3d5d-2874-40ef-9abe-94272682be47')\"\n",
       "            title=\"Convert this dataframe to an interactive table.\"\n",
       "            style=\"display:none;\">\n",
       "\n",
       "  <svg xmlns=\"http://www.w3.org/2000/svg\" height=\"24px\" viewBox=\"0 -960 960 960\">\n",
       "    <path d=\"M120-120v-720h720v720H120Zm60-500h600v-160H180v160Zm220 220h160v-160H400v160Zm0 220h160v-160H400v160ZM180-400h160v-160H180v160Zm440 0h160v-160H620v160ZM180-180h160v-160H180v160Zm440 0h160v-160H620v160Z\"/>\n",
       "  </svg>\n",
       "    </button>\n",
       "\n",
       "  <style>\n",
       "    .colab-df-container {\n",
       "      display:flex;\n",
       "      gap: 12px;\n",
       "    }\n",
       "\n",
       "    .colab-df-convert {\n",
       "      background-color: #E8F0FE;\n",
       "      border: none;\n",
       "      border-radius: 50%;\n",
       "      cursor: pointer;\n",
       "      display: none;\n",
       "      fill: #1967D2;\n",
       "      height: 32px;\n",
       "      padding: 0 0 0 0;\n",
       "      width: 32px;\n",
       "    }\n",
       "\n",
       "    .colab-df-convert:hover {\n",
       "      background-color: #E2EBFA;\n",
       "      box-shadow: 0px 1px 2px rgba(60, 64, 67, 0.3), 0px 1px 3px 1px rgba(60, 64, 67, 0.15);\n",
       "      fill: #174EA6;\n",
       "    }\n",
       "\n",
       "    .colab-df-buttons div {\n",
       "      margin-bottom: 4px;\n",
       "    }\n",
       "\n",
       "    [theme=dark] .colab-df-convert {\n",
       "      background-color: #3B4455;\n",
       "      fill: #D2E3FC;\n",
       "    }\n",
       "\n",
       "    [theme=dark] .colab-df-convert:hover {\n",
       "      background-color: #434B5C;\n",
       "      box-shadow: 0px 1px 3px 1px rgba(0, 0, 0, 0.15);\n",
       "      filter: drop-shadow(0px 1px 2px rgba(0, 0, 0, 0.3));\n",
       "      fill: #FFFFFF;\n",
       "    }\n",
       "  </style>\n",
       "\n",
       "    <script>\n",
       "      const buttonEl =\n",
       "        document.querySelector('#df-7b5f3d5d-2874-40ef-9abe-94272682be47 button.colab-df-convert');\n",
       "      buttonEl.style.display =\n",
       "        google.colab.kernel.accessAllowed ? 'block' : 'none';\n",
       "\n",
       "      async function convertToInteractive(key) {\n",
       "        const element = document.querySelector('#df-7b5f3d5d-2874-40ef-9abe-94272682be47');\n",
       "        const dataTable =\n",
       "          await google.colab.kernel.invokeFunction('convertToInteractive',\n",
       "                                                    [key], {});\n",
       "        if (!dataTable) return;\n",
       "\n",
       "        const docLinkHtml = 'Like what you see? Visit the ' +\n",
       "          '<a target=\"_blank\" href=https://colab.research.google.com/notebooks/data_table.ipynb>data table notebook</a>'\n",
       "          + ' to learn more about interactive tables.';\n",
       "        element.innerHTML = '';\n",
       "        dataTable['output_type'] = 'display_data';\n",
       "        await google.colab.output.renderOutput(dataTable, element);\n",
       "        const docLink = document.createElement('div');\n",
       "        docLink.innerHTML = docLinkHtml;\n",
       "        element.appendChild(docLink);\n",
       "      }\n",
       "    </script>\n",
       "  </div>\n",
       "\n",
       "\n",
       "    <div id=\"df-c938301d-3736-414e-83e4-74877e19961d\">\n",
       "      <button class=\"colab-df-quickchart\" onclick=\"quickchart('df-c938301d-3736-414e-83e4-74877e19961d')\"\n",
       "                title=\"Suggest charts\"\n",
       "                style=\"display:none;\">\n",
       "\n",
       "<svg xmlns=\"http://www.w3.org/2000/svg\" height=\"24px\"viewBox=\"0 0 24 24\"\n",
       "     width=\"24px\">\n",
       "    <g>\n",
       "        <path d=\"M19 3H5c-1.1 0-2 .9-2 2v14c0 1.1.9 2 2 2h14c1.1 0 2-.9 2-2V5c0-1.1-.9-2-2-2zM9 17H7v-7h2v7zm4 0h-2V7h2v10zm4 0h-2v-4h2v4z\"/>\n",
       "    </g>\n",
       "</svg>\n",
       "      </button>\n",
       "\n",
       "<style>\n",
       "  .colab-df-quickchart {\n",
       "      --bg-color: #E8F0FE;\n",
       "      --fill-color: #1967D2;\n",
       "      --hover-bg-color: #E2EBFA;\n",
       "      --hover-fill-color: #174EA6;\n",
       "      --disabled-fill-color: #AAA;\n",
       "      --disabled-bg-color: #DDD;\n",
       "  }\n",
       "\n",
       "  [theme=dark] .colab-df-quickchart {\n",
       "      --bg-color: #3B4455;\n",
       "      --fill-color: #D2E3FC;\n",
       "      --hover-bg-color: #434B5C;\n",
       "      --hover-fill-color: #FFFFFF;\n",
       "      --disabled-bg-color: #3B4455;\n",
       "      --disabled-fill-color: #666;\n",
       "  }\n",
       "\n",
       "  .colab-df-quickchart {\n",
       "    background-color: var(--bg-color);\n",
       "    border: none;\n",
       "    border-radius: 50%;\n",
       "    cursor: pointer;\n",
       "    display: none;\n",
       "    fill: var(--fill-color);\n",
       "    height: 32px;\n",
       "    padding: 0;\n",
       "    width: 32px;\n",
       "  }\n",
       "\n",
       "  .colab-df-quickchart:hover {\n",
       "    background-color: var(--hover-bg-color);\n",
       "    box-shadow: 0 1px 2px rgba(60, 64, 67, 0.3), 0 1px 3px 1px rgba(60, 64, 67, 0.15);\n",
       "    fill: var(--button-hover-fill-color);\n",
       "  }\n",
       "\n",
       "  .colab-df-quickchart-complete:disabled,\n",
       "  .colab-df-quickchart-complete:disabled:hover {\n",
       "    background-color: var(--disabled-bg-color);\n",
       "    fill: var(--disabled-fill-color);\n",
       "    box-shadow: none;\n",
       "  }\n",
       "\n",
       "  .colab-df-spinner {\n",
       "    border: 2px solid var(--fill-color);\n",
       "    border-color: transparent;\n",
       "    border-bottom-color: var(--fill-color);\n",
       "    animation:\n",
       "      spin 1s steps(1) infinite;\n",
       "  }\n",
       "\n",
       "  @keyframes spin {\n",
       "    0% {\n",
       "      border-color: transparent;\n",
       "      border-bottom-color: var(--fill-color);\n",
       "      border-left-color: var(--fill-color);\n",
       "    }\n",
       "    20% {\n",
       "      border-color: transparent;\n",
       "      border-left-color: var(--fill-color);\n",
       "      border-top-color: var(--fill-color);\n",
       "    }\n",
       "    30% {\n",
       "      border-color: transparent;\n",
       "      border-left-color: var(--fill-color);\n",
       "      border-top-color: var(--fill-color);\n",
       "      border-right-color: var(--fill-color);\n",
       "    }\n",
       "    40% {\n",
       "      border-color: transparent;\n",
       "      border-right-color: var(--fill-color);\n",
       "      border-top-color: var(--fill-color);\n",
       "    }\n",
       "    60% {\n",
       "      border-color: transparent;\n",
       "      border-right-color: var(--fill-color);\n",
       "    }\n",
       "    80% {\n",
       "      border-color: transparent;\n",
       "      border-right-color: var(--fill-color);\n",
       "      border-bottom-color: var(--fill-color);\n",
       "    }\n",
       "    90% {\n",
       "      border-color: transparent;\n",
       "      border-bottom-color: var(--fill-color);\n",
       "    }\n",
       "  }\n",
       "</style>\n",
       "\n",
       "      <script>\n",
       "        async function quickchart(key) {\n",
       "          const quickchartButtonEl =\n",
       "            document.querySelector('#' + key + ' button');\n",
       "          quickchartButtonEl.disabled = true;  // To prevent multiple clicks.\n",
       "          quickchartButtonEl.classList.add('colab-df-spinner');\n",
       "          try {\n",
       "            const charts = await google.colab.kernel.invokeFunction(\n",
       "                'suggestCharts', [key], {});\n",
       "          } catch (error) {\n",
       "            console.error('Error during call to suggestCharts:', error);\n",
       "          }\n",
       "          quickchartButtonEl.classList.remove('colab-df-spinner');\n",
       "          quickchartButtonEl.classList.add('colab-df-quickchart-complete');\n",
       "        }\n",
       "        (() => {\n",
       "          let quickchartButtonEl =\n",
       "            document.querySelector('#df-c938301d-3736-414e-83e4-74877e19961d button');\n",
       "          quickchartButtonEl.style.display =\n",
       "            google.colab.kernel.accessAllowed ? 'block' : 'none';\n",
       "        })();\n",
       "      </script>\n",
       "    </div>\n",
       "\n",
       "    </div>\n",
       "  </div>\n"
      ],
      "text/plain": [
       "  Company Name  Mobile Weight       RAM   Processor  Battery Capacity  \\\n",
       "0        Apple      -0.471285 -0.496607  A17 Bionic         -1.035207   \n",
       "1        Apple      -0.471285 -0.496607  A17 Bionic         -1.035207   \n",
       "2        Apple      -0.471285 -0.496607  A17 Bionic         -1.035207   \n",
       "3        Apple      -0.175961 -0.496607  A17 Bionic         -0.575559   \n",
       "4        Apple      -0.175961 -0.496607  A17 Bionic         -0.575559   \n",
       "\n",
       "   Screen Size  Launched Year  Back Camera 1  Back Camera 2  Back Camera 3  \\\n",
       "0    -0.598180       0.962994       0.091958       -0.54698       -0.26422   \n",
       "1    -0.598180       0.962994       0.091958       -0.54698       -0.26422   \n",
       "2    -0.598180       0.962994       0.091958       -0.54698       -0.26422   \n",
       "3    -0.170413       0.962994       0.091958       -0.54698       -0.26422   \n",
       "4    -0.170413       0.962994       0.091958       -0.54698       -0.26422   \n",
       "\n",
       "   Back Camera 4  Front Camera 1  Front Camera 2   Storage     price  \n",
       "0      -0.156706       -0.542658       -0.092919 -0.582036  0.699624  \n",
       "1      -0.156706       -0.542658       -0.092919  0.351210  0.839785  \n",
       "2      -0.156706       -0.542658       -0.092919  2.217700  0.979946  \n",
       "3      -0.156706       -0.542658       -0.092919 -0.582036  0.979946  \n",
       "4      -0.156706       -0.542658       -0.092919  0.351210  1.120107  "
      ]
     },
     "execution_count": 775,
     "metadata": {},
     "output_type": "execute_result"
    }
   ],
   "source": [
    "cleaned.head()"
   ]
  },
  {
   "cell_type": "markdown",
   "metadata": {
    "id": "BrVhfGrZY7ZT"
   },
   "source": [
    "###Encoding Strings"
   ]
  },
  {
   "cell_type": "code",
   "execution_count": 776,
   "metadata": {
    "colab": {
     "base_uri": "https://localhost:8080/"
    },
    "executionInfo": {
     "elapsed": 54,
     "status": "ok",
     "timestamp": 1747001864050,
     "user": {
      "displayName": "Zane Edwards",
      "userId": "04617914265969064911"
     },
     "user_tz": 240
    },
    "id": "SkEKIDV3mYSx",
    "outputId": "c464469b-56dc-44fb-8154-dc3a05afd67c"
   },
   "outputs": [
    {
     "name": "stdout",
     "output_type": "stream",
     "text": [
      "Company Name\n",
      "Processor\n"
     ]
    }
   ],
   "source": [
    "string_cols = []\n",
    "for col in cleaned.columns:\n",
    "  if cleaned.dtypes[col] == 'object':\n",
    "    string_cols.append(col)\n",
    "    print(col)"
   ]
  },
  {
   "cell_type": "code",
   "execution_count": 777,
   "metadata": {
    "executionInfo": {
     "elapsed": 2,
     "status": "ok",
     "timestamp": 1747001864053,
     "user": {
      "displayName": "Zane Edwards",
      "userId": "04617914265969064911"
     },
     "user_tz": 240
    },
    "id": "2wHbx0TCZ1Fs"
   },
   "outputs": [],
   "source": [
    "for col in string_cols:\n",
    "    encoder = TargetEncoder(target_type=\"continuous\", smooth = 5)\n",
    "    X = cleaned[col].values.reshape(-1, 1)\n",
    "    encoder.fit(X, cleaned['price'])\n",
    "    cleaned[col] = encoder.transform(X)"
   ]
  },
  {
   "cell_type": "code",
   "execution_count": 778,
   "metadata": {
    "colab": {
     "base_uri": "https://localhost:8080/"
    },
    "executionInfo": {
     "elapsed": 13,
     "status": "ok",
     "timestamp": 1747001864070,
     "user": {
      "displayName": "Zane Edwards",
      "userId": "04617914265969064911"
     },
     "user_tz": 240
    },
    "id": "8cB7-mmOaX7E",
    "outputId": "e5204ba5-e32d-4869-9963-af940de22ff2"
   },
   "outputs": [
    {
     "data": {
      "text/plain": [
       "Index(['Company Name', 'Mobile Weight', 'RAM', 'Processor', 'Battery Capacity',\n",
       "       'Screen Size', 'Launched Year', 'Back Camera 1', 'Back Camera 2',\n",
       "       'Back Camera 3', 'Back Camera 4', 'Front Camera 1', 'Front Camera 2',\n",
       "       'Storage', 'price'],\n",
       "      dtype='object')"
      ]
     },
     "execution_count": 778,
     "metadata": {},
     "output_type": "execute_result"
    }
   ],
   "source": [
    "cleaned.columns"
   ]
  },
  {
   "cell_type": "markdown",
   "metadata": {
    "id": "VxQ-4AWHaaw7"
   },
   "source": [
    "##Building Model"
   ]
  },
  {
   "cell_type": "markdown",
   "metadata": {
    "id": "1Q2vHprMpOGh"
   },
   "source": [
    "###Loading X and y"
   ]
  },
  {
   "cell_type": "code",
   "execution_count": 779,
   "metadata": {
    "executionInfo": {
     "elapsed": 3,
     "status": "ok",
     "timestamp": 1747001864071,
     "user": {
      "displayName": "Zane Edwards",
      "userId": "04617914265969064911"
     },
     "user_tz": 240
    },
    "id": "O42vOE7GpQ7Y"
   },
   "outputs": [],
   "source": [
    "X = cleaned.drop('price', axis=1)\n",
    "y = cleaned['price']"
   ]
  },
  {
   "cell_type": "code",
   "execution_count": 780,
   "metadata": {
    "colab": {
     "base_uri": "https://localhost:8080/"
    },
    "executionInfo": {
     "elapsed": 13,
     "status": "ok",
     "timestamp": 1747001864082,
     "user": {
      "displayName": "Zane Edwards",
      "userId": "04617914265969064911"
     },
     "user_tz": 240
    },
    "id": "cC3Z6NeRpTlw",
    "outputId": "c39bef1d-7abc-4e81-e7e8-c413a2e2ea05"
   },
   "outputs": [
    {
     "name": "stdout",
     "output_type": "stream",
     "text": [
      "(751, 14)\n",
      "(751,)\n"
     ]
    }
   ],
   "source": [
    "print(X.shape)\n",
    "print(y.shape)"
   ]
  },
  {
   "cell_type": "markdown",
   "metadata": {
    "id": "Jm3T7pBHpXjJ"
   },
   "source": [
    "###Feature Selection"
   ]
  },
  {
   "cell_type": "code",
   "execution_count": 781,
   "metadata": {
    "executionInfo": {
     "elapsed": 460,
     "status": "ok",
     "timestamp": 1747001864555,
     "user": {
      "displayName": "Zane Edwards",
      "userId": "04617914265969064911"
     },
     "user_tz": 240
    },
    "id": "tqAPk4ajrMgd"
   },
   "outputs": [],
   "source": [
    "sfm = SelectFromModel(RandomForestRegressor())\n",
    "sfm.fit(X, y)\n",
    "\n",
    "X_new = sfm.transform(X)"
   ]
  },
  {
   "cell_type": "markdown",
   "metadata": {
    "id": "On_JWHk5FOm3"
   },
   "source": [
    "Looking at features ranked and the ones selected."
   ]
  },
  {
   "cell_type": "code",
   "execution_count": 782,
   "metadata": {
    "colab": {
     "base_uri": "https://localhost:8080/"
    },
    "executionInfo": {
     "elapsed": 15,
     "status": "ok",
     "timestamp": 1747001864568,
     "user": {
      "displayName": "Zane Edwards",
      "userId": "04617914265969064911"
     },
     "user_tz": 240
    },
    "id": "U7Qt_EnAFNVZ",
    "outputId": "17bf147e-51b7-46c3-cb00-af3560d1abc9"
   },
   "outputs": [
    {
     "name": "stdout",
     "output_type": "stream",
     "text": [
      "(             Feature  Importance\n",
      "3          Processor    0.782811\n",
      "0       Company Name    0.036948\n",
      "1      Mobile Weight    0.035156\n",
      "13           Storage    0.027921\n",
      "2                RAM    0.026158\n",
      "7      Back Camera 1    0.020412\n",
      "11    Front Camera 1    0.019666\n",
      "5        Screen Size    0.015762\n",
      "4   Battery Capacity    0.013805\n",
      "8      Back Camera 2    0.013579\n",
      "6      Launched Year    0.004659\n",
      "9      Back Camera 3    0.001683\n",
      "12    Front Camera 2    0.001303\n",
      "10     Back Camera 4    0.000139,)\n",
      "Unselected Features: Company Name\n",
      "Unselected Features: Mobile Weight\n",
      "Unselected Features: RAM\n",
      "Unselected Features: Battery Capacity\n",
      "Unselected Features: Screen Size\n",
      "Unselected Features: Launched Year\n",
      "Unselected Features: Back Camera 1\n",
      "Unselected Features: Back Camera 2\n",
      "Unselected Features: Back Camera 3\n",
      "Unselected Features: Back Camera 4\n",
      "Unselected Features: Front Camera 1\n",
      "Unselected Features: Front Camera 2\n",
      "Unselected Features: Storage\n"
     ]
    }
   ],
   "source": [
    "importances = sfm.estimator_.feature_importances_\n",
    "feature_scores = pd.DataFrame({\n",
    "    'Feature': X.columns,\n",
    "      'Importance': importances\n",
    "}).sort_values(by='Importance', ascending = False),\n",
    "\n",
    "print(feature_scores)\n",
    "\n",
    "# Get the indices of the selected features\n",
    "selected_feature_indices = sfm.get_support(indices=True)\n",
    "\n",
    "# Get the names of the selected features\n",
    "selected_feature_names = X.columns[selected_feature_indices]\n",
    "\n",
    "for col in X.columns:\n",
    "  if col not in selected_feature_names:\n",
    "    print(\"Unselected Features:\", col)"
   ]
  },
  {
   "cell_type": "code",
   "execution_count": 783,
   "metadata": {
    "executionInfo": {
     "elapsed": 3,
     "status": "ok",
     "timestamp": 1747001864572,
     "user": {
      "displayName": "Zane Edwards",
      "userId": "04617914265969064911"
     },
     "user_tz": 240
    },
    "id": "PfoD6CmWri6D"
   },
   "outputs": [],
   "source": [
    "if use_feature_selection:\n",
    "  X = X_new"
   ]
  },
  {
   "cell_type": "markdown",
   "metadata": {
    "id": "IpylFmO0p2iQ"
   },
   "source": [
    "###Splitting up training and testing data"
   ]
  },
  {
   "cell_type": "code",
   "execution_count": 784,
   "metadata": {
    "executionInfo": {
     "elapsed": 28,
     "status": "ok",
     "timestamp": 1747001864601,
     "user": {
      "displayName": "Zane Edwards",
      "userId": "04617914265969064911"
     },
     "user_tz": 240
    },
    "id": "wilFaDjDp6GY"
   },
   "outputs": [],
   "source": [
    "X_train, X_test, y_train, y_test = train_test_split(X, y, test_size=0.2, random_state=42, shuffle=True)"
   ]
  },
  {
   "cell_type": "code",
   "execution_count": 785,
   "metadata": {
    "colab": {
     "base_uri": "https://localhost:8080/"
    },
    "executionInfo": {
     "elapsed": 8,
     "status": "ok",
     "timestamp": 1747001864611,
     "user": {
      "displayName": "Zane Edwards",
      "userId": "04617914265969064911"
     },
     "user_tz": 240
    },
    "id": "IRZ3EW6pqBUo",
    "outputId": "aa8850a9-50c2-4ed9-a0f1-57a6ab9491d9"
   },
   "outputs": [
    {
     "name": "stdout",
     "output_type": "stream",
     "text": [
      "(600, 14)\n",
      "(151, 14)\n",
      "(600,)\n",
      "(151,)\n"
     ]
    }
   ],
   "source": [
    "print(X_train.shape)\n",
    "print(X_test.shape)\n",
    "print(y_train.shape)\n",
    "print(y_test.shape)"
   ]
  },
  {
   "cell_type": "markdown",
   "metadata": {
    "id": "-EcABmu6w79-"
   },
   "source": [
    "###Finding best parameters"
   ]
  },
  {
   "cell_type": "code",
   "execution_count": 786,
   "metadata": {
    "executionInfo": {
     "elapsed": 1,
     "status": "ok",
     "timestamp": 1747001864614,
     "user": {
      "displayName": "Zane Edwards",
      "userId": "04617914265969064911"
     },
     "user_tz": 240
    },
    "id": "ZqnI2k1qxA-K"
   },
   "outputs": [],
   "source": [
    "if use_grid_search:\n",
    "  param_grid = {\n",
    "      'max_depth': [50, 100, 150, 200],\n",
    "      'max_features': ['sqrt', 'log2'],\n",
    "      'min_samples_split': [2, 5, 10],\n",
    "      'min_samples_leaf': [1, 2, 4],\n",
    "      'bootstrap': [False],\n",
    "      'max_leaf_nodes': [50, 100, 150, 200],\n",
    "      'n_estimators': [100, 150, 200, 250],\n",
    "      'random_state': [42]\n",
    "  }"
   ]
  },
  {
   "cell_type": "code",
   "execution_count": 787,
   "metadata": {
    "executionInfo": {
     "elapsed": 25,
     "status": "ok",
     "timestamp": 1747001864640,
     "user": {
      "displayName": "Zane Edwards",
      "userId": "04617914265969064911"
     },
     "user_tz": 240
    },
    "id": "S4Nz11fzxnAq"
   },
   "outputs": [],
   "source": [
    "if use_grid_search:\n",
    "  grid_search = GridSearchCV(estimator = RandomForestRegressor(), param_grid = param_grid, scoring='neg_mean_absolute_error', n_jobs=3, cv = 3, error_score='raise')\n"
   ]
  },
  {
   "cell_type": "code",
   "execution_count": 788,
   "metadata": {
    "executionInfo": {
     "elapsed": 27,
     "status": "ok",
     "timestamp": 1747001864670,
     "user": {
      "displayName": "Zane Edwards",
      "userId": "04617914265969064911"
     },
     "user_tz": 240
    },
    "id": "4drazdwR0Btm"
   },
   "outputs": [],
   "source": [
    "if use_grid_search:\n",
    "  grid_search.fit(X_train, y_train)"
   ]
  },
  {
   "cell_type": "code",
   "execution_count": 789,
   "metadata": {
    "executionInfo": {
     "elapsed": 27,
     "status": "ok",
     "timestamp": 1747001864673,
     "user": {
      "displayName": "Zane Edwards",
      "userId": "04617914265969064911"
     },
     "user_tz": 240
    },
    "id": "_dhVkJaFz09c"
   },
   "outputs": [],
   "source": [
    "if use_grid_search:\n",
    "  print(grid_search.best_params_)"
   ]
  },
  {
   "cell_type": "markdown",
   "metadata": {
    "id": "groNkof_qDKa"
   },
   "source": [
    "###Building Random Forest Model"
   ]
  },
  {
   "cell_type": "code",
   "execution_count": 790,
   "metadata": {
    "colab": {
     "base_uri": "https://localhost:8080/",
     "height": 97
    },
    "executionInfo": {
     "elapsed": 280,
     "status": "ok",
     "timestamp": 1747001864949,
     "user": {
      "displayName": "Zane Edwards",
      "userId": "04617914265969064911"
     },
     "user_tz": 240
    },
    "id": "300VLU_cqMOq",
    "outputId": "115255f4-8c74-4584-dec7-0259320135b0"
   },
   "outputs": [
    {
     "data": {
      "text/html": [
       "<style>#sk-container-id-33 {\n",
       "  /* Definition of color scheme common for light and dark mode */\n",
       "  --sklearn-color-text: #000;\n",
       "  --sklearn-color-text-muted: #666;\n",
       "  --sklearn-color-line: gray;\n",
       "  /* Definition of color scheme for unfitted estimators */\n",
       "  --sklearn-color-unfitted-level-0: #fff5e6;\n",
       "  --sklearn-color-unfitted-level-1: #f6e4d2;\n",
       "  --sklearn-color-unfitted-level-2: #ffe0b3;\n",
       "  --sklearn-color-unfitted-level-3: chocolate;\n",
       "  /* Definition of color scheme for fitted estimators */\n",
       "  --sklearn-color-fitted-level-0: #f0f8ff;\n",
       "  --sklearn-color-fitted-level-1: #d4ebff;\n",
       "  --sklearn-color-fitted-level-2: #b3dbfd;\n",
       "  --sklearn-color-fitted-level-3: cornflowerblue;\n",
       "\n",
       "  /* Specific color for light theme */\n",
       "  --sklearn-color-text-on-default-background: var(--sg-text-color, var(--theme-code-foreground, var(--jp-content-font-color1, black)));\n",
       "  --sklearn-color-background: var(--sg-background-color, var(--theme-background, var(--jp-layout-color0, white)));\n",
       "  --sklearn-color-border-box: var(--sg-text-color, var(--theme-code-foreground, var(--jp-content-font-color1, black)));\n",
       "  --sklearn-color-icon: #696969;\n",
       "\n",
       "  @media (prefers-color-scheme: dark) {\n",
       "    /* Redefinition of color scheme for dark theme */\n",
       "    --sklearn-color-text-on-default-background: var(--sg-text-color, var(--theme-code-foreground, var(--jp-content-font-color1, white)));\n",
       "    --sklearn-color-background: var(--sg-background-color, var(--theme-background, var(--jp-layout-color0, #111)));\n",
       "    --sklearn-color-border-box: var(--sg-text-color, var(--theme-code-foreground, var(--jp-content-font-color1, white)));\n",
       "    --sklearn-color-icon: #878787;\n",
       "  }\n",
       "}\n",
       "\n",
       "#sk-container-id-33 {\n",
       "  color: var(--sklearn-color-text);\n",
       "}\n",
       "\n",
       "#sk-container-id-33 pre {\n",
       "  padding: 0;\n",
       "}\n",
       "\n",
       "#sk-container-id-33 input.sk-hidden--visually {\n",
       "  border: 0;\n",
       "  clip: rect(1px 1px 1px 1px);\n",
       "  clip: rect(1px, 1px, 1px, 1px);\n",
       "  height: 1px;\n",
       "  margin: -1px;\n",
       "  overflow: hidden;\n",
       "  padding: 0;\n",
       "  position: absolute;\n",
       "  width: 1px;\n",
       "}\n",
       "\n",
       "#sk-container-id-33 div.sk-dashed-wrapped {\n",
       "  border: 1px dashed var(--sklearn-color-line);\n",
       "  margin: 0 0.4em 0.5em 0.4em;\n",
       "  box-sizing: border-box;\n",
       "  padding-bottom: 0.4em;\n",
       "  background-color: var(--sklearn-color-background);\n",
       "}\n",
       "\n",
       "#sk-container-id-33 div.sk-container {\n",
       "  /* jupyter's `normalize.less` sets `[hidden] { display: none; }`\n",
       "     but bootstrap.min.css set `[hidden] { display: none !important; }`\n",
       "     so we also need the `!important` here to be able to override the\n",
       "     default hidden behavior on the sphinx rendered scikit-learn.org.\n",
       "     See: https://github.com/scikit-learn/scikit-learn/issues/21755 */\n",
       "  display: inline-block !important;\n",
       "  position: relative;\n",
       "}\n",
       "\n",
       "#sk-container-id-33 div.sk-text-repr-fallback {\n",
       "  display: none;\n",
       "}\n",
       "\n",
       "div.sk-parallel-item,\n",
       "div.sk-serial,\n",
       "div.sk-item {\n",
       "  /* draw centered vertical line to link estimators */\n",
       "  background-image: linear-gradient(var(--sklearn-color-text-on-default-background), var(--sklearn-color-text-on-default-background));\n",
       "  background-size: 2px 100%;\n",
       "  background-repeat: no-repeat;\n",
       "  background-position: center center;\n",
       "}\n",
       "\n",
       "/* Parallel-specific style estimator block */\n",
       "\n",
       "#sk-container-id-33 div.sk-parallel-item::after {\n",
       "  content: \"\";\n",
       "  width: 100%;\n",
       "  border-bottom: 2px solid var(--sklearn-color-text-on-default-background);\n",
       "  flex-grow: 1;\n",
       "}\n",
       "\n",
       "#sk-container-id-33 div.sk-parallel {\n",
       "  display: flex;\n",
       "  align-items: stretch;\n",
       "  justify-content: center;\n",
       "  background-color: var(--sklearn-color-background);\n",
       "  position: relative;\n",
       "}\n",
       "\n",
       "#sk-container-id-33 div.sk-parallel-item {\n",
       "  display: flex;\n",
       "  flex-direction: column;\n",
       "}\n",
       "\n",
       "#sk-container-id-33 div.sk-parallel-item:first-child::after {\n",
       "  align-self: flex-end;\n",
       "  width: 50%;\n",
       "}\n",
       "\n",
       "#sk-container-id-33 div.sk-parallel-item:last-child::after {\n",
       "  align-self: flex-start;\n",
       "  width: 50%;\n",
       "}\n",
       "\n",
       "#sk-container-id-33 div.sk-parallel-item:only-child::after {\n",
       "  width: 0;\n",
       "}\n",
       "\n",
       "/* Serial-specific style estimator block */\n",
       "\n",
       "#sk-container-id-33 div.sk-serial {\n",
       "  display: flex;\n",
       "  flex-direction: column;\n",
       "  align-items: center;\n",
       "  background-color: var(--sklearn-color-background);\n",
       "  padding-right: 1em;\n",
       "  padding-left: 1em;\n",
       "}\n",
       "\n",
       "\n",
       "/* Toggleable style: style used for estimator/Pipeline/ColumnTransformer box that is\n",
       "clickable and can be expanded/collapsed.\n",
       "- Pipeline and ColumnTransformer use this feature and define the default style\n",
       "- Estimators will overwrite some part of the style using the `sk-estimator` class\n",
       "*/\n",
       "\n",
       "/* Pipeline and ColumnTransformer style (default) */\n",
       "\n",
       "#sk-container-id-33 div.sk-toggleable {\n",
       "  /* Default theme specific background. It is overwritten whether we have a\n",
       "  specific estimator or a Pipeline/ColumnTransformer */\n",
       "  background-color: var(--sklearn-color-background);\n",
       "}\n",
       "\n",
       "/* Toggleable label */\n",
       "#sk-container-id-33 label.sk-toggleable__label {\n",
       "  cursor: pointer;\n",
       "  display: flex;\n",
       "  width: 100%;\n",
       "  margin-bottom: 0;\n",
       "  padding: 0.5em;\n",
       "  box-sizing: border-box;\n",
       "  text-align: center;\n",
       "  align-items: start;\n",
       "  justify-content: space-between;\n",
       "  gap: 0.5em;\n",
       "}\n",
       "\n",
       "#sk-container-id-33 label.sk-toggleable__label .caption {\n",
       "  font-size: 0.6rem;\n",
       "  font-weight: lighter;\n",
       "  color: var(--sklearn-color-text-muted);\n",
       "}\n",
       "\n",
       "#sk-container-id-33 label.sk-toggleable__label-arrow:before {\n",
       "  /* Arrow on the left of the label */\n",
       "  content: \"▸\";\n",
       "  float: left;\n",
       "  margin-right: 0.25em;\n",
       "  color: var(--sklearn-color-icon);\n",
       "}\n",
       "\n",
       "#sk-container-id-33 label.sk-toggleable__label-arrow:hover:before {\n",
       "  color: var(--sklearn-color-text);\n",
       "}\n",
       "\n",
       "/* Toggleable content - dropdown */\n",
       "\n",
       "#sk-container-id-33 div.sk-toggleable__content {\n",
       "  max-height: 0;\n",
       "  max-width: 0;\n",
       "  overflow: hidden;\n",
       "  text-align: left;\n",
       "  /* unfitted */\n",
       "  background-color: var(--sklearn-color-unfitted-level-0);\n",
       "}\n",
       "\n",
       "#sk-container-id-33 div.sk-toggleable__content.fitted {\n",
       "  /* fitted */\n",
       "  background-color: var(--sklearn-color-fitted-level-0);\n",
       "}\n",
       "\n",
       "#sk-container-id-33 div.sk-toggleable__content pre {\n",
       "  margin: 0.2em;\n",
       "  border-radius: 0.25em;\n",
       "  color: var(--sklearn-color-text);\n",
       "  /* unfitted */\n",
       "  background-color: var(--sklearn-color-unfitted-level-0);\n",
       "}\n",
       "\n",
       "#sk-container-id-33 div.sk-toggleable__content.fitted pre {\n",
       "  /* unfitted */\n",
       "  background-color: var(--sklearn-color-fitted-level-0);\n",
       "}\n",
       "\n",
       "#sk-container-id-33 input.sk-toggleable__control:checked~div.sk-toggleable__content {\n",
       "  /* Expand drop-down */\n",
       "  max-height: 200px;\n",
       "  max-width: 100%;\n",
       "  overflow: auto;\n",
       "}\n",
       "\n",
       "#sk-container-id-33 input.sk-toggleable__control:checked~label.sk-toggleable__label-arrow:before {\n",
       "  content: \"▾\";\n",
       "}\n",
       "\n",
       "/* Pipeline/ColumnTransformer-specific style */\n",
       "\n",
       "#sk-container-id-33 div.sk-label input.sk-toggleable__control:checked~label.sk-toggleable__label {\n",
       "  color: var(--sklearn-color-text);\n",
       "  background-color: var(--sklearn-color-unfitted-level-2);\n",
       "}\n",
       "\n",
       "#sk-container-id-33 div.sk-label.fitted input.sk-toggleable__control:checked~label.sk-toggleable__label {\n",
       "  background-color: var(--sklearn-color-fitted-level-2);\n",
       "}\n",
       "\n",
       "/* Estimator-specific style */\n",
       "\n",
       "/* Colorize estimator box */\n",
       "#sk-container-id-33 div.sk-estimator input.sk-toggleable__control:checked~label.sk-toggleable__label {\n",
       "  /* unfitted */\n",
       "  background-color: var(--sklearn-color-unfitted-level-2);\n",
       "}\n",
       "\n",
       "#sk-container-id-33 div.sk-estimator.fitted input.sk-toggleable__control:checked~label.sk-toggleable__label {\n",
       "  /* fitted */\n",
       "  background-color: var(--sklearn-color-fitted-level-2);\n",
       "}\n",
       "\n",
       "#sk-container-id-33 div.sk-label label.sk-toggleable__label,\n",
       "#sk-container-id-33 div.sk-label label {\n",
       "  /* The background is the default theme color */\n",
       "  color: var(--sklearn-color-text-on-default-background);\n",
       "}\n",
       "\n",
       "/* On hover, darken the color of the background */\n",
       "#sk-container-id-33 div.sk-label:hover label.sk-toggleable__label {\n",
       "  color: var(--sklearn-color-text);\n",
       "  background-color: var(--sklearn-color-unfitted-level-2);\n",
       "}\n",
       "\n",
       "/* Label box, darken color on hover, fitted */\n",
       "#sk-container-id-33 div.sk-label.fitted:hover label.sk-toggleable__label.fitted {\n",
       "  color: var(--sklearn-color-text);\n",
       "  background-color: var(--sklearn-color-fitted-level-2);\n",
       "}\n",
       "\n",
       "/* Estimator label */\n",
       "\n",
       "#sk-container-id-33 div.sk-label label {\n",
       "  font-family: monospace;\n",
       "  font-weight: bold;\n",
       "  display: inline-block;\n",
       "  line-height: 1.2em;\n",
       "}\n",
       "\n",
       "#sk-container-id-33 div.sk-label-container {\n",
       "  text-align: center;\n",
       "}\n",
       "\n",
       "/* Estimator-specific */\n",
       "#sk-container-id-33 div.sk-estimator {\n",
       "  font-family: monospace;\n",
       "  border: 1px dotted var(--sklearn-color-border-box);\n",
       "  border-radius: 0.25em;\n",
       "  box-sizing: border-box;\n",
       "  margin-bottom: 0.5em;\n",
       "  /* unfitted */\n",
       "  background-color: var(--sklearn-color-unfitted-level-0);\n",
       "}\n",
       "\n",
       "#sk-container-id-33 div.sk-estimator.fitted {\n",
       "  /* fitted */\n",
       "  background-color: var(--sklearn-color-fitted-level-0);\n",
       "}\n",
       "\n",
       "/* on hover */\n",
       "#sk-container-id-33 div.sk-estimator:hover {\n",
       "  /* unfitted */\n",
       "  background-color: var(--sklearn-color-unfitted-level-2);\n",
       "}\n",
       "\n",
       "#sk-container-id-33 div.sk-estimator.fitted:hover {\n",
       "  /* fitted */\n",
       "  background-color: var(--sklearn-color-fitted-level-2);\n",
       "}\n",
       "\n",
       "/* Specification for estimator info (e.g. \"i\" and \"?\") */\n",
       "\n",
       "/* Common style for \"i\" and \"?\" */\n",
       "\n",
       ".sk-estimator-doc-link,\n",
       "a:link.sk-estimator-doc-link,\n",
       "a:visited.sk-estimator-doc-link {\n",
       "  float: right;\n",
       "  font-size: smaller;\n",
       "  line-height: 1em;\n",
       "  font-family: monospace;\n",
       "  background-color: var(--sklearn-color-background);\n",
       "  border-radius: 1em;\n",
       "  height: 1em;\n",
       "  width: 1em;\n",
       "  text-decoration: none !important;\n",
       "  margin-left: 0.5em;\n",
       "  text-align: center;\n",
       "  /* unfitted */\n",
       "  border: var(--sklearn-color-unfitted-level-1) 1pt solid;\n",
       "  color: var(--sklearn-color-unfitted-level-1);\n",
       "}\n",
       "\n",
       ".sk-estimator-doc-link.fitted,\n",
       "a:link.sk-estimator-doc-link.fitted,\n",
       "a:visited.sk-estimator-doc-link.fitted {\n",
       "  /* fitted */\n",
       "  border: var(--sklearn-color-fitted-level-1) 1pt solid;\n",
       "  color: var(--sklearn-color-fitted-level-1);\n",
       "}\n",
       "\n",
       "/* On hover */\n",
       "div.sk-estimator:hover .sk-estimator-doc-link:hover,\n",
       ".sk-estimator-doc-link:hover,\n",
       "div.sk-label-container:hover .sk-estimator-doc-link:hover,\n",
       ".sk-estimator-doc-link:hover {\n",
       "  /* unfitted */\n",
       "  background-color: var(--sklearn-color-unfitted-level-3);\n",
       "  color: var(--sklearn-color-background);\n",
       "  text-decoration: none;\n",
       "}\n",
       "\n",
       "div.sk-estimator.fitted:hover .sk-estimator-doc-link.fitted:hover,\n",
       ".sk-estimator-doc-link.fitted:hover,\n",
       "div.sk-label-container:hover .sk-estimator-doc-link.fitted:hover,\n",
       ".sk-estimator-doc-link.fitted:hover {\n",
       "  /* fitted */\n",
       "  background-color: var(--sklearn-color-fitted-level-3);\n",
       "  color: var(--sklearn-color-background);\n",
       "  text-decoration: none;\n",
       "}\n",
       "\n",
       "/* Span, style for the box shown on hovering the info icon */\n",
       ".sk-estimator-doc-link span {\n",
       "  display: none;\n",
       "  z-index: 9999;\n",
       "  position: relative;\n",
       "  font-weight: normal;\n",
       "  right: .2ex;\n",
       "  padding: .5ex;\n",
       "  margin: .5ex;\n",
       "  width: min-content;\n",
       "  min-width: 20ex;\n",
       "  max-width: 50ex;\n",
       "  color: var(--sklearn-color-text);\n",
       "  box-shadow: 2pt 2pt 4pt #999;\n",
       "  /* unfitted */\n",
       "  background: var(--sklearn-color-unfitted-level-0);\n",
       "  border: .5pt solid var(--sklearn-color-unfitted-level-3);\n",
       "}\n",
       "\n",
       ".sk-estimator-doc-link.fitted span {\n",
       "  /* fitted */\n",
       "  background: var(--sklearn-color-fitted-level-0);\n",
       "  border: var(--sklearn-color-fitted-level-3);\n",
       "}\n",
       "\n",
       ".sk-estimator-doc-link:hover span {\n",
       "  display: block;\n",
       "}\n",
       "\n",
       "/* \"?\"-specific style due to the `<a>` HTML tag */\n",
       "\n",
       "#sk-container-id-33 a.estimator_doc_link {\n",
       "  float: right;\n",
       "  font-size: 1rem;\n",
       "  line-height: 1em;\n",
       "  font-family: monospace;\n",
       "  background-color: var(--sklearn-color-background);\n",
       "  border-radius: 1rem;\n",
       "  height: 1rem;\n",
       "  width: 1rem;\n",
       "  text-decoration: none;\n",
       "  /* unfitted */\n",
       "  color: var(--sklearn-color-unfitted-level-1);\n",
       "  border: var(--sklearn-color-unfitted-level-1) 1pt solid;\n",
       "}\n",
       "\n",
       "#sk-container-id-33 a.estimator_doc_link.fitted {\n",
       "  /* fitted */\n",
       "  border: var(--sklearn-color-fitted-level-1) 1pt solid;\n",
       "  color: var(--sklearn-color-fitted-level-1);\n",
       "}\n",
       "\n",
       "/* On hover */\n",
       "#sk-container-id-33 a.estimator_doc_link:hover {\n",
       "  /* unfitted */\n",
       "  background-color: var(--sklearn-color-unfitted-level-3);\n",
       "  color: var(--sklearn-color-background);\n",
       "  text-decoration: none;\n",
       "}\n",
       "\n",
       "#sk-container-id-33 a.estimator_doc_link.fitted:hover {\n",
       "  /* fitted */\n",
       "  background-color: var(--sklearn-color-fitted-level-3);\n",
       "}\n",
       "</style><div id=\"sk-container-id-33\" class=\"sk-top-container\"><div class=\"sk-text-repr-fallback\"><pre>RandomForestRegressor(bootstrap=False, max_depth=50, max_features=&#x27;sqrt&#x27;,\n",
       "                      max_leaf_nodes=200, n_estimators=150)</pre><b>In a Jupyter environment, please rerun this cell to show the HTML representation or trust the notebook. <br />On GitHub, the HTML representation is unable to render, please try loading this page with nbviewer.org.</b></div><div class=\"sk-container\" hidden><div class=\"sk-item\"><div class=\"sk-estimator fitted sk-toggleable\"><input class=\"sk-toggleable__control sk-hidden--visually\" id=\"sk-estimator-id-33\" type=\"checkbox\" checked><label for=\"sk-estimator-id-33\" class=\"sk-toggleable__label fitted sk-toggleable__label-arrow\"><div><div>RandomForestRegressor</div></div><div><a class=\"sk-estimator-doc-link fitted\" rel=\"noreferrer\" target=\"_blank\" href=\"https://scikit-learn.org/1.6/modules/generated/sklearn.ensemble.RandomForestRegressor.html\">?<span>Documentation for RandomForestRegressor</span></a><span class=\"sk-estimator-doc-link fitted\">i<span>Fitted</span></span></div></label><div class=\"sk-toggleable__content fitted\"><pre>RandomForestRegressor(bootstrap=False, max_depth=50, max_features=&#x27;sqrt&#x27;,\n",
       "                      max_leaf_nodes=200, n_estimators=150)</pre></div> </div></div></div></div>"
      ],
      "text/plain": [
       "RandomForestRegressor(bootstrap=False, max_depth=50, max_features='sqrt',\n",
       "                      max_leaf_nodes=200, n_estimators=150)"
      ]
     },
     "execution_count": 790,
     "metadata": {},
     "output_type": "execute_result"
    }
   ],
   "source": [
    "if use_grid_search:\n",
    "  model = RandomForestRegressor(**grid_search.best_params_)\n",
    "else:\n",
    "  params = {'bootstrap': False, 'max_depth': 50, 'max_features': 'sqrt', 'max_leaf_nodes': 200, 'min_samples_leaf': 1, 'min_samples_split': 2, 'n_estimators': 150}\n",
    "  model = RandomForestRegressor(**params)\n",
    "\n",
    "model.fit(X_train, y_train)"
   ]
  },
  {
   "cell_type": "markdown",
   "metadata": {
    "id": "bMpj7DOXq6BP"
   },
   "source": [
    "##Testing Model"
   ]
  },
  {
   "cell_type": "code",
   "execution_count": 791,
   "metadata": {
    "colab": {
     "base_uri": "https://localhost:8080/"
    },
    "executionInfo": {
     "elapsed": 25,
     "status": "ok",
     "timestamp": 1747001864972,
     "user": {
      "displayName": "Zane Edwards",
      "userId": "04617914265969064911"
     },
     "user_tz": 240
    },
    "id": "_sL88W59q_WI",
    "outputId": "6811d399-d7c7-439c-8d7d-0e228e34613f"
   },
   "outputs": [
    {
     "name": "stdout",
     "output_type": "stream",
     "text": [
      "Train Accuracy: 0.996\n",
      "Test Accuracy:  0.951\n"
     ]
    }
   ],
   "source": [
    "print(f'Train Accuracy: {model.score(X_train, y_train):.3f}')\n",
    "print(f'Test Accuracy:  {model.score(X_test, y_test):.3f}')"
   ]
  },
  {
   "cell_type": "code",
   "execution_count": 792,
   "metadata": {
    "colab": {
     "base_uri": "https://localhost:8080/"
    },
    "executionInfo": {
     "elapsed": 50,
     "status": "ok",
     "timestamp": 1747001865024,
     "user": {
      "displayName": "Zane Edwards",
      "userId": "04617914265969064911"
     },
     "user_tz": 240
    },
    "id": "4Fr-ZlTRrBLw",
    "outputId": "527e8e36-3346-49cd-c754-687870e945b2"
   },
   "outputs": [
    {
     "name": "stdout",
     "output_type": "stream",
     "text": [
      "Mean Absolute Error: 52.50\n",
      "Mean Absolute Percentage Error: 0.12\n"
     ]
    }
   ],
   "source": [
    "# Making predictions on the test set\n",
    "y_pred = model.predict(X_test)\n",
    "\n",
    "y_pred = price_scaler.inverse_transform(y_pred.reshape(-1,1))\n",
    "y_test = price_scaler.inverse_transform(y_test.values.reshape(-1,1))\n",
    "\n",
    "# Evaluating the model\n",
    "mae = mean_absolute_error(y_test, y_pred)\n",
    "\n",
    "print(f'Mean Absolute Error: {mae:.2f}')\n",
    "print(f'Mean Absolute Percentage Error: {mean_absolute_percentage_error(y_test, y_pred):.2f}')"
   ]
  },
  {
   "cell_type": "code",
   "execution_count": 793,
   "metadata": {
    "colab": {
     "base_uri": "https://localhost:8080/",
     "height": 493
    },
    "executionInfo": {
     "elapsed": 274,
     "status": "ok",
     "timestamp": 1747001865300,
     "user": {
      "displayName": "Zane Edwards",
      "userId": "04617914265969064911"
     },
     "user_tz": 240
    },
    "id": "xvrJ518NmWs3",
    "outputId": "d2c610a1-f382-40cb-dfcb-ecd5c4807b3b"
   },
   "outputs": [
    {
     "data": {
      "image/png": "[encoded data removed]",
      "text/plain": [
       "<Figure size 640x480 with 1 Axes>"
      ]
     },
     "metadata": {},
     "output_type": "display_data"
    }
   ],
   "source": [
    "plt.scatter(y_test, y_pred, alpha=0.5)\n",
    "plt.plot([min(y_test), max(y_test)], [min(y_test), max(y_test)], 'r--')\n",
    "plt.xlabel(\"True Prices\")\n",
    "plt.ylabel(\"Predicted Prices\")\n",
    "plt.title(\"Mobiles Dataset (2025)\\nRandom Forest Model Predictions vs True Values\")\n",
    "plt.show()"
   ]
  }
 ],
 "metadata": {
  "colab": {
   "authorship_tag": "ABX9TyMOfewDz4NCZXY3ATElSADX",
   "provenance": [
    {
     "file_id": "1bmE2FQT9mpZ53m9PHzCp6ex-hD4zYoRf",
     "timestamp": 1745252767250
    },
    {
     "file_id": "10VFbK9fx77d1_P5ZCyIUGa6N02mq3wyv",
     "timestamp": 1745100713267
    }
   ]
  },
  "kernelspec": {
   "display_name": "Python 3",
   "name": "python3"
  },
  "language_info": {
   "name": "python"
  }
 },
 "nbformat": 4,
 "nbformat_minor": 0
}
